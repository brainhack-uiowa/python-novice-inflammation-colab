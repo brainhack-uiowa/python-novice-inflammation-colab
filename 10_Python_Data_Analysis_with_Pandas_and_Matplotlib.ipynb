{
  "nbformat": 4,
  "nbformat_minor": 0,
  "metadata": {
    "colab": {
      "name": "10-Python-Data-Analysis-with-Pandas-and-Matplotlib.ipynb",
      "provenance": [],
      "authorship_tag": "ABX9TyM5Cq4xjBEKoLhi8NnwK3l4",
      "include_colab_link": true
    },
    "kernelspec": {
      "name": "python3",
      "display_name": "Python 3"
    }
  },
  "cells": [
    {
      "cell_type": "markdown",
      "metadata": {
        "id": "view-in-github",
        "colab_type": "text"
      },
      "source": [
        "<a href=\"https://colab.research.google.com/github/brainhack-uiowa/python-novice-inflammation-colab/blob/master/10_Python_Data_Analysis_with_Pandas_and_Matplotlib.ipynb\" target=\"_parent\"><img src=\"https://colab.research.google.com/assets/colab-badge.svg\" alt=\"Open In Colab\"/></a>"
      ]
    },
    {
      "cell_type": "code",
      "metadata": {
        "id": "KgjvO7SNHtaC",
        "colab_type": "code",
        "colab": {
          "base_uri": "https://localhost:8080/",
          "height": 162
        },
        "outputId": "7d6819d6-9e23-4a18-9de9-96c5fdad8bbf"
      },
      "source": [
        "# setup\n",
        "!wget https://github.com/ourcodingclub/CC-python-pandas-matplotlib/archive/master.zip\n",
        "\n",
        "!unzip -jn master.zip"
      ],
      "execution_count": 8,
      "outputs": [
        {
          "output_type": "stream",
          "text": [
            "--2020-06-29 06:28:47--  https://github.com/ourcodingclub/CC-python-pandas-matplotlib/master.zip\n",
            "Resolving github.com (github.com)... 140.82.113.3\n",
            "Connecting to github.com (github.com)|140.82.113.3|:443... connected.\n",
            "HTTP request sent, awaiting response... 404 Not Found\n",
            "2020-06-29 06:28:47 ERROR 404: Not Found.\n",
            "\n",
            "Archive:  master.zip\n",
            "41c2273e26e687ccab9ce6cd9525b22f657cc440\n"
          ],
          "name": "stdout"
        }
      ]
    },
    {
      "cell_type": "code",
      "metadata": {
        "id": "loRLDwjFKSal",
        "colab_type": "code",
        "colab": {
          "base_uri": "https://localhost:8080/",
          "height": 558
        },
        "outputId": "279dc556-e061-4525-bc5f-8fa9dab6a6b6"
      },
      "source": [
        "import pandas as pd\n",
        "\n",
        "dataframe = pd.read_csv(\"scottish_hills.csv\")\n",
        "print(dataframe.head(10))\n"
      ],
      "execution_count": 7,
      "outputs": [
        {
          "output_type": "error",
          "ename": "ParserError",
          "evalue": "ignored",
          "traceback": [
            "\u001b[0;31m---------------------------------------------------------------------------\u001b[0m",
            "\u001b[0;31mParserError\u001b[0m                               Traceback (most recent call last)",
            "\u001b[0;32m<ipython-input-7-683e3e97c717>\u001b[0m in \u001b[0;36m<module>\u001b[0;34m()\u001b[0m\n\u001b[1;32m      1\u001b[0m \u001b[0;32mimport\u001b[0m \u001b[0mpandas\u001b[0m \u001b[0;32mas\u001b[0m \u001b[0mpd\u001b[0m\u001b[0;34m\u001b[0m\u001b[0;34m\u001b[0m\u001b[0m\n\u001b[1;32m      2\u001b[0m \u001b[0;34m\u001b[0m\u001b[0m\n\u001b[0;32m----> 3\u001b[0;31m \u001b[0mdataframe\u001b[0m \u001b[0;34m=\u001b[0m \u001b[0mpd\u001b[0m\u001b[0;34m.\u001b[0m\u001b[0mread_csv\u001b[0m\u001b[0;34m(\u001b[0m\u001b[0;34m\"scottish_hills.csv\"\u001b[0m\u001b[0;34m)\u001b[0m\u001b[0;34m\u001b[0m\u001b[0;34m\u001b[0m\u001b[0m\n\u001b[0m\u001b[1;32m      4\u001b[0m \u001b[0mprint\u001b[0m\u001b[0;34m(\u001b[0m\u001b[0mdataframe\u001b[0m\u001b[0;34m.\u001b[0m\u001b[0mhead\u001b[0m\u001b[0;34m(\u001b[0m\u001b[0;36m10\u001b[0m\u001b[0;34m)\u001b[0m\u001b[0;34m)\u001b[0m\u001b[0;34m\u001b[0m\u001b[0;34m\u001b[0m\u001b[0m\n",
            "\u001b[0;32m/usr/local/lib/python3.6/dist-packages/pandas/io/parsers.py\u001b[0m in \u001b[0;36mparser_f\u001b[0;34m(filepath_or_buffer, sep, delimiter, header, names, index_col, usecols, squeeze, prefix, mangle_dupe_cols, dtype, engine, converters, true_values, false_values, skipinitialspace, skiprows, skipfooter, nrows, na_values, keep_default_na, na_filter, verbose, skip_blank_lines, parse_dates, infer_datetime_format, keep_date_col, date_parser, dayfirst, cache_dates, iterator, chunksize, compression, thousands, decimal, lineterminator, quotechar, quoting, doublequote, escapechar, comment, encoding, dialect, error_bad_lines, warn_bad_lines, delim_whitespace, low_memory, memory_map, float_precision)\u001b[0m\n\u001b[1;32m    674\u001b[0m         )\n\u001b[1;32m    675\u001b[0m \u001b[0;34m\u001b[0m\u001b[0m\n\u001b[0;32m--> 676\u001b[0;31m         \u001b[0;32mreturn\u001b[0m \u001b[0m_read\u001b[0m\u001b[0;34m(\u001b[0m\u001b[0mfilepath_or_buffer\u001b[0m\u001b[0;34m,\u001b[0m \u001b[0mkwds\u001b[0m\u001b[0;34m)\u001b[0m\u001b[0;34m\u001b[0m\u001b[0;34m\u001b[0m\u001b[0m\n\u001b[0m\u001b[1;32m    677\u001b[0m \u001b[0;34m\u001b[0m\u001b[0m\n\u001b[1;32m    678\u001b[0m     \u001b[0mparser_f\u001b[0m\u001b[0;34m.\u001b[0m\u001b[0m__name__\u001b[0m \u001b[0;34m=\u001b[0m \u001b[0mname\u001b[0m\u001b[0;34m\u001b[0m\u001b[0;34m\u001b[0m\u001b[0m\n",
            "\u001b[0;32m/usr/local/lib/python3.6/dist-packages/pandas/io/parsers.py\u001b[0m in \u001b[0;36m_read\u001b[0;34m(filepath_or_buffer, kwds)\u001b[0m\n\u001b[1;32m    452\u001b[0m \u001b[0;34m\u001b[0m\u001b[0m\n\u001b[1;32m    453\u001b[0m     \u001b[0;32mtry\u001b[0m\u001b[0;34m:\u001b[0m\u001b[0;34m\u001b[0m\u001b[0;34m\u001b[0m\u001b[0m\n\u001b[0;32m--> 454\u001b[0;31m         \u001b[0mdata\u001b[0m \u001b[0;34m=\u001b[0m \u001b[0mparser\u001b[0m\u001b[0;34m.\u001b[0m\u001b[0mread\u001b[0m\u001b[0;34m(\u001b[0m\u001b[0mnrows\u001b[0m\u001b[0;34m)\u001b[0m\u001b[0;34m\u001b[0m\u001b[0;34m\u001b[0m\u001b[0m\n\u001b[0m\u001b[1;32m    455\u001b[0m     \u001b[0;32mfinally\u001b[0m\u001b[0;34m:\u001b[0m\u001b[0;34m\u001b[0m\u001b[0;34m\u001b[0m\u001b[0m\n\u001b[1;32m    456\u001b[0m         \u001b[0mparser\u001b[0m\u001b[0;34m.\u001b[0m\u001b[0mclose\u001b[0m\u001b[0;34m(\u001b[0m\u001b[0;34m)\u001b[0m\u001b[0;34m\u001b[0m\u001b[0;34m\u001b[0m\u001b[0m\n",
            "\u001b[0;32m/usr/local/lib/python3.6/dist-packages/pandas/io/parsers.py\u001b[0m in \u001b[0;36mread\u001b[0;34m(self, nrows)\u001b[0m\n\u001b[1;32m   1131\u001b[0m     \u001b[0;32mdef\u001b[0m \u001b[0mread\u001b[0m\u001b[0;34m(\u001b[0m\u001b[0mself\u001b[0m\u001b[0;34m,\u001b[0m \u001b[0mnrows\u001b[0m\u001b[0;34m=\u001b[0m\u001b[0;32mNone\u001b[0m\u001b[0;34m)\u001b[0m\u001b[0;34m:\u001b[0m\u001b[0;34m\u001b[0m\u001b[0;34m\u001b[0m\u001b[0m\n\u001b[1;32m   1132\u001b[0m         \u001b[0mnrows\u001b[0m \u001b[0;34m=\u001b[0m \u001b[0m_validate_integer\u001b[0m\u001b[0;34m(\u001b[0m\u001b[0;34m\"nrows\"\u001b[0m\u001b[0;34m,\u001b[0m \u001b[0mnrows\u001b[0m\u001b[0;34m)\u001b[0m\u001b[0;34m\u001b[0m\u001b[0;34m\u001b[0m\u001b[0m\n\u001b[0;32m-> 1133\u001b[0;31m         \u001b[0mret\u001b[0m \u001b[0;34m=\u001b[0m \u001b[0mself\u001b[0m\u001b[0;34m.\u001b[0m\u001b[0m_engine\u001b[0m\u001b[0;34m.\u001b[0m\u001b[0mread\u001b[0m\u001b[0;34m(\u001b[0m\u001b[0mnrows\u001b[0m\u001b[0;34m)\u001b[0m\u001b[0;34m\u001b[0m\u001b[0;34m\u001b[0m\u001b[0m\n\u001b[0m\u001b[1;32m   1134\u001b[0m \u001b[0;34m\u001b[0m\u001b[0m\n\u001b[1;32m   1135\u001b[0m         \u001b[0;31m# May alter columns / col_dict\u001b[0m\u001b[0;34m\u001b[0m\u001b[0;34m\u001b[0m\u001b[0;34m\u001b[0m\u001b[0m\n",
            "\u001b[0;32m/usr/local/lib/python3.6/dist-packages/pandas/io/parsers.py\u001b[0m in \u001b[0;36mread\u001b[0;34m(self, nrows)\u001b[0m\n\u001b[1;32m   2035\u001b[0m     \u001b[0;32mdef\u001b[0m \u001b[0mread\u001b[0m\u001b[0;34m(\u001b[0m\u001b[0mself\u001b[0m\u001b[0;34m,\u001b[0m \u001b[0mnrows\u001b[0m\u001b[0;34m=\u001b[0m\u001b[0;32mNone\u001b[0m\u001b[0;34m)\u001b[0m\u001b[0;34m:\u001b[0m\u001b[0;34m\u001b[0m\u001b[0;34m\u001b[0m\u001b[0m\n\u001b[1;32m   2036\u001b[0m         \u001b[0;32mtry\u001b[0m\u001b[0;34m:\u001b[0m\u001b[0;34m\u001b[0m\u001b[0;34m\u001b[0m\u001b[0m\n\u001b[0;32m-> 2037\u001b[0;31m             \u001b[0mdata\u001b[0m \u001b[0;34m=\u001b[0m \u001b[0mself\u001b[0m\u001b[0;34m.\u001b[0m\u001b[0m_reader\u001b[0m\u001b[0;34m.\u001b[0m\u001b[0mread\u001b[0m\u001b[0;34m(\u001b[0m\u001b[0mnrows\u001b[0m\u001b[0;34m)\u001b[0m\u001b[0;34m\u001b[0m\u001b[0;34m\u001b[0m\u001b[0m\n\u001b[0m\u001b[1;32m   2038\u001b[0m         \u001b[0;32mexcept\u001b[0m \u001b[0mStopIteration\u001b[0m\u001b[0;34m:\u001b[0m\u001b[0;34m\u001b[0m\u001b[0;34m\u001b[0m\u001b[0m\n\u001b[1;32m   2039\u001b[0m             \u001b[0;32mif\u001b[0m \u001b[0mself\u001b[0m\u001b[0;34m.\u001b[0m\u001b[0m_first_chunk\u001b[0m\u001b[0;34m:\u001b[0m\u001b[0;34m\u001b[0m\u001b[0;34m\u001b[0m\u001b[0m\n",
            "\u001b[0;32mpandas/_libs/parsers.pyx\u001b[0m in \u001b[0;36mpandas._libs.parsers.TextReader.read\u001b[0;34m()\u001b[0m\n",
            "\u001b[0;32mpandas/_libs/parsers.pyx\u001b[0m in \u001b[0;36mpandas._libs.parsers.TextReader._read_low_memory\u001b[0;34m()\u001b[0m\n",
            "\u001b[0;32mpandas/_libs/parsers.pyx\u001b[0m in \u001b[0;36mpandas._libs.parsers.TextReader._read_rows\u001b[0;34m()\u001b[0m\n",
            "\u001b[0;32mpandas/_libs/parsers.pyx\u001b[0m in \u001b[0;36mpandas._libs.parsers.TextReader._tokenize_rows\u001b[0;34m()\u001b[0m\n",
            "\u001b[0;32mpandas/_libs/parsers.pyx\u001b[0m in \u001b[0;36mpandas._libs.parsers.raise_parser_error\u001b[0;34m()\u001b[0m\n",
            "\u001b[0;31mParserError\u001b[0m: Error tokenizing data. C error: Expected 1 fields in line 48, saw 2\n"
          ]
        }
      ]
    },
    {
      "cell_type": "markdown",
      "metadata": {
        "id": "28CFvN-x9LRZ",
        "colab_type": "text"
      },
      "source": [
        "#Python Data Analysis with Pandas and Matplotlib: Create plots and manipulate data with Pandas and Matplotlib\n",
        "Welcome to this tutorial about data analysis with Python and the Pandas library. If you did the [Introduction to Python tutorial](https://ourcodingclub.github.io/tutorials/python-intro/index.html), you’ll rememember we briefly looked at the `pandas` package as a way of quickly loading a `.csv` file to extract some data. This tutorial looks at `pandas` and the plotting package `matplotlib` in some more depth.\n"
      ]
    },
    {
      "cell_type": "markdown",
      "metadata": {
        "id": "XouwPsgt9uOU",
        "colab_type": "text"
      },
      "source": [
        "#Tutorial aims:\n",
        "1.   [Understand what Pandas is](https://colab.research.google.com/drive/1HMVQvR-_f9y3FulzGIyT1azmL14qOs71#scrollTo=dJHjYjBw-qPr&line=23&uniqifier=1)\n",
        "2.   Ways of running Python and Pandas\n",
        "3.   Understanding the basic Pandas data structures\n",
        "4. Learn how to access data from a Pandas DataFrame\n",
        "5. Learn how to filter data in a Pandas DataFrame\n",
        "6.  Learn how to read and sort data from a file\n",
        "7.  Understand the basics of the Matplotlib plotting package\n",
        "8.   Learn how to bring together other packages to enhance your plots\n",
        "9.    Learn how to further customise the appearance of Matplotlib plots\n",
        "10.    Be inspired to experiment further with Matplotlib!\n"
      ]
    },
    {
      "cell_type": "markdown",
      "metadata": {
        "id": "dJHjYjBw-qPr",
        "colab_type": "text"
      },
      "source": [
        "#1. What is Pandas?\n",
        "\n",
        "`pandas` is a package commonly used to deal with data analysis. It simplifies the loading of data from external sources such as text files and databases, as well as providing ways of analysing and manipulating data once it is loaded into your computer. The features provided in `pandas` automate and simplify a lot of the common tasks that would take many lines of code to write in the basic Python langauge.\n",
        "\n",
        "*If you have used R’s dataframes before, or the `numpy` package in Python, you may find some similarities in the Python pandas package. But if not, don’t worry because this tutorial doesn’t assume any knowledge of NumPy or R, only basic-level Python.*\n",
        "\n",
        "Pandas is a hugely popular, and still growing, Python library used across a range of disciplines from environmental and climate science, through to social science, linguistics, biology, as well as a number of applications in industry such as data analytics, financial trading, and many others. In the [Introduction to Python tutorial](https://ourcodingclub.github.io/tutorials/python-intro/index.html) we had a look at how Python had grown rapidly in terms of users over the last decade or so, based on traffic to the [StackOverflow](https://stackoverflow.com/) question and answer site. A similar graph has been produced showing the growth of Pandas compared to some other Python software libraries! (Based on StackOverflow question views per month).\n",
        "\n",
        "![alt text](https://ourcodingclub.github.io/assets/img/tutorials/pandas-python-intro/python-pandas-growth.png)\n",
        "\n",
        "These graphs of course should be taken with a pinch of salt, as there is no agreed way of absolutely determing programming langauge and library popularity, but they are interesting to think about nonetheless.\n",
        "\n",
        "Pandas is best suited for structured, **labelled** data, in other words, tabular data, that has headings associated with each column of data. The [official Pandas website](https://pandas.pydata.org/) describes Pandas’ data-handling strengths as:\n",
        "*   Tabular data with heterogeneously-typed columns, as in an SQL table or Excel spreadsheet.\n",
        "*   Ordered and unordered (not necessarily fixed-frequency) time series data.\n",
        "* Arbitrary matrix data (homogeneously typed or heterogeneous) with row and column labels.\n",
        "* Any other form of observational / statistical data sets. The data actually need not be labelled at all to be placed into a `pandas` data structure.\n",
        "\n",
        "Some other important points to note about Pandas are:\n",
        "* Pandas is **fast**. Python sometimes gets a bad rap for being a bit slow compared to ‘compiled’ languages such as C and Fortran. But deep down in the internals of Pandas, it is actually written in C, and so processing large datasets is no problem for Pandas.\n",
        "* Pandas is a dependency of another library called `statsmodels`, making it an important part of the statistical computing ecosystem in Python.\n",
        "\n",
        "You can read more about the Pandas package at the [Pandas project website](https://pandas.pydata.org/)."
      ]
    },
    {
      "cell_type": "markdown",
      "metadata": {
        "id": "K2-FytyyAfzV",
        "colab_type": "text"
      },
      "source": [
        "# 2. Ways of running Python with Pandas\n",
        "\n",
        "Here we briefly discuss the different ways you can folow this tutorial. There are lots of different ways to run Python programs, and I don’t want to prescribe any one way as being the ‘best’. Users of RStudio and Matlab may find that the **Spyder** programming environment most closely matches the feel of RStudio and Matlab, with a window for editing scripts and an ‘interactive’ mode that can be used along side. For a more minimalist approach, you may prefer to write their scripts/programs in a text editor such as Notepadd++ (Windows), vim, emacs, or other popular editors. (But do not use Windows Notepad!). Personally this is how I like to work with Python as it frees you from the distractions of an IDE like Spyder, and reduces the number of problems that can arise from the Spyder program being set-up incorrectly.\n",
        "\n",
        "Finally there is IPython, which lets you type in Python commands line-by-line, similar to Matlab and and RStudio, or an R console session.\n",
        "\n",
        "Some more information on the three methods is described below:"
      ]
    },
    {
      "cell_type": "markdown",
      "metadata": {
        "id": "dSXs_b-ICDQX",
        "colab_type": "text"
      },
      "source": [
        "## Spyder\n",
        "\n",
        "If you are attending the workshop ‘live’ on-site at Edinburgh University, the easiest way is to use the Spyder IDE (Integrated Development Environment) which is installed on the GeoSciences computers. It can also be installed on your laptop relatively easily. It is included in the [Anconda Python distibution](https://www.anaconda.com/download/) which can be downloaded here. Be sure to download the Python 3 version!\n",
        "\n",
        "The basics of Spyder were covered in the [Introduction to Python tutorial](https://ourcodingclub.github.io/tutorials/python-intro/index.html)."
      ]
    },
    {
      "cell_type": "markdown",
      "metadata": {
        "id": "4trFbF44CH4y",
        "colab_type": "text"
      },
      "source": [
        "##Text Editor with the Linux/Mac Terminal or Command-line\n",
        "\n",
        "You can follow this tutorial by writing scripts saved as .py files and then running the script from the terminal or command line with the python command. e.g."
      ]
    },
    {
      "cell_type": "code",
      "metadata": {
        "id": "icrN2XtHCN36",
        "colab_type": "code",
        "colab": {}
      },
      "source": [
        "python myscript.py"
      ],
      "execution_count": null,
      "outputs": []
    },
    {
      "cell_type": "markdown",
      "metadata": {
        "id": "HCu1QIyfCSKf",
        "colab_type": "text"
      },
      "source": [
        "(Although it looks simple, this way can quite tricky to set up with Windows, it is probably easiest on Linux or Mac.)"
      ]
    },
    {
      "cell_type": "markdown",
      "metadata": {
        "id": "sscPtSl8CYBL",
        "colab_type": "text"
      },
      "source": [
        "##Interactively with IPython\n",
        "IPython is an ‘interactive’ Python interpreter. It lets you type in Python commands line-by-line, and then immediately execute them. It’s a very useful way of quickly testing and exploring Python commands, because you don’t have to interact directly with the command line or run the entire script. Spyder has an IPython console built in to it (on the right hand panel), or it can be started in **Linux/Mac** from the command line by running:"
      ]
    },
    {
      "cell_type": "code",
      "metadata": {
        "id": "aCeLj6nJChNn",
        "colab_type": "code",
        "colab": {}
      },
      "source": [
        "ipython"
      ],
      "execution_count": null,
      "outputs": []
    },
    {
      "cell_type": "markdown",
      "metadata": {
        "id": "UtEIVGivD1ws",
        "colab_type": "text"
      },
      "source": [
        "**Note for interactive (IPython) users**: If you are following this tutorial with IPython, you do not need to use print functions to get IPython to display variables or other Python objects. **IPython will automatically print out variable simply when you type in the variable name and press enter**. So for example:\n",
        "\n",
        "```\n",
        "In [1]: my_var = \"Hello, World!\"\n",
        "\n",
        "In [2]: my_var  # Now press ENTER\n",
        "Out[2]: 'Hello, World!'\n",
        "```\n",
        "\n",
        "\n",
        "IPython users: When you see a print function used in this tutorial, e.g. `print(my_var)`, you can omit it and simply type the variable name (e.g. `my_var`) and press `ENTER`.\n",
        "\n",
        "On **Windows** you will find IPython in the start menu if it has been installed."
      ]
    },
    {
      "cell_type": "markdown",
      "metadata": {
        "id": "C1RwdMvMD871",
        "colab_type": "text"
      },
      "source": [
        "##Conventions when using Pandas\n",
        "\n",
        "All the examples in this tutorial assume you have installed the Python library `pandas`, either through installing a scientific Python distribution such as Anaconda, or by installing it using a package-manager, such as `conda` or `pip`. To use any of the features of Pandas, you will need to have an `import` statement at the top of your script like so:"
      ]
    },
    {
      "cell_type": "code",
      "metadata": {
        "id": "5-cwMxcSELy8",
        "colab_type": "code",
        "colab": {}
      },
      "source": [
        "import pandas as pd"
      ],
      "execution_count": null,
      "outputs": []
    },
    {
      "cell_type": "markdown",
      "metadata": {
        "id": "KjAwhTETEOi1",
        "colab_type": "text"
      },
      "source": [
        "By convention, the `pandas` module is almost always imported this way as `pd`. Every time we use a `pandas` feature thereafter, we can shorten what we type by just typing `pd`, such as `pd.some_function()`.\n",
        "\n",
        "*If you are running Python interactively, such as in IPython, you will need to type in the same import statement at the start of each interactive session.*\n",
        "\n",
        "Try the following to see which version of Pandas you are running:"
      ]
    },
    {
      "cell_type": "code",
      "metadata": {
        "id": "zLPcYz4ZEjZR",
        "colab_type": "code",
        "colab": {}
      },
      "source": [
        "import pandas as pd\n",
        "\n",
        "print(pd.__version__)"
      ],
      "execution_count": null,
      "outputs": []
    },
    {
      "cell_type": "markdown",
      "metadata": {
        "id": "c1Xm1pspEmZG",
        "colab_type": "text"
      },
      "source": [
        "**Reminder for IPython users**: Y*ou do not need the `print()` function wrapped around the variable here. Just type `pd.__version__ `and press `ENTER`. Remember this every time you see a `print` function for the remainder of this tutorial.*\n",
        "\n",
        "Run the script and note the output. My script prints `'0.22.0'`, but you may be on a slighty newer/older version of Pandas, which is OK for this introductory tutorial."
      ]
    },
    {
      "cell_type": "markdown",
      "metadata": {
        "id": "IlelfFdGFJUX",
        "colab_type": "text"
      },
      "source": [
        "##Files for this tutorial\n",
        "\n",
        "This short tutorial is mainly based around working with the basic Pandas commands and data structures, but we also use some data about Scottish mountains, provided in the form of a `.csv` file (`scottish_hills.csv`).\n",
        "\n",
        "version control, please check out our previous tutorial.\n",
        "\n",
        "The original data came from a series of databases about the mountains of Scotland, which if you are interested further can be found here: http://www.haroldstreet.org.uk/other/excel-csv-files/.\n",
        "\n",
        "*As a side note, and some interesting trivia, the dataset we are using was originally compiled in **1891** by Sir Hugh Munro. He compiled a list of all the mountains in Scotland above 3000 feet (914m if you prefer the metric system). The table has been revised since with more accurate heights and coordinates.*"
      ]
    },
    {
      "cell_type": "markdown",
      "metadata": {
        "id": "ig4zNz1nNgrm",
        "colab_type": "text"
      },
      "source": [
        "# 3. Understand the basic Pandas data structures\n",
        "\n",
        "Pandas has two core data structures used to store data: The *Series* and the *DataFrame*.\n",
        "\n",
        "##Series\n",
        "\n",
        "The series is a one-dimensional array-like structure designed to hold a single array (or ‘column’) of data and an associated array of data labels, called an *index*. We can create a series to experiment with by simply passing a list of data, let’s use numbers in this example:"
      ]
    },
    {
      "cell_type": "code",
      "metadata": {
        "id": "YrjYSbvFNpZP",
        "colab_type": "code",
        "colab": {}
      },
      "source": [
        "import pandas as pd\n",
        "\n",
        "my_series = pd.Series([4.6, 2.1, -4.0, 3.0])\n",
        "print(my_series)"
      ],
      "execution_count": null,
      "outputs": []
    },
    {
      "cell_type": "markdown",
      "metadata": {
        "id": "mg8DdYCnN6ub",
        "colab_type": "text"
      },
      "source": [
        "Note that printing out our Series object prints out the values and the index numbers. If we just wanted the values, we can add to our script the following line:"
      ]
    },
    {
      "cell_type": "code",
      "metadata": {
        "id": "EsLHt_N6OAy9",
        "colab_type": "code",
        "colab": {}
      },
      "source": [
        "print(my_series.values)"
      ],
      "execution_count": null,
      "outputs": []
    },
    {
      "cell_type": "markdown",
      "metadata": {
        "id": "1a56G4yyOObB",
        "colab_type": "text"
      },
      "source": [
        "For a lot of applications, a plain old *Series* is probably not a lot of use, but it is the core component of the Pandas workhorse, the *DataFrame*, so it’s useful to know about.\n",
        "\n",
        "##DataFrames\n",
        "\n",
        "The DataFrame represents tabular data, a bit like a spreadsheet. DataFrames are organised into colums (each of which is a *Series*), and each column can store a single data-type, such as floating point numbers, strings, boolean values etc. DataFrames can be indexed by either their row or column names. (They are similar in many ways to R’s `data.frame`.)\n",
        "\n",
        "We can create a DataFrame in Pandas from a Python dictionary, or by loading in a text file containing tabular data. First we are going to look at how to create one from a dictionary.\n",
        "\n",
        "##A refresher on the Dictionary data type\n",
        "\n",
        "Dictionaries are a core Python data structure that contain a set of `key:value` pairs. If you imagine having a written language dictionary, say for English-Hungarian, and you wanted to know the Hungarian word for “spaceship”, you would look-up the English word (the dictionary `key` in Python) and the dictionary would give you the Hungarian translation (the dictionary `value` in Python). So the “key-value pair” would be `'spaceship': 'űrhajó'`.\n",
        "\n",
        "To construct a dictionary in Python, the syntax we would write is:"
      ]
    },
    {
      "cell_type": "code",
      "metadata": {
        "id": "IxyknIhlPGr6",
        "colab_type": "code",
        "colab": {}
      },
      "source": [
        "# Note that dictionaries are part of the core Python language\n",
        "# You do not need 'import pandas' if you are only working with dictionaries.\n",
        "\n",
        "hungarian_dictionary = {'spaceship': 'űrhajó'}\n"
      ],
      "execution_count": null,
      "outputs": []
    },
    {
      "cell_type": "markdown",
      "metadata": {
        "id": "AU4D9WBdPd5s",
        "colab_type": "text"
      },
      "source": [
        "We could then look-up items in our dictionary with this syntax:"
      ]
    },
    {
      "cell_type": "code",
      "metadata": {
        "id": "2K-5uYGGPj9p",
        "colab_type": "code",
        "colab": {}
      },
      "source": [
        "hungarian_dictionary['spaceship']"
      ],
      "execution_count": null,
      "outputs": []
    },
    {
      "cell_type": "markdown",
      "metadata": {
        "id": "2jJV5tQPPo8c",
        "colab_type": "text"
      },
      "source": [
        "Dictionaries can have multiple entries (multiple key-value pairs), and these are separated with a comma:"
      ]
    },
    {
      "cell_type": "code",
      "metadata": {
        "id": "L7OaWMyAPtOF",
        "colab_type": "code",
        "colab": {}
      },
      "source": [
        "hungarian_dictionary = {'spaceship': 'űrhajó',\n",
        "                        'watermelon': 'görögdinnye',\n",
        "                        'bicycle': 'kerékpár'}"
      ],
      "execution_count": null,
      "outputs": []
    },
    {
      "cell_type": "markdown",
      "metadata": {
        "id": "B3KxC6EGP5JR",
        "colab_type": "text"
      },
      "source": [
        "The `values` in dictionaries are not limited to single strings or words. Values can be any Python object such as numbers, lists, tuples, or even other dictionaries:"
      ]
    },
    {
      "cell_type": "code",
      "metadata": {
        "id": "5PUX02oRQE6W",
        "colab_type": "code",
        "colab": {}
      },
      "source": [
        "# Names (keys) mapped to a tuple (the value) containing the height, lat and longitude.\n",
        "scottish_hills = {'Ben Nevis': (1345, 56.79685, -5.003508),\n",
        "                  'Ben Macdui': (1309, 57.070453, -3.668262),\n",
        "                  'Braeriach': (1296, 57.078628, -3.728024),\n",
        "                  'Cairn Toul': (1291, 57.054611, -3.71042),\n",
        "                  'Sgòr an Lochain Uaine': (1258, 57.057999, -3.725416)}"
      ],
      "execution_count": null,
      "outputs": []
    },
    {
      "cell_type": "markdown",
      "metadata": {
        "id": "Fyf9PNqJQL1w",
        "colab_type": "text"
      },
      "source": [
        "Looking up a Scottish mountain using its name as the key would then give us the height, latitude and longitude as the value returned."
      ]
    },
    {
      "cell_type": "code",
      "metadata": {
        "id": "J99U049kQNX9",
        "colab_type": "code",
        "colab": {}
      },
      "source": [
        "scottish_hills['Braeriach']"
      ],
      "execution_count": null,
      "outputs": []
    },
    {
      "cell_type": "markdown",
      "metadata": {
        "id": "TinK4jrkQQz7",
        "colab_type": "text"
      },
      "source": [
        "Enclosed in a print function, i.e. `print(scottish_hills['Braeriach']`, this would print out:"
      ]
    },
    {
      "cell_type": "code",
      "metadata": {
        "id": "tuqM3qyLRQGW",
        "colab_type": "code",
        "colab": {}
      },
      "source": [
        "print(scottish_hills['Braeriach']"
      ],
      "execution_count": null,
      "outputs": []
    },
    {
      "cell_type": "markdown",
      "metadata": {
        "id": "xpbaXRegRBUX",
        "colab_type": "text"
      },
      "source": [
        "##Back to DataFrames…\n",
        "\n",
        "If we didn’t have any real data to play with from an external file, we could manually create a DataFrame from a Python dictionary. Using the `scottish_hills` dictionary above, we can load it into a Pandas DataFrame with this syntax:"
      ]
    },
    {
      "cell_type": "code",
      "metadata": {
        "id": "VDu4rlQcRxOY",
        "colab_type": "code",
        "colab": {}
      },
      "source": [
        "dataframe = pd.DataFrame(scottish_hills)"
      ],
      "execution_count": null,
      "outputs": []
    },
    {
      "cell_type": "markdown",
      "metadata": {
        "id": "k8IOvNCKR2eL",
        "colab_type": "text"
      },
      "source": [
        "**Note**: You will sometimes see `df` used as shorthand convention for a `DataFrame` object in many Pandas examples, such as in the official Pandas documentation and on StackOverflow. (I have used dataframe for readability here.)\n",
        "\n",
        "Try creating a Python script that converts a Python dictionary into a Pandas DataFrame, then print the DataFrame to screen. You can use the `scottish_hills` example or experiment with your own."
      ]
    },
    {
      "cell_type": "code",
      "metadata": {
        "id": "KRebhV7xSbz0",
        "colab_type": "code",
        "colab": {}
      },
      "source": [
        "import pandas as pd\n",
        "\n",
        "scottish_hills = {'Ben Nevis': (1345, 56.79685, -5.003508),\n",
        "                  'Ben Macdui': (1309, 57.070453, -3.668262),\n",
        "                  'Braeriach': (1296, 57.078628, -3.728024),\n",
        "                  'Cairn Toul': (1291, 57.054611, -3.71042),\n",
        "                  'Sgòr an Lochain Uaine': (1258, 57.057999, -3.725416)}\n",
        "\n",
        "dataframe = pd.DataFrame(scottish_hills)\n",
        "print(dataframe)"
      ],
      "execution_count": null,
      "outputs": []
    },
    {
      "cell_type": "markdown",
      "metadata": {
        "id": "pOJJ404nSfTZ",
        "colab_type": "text"
      },
      "source": [
        "Now, this is not necessarily the most logical order to store data. It would probably make more sense for the columns to be categories or types of data, rather than the names of each hill. You may remember from previous workshops that the data is currently in `wide` format, but we want it in `long` format. To do this, we need to think about how to structure our dictionary. Pandas works best with dictionaries when the dictionary keys refer to column names or headers. Here’s a better dictionary to use:"
      ]
    },
    {
      "cell_type": "code",
      "metadata": {
        "id": "bFXHDSkZSvBo",
        "colab_type": "code",
        "colab": {}
      },
      "source": [
        "scottish_hills = {'Hill Name': ['Ben Nevis', 'Ben Macdui', 'Braeriach', 'Cairn Toul', 'Sgòr an Lochain Uaine'],\n",
        "                  'Height': [1345, 1309, 1296, 1291, 1258],\n",
        "                  'Latitude': [56.79685, 57.070453, 57.078628, 57.054611, 57.057999],\n",
        "                  'Longitude': [-5.003508, -3.668262, -3.728024, -3.71042, -3.725416]}"
      ],
      "execution_count": null,
      "outputs": []
    },
    {
      "cell_type": "markdown",
      "metadata": {
        "id": "XiMAIRjRS_2A",
        "colab_type": "text"
      },
      "source": [
        "We’ve made the dictionary keys into category-like names, and then these are followed by a list of corresponding data values. Pandas will be able to read this better. Replace the dictionary in your script above and run it again. Now you should get the following output:"
      ]
    },
    {
      "cell_type": "code",
      "metadata": {
        "id": "erL68YiKS9rE",
        "colab_type": "code",
        "colab": {}
      },
      "source": [
        "scottish_hills = {'Ben Nevis': (1345, 56.79685, -5.003508),\n",
        "                  'Ben Macdui': (1309, 57.070453, -3.668262),\n",
        "                  'Braeriach': (1296, 57.078628, -3.728024),\n",
        "                  'Cairn Toul': (1291, 57.054611, -3.71042),\n",
        "                  'Sgòr an Lochain Uaine': (1258, 57.057999, -3.725416)}\n",
        "\n",
        "dataframe = pd.DataFrame(scottish_hills)\n",
        "print(dataframe)"
      ],
      "execution_count": null,
      "outputs": []
    },
    {
      "cell_type": "markdown",
      "metadata": {
        "id": "Lrx7CQA8TjNT",
        "colab_type": "text"
      },
      "source": [
        "This is a more useful layout for our DataFrame. The column names are ordered alphabetically by default (left to right), but we can specify the order using the `columns` keyword. (Another way would be to use an `OrderedDict` data structure, but that’s not covered in this tutorial…)\n",
        "\n",
        "In your original script, replace the line where you create the DataFrame with the following:"
      ]
    },
    {
      "cell_type": "code",
      "metadata": {
        "id": "-WpdCqPlTwRR",
        "colab_type": "code",
        "colab": {}
      },
      "source": [
        "dataframe = pd.DataFrame(scottish_hills, columns=['Hill Name', 'Height', 'Latitude', 'Longitude'])"
      ],
      "execution_count": null,
      "outputs": []
    },
    {
      "cell_type": "markdown",
      "metadata": {
        "id": "dBixhij_T0VT",
        "colab_type": "text"
      },
      "source": [
        "Run the modified script. You should now get output that looks like this:"
      ]
    },
    {
      "cell_type": "code",
      "metadata": {
        "id": "Jkmj_xbHUARJ",
        "colab_type": "code",
        "colab": {}
      },
      "source": [
        "dataframe"
      ],
      "execution_count": null,
      "outputs": []
    },
    {
      "cell_type": "markdown",
      "metadata": {
        "id": "v7EKsdt2UJXX",
        "colab_type": "text"
      },
      "source": [
        "Note how the dictionary keys have become column headers running along the top, and as with the Series, an index number has been automatically generated. The columns are also in the order we specified."
      ]
    },
    {
      "cell_type": "markdown",
      "metadata": {
        "id": "l6WthU2jUL45",
        "colab_type": "text"
      },
      "source": [
        "#4. Learn how to access data from a Pandas DataFrame\n",
        "\n",
        "Pandas DataFrames have many useful methods that can be used to inspect the data and manipulate it. We are going to have a look at just a few of them.\n",
        "\n",
        "If our DataFrame was huge, we would not want to print all of it to screen, instead we could have a look at the first `n` items with the `head` method, which takes the number of rows you want to view as its argument. If we added this to the end of our script and ran it again, it would print:"
      ]
    },
    {
      "cell_type": "code",
      "metadata": {
        "id": "ddMJ_sVyUkFS",
        "colab_type": "code",
        "colab": {}
      },
      "source": [
        "dataframe.head(3)"
      ],
      "execution_count": null,
      "outputs": []
    },
    {
      "cell_type": "markdown",
      "metadata": {
        "id": "ZjjNgYm8UlDw",
        "colab_type": "text"
      },
      "source": [
        "We could also look at the last `n` rows with the `tail` method, which would give us:"
      ]
    },
    {
      "cell_type": "code",
      "metadata": {
        "id": "1UZR_6B5Z7to",
        "colab_type": "code",
        "colab": {}
      },
      "source": [
        "dataframe.tail(2)"
      ],
      "execution_count": null,
      "outputs": []
    },
    {
      "cell_type": "markdown",
      "metadata": {
        "id": "oUqxG_NKaAY1",
        "colab_type": "text"
      },
      "source": [
        "Our columns in the `dataframe` object are individual Series of data. We can access them by referring to the column name e.g. `dataframe['column-name']`. Have a go at adding these extra statements to your script, and check that you get the same output:"
      ]
    },
    {
      "cell_type": "code",
      "metadata": {
        "id": "m739t6p5aRzX",
        "colab_type": "code",
        "colab": {}
      },
      "source": [
        "dataframe['Hill Name']"
      ],
      "execution_count": null,
      "outputs": []
    },
    {
      "cell_type": "markdown",
      "metadata": {
        "id": "p4c-2rLBaMib",
        "colab_type": "text"
      },
      "source": [
        "And:"
      ]
    },
    {
      "cell_type": "code",
      "metadata": {
        "id": "CFPuShtjbNKr",
        "colab_type": "code",
        "colab": {}
      },
      "source": [
        "dataframe['Height']"
      ],
      "execution_count": null,
      "outputs": []
    },
    {
      "cell_type": "markdown",
      "metadata": {
        "id": "TzVRqepObcKR",
        "colab_type": "text"
      },
      "source": [
        "Note that Pandas DataFrames are accessed *primarily by columns*. In a sense the row is less important to a DataFrame. For example, what do you think would happen using the following code?"
      ]
    },
    {
      "cell_type": "code",
      "metadata": {
        "id": "V_tak_oAb9jB",
        "colab_type": "code",
        "colab": {}
      },
      "source": [
        "dataframe[0]"
      ],
      "execution_count": null,
      "outputs": []
    },
    {
      "cell_type": "markdown",
      "metadata": {
        "id": "y2-825CEcUX4",
        "colab_type": "text"
      },
      "source": [
        "Ouch! That’s a lot of error messages… **The columns cannot be accessed by their index number in this way**, you must use the column name. You may have thought that this might return the row index instead, but we have to use a different method to get the row:"
      ]
    },
    {
      "cell_type": "code",
      "metadata": {
        "id": "21Cwbf8kcdoP",
        "colab_type": "code",
        "colab": {}
      },
      "source": [
        "dataframe.iloc[0]"
      ],
      "execution_count": null,
      "outputs": []
    },
    {
      "cell_type": "markdown",
      "metadata": {
        "id": "FoAafv6EdvGa",
        "colab_type": "text"
      },
      "source": [
        "The `iloc` method gives us access to the DataFrame in more traditional ‘matrix’ style notation, i.e. `[row, column]` notation. So if we wanted to get the height of Ben Nevis specifically, we could do:"
      ]
    },
    {
      "cell_type": "code",
      "metadata": {
        "id": "42fpj6XReCWB",
        "colab_type": "code",
        "colab": {}
      },
      "source": [
        "dataframe.iloc[0,0]"
      ],
      "execution_count": null,
      "outputs": []
    },
    {
      "cell_type": "markdown",
      "metadata": {
        "id": "P-XxQPyfch2q",
        "colab_type": "text"
      },
      "source": [
        "A way to remeber this is that `iloc` is short for “integer location”. But a more Pandas-style approach would be to do:"
      ]
    },
    {
      "cell_type": "code",
      "metadata": {
        "id": "n6z8-2xBejan",
        "colab_type": "code",
        "colab": {}
      },
      "source": [
        "dataframe['Hill Name'][0]"
      ],
      "execution_count": null,
      "outputs": []
    },
    {
      "cell_type": "markdown",
      "metadata": {
        "id": "JbNSJE_RewzE",
        "colab_type": "text"
      },
      "source": [
        "In other words, we are saying to our Pandas DataFrame “*get me the `Hill Name` Series, and give me the zero-th item in that Series*”. Remember Python uses zero-indexing (starts counting items from zero). Pandas is the same in this regard.\n",
        "\n",
        "An even quicker way to access our columns (less typing) is to treat the names as if they were attributes of our DataFrame, like this:"
      ]
    },
    {
      "cell_type": "code",
      "metadata": {
        "id": "2CFIx1-Qe_IJ",
        "colab_type": "code",
        "colab": {}
      },
      "source": [
        "dataframe.Height"
      ],
      "execution_count": null,
      "outputs": []
    },
    {
      "cell_type": "markdown",
      "metadata": {
        "id": "sZdBQ0mHfjWQ",
        "colab_type": "text"
      },
      "source": [
        "**Experiment with modifying your script (or interactively if using IPython) to access different elements of your DataFrame**"
      ]
    },
    {
      "cell_type": "markdown",
      "metadata": {
        "id": "v9zd_HiNfnaK",
        "colab_type": "text"
      },
      "source": [
        "#5. Learn how to filter data in a Pandas DataFrame\n",
        "\n",
        "We can also apply conditions to the data we are inspecting, such as to filter our data."
      ]
    },
    {
      "cell_type": "code",
      "metadata": {
        "id": "ZjUskZuEfsNd",
        "colab_type": "code",
        "colab": {}
      },
      "source": [
        "dataframe.Height > 1300"
      ],
      "execution_count": null,
      "outputs": []
    },
    {
      "cell_type": "markdown",
      "metadata": {
        "id": "Ju2Atx1ifzyW",
        "colab_type": "text"
      },
      "source": [
        "This returns a new Series of True/False values though. To actually filter the data, we need to use this Series to mask our original DataFrame:"
      ]
    },
    {
      "cell_type": "code",
      "metadata": {
        "id": "R8gqi8M_fyYd",
        "colab_type": "code",
        "colab": {}
      },
      "source": [
        "dataframe[dataframe.Height > 1300]"
      ],
      "execution_count": null,
      "outputs": []
    },
    {
      "cell_type": "markdown",
      "metadata": {
        "id": "qXBvO2WtgAsR",
        "colab_type": "text"
      },
      "source": [
        "##Learn how to append data to an existing DataFrame\n",
        "\n",
        "We can also append data to the DataFrame. This is done using the following syntax:"
      ]
    },
    {
      "cell_type": "code",
      "metadata": {
        "id": "AA4vDz1if70p",
        "colab_type": "code",
        "colab": {}
      },
      "source": [
        "dataframe['Region'] = ['Grampian', 'Cairngorm', 'Cairngorm', 'Cairngorm', 'Cairngorm']"
      ],
      "execution_count": null,
      "outputs": []
    },
    {
      "cell_type": "markdown",
      "metadata": {
        "id": "XOojOc53gQd_",
        "colab_type": "text"
      },
      "source": [
        "Using the original script, try adding this line to the end of the script to append the Regions data and then printing the DataFrame again. *If you are following the tutorial by building up a script as you go along, it should now look like this:*"
      ]
    },
    {
      "cell_type": "code",
      "metadata": {
        "id": "KcMmrTqQge57",
        "colab_type": "code",
        "colab": {}
      },
      "source": [
        "import pandas as pd\n",
        "\n",
        "scottish_hills = {'Hill Name': ['Ben Nevis', 'Ben Macdui', 'Braeriach', 'Cairn Toul', 'Sgòr an Lochain Uaine'],\n",
        "                  'Height': [1345, 1309, 1296, 1291, 1258],\n",
        "                  'Latitude': [56.79685, 57.070453, 57.078628, 57.054611, 57.057999],\n",
        "                  'Longitude': [-5.003508, -3.668262, -3.728024, -3.71042, -3.725416]}\n",
        "\n",
        "dataframe = pd.DataFrame(scottish_hills, columns=['Hill Name', 'Height', 'Latitude', 'Longitude'])\n",
        "dataframe['Region'] = ['Grampian', 'Cairngorm', 'Cairngorm', 'Cairngorm', 'Cairngorm']\n",
        "print(dataframe)"
      ],
      "execution_count": null,
      "outputs": []
    },
    {
      "cell_type": "markdown",
      "metadata": {
        "id": "1xmKDDgxggT2",
        "colab_type": "text"
      },
      "source": [
        "#6. Learn how to read data from a file using Pandas\n",
        "\n",
        "So far we have only created data in Python itself, but Pandas has built in tools for reading data from a variety of external data formats, including Excel spreadsheets, raw text and `.csv` files. It can also interface with databases such as MySQL, but we are not going to cover databases in this tutorial.\n",
        "\n",
        "We’ve provided the `scottish_hills.csv` file [in this Github repository](https://github.com/ourcodingclub/CC-python-pandas-matplotlib). The file contains all the mountains above 3000 feet (about 914 metres) in Scotland. We can load this easily into a DataFrame with the `read_csv` function.\n",
        "\n",
        "If you are writing a complete script to follow the tutorial, create a new file and enter:"
      ]
    },
    {
      "cell_type": "code",
      "metadata": {
        "id": "9bHjHgL8hOel",
        "colab_type": "code",
        "colab": {}
      },
      "source": [
        "import pandas as pd\n",
        "\n",
        "dataframe = pd.read_csv(\"scottish_hills.csv\")\n",
        "print(dataframe.head(10))"
      ],
      "execution_count": null,
      "outputs": []
    },
    {
      "cell_type": "markdown",
      "metadata": {
        "id": "5e9n7BXBhXTX",
        "colab_type": "text"
      },
      "source": [
        "We’ve used the `head()` function to give us only the first 10 items in the DataFrame, and avoid printing all 282 hills out to screen…\n",
        "\n",
        "It looks like this table contains the hills in alphabetical order. It would be nice to see them in order of height. We can sort the DataFrame using the `sort_values` method. You can add the following lines to your script:"
      ]
    },
    {
      "cell_type": "code",
      "metadata": {
        "id": "ReDXKdNIhgrd",
        "colab_type": "code",
        "colab": {}
      },
      "source": [
        "sorted_hills = dataframe.sort_values(by=['Height'], ascending=False)\n",
        "\n",
        "# Let's have a look at the top 5 to check\n",
        "print(sorted_hills.head(5))"
      ],
      "execution_count": null,
      "outputs": []
    },
    {
      "cell_type": "markdown",
      "metadata": {
        "id": "U1kCvwEmhkxD",
        "colab_type": "text"
      },
      "source": [
        "We now have our hills sorted by height. Note how we’ve used the `by=['Height']` argument to specify that we want to sort by height, and then the `ascending=False` argument to get the heights sorted in descending order, from highest to lowest."
      ]
    },
    {
      "cell_type": "markdown",
      "metadata": {
        "id": "d9W-AlBJhzkb",
        "colab_type": "text"
      },
      "source": [
        "#7. Understand the basics of the Matplotlib plotting package\n",
        "\n",
        "`matplotlib` is a Python package used for data plotting and visualisation. It is a useful complement to Pandas, and like Pandas, is a very feature-rich library which can produce a large variety of plots, charts, maps, and other visualisations. It would be impossible to cover the entirety of Matplotlib in one tutorial, so this section is really to give you a flavour of the capabilities of Matplotlib, and to cover some of the basics, as well as a couple of more interesting ‘advanced’ features.\n",
        "\n",
        "If you have a bit of basic Python knowledge already, the common route to learning Matplotib is to find examples of plots similar to ones you are trying to create and walk through them, trying to reproduce them with your own data perhaps. A great starting point is the [Matplotlib gallery of examples](https://matplotlib.org/gallery.html). I recommend this because in practice it is difficult to cover each and every plot type, as the needs of scientists differ considerably depending on the type of data they are working with or the message they are trying to convey in their visualisation. You might also find it useful to refer to the [Matplotlib official documentation](https://matplotlib.org/api/pyplot_api.html) as you go along.\n",
        "\n",
        "\n",
        "##Matplotlib conventions\n",
        "\n",
        "Like Pandas, Matplotlib has a few conventions that you will see in the examples, and in resources on other websites such as StackOverflow. Typically, if we are going to work on some plotting, we would import `matplotlib` like this:"
      ]
    },
    {
      "cell_type": "code",
      "metadata": {
        "id": "V6kG0YwUh5pD",
        "colab_type": "code",
        "colab": {}
      },
      "source": [
        "import matplotlib.pyplot as plt"
      ],
      "execution_count": null,
      "outputs": []
    },
    {
      "cell_type": "markdown",
      "metadata": {
        "id": "adLOt-Zwiepc",
        "colab_type": "text"
      },
      "source": [
        "And thereafter, we could access the most commonly used features of Matplotlib with `plt` as shorthand. Note that this `import` statement is at the *submodule* level. We are not importing the full `matplotlib` module, but a subset of it called `pyplot`. Pyplot contains the most useful features of Matplotlib with an interface that makes interactive-style plotting easier. Submodule imports have the form `import module.submodule` and you will see them used in other Python libraries too sometimes.\n",
        "\n",
        "##Matplotlib basics\n",
        "\n",
        "We’re going to use the Scottish hill data from the Pandas section of the tutorial, so if you need to set this up again, the script should look like this to begin with:"
      ]
    },
    {
      "cell_type": "markdown",
      "metadata": {
        "id": "MQA6bfcOi6f3",
        "colab_type": "text"
      },
      "source": [
        "Let’s have a look at the relationship between two varibles in our Scottish hills data. Suppose I have a hypothesis that the height of Scottish hill increases with latitude northwards. Were going to plot height against latitude. To save typing later on, we can extract the Series for “Height” and “Latitude” by assigning each to a new variable, `x` and `y`, respectively."
      ]
    },
    {
      "cell_type": "markdown",
      "metadata": {
        "id": "_DXqP9L6jGM7",
        "colab_type": "text"
      },
      "source": [
        "(This saves us having to type `dataframe.Height` etc. every time)"
      ]
    },
    {
      "cell_type": "code",
      "metadata": {
        "id": "r1PGk9lpjck6",
        "colab_type": "code",
        "colab": {}
      },
      "source": [
        "import pandas as pd\n",
        "import matplotlib.pyplot as plt\n",
        "\n",
        "dataframe = pd.read_csv(\"scottish_hills.csv\")\n",
        "x = dataframe.Height\n",
        "y = dataframe.Latitude\n",
        "plt.scatter(x, y)\n",
        "plt.show()  # or plt.savefig(\"name.png\")"
      ],
      "execution_count": null,
      "outputs": []
    },
    {
      "cell_type": "markdown",
      "metadata": {
        "id": "pFSMA6Fwjfdq",
        "colab_type": "text"
      },
      "source": [
        "**IPython users**: the figure should render automatically after calling `plt.scatter(x, y)`."
      ]
    },
    {
      "cell_type": "markdown",
      "metadata": {
        "id": "B0A-jkKxj1u2",
        "colab_type": "text"
      },
      "source": [
        "#8. Learn how to bring together other Python libraries with Matplotlib\n",
        "\n",
        "Now we are going to do some basic statistics so we can plot a line of linear regression on our chart. I’m a software engineer, not a statistician, so this will be pretty basic…\n",
        "\n",
        "Let’s plot a linear regression through the data. Python has a library called `scipy` that contains a lot of statistics routines. We can import it by adding to the top of our script:"
      ]
    },
    {
      "cell_type": "code",
      "metadata": {
        "id": "LWH8ID21j8YK",
        "colab_type": "code",
        "colab": {}
      },
      "source": [
        "from scipy.stats import linregress"
      ],
      "execution_count": null,
      "outputs": []
    },
    {
      "cell_type": "markdown",
      "metadata": {
        "id": "TzXLN7WOkAIY",
        "colab_type": "text"
      },
      "source": [
        "Then at the bottom of our script, we are going to get statistics for the linear regression by using a function called `linregress` by adding the following line. Don’t worry, we will go through below how all of this works. These are the lines you need to add to the end of your script:"
      ]
    },
    {
      "cell_type": "code",
      "metadata": {
        "id": "xkTHxeJ3kHb8",
        "colab_type": "code",
        "colab": {}
      },
      "source": [
        "stats = linregress(x, y)\n",
        "\n",
        "m = stats.slope\n",
        "b = stats.intercept"
      ],
      "execution_count": null,
      "outputs": []
    },
    {
      "cell_type": "markdown",
      "metadata": {
        "id": "KlqnV7xckKvv",
        "colab_type": "text"
      },
      "source": [
        "Let’s pause and recap what we’ve done here before plotting the regression.\n",
        "\n",
        "1.    We used an `import` statement with a slightly different format here: `from module.submodule import function`. This is a handy way of importing just a single function from a Python module. In this case we only want to use the `linregress` function in SciPy’s `stats` submodule, so we can just import it without anything else using that syntax.\n",
        "2.    Next we are assigning the results of `linregress` to variable called `stats`.\n",
        "3.    The `linregress` function is slightly different to the functions we’ve seen so far, because it returns an object with multiple values. In fact it returns the `slope`, `intercept`, `rvalue`, `pvalue`, and `stderr` (standard error). We can get hold of each of these values by using the dot notation: e.g. `stats.slope`, for example, much in the same way we can access our DataFrame attributes with `dataframe.Height`.\n",
        "4.    For ease of typing later, we’ve assigned the `stats.slope` to a variable `m`, and `stats.intercept` to a variable `b`.\n",
        "\n",
        "The equation for the straight line that describes linear regression is `y = mx + b`, where `m` is the slope and `b` is the intercept.\n",
        "\n",
        "Therefore, we can then plot the line of linear regression by adding the following line:"
      ]
    },
    {
      "cell_type": "code",
      "metadata": {
        "id": "2YaxzfTRl6bV",
        "colab_type": "code",
        "colab": {}
      },
      "source": [
        "plt.plot(x, m * x + b)  # The equation of the straight line."
      ],
      "execution_count": null,
      "outputs": []
    },
    {
      "cell_type": "markdown",
      "metadata": {
        "id": "P5HrDjGol9iN",
        "colab_type": "text"
      },
      "source": [
        "That’s a lot of new Python, so let’s review what the final script should look like:"
      ]
    },
    {
      "cell_type": "code",
      "metadata": {
        "id": "WWeJu2V0mAqR",
        "colab_type": "code",
        "colab": {}
      },
      "source": [
        "import pandas as pd\n",
        "import matplotlib.pyplot as plt\n",
        "from scipy.stats import linregress\n",
        "\n",
        "dataframe = pd.read_csv(\"scottish_hills.csv\")\n",
        "\n",
        "x = dataframe.Height\n",
        "y = dataframe.Latitude\n",
        "\n",
        "stats = linregress(x, y)\n",
        "\n",
        "m = stats.slope\n",
        "b = stats.intercept\n",
        "\n",
        "plt.scatter(x, y)\n",
        "plt.plot(x, m * x + b, color=\"red\")   # I've added a color argument here\n",
        "\n",
        "plt.savefig(\"figure.png\")\n",
        "\n",
        "# Or you can use plt.show()"
      ],
      "execution_count": null,
      "outputs": []
    },
    {
      "cell_type": "markdown",
      "metadata": {
        "id": "vxOGULH9miB9",
        "colab_type": "text"
      },
      "source": [
        "**IPython users**: the figure should render automatically after calling `plt.scatter(x, y)`."
      ]
    },
    {
      "cell_type": "markdown",
      "metadata": {
        "id": "dGzjC11-mqQu",
        "colab_type": "text"
      },
      "source": [
        "#8. Learn how to bring together other Python libraries with Matplotlib\n",
        "\n",
        "Now we are going to do some basic statistics so we can plot a line of linear regression on our chart. I’m a software engineer, not a statistician, so this will be pretty basic…\n",
        "\n",
        "Let’s plot a linear regression through the data. Python has a library called `scipy` that contains a lot of statistics routines. We can import it by adding to the top of our script:"
      ]
    },
    {
      "cell_type": "code",
      "metadata": {
        "id": "U-4g1frMnKye",
        "colab_type": "code",
        "colab": {}
      },
      "source": [
        "from scipy.stats import linregress"
      ],
      "execution_count": null,
      "outputs": []
    },
    {
      "cell_type": "markdown",
      "metadata": {
        "id": "-2qHTbIInMPE",
        "colab_type": "text"
      },
      "source": [
        "Then at the bottom of our script, we are going to get statistics for the linear regression by using a function called `linregress` by adding the following line. Don’t worry, we will go through below how all of this works. These are the lines you need to add to the end of your script:"
      ]
    },
    {
      "cell_type": "code",
      "metadata": {
        "id": "hiu3DoA3nUyp",
        "colab_type": "code",
        "colab": {}
      },
      "source": [
        "stats = linregress(x, y)\n",
        "\n",
        "m = stats.slope\n",
        "b = stats.intercept"
      ],
      "execution_count": null,
      "outputs": []
    },
    {
      "cell_type": "markdown",
      "metadata": {
        "id": "CWjdnYC7nV-F",
        "colab_type": "text"
      },
      "source": [
        "Let’s pause and recap what we’ve done here before plotting the regression.\n",
        "\n",
        "1.    We used an `import` statement with a slightly different format here: `from module.submodule import function`. This is a handy way of importing just a single function from a Python module. In this case we only want to use the `linregress` function in SciPy’s `stats` submodule, so we can just import it without anything else using that syntax.\n",
        "2.    Next we are assigning the results of `linregress` to variable called `stats`.\n",
        "3.    The `linregress` function is slightly different to the functions we’ve seen so far, because it returns an object with multiple values. In fact it returns the `slope`, `intercept`, `rvalue`, `pvalue`, and `stderr` (standard error). We can get hold of each of these values by using the dot notation: e.g. `stats.slope`, for example, much in the same way we can access our DataFrame attributes with `dataframe.Height`.\n",
        "4.    For ease of typing later, we’ve assigned the `stats.slope` to a variable `m`, and `stats.intercept` to a variable `b`.\n",
        "\n",
        "The equation for the straight line that describes linear regression is `y = mx + b`, where `m` is the slope and `b` is the intercept.\n",
        "\n",
        "Therefore, we can then plot the line of linear regression by adding the following line:"
      ]
    },
    {
      "cell_type": "code",
      "metadata": {
        "id": "8899IaS2mpZx",
        "colab_type": "code",
        "colab": {}
      },
      "source": [
        "plt.plot(x, m * x + b)  # The equation of the straight line."
      ],
      "execution_count": null,
      "outputs": []
    },
    {
      "cell_type": "markdown",
      "metadata": {
        "id": "PzX8dtORoqdm",
        "colab_type": "text"
      },
      "source": [
        "That’s a lot of new Python, so let’s review what the final script should look like:"
      ]
    },
    {
      "cell_type": "code",
      "metadata": {
        "id": "9nFCQyzIou1A",
        "colab_type": "code",
        "colab": {}
      },
      "source": [
        "import pandas as pd\n",
        "import matplotlib.pyplot as plt\n",
        "from scipy.stats import linregress\n",
        "\n",
        "dataframe = pd.read_csv(\"scottish_hills.csv\")\n",
        "\n",
        "x = dataframe.Height\n",
        "y = dataframe.Latitude\n",
        "\n",
        "stats = linregress(x, y)\n",
        "\n",
        "m = stats.slope\n",
        "b = stats.intercept\n",
        "\n",
        "plt.scatter(x, y)\n",
        "plt.plot(x, m * x + b, color=\"red\")   # I've added a color argument here\n",
        "\n",
        "plt.savefig(\"figure.png\")\n",
        "\n",
        "# Or you can use plt.show()"
      ],
      "execution_count": null,
      "outputs": []
    },
    {
      "cell_type": "markdown",
      "metadata": {
        "id": "k4IZsHhYo7Fl",
        "colab_type": "text"
      },
      "source": [
        "I will leave it as an exercise for the reader to determine if they think this is a good fit or statistically significant…\n",
        "\n",
        "(Hint: you have some extra information in the `stats` object - `stats.rvalue` and `stats.pvalue`.)"
      ]
    },
    {
      "cell_type": "markdown",
      "metadata": {
        "id": "1mkZgNvHpFqm",
        "colab_type": "text"
      },
      "source": [
        "#9. Learn how to customise Matplotlib plots further\n",
        "\n",
        "Matplotlib figures are highly customisable, and there are so many options it is usually best to consult the [documentation first](https://matplotlib.org/tutorials/index.html). In addition, the [Matplotlib official pyplot tutorial is quite useful](https://matplotlib.org/users/pyplot_tutorial.html). To get started on Matplotlib plot customisation, here is an extended version of the above which sets the font sizes, axes lables, linewidths, and marker types:\n",
        "\n",
        "Again, the best way to learn the features of Matplotlib is by example, so try to modify your script above with some of the extra arguments added below, such as `fontsize`, `linewidth`, `color`, etc. Have a go at adding your own values, and producing nicer looking plots. Here’s my example to start you off:"
      ]
    },
    {
      "cell_type": "code",
      "metadata": {
        "id": "dTwst_r2o3ph",
        "colab_type": "code",
        "colab": {}
      },
      "source": [
        "import pandas as pd\n",
        "import matplotlib.pyplot as plt\n",
        "from scipy.stats import linregress\n",
        "\n",
        "dataframe = pd.read_csv(\"scottish_hills.csv\")\n",
        "\n",
        "x = dataframe.Height\n",
        "y = dataframe.Latitude\n",
        "\n",
        "stats = linregress(x, y)\n",
        "\n",
        "m = stats.slope\n",
        "b = stats.intercept\n",
        "\n",
        "# Change the default figure size\n",
        "plt.figure(figsize=(10,10))\n",
        "\n",
        "# Change the default marker for the scatter from circles to x's\n",
        "plt.scatter(x, y, marker='x')\n",
        "\n",
        "# Set the linewidth on the regression line to 3px\n",
        "plt.plot(x, m * x + b, color=\"red\", linewidth=3)\n",
        "\n",
        "# Add x and y lables, and set their font size\n",
        "plt.xlabel(\"Height (m)\", fontsize=20)\n",
        "plt.ylabel(\"Latitude\", fontsize=20)\n",
        "\n",
        "# Set the font size of the number lables on the axes\n",
        "plt.xticks(fontsize=18)\n",
        "plt.yticks(fontsize=18)\n",
        "\n",
        "plt.savefig(\"python-linear-reg-custom.png\")"
      ],
      "execution_count": null,
      "outputs": []
    },
    {
      "cell_type": "markdown",
      "metadata": {
        "id": "5qFtJ_KJpz0m",
        "colab_type": "text"
      },
      "source": [
        "#Summary\n",
        "\n",
        "In this tutorial we have covered the various ways in which we can use Pandas, Matplotlib, and a few other Python libraries to start doing data analysis.\n",
        "\n",
        "#Tutorial outcomes\n",
        "\n",
        "1.    Understood what the Pandas library does\n",
        "2.    Understood the basic Pandas data structures and how to manipulate them.\n",
        "3.    Understood the basics of the Matplotlib plotting package\n",
        "4.    Learnt how to bring use additional packages to enhance your plots\n"
      ]
    }
  ]
}