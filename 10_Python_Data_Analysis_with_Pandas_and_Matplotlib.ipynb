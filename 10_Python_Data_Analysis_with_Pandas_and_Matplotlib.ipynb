{
  "nbformat": 4,
  "nbformat_minor": 0,
  "metadata": {
    "colab": {
      "name": "10-Python-Data-Analysis-with-Pandas-and-Matplotlib.ipynb",
      "provenance": [],
      "include_colab_link": true
    },
    "kernelspec": {
      "name": "python3",
      "display_name": "Python 3"
    }
  },
  "cells": [
    {
      "cell_type": "markdown",
      "metadata": {
        "id": "view-in-github",
        "colab_type": "text"
      },
      "source": [
        "<a href=\"https://colab.research.google.com/github/brainhack-uiowa/python-novice-inflammation-colab/blob/master/10_Python_Data_Analysis_with_Pandas_and_Matplotlib.ipynb\" target=\"_parent\"><img src=\"https://colab.research.google.com/assets/colab-badge.svg\" alt=\"Open In Colab\"/></a>"
      ]
    },
    {
      "cell_type": "code",
      "metadata": {
        "id": "KgjvO7SNHtaC",
        "colab_type": "code",
        "colab": {
          "base_uri": "https://localhost:8080/",
          "height": 323
        },
        "outputId": "fff5c829-71c5-4958-9e6b-73c4601b112e"
      },
      "source": [
        "# setup\n",
        "!wget https://github.com/ourcodingclub/CC-python-pandas-matplotlib/archive/master.zip\n",
        "\n",
        "!unzip -jn master.zip"
      ],
      "execution_count": 1,
      "outputs": [
        {
          "output_type": "stream",
          "text": [
            "--2020-06-29 14:44:48--  https://github.com/ourcodingclub/CC-python-pandas-matplotlib/archive/master.zip\n",
            "Resolving github.com (github.com)... 140.82.118.4\n",
            "Connecting to github.com (github.com)|140.82.118.4|:443... connected.\n",
            "HTTP request sent, awaiting response... 302 Found\n",
            "Location: https://codeload.github.com/ourcodingclub/CC-python-pandas-matplotlib/zip/master [following]\n",
            "--2020-06-29 14:44:48--  https://codeload.github.com/ourcodingclub/CC-python-pandas-matplotlib/zip/master\n",
            "Resolving codeload.github.com (codeload.github.com)... 140.82.114.9\n",
            "Connecting to codeload.github.com (codeload.github.com)|140.82.114.9|:443... connected.\n",
            "HTTP request sent, awaiting response... 200 OK\n",
            "Length: unspecified [application/zip]\n",
            "Saving to: ‘master.zip.1’\n",
            "\n",
            "\rmaster.zip.1            [<=>                 ]       0  --.-KB/s               \rmaster.zip.1            [ <=>                ]   7.77K  --.-KB/s    in 0s      \n",
            "\n",
            "2020-06-29 14:44:49 (77.9 MB/s) - ‘master.zip.1’ saved [7960]\n",
            "\n",
            "Archive:  master.zip\n",
            "41c2273e26e687ccab9ce6cd9525b22f657cc440\n"
          ],
          "name": "stdout"
        }
      ]
    },
    {
      "cell_type": "code",
      "metadata": {
        "id": "loRLDwjFKSal",
        "colab_type": "code",
        "colab": {
          "base_uri": "https://localhost:8080/",
          "height": 34
        },
        "outputId": "c46dd5bf-1fc5-49a8-e8e3-6de1e22351a9"
      },
      "source": [
        "import glob\n",
        "\n",
        "print(glob.glob('*'))"
      ],
      "execution_count": 2,
      "outputs": [
        {
          "output_type": "stream",
          "text": [
            "['README.md', 'scottish_hills.csv', 'master.zip.1', 'master.zip', 'sample_data']\n"
          ],
          "name": "stdout"
        }
      ]
    },
    {
      "cell_type": "markdown",
      "metadata": {
        "id": "28CFvN-x9LRZ",
        "colab_type": "text"
      },
      "source": [
        "#Python Data Analysis with Pandas and Matplotlib: Create plots and manipulate data with Pandas and Matplotlib\n",
        "Welcome to this tutorial about data analysis with Python and the Pandas library. If you did the [Introduction to Python tutorial](https://ourcodingclub.github.io/tutorials/python-intro/index.html), you’ll rememember we briefly looked at the `pandas` package as a way of quickly loading a `.csv` file to extract some data. This tutorial looks at `pandas` and the plotting package `matplotlib` in some more depth.\n"
      ]
    },
    {
      "cell_type": "markdown",
      "metadata": {
        "id": "XouwPsgt9uOU",
        "colab_type": "text"
      },
      "source": [
        "#Tutorial aims:\n",
        "1.   [Understand what Pandas is](https://colab.research.google.com/drive/1HMVQvR-_f9y3FulzGIyT1azmL14qOs71#scrollTo=dJHjYjBw-qPr&line=23&uniqifier=1)\n",
        "2.   Ways of running Python and Pandas\n",
        "3.   Understanding the basic Pandas data structures\n",
        "4. Learn how to access data from a Pandas DataFrame\n",
        "5. Learn how to filter data in a Pandas DataFrame\n",
        "6.  Learn how to read and sort data from a file\n",
        "7.  Understand the basics of the Matplotlib plotting package\n",
        "8.   Learn how to bring together other packages to enhance your plots\n",
        "9.    Learn how to further customise the appearance of Matplotlib plots\n",
        "10.    Be inspired to experiment further with Matplotlib!\n"
      ]
    },
    {
      "cell_type": "markdown",
      "metadata": {
        "id": "dJHjYjBw-qPr",
        "colab_type": "text"
      },
      "source": [
        "#1. What is Pandas?\n",
        "\n",
        "`pandas` is a package commonly used to deal with data analysis. It simplifies the loading of data from external sources such as text files and databases, as well as providing ways of analysing and manipulating data once it is loaded into your computer. The features provided in `pandas` automate and simplify a lot of the common tasks that would take many lines of code to write in the basic Python langauge.\n",
        "\n",
        "*If you have used R’s dataframes before, or the `numpy` package in Python, you may find some similarities in the Python pandas package. But if not, don’t worry because this tutorial doesn’t assume any knowledge of NumPy or R, only basic-level Python.*\n",
        "\n",
        "Pandas is a hugely popular, and still growing, Python library used across a range of disciplines from environmental and climate science, through to social science, linguistics, biology, as well as a number of applications in industry such as data analytics, financial trading, and many others. In the [Introduction to Python tutorial](https://ourcodingclub.github.io/tutorials/python-intro/index.html) we had a look at how Python had grown rapidly in terms of users over the last decade or so, based on traffic to the [StackOverflow](https://stackoverflow.com/) question and answer site. A similar graph has been produced showing the growth of Pandas compared to some other Python software libraries! (Based on StackOverflow question views per month).\n",
        "\n",
        "![alt text](https://ourcodingclub.github.io/assets/img/tutorials/pandas-python-intro/python-pandas-growth.png)\n",
        "\n",
        "These graphs of course should be taken with a pinch of salt, as there is no agreed way of absolutely determing programming langauge and library popularity, but they are interesting to think about nonetheless.\n",
        "\n",
        "Pandas is best suited for structured, **labelled** data, in other words, tabular data, that has headings associated with each column of data. The [official Pandas website](https://pandas.pydata.org/) describes Pandas’ data-handling strengths as:\n",
        "*   Tabular data with heterogeneously-typed columns, as in an SQL table or Excel spreadsheet.\n",
        "*   Ordered and unordered (not necessarily fixed-frequency) time series data.\n",
        "* Arbitrary matrix data (homogeneously typed or heterogeneous) with row and column labels.\n",
        "* Any other form of observational / statistical data sets. The data actually need not be labelled at all to be placed into a `pandas` data structure.\n",
        "\n",
        "Some other important points to note about Pandas are:\n",
        "* Pandas is **fast**. Python sometimes gets a bad rap for being a bit slow compared to ‘compiled’ languages such as C and Fortran. But deep down in the internals of Pandas, it is actually written in C, and so processing large datasets is no problem for Pandas.\n",
        "* Pandas is a dependency of another library called `statsmodels`, making it an important part of the statistical computing ecosystem in Python.\n",
        "\n",
        "You can read more about the Pandas package at the [Pandas project website](https://pandas.pydata.org/)."
      ]
    },
    {
      "cell_type": "markdown",
      "metadata": {
        "id": "K2-FytyyAfzV",
        "colab_type": "text"
      },
      "source": [
        "# 2. Working with Pandas\n",
        "\n",
        "There are several conventions to follow when working with pandas,\n",
        "- Use import `pandas` as `pd` to give a library a short alias while importing it.\n",
        "- Then refer to items in the library using that shortened name."
      ]
    },
    {
      "cell_type": "markdown",
      "metadata": {
        "id": "C1RwdMvMD871",
        "colab_type": "text"
      },
      "source": [
        "##Conventions when using Pandas\n",
        "\n",
        "All the examples in this tutorial assume you have installed the Python library `pandas`, either through installing a scientific Python distribution such as Anaconda, or by installing it using a package-manager, such as `conda` or `pip`. To use any of the features of Pandas, you will need to have an `import` statement at the top of your script like so:"
      ]
    },
    {
      "cell_type": "code",
      "metadata": {
        "id": "5-cwMxcSELy8",
        "colab_type": "code",
        "colab": {}
      },
      "source": [
        "import pandas as pd"
      ],
      "execution_count": 3,
      "outputs": []
    },
    {
      "cell_type": "markdown",
      "metadata": {
        "id": "KjAwhTETEOi1",
        "colab_type": "text"
      },
      "source": [
        "By convention, the `pandas` module is almost always imported this way as `pd`. Every time we use a `pandas` feature thereafter, we can shorten what we type by just typing `pd`, such as `pd.some_function()`.\n",
        "\n",
        "\n",
        "Try the following to see which version of Pandas you are running:"
      ]
    },
    {
      "cell_type": "code",
      "metadata": {
        "id": "zLPcYz4ZEjZR",
        "colab_type": "code",
        "colab": {
          "base_uri": "https://localhost:8080/",
          "height": 34
        },
        "outputId": "c5157bb0-7f8d-4cd4-dde5-66b031d1de33"
      },
      "source": [
        "import pandas as pd\n",
        "\n",
        "print(pd.__version__)"
      ],
      "execution_count": 4,
      "outputs": [
        {
          "output_type": "stream",
          "text": [
            "1.0.5\n"
          ],
          "name": "stdout"
        }
      ]
    },
    {
      "cell_type": "markdown",
      "metadata": {
        "id": "c1Xm1pspEmZG",
        "colab_type": "text"
      },
      "source": [
        "Run the code and note the output. "
      ]
    },
    {
      "cell_type": "markdown",
      "metadata": {
        "id": "IlelfFdGFJUX",
        "colab_type": "text"
      },
      "source": [
        "##Files for this tutorial\n",
        "\n",
        "This short tutorial is mainly based around working with the basic Pandas commands and data structures, but we also use some data about Scottish mountains, provided in the form of a `.csv` file (`scottish_hills.csv`).\n",
        "\n",
        "The original data came from a series of databases about the mountains of Scotland, which if you are interested further can be found here: http://www.haroldstreet.org.uk/other/excel-csv-files/.\n",
        "\n",
        "*As a side note, and some interesting trivia, the dataset we are using was originally compiled in **1891** by Sir Hugh Munro. He compiled a list of all the mountains in Scotland above 3000 feet (914m if you prefer the metric system). The table has been revised since with more accurate heights and coordinates.*"
      ]
    },
    {
      "cell_type": "markdown",
      "metadata": {
        "id": "ig4zNz1nNgrm",
        "colab_type": "text"
      },
      "source": [
        "# 3. Understand the basic Pandas data structures\n",
        "\n",
        "Pandas has two core data structures used to store data: The *Series* and the *DataFrame*.\n",
        "\n",
        "##Series\n",
        "\n",
        "The series is a one-dimensional array-like structure ([remember numpy?](https://swcarpentry.github.io/python-novice-inflammation/02-numpy/index.html)) designed to hold a single array (or ‘column’) of data and an associated array of data labels, called an *index*. We can create a series to experiment with by simply passing a list of data, let’s use numbers in this example:"
      ]
    },
    {
      "cell_type": "code",
      "metadata": {
        "id": "YrjYSbvFNpZP",
        "colab_type": "code",
        "colab": {
          "base_uri": "https://localhost:8080/",
          "height": 102
        },
        "outputId": "2504f1da-74db-4e33-d3a2-5b4159a814c5"
      },
      "source": [
        "import pandas as pd\n",
        "\n",
        "my_series = pd.Series([4.6, 2.1, -4.0, 3.0])\n",
        "print(my_series)"
      ],
      "execution_count": 5,
      "outputs": [
        {
          "output_type": "stream",
          "text": [
            "0    4.6\n",
            "1    2.1\n",
            "2   -4.0\n",
            "3    3.0\n",
            "dtype: float64\n"
          ],
          "name": "stdout"
        }
      ]
    },
    {
      "cell_type": "markdown",
      "metadata": {
        "id": "mg8DdYCnN6ub",
        "colab_type": "text"
      },
      "source": [
        "Note that printing out our Series object prints out the values and the index numbers. If we just wanted the values, we can add to our script the following line:"
      ]
    },
    {
      "cell_type": "code",
      "metadata": {
        "id": "EsLHt_N6OAy9",
        "colab_type": "code",
        "colab": {
          "base_uri": "https://localhost:8080/",
          "height": 34
        },
        "outputId": "c527f1fa-15ff-44c7-b7b7-15067e6f48f8"
      },
      "source": [
        "print(my_series.values)"
      ],
      "execution_count": 6,
      "outputs": [
        {
          "output_type": "stream",
          "text": [
            "[ 4.6  2.1 -4.   3. ]\n"
          ],
          "name": "stdout"
        }
      ]
    },
    {
      "cell_type": "markdown",
      "metadata": {
        "id": "1a56G4yyOObB",
        "colab_type": "text"
      },
      "source": [
        "For a lot of applications, a plain old *Series* is probably not a lot of use, but it is the core component of the Pandas workhorse, the *DataFrame*, so it’s useful to know about.\n",
        "\n",
        "##DataFrames\n",
        "\n",
        "The DataFrame represents tabular data, a bit like a spreadsheet. DataFrames are organised into colums (each of which is a *Series*), and each column can store a single data-type, such as floating point numbers, strings, boolean values etc. DataFrames can be indexed by either their row or column names. (They are similar in many ways to R’s `data.frame`.)\n",
        "\n",
        "We can create a DataFrame in Pandas from a Python dictionary, or by loading in a text file containing tabular data. First we are going to look at how to create one from a dictionary.\n",
        "\n",
        "##A refresher on the Dictionary data type\n",
        "\n",
        "Dictionaries are a core Python data structure that contain a set of `key:value` pairs. If you imagine having a written language dictionary, say for English-Hungarian, and you wanted to know the Hungarian word for “spaceship”, you would look-up the English word (the dictionary `key` in Python) and the dictionary would give you the Hungarian translation (the dictionary `value` in Python). So the “key-value pair” would be `'spaceship': 'űrhajó'`.\n",
        "\n",
        "To construct a dictionary in Python, the syntax we would write is:"
      ]
    },
    {
      "cell_type": "code",
      "metadata": {
        "id": "IxyknIhlPGr6",
        "colab_type": "code",
        "colab": {}
      },
      "source": [
        "# Note that dictionaries are part of the core Python language\n",
        "# You do not need 'import pandas' if you are only working with dictionaries.\n",
        "\n",
        "hungarian_dictionary = {'spaceship': 'űrhajó'}\n"
      ],
      "execution_count": 7,
      "outputs": []
    },
    {
      "cell_type": "markdown",
      "metadata": {
        "id": "AU4D9WBdPd5s",
        "colab_type": "text"
      },
      "source": [
        "We could then look-up items in our dictionary with this syntax:"
      ]
    },
    {
      "cell_type": "code",
      "metadata": {
        "id": "2K-5uYGGPj9p",
        "colab_type": "code",
        "colab": {
          "base_uri": "https://localhost:8080/",
          "height": 35
        },
        "outputId": "415fe9c1-1847-44de-b900-ee08ad30dc11"
      },
      "source": [
        "hungarian_dictionary['spaceship']"
      ],
      "execution_count": 8,
      "outputs": [
        {
          "output_type": "execute_result",
          "data": {
            "application/vnd.google.colaboratory.intrinsic": {
              "type": "string"
            },
            "text/plain": [
              "'űrhajó'"
            ]
          },
          "metadata": {
            "tags": []
          },
          "execution_count": 8
        }
      ]
    },
    {
      "cell_type": "markdown",
      "metadata": {
        "id": "2jJV5tQPPo8c",
        "colab_type": "text"
      },
      "source": [
        "Dictionaries can have multiple entries (multiple key-value pairs), and these are separated with a comma:"
      ]
    },
    {
      "cell_type": "code",
      "metadata": {
        "id": "L7OaWMyAPtOF",
        "colab_type": "code",
        "colab": {}
      },
      "source": [
        "hungarian_dictionary = {'spaceship': 'űrhajó',\n",
        "                        'watermelon': 'görögdinnye',\n",
        "                        'bicycle': 'kerékpár'}"
      ],
      "execution_count": 9,
      "outputs": []
    },
    {
      "cell_type": "markdown",
      "metadata": {
        "id": "B3KxC6EGP5JR",
        "colab_type": "text"
      },
      "source": [
        "The `values` in dictionaries are not limited to single strings or words. Values can be any Python object such as numbers, lists, tuples, or even other dictionaries:"
      ]
    },
    {
      "cell_type": "code",
      "metadata": {
        "id": "5PUX02oRQE6W",
        "colab_type": "code",
        "colab": {}
      },
      "source": [
        "# Names (keys) mapped to a tuple (the value) containing the height, lat and longitude.\n",
        "scottish_hills = {'Ben Nevis': (1345, 56.79685, -5.003508),\n",
        "                  'Ben Macdui': (1309, 57.070453, -3.668262),\n",
        "                  'Braeriach': (1296, 57.078628, -3.728024),\n",
        "                  'Cairn Toul': (1291, 57.054611, -3.71042),\n",
        "                  'Sgòr an Lochain Uaine': (1258, 57.057999, -3.725416)}"
      ],
      "execution_count": 10,
      "outputs": []
    },
    {
      "cell_type": "markdown",
      "metadata": {
        "id": "Fyf9PNqJQL1w",
        "colab_type": "text"
      },
      "source": [
        "Looking up a Scottish mountain using its name as the key would then give us the height, latitude and longitude as the value returned."
      ]
    },
    {
      "cell_type": "code",
      "metadata": {
        "id": "J99U049kQNX9",
        "colab_type": "code",
        "colab": {
          "base_uri": "https://localhost:8080/",
          "height": 34
        },
        "outputId": "6b02f0e6-045d-4769-9758-f2247a797f4e"
      },
      "source": [
        "scottish_hills['Braeriach']"
      ],
      "execution_count": 11,
      "outputs": [
        {
          "output_type": "execute_result",
          "data": {
            "text/plain": [
              "(1296, 57.078628, -3.728024)"
            ]
          },
          "metadata": {
            "tags": []
          },
          "execution_count": 11
        }
      ]
    },
    {
      "cell_type": "markdown",
      "metadata": {
        "id": "TinK4jrkQQz7",
        "colab_type": "text"
      },
      "source": [
        "Enclosed in a print function, i.e. `print(scottish_hills['Braeriach']`, this would print out:"
      ]
    },
    {
      "cell_type": "code",
      "metadata": {
        "id": "tuqM3qyLRQGW",
        "colab_type": "code",
        "colab": {
          "base_uri": "https://localhost:8080/",
          "height": 34
        },
        "outputId": "1fbc0a57-dbd5-46a3-ebce-dfdcae57a6d9"
      },
      "source": [
        "print(scottish_hills['Braeriach'])"
      ],
      "execution_count": 12,
      "outputs": [
        {
          "output_type": "stream",
          "text": [
            "(1296, 57.078628, -3.728024)\n"
          ],
          "name": "stdout"
        }
      ]
    },
    {
      "cell_type": "markdown",
      "metadata": {
        "id": "xpbaXRegRBUX",
        "colab_type": "text"
      },
      "source": [
        "##Back to DataFrames…\n",
        "\n",
        "If we didn’t have any real data to play with from an external file, we could manually create a DataFrame from a Python dictionary. Using the `scottish_hills` dictionary above, we can load it into a Pandas DataFrame with this syntax:\n",
        "```\n",
        "dataframe = pd.DataFrame(scottish_hills)\n",
        "```"
      ]
    },
    {
      "cell_type": "markdown",
      "metadata": {
        "id": "k8IOvNCKR2eL",
        "colab_type": "text"
      },
      "source": [
        "**Note**: You will sometimes see `df` used as shorthand convention for a `DataFrame` object in many Pandas examples, such as in the official Pandas documentation and on StackOverflow. (I have used dataframe for readability here.)\n",
        "\n",
        "Try creating a Python script that converts a Python dictionary into a Pandas DataFrame, then print the DataFrame to screen. You can use the `scottish_hills` example or experiment with your own."
      ]
    },
    {
      "cell_type": "code",
      "metadata": {
        "id": "KRebhV7xSbz0",
        "colab_type": "code",
        "colab": {
          "base_uri": "https://localhost:8080/",
          "height": 85
        },
        "outputId": "a61d7731-c3bc-4965-89ee-de8a46856cae"
      },
      "source": [
        "scottish_hills = {'Ben Nevis': (1345, 56.79685, -5.003508),\n",
        "                  'Ben Macdui': (1309, 57.070453, -3.668262),\n",
        "                  'Braeriach': (1296, 57.078628, -3.728024),\n",
        "                  'Cairn Toul': (1291, 57.054611, -3.71042),\n",
        "                  'Sgòr an Lochain Uaine': (1258, 57.057999, -3.725416)}\n",
        "\n",
        "dataframe = pd.DataFrame(scottish_hills)\n",
        "print(dataframe)"
      ],
      "execution_count": 13,
      "outputs": [
        {
          "output_type": "stream",
          "text": [
            "     Ben Nevis   Ben Macdui    Braeriach   Cairn Toul  Sgòr an Lochain Uaine\n",
            "0  1345.000000  1309.000000  1296.000000  1291.000000            1258.000000\n",
            "1    56.796850    57.070453    57.078628    57.054611              57.057999\n",
            "2    -5.003508    -3.668262    -3.728024    -3.710420              -3.725416\n"
          ],
          "name": "stdout"
        }
      ]
    },
    {
      "cell_type": "markdown",
      "metadata": {
        "id": "pOJJ404nSfTZ",
        "colab_type": "text"
      },
      "source": [
        "Now, this is not necessarily the most logical order to store data. It would probably make more sense for the columns to be categories or types of data, rather than the names of each hill. You may remember from previous workshops that the data is currently in `wide` format, but we want it in `long` format. To do this, we need to think about how to structure our dictionary. Pandas works best with dictionaries when the dictionary keys refer to column names or headers. Here’s a better dictionary to use:"
      ]
    },
    {
      "cell_type": "code",
      "metadata": {
        "id": "bFXHDSkZSvBo",
        "colab_type": "code",
        "colab": {}
      },
      "source": [
        "scottish_hills = {'Hill Name': ['Ben Nevis', 'Ben Macdui', 'Braeriach', 'Cairn Toul', 'Sgòr an Lochain Uaine'],\n",
        "                  'Height': [1345, 1309, 1296, 1291, 1258],\n",
        "                  'Latitude': [56.79685, 57.070453, 57.078628, 57.054611, 57.057999],\n",
        "                  'Longitude': [-5.003508, -3.668262, -3.728024, -3.71042, -3.725416]}"
      ],
      "execution_count": 14,
      "outputs": []
    },
    {
      "cell_type": "markdown",
      "metadata": {
        "id": "XiMAIRjRS_2A",
        "colab_type": "text"
      },
      "source": [
        "We’ve made the dictionary keys into category-like names, and then these are followed by a list of corresponding data values. Pandas will be able to read this better. Replace the dictionary in your script above and run it again. Now you should get the following output:"
      ]
    },
    {
      "cell_type": "code",
      "metadata": {
        "id": "erL68YiKS9rE",
        "colab_type": "code",
        "colab": {
          "base_uri": "https://localhost:8080/",
          "height": 153
        },
        "outputId": "354f8220-8b84-4538-e284-0798c610a2b0"
      },
      "source": [
        "scottish_hills"
      ],
      "execution_count": 15,
      "outputs": [
        {
          "output_type": "execute_result",
          "data": {
            "text/plain": [
              "{'Height': [1345, 1309, 1296, 1291, 1258],\n",
              " 'Hill Name': ['Ben Nevis',\n",
              "  'Ben Macdui',\n",
              "  'Braeriach',\n",
              "  'Cairn Toul',\n",
              "  'Sgòr an Lochain Uaine'],\n",
              " 'Latitude': [56.79685, 57.070453, 57.078628, 57.054611, 57.057999],\n",
              " 'Longitude': [-5.003508, -3.668262, -3.728024, -3.71042, -3.725416]}"
            ]
          },
          "metadata": {
            "tags": []
          },
          "execution_count": 15
        }
      ]
    },
    {
      "cell_type": "markdown",
      "metadata": {
        "id": "Lrx7CQA8TjNT",
        "colab_type": "text"
      },
      "source": [
        "This is a more useful layout for our DataFrame. The column names are ordered alphabetically by default (left to right), but we can specify the order using the `columns` keyword. (Another way would be to use an `OrderedDict` data structure, but that’s not covered in this tutorial…)\n",
        "\n",
        "In your original script, replace the line where you create the DataFrame with the following:"
      ]
    },
    {
      "cell_type": "code",
      "metadata": {
        "id": "-WpdCqPlTwRR",
        "colab_type": "code",
        "colab": {}
      },
      "source": [
        "dataframe = pd.DataFrame(scottish_hills)"
      ],
      "execution_count": 16,
      "outputs": []
    },
    {
      "cell_type": "markdown",
      "metadata": {
        "id": "dBixhij_T0VT",
        "colab_type": "text"
      },
      "source": [
        "Run the modified script. You should now get output that looks like this:"
      ]
    },
    {
      "cell_type": "code",
      "metadata": {
        "id": "Jkmj_xbHUARJ",
        "colab_type": "code",
        "colab": {
          "base_uri": "https://localhost:8080/",
          "height": 204
        },
        "outputId": "83eb2c48-2bb7-401e-a3d4-c78bc1e67719"
      },
      "source": [
        "dataframe"
      ],
      "execution_count": 17,
      "outputs": [
        {
          "output_type": "execute_result",
          "data": {
            "text/html": [
              "<div>\n",
              "<style scoped>\n",
              "    .dataframe tbody tr th:only-of-type {\n",
              "        vertical-align: middle;\n",
              "    }\n",
              "\n",
              "    .dataframe tbody tr th {\n",
              "        vertical-align: top;\n",
              "    }\n",
              "\n",
              "    .dataframe thead th {\n",
              "        text-align: right;\n",
              "    }\n",
              "</style>\n",
              "<table border=\"1\" class=\"dataframe\">\n",
              "  <thead>\n",
              "    <tr style=\"text-align: right;\">\n",
              "      <th></th>\n",
              "      <th>Hill Name</th>\n",
              "      <th>Height</th>\n",
              "      <th>Latitude</th>\n",
              "      <th>Longitude</th>\n",
              "    </tr>\n",
              "  </thead>\n",
              "  <tbody>\n",
              "    <tr>\n",
              "      <th>0</th>\n",
              "      <td>Ben Nevis</td>\n",
              "      <td>1345</td>\n",
              "      <td>56.796850</td>\n",
              "      <td>-5.003508</td>\n",
              "    </tr>\n",
              "    <tr>\n",
              "      <th>1</th>\n",
              "      <td>Ben Macdui</td>\n",
              "      <td>1309</td>\n",
              "      <td>57.070453</td>\n",
              "      <td>-3.668262</td>\n",
              "    </tr>\n",
              "    <tr>\n",
              "      <th>2</th>\n",
              "      <td>Braeriach</td>\n",
              "      <td>1296</td>\n",
              "      <td>57.078628</td>\n",
              "      <td>-3.728024</td>\n",
              "    </tr>\n",
              "    <tr>\n",
              "      <th>3</th>\n",
              "      <td>Cairn Toul</td>\n",
              "      <td>1291</td>\n",
              "      <td>57.054611</td>\n",
              "      <td>-3.710420</td>\n",
              "    </tr>\n",
              "    <tr>\n",
              "      <th>4</th>\n",
              "      <td>Sgòr an Lochain Uaine</td>\n",
              "      <td>1258</td>\n",
              "      <td>57.057999</td>\n",
              "      <td>-3.725416</td>\n",
              "    </tr>\n",
              "  </tbody>\n",
              "</table>\n",
              "</div>"
            ],
            "text/plain": [
              "               Hill Name  Height   Latitude  Longitude\n",
              "0              Ben Nevis    1345  56.796850  -5.003508\n",
              "1             Ben Macdui    1309  57.070453  -3.668262\n",
              "2              Braeriach    1296  57.078628  -3.728024\n",
              "3             Cairn Toul    1291  57.054611  -3.710420\n",
              "4  Sgòr an Lochain Uaine    1258  57.057999  -3.725416"
            ]
          },
          "metadata": {
            "tags": []
          },
          "execution_count": 17
        }
      ]
    },
    {
      "cell_type": "markdown",
      "metadata": {
        "id": "v7EKsdt2UJXX",
        "colab_type": "text"
      },
      "source": [
        "Note how the dictionary keys have become column headers running along the top, and as with the Series, an index number has been automatically generated."
      ]
    },
    {
      "cell_type": "markdown",
      "metadata": {
        "id": "l6WthU2jUL45",
        "colab_type": "text"
      },
      "source": [
        "#4. Learn how to access data from a Pandas DataFrame (Review)\n",
        "\n",
        "Pandas DataFrames have many useful methods that can be used to inspect the data and manipulate it. We are going to have a look at just a few of them.\n",
        "\n",
        "If our DataFrame was huge, we would not want to print all of it to screen, instead we could have a look at the first `n` items with the `head` method, which takes the number of rows you want to view as its argument. If we added this to the end of our script and ran it again, it would print:"
      ]
    },
    {
      "cell_type": "code",
      "metadata": {
        "id": "ddMJ_sVyUkFS",
        "colab_type": "code",
        "colab": {
          "base_uri": "https://localhost:8080/",
          "height": 142
        },
        "outputId": "00ba4115-13a4-482c-fc4b-6196b1e5d69a"
      },
      "source": [
        "dataframe.head(3)"
      ],
      "execution_count": 18,
      "outputs": [
        {
          "output_type": "execute_result",
          "data": {
            "text/html": [
              "<div>\n",
              "<style scoped>\n",
              "    .dataframe tbody tr th:only-of-type {\n",
              "        vertical-align: middle;\n",
              "    }\n",
              "\n",
              "    .dataframe tbody tr th {\n",
              "        vertical-align: top;\n",
              "    }\n",
              "\n",
              "    .dataframe thead th {\n",
              "        text-align: right;\n",
              "    }\n",
              "</style>\n",
              "<table border=\"1\" class=\"dataframe\">\n",
              "  <thead>\n",
              "    <tr style=\"text-align: right;\">\n",
              "      <th></th>\n",
              "      <th>Hill Name</th>\n",
              "      <th>Height</th>\n",
              "      <th>Latitude</th>\n",
              "      <th>Longitude</th>\n",
              "    </tr>\n",
              "  </thead>\n",
              "  <tbody>\n",
              "    <tr>\n",
              "      <th>0</th>\n",
              "      <td>Ben Nevis</td>\n",
              "      <td>1345</td>\n",
              "      <td>56.796850</td>\n",
              "      <td>-5.003508</td>\n",
              "    </tr>\n",
              "    <tr>\n",
              "      <th>1</th>\n",
              "      <td>Ben Macdui</td>\n",
              "      <td>1309</td>\n",
              "      <td>57.070453</td>\n",
              "      <td>-3.668262</td>\n",
              "    </tr>\n",
              "    <tr>\n",
              "      <th>2</th>\n",
              "      <td>Braeriach</td>\n",
              "      <td>1296</td>\n",
              "      <td>57.078628</td>\n",
              "      <td>-3.728024</td>\n",
              "    </tr>\n",
              "  </tbody>\n",
              "</table>\n",
              "</div>"
            ],
            "text/plain": [
              "    Hill Name  Height   Latitude  Longitude\n",
              "0   Ben Nevis    1345  56.796850  -5.003508\n",
              "1  Ben Macdui    1309  57.070453  -3.668262\n",
              "2   Braeriach    1296  57.078628  -3.728024"
            ]
          },
          "metadata": {
            "tags": []
          },
          "execution_count": 18
        }
      ]
    },
    {
      "cell_type": "markdown",
      "metadata": {
        "id": "ZjjNgYm8UlDw",
        "colab_type": "text"
      },
      "source": [
        "We could also look at the last `n` rows with the `tail` method, which would give us:"
      ]
    },
    {
      "cell_type": "code",
      "metadata": {
        "id": "1UZR_6B5Z7to",
        "colab_type": "code",
        "colab": {
          "base_uri": "https://localhost:8080/",
          "height": 111
        },
        "outputId": "0c5d84f9-ce8d-4cd4-872f-776c06d97c2a"
      },
      "source": [
        "dataframe.tail(2)"
      ],
      "execution_count": 19,
      "outputs": [
        {
          "output_type": "execute_result",
          "data": {
            "text/html": [
              "<div>\n",
              "<style scoped>\n",
              "    .dataframe tbody tr th:only-of-type {\n",
              "        vertical-align: middle;\n",
              "    }\n",
              "\n",
              "    .dataframe tbody tr th {\n",
              "        vertical-align: top;\n",
              "    }\n",
              "\n",
              "    .dataframe thead th {\n",
              "        text-align: right;\n",
              "    }\n",
              "</style>\n",
              "<table border=\"1\" class=\"dataframe\">\n",
              "  <thead>\n",
              "    <tr style=\"text-align: right;\">\n",
              "      <th></th>\n",
              "      <th>Hill Name</th>\n",
              "      <th>Height</th>\n",
              "      <th>Latitude</th>\n",
              "      <th>Longitude</th>\n",
              "    </tr>\n",
              "  </thead>\n",
              "  <tbody>\n",
              "    <tr>\n",
              "      <th>3</th>\n",
              "      <td>Cairn Toul</td>\n",
              "      <td>1291</td>\n",
              "      <td>57.054611</td>\n",
              "      <td>-3.710420</td>\n",
              "    </tr>\n",
              "    <tr>\n",
              "      <th>4</th>\n",
              "      <td>Sgòr an Lochain Uaine</td>\n",
              "      <td>1258</td>\n",
              "      <td>57.057999</td>\n",
              "      <td>-3.725416</td>\n",
              "    </tr>\n",
              "  </tbody>\n",
              "</table>\n",
              "</div>"
            ],
            "text/plain": [
              "               Hill Name  Height   Latitude  Longitude\n",
              "3             Cairn Toul    1291  57.054611  -3.710420\n",
              "4  Sgòr an Lochain Uaine    1258  57.057999  -3.725416"
            ]
          },
          "metadata": {
            "tags": []
          },
          "execution_count": 19
        }
      ]
    },
    {
      "cell_type": "markdown",
      "metadata": {
        "id": "oUqxG_NKaAY1",
        "colab_type": "text"
      },
      "source": [
        "Our columns in the `dataframe` object are individual Series of data. We can access them by referring to the column name e.g. `dataframe['column-name']`. Have a go at adding these extra statements to your script, and check that you get the same output:"
      ]
    },
    {
      "cell_type": "code",
      "metadata": {
        "id": "m739t6p5aRzX",
        "colab_type": "code",
        "colab": {
          "base_uri": "https://localhost:8080/",
          "height": 119
        },
        "outputId": "df4f90c8-8c8d-4805-9fe3-7a91b8bad773"
      },
      "source": [
        "dataframe['Hill Name']"
      ],
      "execution_count": 20,
      "outputs": [
        {
          "output_type": "execute_result",
          "data": {
            "text/plain": [
              "0                Ben Nevis\n",
              "1               Ben Macdui\n",
              "2                Braeriach\n",
              "3               Cairn Toul\n",
              "4    Sgòr an Lochain Uaine\n",
              "Name: Hill Name, dtype: object"
            ]
          },
          "metadata": {
            "tags": []
          },
          "execution_count": 20
        }
      ]
    },
    {
      "cell_type": "markdown",
      "metadata": {
        "id": "p4c-2rLBaMib",
        "colab_type": "text"
      },
      "source": [
        "And:"
      ]
    },
    {
      "cell_type": "code",
      "metadata": {
        "id": "CFPuShtjbNKr",
        "colab_type": "code",
        "colab": {
          "base_uri": "https://localhost:8080/",
          "height": 119
        },
        "outputId": "6382e07b-d86a-4855-97cf-ba0b4828e5a7"
      },
      "source": [
        "dataframe['Height']"
      ],
      "execution_count": 21,
      "outputs": [
        {
          "output_type": "execute_result",
          "data": {
            "text/plain": [
              "0    1345\n",
              "1    1309\n",
              "2    1296\n",
              "3    1291\n",
              "4    1258\n",
              "Name: Height, dtype: int64"
            ]
          },
          "metadata": {
            "tags": []
          },
          "execution_count": 21
        }
      ]
    },
    {
      "cell_type": "markdown",
      "metadata": {
        "id": "TzVRqepObcKR",
        "colab_type": "text"
      },
      "source": [
        "Note that Pandas DataFrames are accessed *primarily by columns*. In a sense the row is less important to a DataFrame. For example, what do you think would happen using the following code?"
      ]
    },
    {
      "cell_type": "code",
      "metadata": {
        "id": "V_tak_oAb9jB",
        "colab_type": "code",
        "colab": {
          "base_uri": "https://localhost:8080/",
          "height": 698
        },
        "outputId": "6d74ce44-e6ab-400f-b803-fc86eb5399b2"
      },
      "source": [
        "dataframe[0]"
      ],
      "execution_count": 22,
      "outputs": [
        {
          "output_type": "error",
          "ename": "KeyError",
          "evalue": "ignored",
          "traceback": [
            "\u001b[0;31m---------------------------------------------------------------------------\u001b[0m",
            "\u001b[0;31mKeyError\u001b[0m                                  Traceback (most recent call last)",
            "\u001b[0;32m/usr/local/lib/python3.6/dist-packages/pandas/core/indexes/base.py\u001b[0m in \u001b[0;36mget_loc\u001b[0;34m(self, key, method, tolerance)\u001b[0m\n\u001b[1;32m   2645\u001b[0m             \u001b[0;32mtry\u001b[0m\u001b[0;34m:\u001b[0m\u001b[0;34m\u001b[0m\u001b[0;34m\u001b[0m\u001b[0m\n\u001b[0;32m-> 2646\u001b[0;31m                 \u001b[0;32mreturn\u001b[0m \u001b[0mself\u001b[0m\u001b[0;34m.\u001b[0m\u001b[0m_engine\u001b[0m\u001b[0;34m.\u001b[0m\u001b[0mget_loc\u001b[0m\u001b[0;34m(\u001b[0m\u001b[0mkey\u001b[0m\u001b[0;34m)\u001b[0m\u001b[0;34m\u001b[0m\u001b[0;34m\u001b[0m\u001b[0m\n\u001b[0m\u001b[1;32m   2647\u001b[0m             \u001b[0;32mexcept\u001b[0m \u001b[0mKeyError\u001b[0m\u001b[0;34m:\u001b[0m\u001b[0;34m\u001b[0m\u001b[0;34m\u001b[0m\u001b[0m\n",
            "\u001b[0;32mpandas/_libs/index.pyx\u001b[0m in \u001b[0;36mpandas._libs.index.IndexEngine.get_loc\u001b[0;34m()\u001b[0m\n",
            "\u001b[0;32mpandas/_libs/index.pyx\u001b[0m in \u001b[0;36mpandas._libs.index.IndexEngine.get_loc\u001b[0;34m()\u001b[0m\n",
            "\u001b[0;32mpandas/_libs/hashtable_class_helper.pxi\u001b[0m in \u001b[0;36mpandas._libs.hashtable.PyObjectHashTable.get_item\u001b[0;34m()\u001b[0m\n",
            "\u001b[0;32mpandas/_libs/hashtable_class_helper.pxi\u001b[0m in \u001b[0;36mpandas._libs.hashtable.PyObjectHashTable.get_item\u001b[0;34m()\u001b[0m\n",
            "\u001b[0;31mKeyError\u001b[0m: 0",
            "\nDuring handling of the above exception, another exception occurred:\n",
            "\u001b[0;31mKeyError\u001b[0m                                  Traceback (most recent call last)",
            "\u001b[0;32m<ipython-input-22-db276f7d677e>\u001b[0m in \u001b[0;36m<module>\u001b[0;34m()\u001b[0m\n\u001b[0;32m----> 1\u001b[0;31m \u001b[0mdataframe\u001b[0m\u001b[0;34m[\u001b[0m\u001b[0;36m0\u001b[0m\u001b[0;34m]\u001b[0m\u001b[0;34m\u001b[0m\u001b[0;34m\u001b[0m\u001b[0m\n\u001b[0m",
            "\u001b[0;32m/usr/local/lib/python3.6/dist-packages/pandas/core/frame.py\u001b[0m in \u001b[0;36m__getitem__\u001b[0;34m(self, key)\u001b[0m\n\u001b[1;32m   2798\u001b[0m             \u001b[0;32mif\u001b[0m \u001b[0mself\u001b[0m\u001b[0;34m.\u001b[0m\u001b[0mcolumns\u001b[0m\u001b[0;34m.\u001b[0m\u001b[0mnlevels\u001b[0m \u001b[0;34m>\u001b[0m \u001b[0;36m1\u001b[0m\u001b[0;34m:\u001b[0m\u001b[0;34m\u001b[0m\u001b[0;34m\u001b[0m\u001b[0m\n\u001b[1;32m   2799\u001b[0m                 \u001b[0;32mreturn\u001b[0m \u001b[0mself\u001b[0m\u001b[0;34m.\u001b[0m\u001b[0m_getitem_multilevel\u001b[0m\u001b[0;34m(\u001b[0m\u001b[0mkey\u001b[0m\u001b[0;34m)\u001b[0m\u001b[0;34m\u001b[0m\u001b[0;34m\u001b[0m\u001b[0m\n\u001b[0;32m-> 2800\u001b[0;31m             \u001b[0mindexer\u001b[0m \u001b[0;34m=\u001b[0m \u001b[0mself\u001b[0m\u001b[0;34m.\u001b[0m\u001b[0mcolumns\u001b[0m\u001b[0;34m.\u001b[0m\u001b[0mget_loc\u001b[0m\u001b[0;34m(\u001b[0m\u001b[0mkey\u001b[0m\u001b[0;34m)\u001b[0m\u001b[0;34m\u001b[0m\u001b[0;34m\u001b[0m\u001b[0m\n\u001b[0m\u001b[1;32m   2801\u001b[0m             \u001b[0;32mif\u001b[0m \u001b[0mis_integer\u001b[0m\u001b[0;34m(\u001b[0m\u001b[0mindexer\u001b[0m\u001b[0;34m)\u001b[0m\u001b[0;34m:\u001b[0m\u001b[0;34m\u001b[0m\u001b[0;34m\u001b[0m\u001b[0m\n\u001b[1;32m   2802\u001b[0m                 \u001b[0mindexer\u001b[0m \u001b[0;34m=\u001b[0m \u001b[0;34m[\u001b[0m\u001b[0mindexer\u001b[0m\u001b[0;34m]\u001b[0m\u001b[0;34m\u001b[0m\u001b[0;34m\u001b[0m\u001b[0m\n",
            "\u001b[0;32m/usr/local/lib/python3.6/dist-packages/pandas/core/indexes/base.py\u001b[0m in \u001b[0;36mget_loc\u001b[0;34m(self, key, method, tolerance)\u001b[0m\n\u001b[1;32m   2646\u001b[0m                 \u001b[0;32mreturn\u001b[0m \u001b[0mself\u001b[0m\u001b[0;34m.\u001b[0m\u001b[0m_engine\u001b[0m\u001b[0;34m.\u001b[0m\u001b[0mget_loc\u001b[0m\u001b[0;34m(\u001b[0m\u001b[0mkey\u001b[0m\u001b[0;34m)\u001b[0m\u001b[0;34m\u001b[0m\u001b[0;34m\u001b[0m\u001b[0m\n\u001b[1;32m   2647\u001b[0m             \u001b[0;32mexcept\u001b[0m \u001b[0mKeyError\u001b[0m\u001b[0;34m:\u001b[0m\u001b[0;34m\u001b[0m\u001b[0;34m\u001b[0m\u001b[0m\n\u001b[0;32m-> 2648\u001b[0;31m                 \u001b[0;32mreturn\u001b[0m \u001b[0mself\u001b[0m\u001b[0;34m.\u001b[0m\u001b[0m_engine\u001b[0m\u001b[0;34m.\u001b[0m\u001b[0mget_loc\u001b[0m\u001b[0;34m(\u001b[0m\u001b[0mself\u001b[0m\u001b[0;34m.\u001b[0m\u001b[0m_maybe_cast_indexer\u001b[0m\u001b[0;34m(\u001b[0m\u001b[0mkey\u001b[0m\u001b[0;34m)\u001b[0m\u001b[0;34m)\u001b[0m\u001b[0;34m\u001b[0m\u001b[0;34m\u001b[0m\u001b[0m\n\u001b[0m\u001b[1;32m   2649\u001b[0m         \u001b[0mindexer\u001b[0m \u001b[0;34m=\u001b[0m \u001b[0mself\u001b[0m\u001b[0;34m.\u001b[0m\u001b[0mget_indexer\u001b[0m\u001b[0;34m(\u001b[0m\u001b[0;34m[\u001b[0m\u001b[0mkey\u001b[0m\u001b[0;34m]\u001b[0m\u001b[0;34m,\u001b[0m \u001b[0mmethod\u001b[0m\u001b[0;34m=\u001b[0m\u001b[0mmethod\u001b[0m\u001b[0;34m,\u001b[0m \u001b[0mtolerance\u001b[0m\u001b[0;34m=\u001b[0m\u001b[0mtolerance\u001b[0m\u001b[0;34m)\u001b[0m\u001b[0;34m\u001b[0m\u001b[0;34m\u001b[0m\u001b[0m\n\u001b[1;32m   2650\u001b[0m         \u001b[0;32mif\u001b[0m \u001b[0mindexer\u001b[0m\u001b[0;34m.\u001b[0m\u001b[0mndim\u001b[0m \u001b[0;34m>\u001b[0m \u001b[0;36m1\u001b[0m \u001b[0;32mor\u001b[0m \u001b[0mindexer\u001b[0m\u001b[0;34m.\u001b[0m\u001b[0msize\u001b[0m \u001b[0;34m>\u001b[0m \u001b[0;36m1\u001b[0m\u001b[0;34m:\u001b[0m\u001b[0;34m\u001b[0m\u001b[0;34m\u001b[0m\u001b[0m\n",
            "\u001b[0;32mpandas/_libs/index.pyx\u001b[0m in \u001b[0;36mpandas._libs.index.IndexEngine.get_loc\u001b[0;34m()\u001b[0m\n",
            "\u001b[0;32mpandas/_libs/index.pyx\u001b[0m in \u001b[0;36mpandas._libs.index.IndexEngine.get_loc\u001b[0;34m()\u001b[0m\n",
            "\u001b[0;32mpandas/_libs/hashtable_class_helper.pxi\u001b[0m in \u001b[0;36mpandas._libs.hashtable.PyObjectHashTable.get_item\u001b[0;34m()\u001b[0m\n",
            "\u001b[0;32mpandas/_libs/hashtable_class_helper.pxi\u001b[0m in \u001b[0;36mpandas._libs.hashtable.PyObjectHashTable.get_item\u001b[0;34m()\u001b[0m\n",
            "\u001b[0;31mKeyError\u001b[0m: 0"
          ]
        }
      ]
    },
    {
      "cell_type": "markdown",
      "metadata": {
        "id": "y2-825CEcUX4",
        "colab_type": "text"
      },
      "source": [
        "Ouch! That’s a lot of error messages… **The columns cannot be accessed by their index number in this way**, you must use the column name. You may have thought that this might return the row index instead, but we have to use a different method to get the row:"
      ]
    },
    {
      "cell_type": "code",
      "metadata": {
        "id": "21Cwbf8kcdoP",
        "colab_type": "code",
        "colab": {
          "base_uri": "https://localhost:8080/",
          "height": 102
        },
        "outputId": "f17ea0c3-2e14-42a2-92d1-46bb1ef21d8e"
      },
      "source": [
        "dataframe.iloc[0]"
      ],
      "execution_count": 23,
      "outputs": [
        {
          "output_type": "execute_result",
          "data": {
            "text/plain": [
              "Hill Name    Ben Nevis\n",
              "Height            1345\n",
              "Latitude       56.7968\n",
              "Longitude     -5.00351\n",
              "Name: 0, dtype: object"
            ]
          },
          "metadata": {
            "tags": []
          },
          "execution_count": 23
        }
      ]
    },
    {
      "cell_type": "markdown",
      "metadata": {
        "id": "FoAafv6EdvGa",
        "colab_type": "text"
      },
      "source": [
        "The `iloc` method gives us access to the DataFrame in more traditional ‘matrix’ style notation, i.e. `[row, column]` notation. So if we wanted to get the height of Ben Nevis specifically, we could do:"
      ]
    },
    {
      "cell_type": "code",
      "metadata": {
        "id": "42fpj6XReCWB",
        "colab_type": "code",
        "colab": {
          "base_uri": "https://localhost:8080/",
          "height": 35
        },
        "outputId": "96bf6c59-6ea6-46b8-d2cd-1d54f366d50f"
      },
      "source": [
        "dataframe.iloc[0,0]"
      ],
      "execution_count": 24,
      "outputs": [
        {
          "output_type": "execute_result",
          "data": {
            "application/vnd.google.colaboratory.intrinsic": {
              "type": "string"
            },
            "text/plain": [
              "'Ben Nevis'"
            ]
          },
          "metadata": {
            "tags": []
          },
          "execution_count": 24
        }
      ]
    },
    {
      "cell_type": "markdown",
      "metadata": {
        "id": "P-XxQPyfch2q",
        "colab_type": "text"
      },
      "source": [
        "A way to remeber this is that `iloc` is short for “integer location”. But if we cannot count on the 0th column always being \"Hill Name\", we can explicitly \n",
        "reference the \"Hill Name\" column using the `.loc` method. "
      ]
    },
    {
      "cell_type": "code",
      "metadata": {
        "id": "n6z8-2xBejan",
        "colab_type": "code",
        "colab": {
          "base_uri": "https://localhost:8080/",
          "height": 35
        },
        "outputId": "31665a4e-f1f5-4b80-9035-0a8824d90288"
      },
      "source": [
        "dataframe.loc[0, 'Hill Name']"
      ],
      "execution_count": 25,
      "outputs": [
        {
          "output_type": "execute_result",
          "data": {
            "application/vnd.google.colaboratory.intrinsic": {
              "type": "string"
            },
            "text/plain": [
              "'Ben Nevis'"
            ]
          },
          "metadata": {
            "tags": []
          },
          "execution_count": 25
        }
      ]
    },
    {
      "cell_type": "markdown",
      "metadata": {
        "id": "v9zd_HiNfnaK",
        "colab_type": "text"
      },
      "source": [
        "#5. Learn how to filter data in a Pandas DataFrame\n",
        "\n",
        "We can also apply conditions to the data we are inspecting, such as to filter our data."
      ]
    },
    {
      "cell_type": "code",
      "metadata": {
        "id": "ZjUskZuEfsNd",
        "colab_type": "code",
        "colab": {
          "base_uri": "https://localhost:8080/",
          "height": 119
        },
        "outputId": "328e2c05-7df0-49a4-c012-144aca5f1920"
      },
      "source": [
        "dataframe[\"Height\"] > 1300"
      ],
      "execution_count": 26,
      "outputs": [
        {
          "output_type": "execute_result",
          "data": {
            "text/plain": [
              "0     True\n",
              "1     True\n",
              "2    False\n",
              "3    False\n",
              "4    False\n",
              "Name: Height, dtype: bool"
            ]
          },
          "metadata": {
            "tags": []
          },
          "execution_count": 26
        }
      ]
    },
    {
      "cell_type": "markdown",
      "metadata": {
        "id": "Ju2Atx1ifzyW",
        "colab_type": "text"
      },
      "source": [
        "This returns a new Series of True/False values though. To actually filter the data, we need to use this Series to mask our original DataFrame:"
      ]
    },
    {
      "cell_type": "code",
      "metadata": {
        "id": "R8gqi8M_fyYd",
        "colab_type": "code",
        "colab": {
          "base_uri": "https://localhost:8080/",
          "height": 111
        },
        "outputId": "7b7d7c1f-dbd4-4aa1-c748-a5e1a93dbb01"
      },
      "source": [
        "dataframe[dataframe[\"Height\"] > 1300]"
      ],
      "execution_count": 27,
      "outputs": [
        {
          "output_type": "execute_result",
          "data": {
            "text/html": [
              "<div>\n",
              "<style scoped>\n",
              "    .dataframe tbody tr th:only-of-type {\n",
              "        vertical-align: middle;\n",
              "    }\n",
              "\n",
              "    .dataframe tbody tr th {\n",
              "        vertical-align: top;\n",
              "    }\n",
              "\n",
              "    .dataframe thead th {\n",
              "        text-align: right;\n",
              "    }\n",
              "</style>\n",
              "<table border=\"1\" class=\"dataframe\">\n",
              "  <thead>\n",
              "    <tr style=\"text-align: right;\">\n",
              "      <th></th>\n",
              "      <th>Hill Name</th>\n",
              "      <th>Height</th>\n",
              "      <th>Latitude</th>\n",
              "      <th>Longitude</th>\n",
              "    </tr>\n",
              "  </thead>\n",
              "  <tbody>\n",
              "    <tr>\n",
              "      <th>0</th>\n",
              "      <td>Ben Nevis</td>\n",
              "      <td>1345</td>\n",
              "      <td>56.796850</td>\n",
              "      <td>-5.003508</td>\n",
              "    </tr>\n",
              "    <tr>\n",
              "      <th>1</th>\n",
              "      <td>Ben Macdui</td>\n",
              "      <td>1309</td>\n",
              "      <td>57.070453</td>\n",
              "      <td>-3.668262</td>\n",
              "    </tr>\n",
              "  </tbody>\n",
              "</table>\n",
              "</div>"
            ],
            "text/plain": [
              "    Hill Name  Height   Latitude  Longitude\n",
              "0   Ben Nevis    1345  56.796850  -5.003508\n",
              "1  Ben Macdui    1309  57.070453  -3.668262"
            ]
          },
          "metadata": {
            "tags": []
          },
          "execution_count": 27
        }
      ]
    },
    {
      "cell_type": "markdown",
      "metadata": {
        "id": "qXBvO2WtgAsR",
        "colab_type": "text"
      },
      "source": [
        "##Learn how to append data to an existing DataFrame\n",
        "\n",
        "We can also append data to the DataFrame. This is done using the following syntax:"
      ]
    },
    {
      "cell_type": "code",
      "metadata": {
        "id": "AA4vDz1if70p",
        "colab_type": "code",
        "colab": {}
      },
      "source": [
        "dataframe['Region'] = ['Grampian', 'Cairngorm', 'Cairngorm', 'Cairngorm', 'Cairngorm']"
      ],
      "execution_count": 28,
      "outputs": []
    },
    {
      "cell_type": "markdown",
      "metadata": {
        "id": "XOojOc53gQd_",
        "colab_type": "text"
      },
      "source": [
        "Using the original script, try adding this line to the end of the script to append the Regions data and then printing the DataFrame again. *If you are following the tutorial by building up a script as you go along, it should now look like this:*"
      ]
    },
    {
      "cell_type": "code",
      "metadata": {
        "id": "KcMmrTqQge57",
        "colab_type": "code",
        "colab": {
          "base_uri": "https://localhost:8080/",
          "height": 119
        },
        "outputId": "955e22ea-5d17-4cf3-f20b-a085c74fee7a"
      },
      "source": [
        "scottish_hills = {'Hill Name': ['Ben Nevis', 'Ben Macdui', 'Braeriach', 'Cairn Toul', 'Sgòr an Lochain Uaine'],\n",
        "                  'Height': [1345, 1309, 1296, 1291, 1258],\n",
        "                  'Latitude': [56.79685, 57.070453, 57.078628, 57.054611, 57.057999],\n",
        "                  'Longitude': [-5.003508, -3.668262, -3.728024, -3.71042, -3.725416]}\n",
        "\n",
        "dataframe = pd.DataFrame(scottish_hills, columns=['Hill Name', 'Height', 'Latitude', 'Longitude'])\n",
        "dataframe['Region'] = ['Grampian', 'Cairngorm', 'Cairngorm', 'Cairngorm', 'Cairngorm']\n",
        "print(dataframe)"
      ],
      "execution_count": 29,
      "outputs": [
        {
          "output_type": "stream",
          "text": [
            "               Hill Name  Height   Latitude  Longitude     Region\n",
            "0              Ben Nevis    1345  56.796850  -5.003508   Grampian\n",
            "1             Ben Macdui    1309  57.070453  -3.668262  Cairngorm\n",
            "2              Braeriach    1296  57.078628  -3.728024  Cairngorm\n",
            "3             Cairn Toul    1291  57.054611  -3.710420  Cairngorm\n",
            "4  Sgòr an Lochain Uaine    1258  57.057999  -3.725416  Cairngorm\n"
          ],
          "name": "stdout"
        }
      ]
    },
    {
      "cell_type": "markdown",
      "metadata": {
        "id": "1xmKDDgxggT2",
        "colab_type": "text"
      },
      "source": [
        "#6. Learn how to read data from a file using Pandas\n",
        "\n",
        "So far we have only created data in Python itself, but Pandas has built in tools for reading data from a variety of external data formats, including Excel spreadsheets, raw text and `.csv` files. It can also interface with databases such as MySQL, but we are not going to cover databases in this tutorial.\n",
        "\n",
        "We’ve provided the `scottish_hills.csv` file [in this Github repository](https://github.com/ourcodingclub/CC-python-pandas-matplotlib). The file contains all the mountains above 3000 feet (about 914 metres) in Scotland. We can load this easily into a DataFrame with the `read_csv` function.\n",
        "\n",
        "If you are writing a complete script to follow the tutorial, create a new file and enter:"
      ]
    },
    {
      "cell_type": "code",
      "metadata": {
        "id": "9bHjHgL8hOel",
        "colab_type": "code",
        "colab": {
          "base_uri": "https://localhost:8080/",
          "height": 359
        },
        "outputId": "cfb7fa7a-427b-478d-a492-6b322a86f6b5"
      },
      "source": [
        "dataframe = pd.read_csv(\"scottish_hills.csv\")\n",
        "dataframe.head(10)"
      ],
      "execution_count": 30,
      "outputs": [
        {
          "output_type": "execute_result",
          "data": {
            "text/html": [
              "<div>\n",
              "<style scoped>\n",
              "    .dataframe tbody tr th:only-of-type {\n",
              "        vertical-align: middle;\n",
              "    }\n",
              "\n",
              "    .dataframe tbody tr th {\n",
              "        vertical-align: top;\n",
              "    }\n",
              "\n",
              "    .dataframe thead th {\n",
              "        text-align: right;\n",
              "    }\n",
              "</style>\n",
              "<table border=\"1\" class=\"dataframe\">\n",
              "  <thead>\n",
              "    <tr style=\"text-align: right;\">\n",
              "      <th></th>\n",
              "      <th>Hill Name</th>\n",
              "      <th>Height</th>\n",
              "      <th>Latitude</th>\n",
              "      <th>Longitude</th>\n",
              "      <th>Osgrid</th>\n",
              "    </tr>\n",
              "  </thead>\n",
              "  <tbody>\n",
              "    <tr>\n",
              "      <th>0</th>\n",
              "      <td>A' Bhuidheanach Bheag</td>\n",
              "      <td>936.0</td>\n",
              "      <td>56.870342</td>\n",
              "      <td>-4.199001</td>\n",
              "      <td>NN660775</td>\n",
              "    </tr>\n",
              "    <tr>\n",
              "      <th>1</th>\n",
              "      <td>A' Chailleach</td>\n",
              "      <td>997.0</td>\n",
              "      <td>57.693800</td>\n",
              "      <td>-5.128715</td>\n",
              "      <td>NH136714</td>\n",
              "    </tr>\n",
              "    <tr>\n",
              "      <th>2</th>\n",
              "      <td>A' Chailleach</td>\n",
              "      <td>929.2</td>\n",
              "      <td>57.109564</td>\n",
              "      <td>-4.179285</td>\n",
              "      <td>NH681041</td>\n",
              "    </tr>\n",
              "    <tr>\n",
              "      <th>3</th>\n",
              "      <td>A' Chraileag (A' Chralaig)</td>\n",
              "      <td>1120.0</td>\n",
              "      <td>57.184186</td>\n",
              "      <td>-5.154837</td>\n",
              "      <td>NH094147</td>\n",
              "    </tr>\n",
              "    <tr>\n",
              "      <th>4</th>\n",
              "      <td>A' Ghlas-bheinn</td>\n",
              "      <td>918.0</td>\n",
              "      <td>57.255090</td>\n",
              "      <td>-5.303687</td>\n",
              "      <td>NH008231</td>\n",
              "    </tr>\n",
              "    <tr>\n",
              "      <th>5</th>\n",
              "      <td>A' Mhaighdean</td>\n",
              "      <td>967.0</td>\n",
              "      <td>57.719644</td>\n",
              "      <td>-5.346720</td>\n",
              "      <td>NH007749</td>\n",
              "    </tr>\n",
              "    <tr>\n",
              "      <th>6</th>\n",
              "      <td>A' Mharconaich</td>\n",
              "      <td>973.2</td>\n",
              "      <td>56.857002</td>\n",
              "      <td>-4.290668</td>\n",
              "      <td>NN604762</td>\n",
              "    </tr>\n",
              "    <tr>\n",
              "      <th>7</th>\n",
              "      <td>Am Basteir</td>\n",
              "      <td>934.0</td>\n",
              "      <td>57.247931</td>\n",
              "      <td>-6.202982</td>\n",
              "      <td>NG465253</td>\n",
              "    </tr>\n",
              "    <tr>\n",
              "      <th>8</th>\n",
              "      <td>Am Bodach</td>\n",
              "      <td>1031.8</td>\n",
              "      <td>56.741727</td>\n",
              "      <td>-4.983393</td>\n",
              "      <td>NN176650</td>\n",
              "    </tr>\n",
              "    <tr>\n",
              "      <th>9</th>\n",
              "      <td>Am Faochagach</td>\n",
              "      <td>953.0</td>\n",
              "      <td>57.771801</td>\n",
              "      <td>-4.853899</td>\n",
              "      <td>NH303793</td>\n",
              "    </tr>\n",
              "  </tbody>\n",
              "</table>\n",
              "</div>"
            ],
            "text/plain": [
              "                    Hill Name  Height   Latitude  Longitude    Osgrid\n",
              "0       A' Bhuidheanach Bheag   936.0  56.870342  -4.199001  NN660775\n",
              "1               A' Chailleach   997.0  57.693800  -5.128715  NH136714\n",
              "2               A' Chailleach   929.2  57.109564  -4.179285  NH681041\n",
              "3  A' Chraileag (A' Chralaig)  1120.0  57.184186  -5.154837  NH094147\n",
              "4             A' Ghlas-bheinn   918.0  57.255090  -5.303687  NH008231\n",
              "5               A' Mhaighdean   967.0  57.719644  -5.346720  NH007749\n",
              "6              A' Mharconaich   973.2  56.857002  -4.290668  NN604762\n",
              "7                  Am Basteir   934.0  57.247931  -6.202982  NG465253\n",
              "8                   Am Bodach  1031.8  56.741727  -4.983393  NN176650\n",
              "9               Am Faochagach   953.0  57.771801  -4.853899  NH303793"
            ]
          },
          "metadata": {
            "tags": []
          },
          "execution_count": 30
        }
      ]
    },
    {
      "cell_type": "markdown",
      "metadata": {
        "id": "5e9n7BXBhXTX",
        "colab_type": "text"
      },
      "source": [
        "We’ve used the `head()` function to give us only the first 10 items in the DataFrame, and avoid printing all 282 hills out to screen…\n",
        "\n",
        "It looks like this table contains the hills in alphabetical order. It would be nice to see them in order of height. We can sort the DataFrame using the `sort_values` method. You can add the following lines to your script:"
      ]
    },
    {
      "cell_type": "code",
      "metadata": {
        "id": "ReDXKdNIhgrd",
        "colab_type": "code",
        "colab": {
          "base_uri": "https://localhost:8080/",
          "height": 204
        },
        "outputId": "27d5cb95-4920-4723-85a1-b81d315e2ac7"
      },
      "source": [
        "sorted_hills_dataframe = dataframe.sort_values(by=['Height'], ascending=False)\n",
        "\n",
        "# Let's have a look at the top 5 to check\n",
        "sorted_hills_dataframe.head(5)"
      ],
      "execution_count": 31,
      "outputs": [
        {
          "output_type": "execute_result",
          "data": {
            "text/html": [
              "<div>\n",
              "<style scoped>\n",
              "    .dataframe tbody tr th:only-of-type {\n",
              "        vertical-align: middle;\n",
              "    }\n",
              "\n",
              "    .dataframe tbody tr th {\n",
              "        vertical-align: top;\n",
              "    }\n",
              "\n",
              "    .dataframe thead th {\n",
              "        text-align: right;\n",
              "    }\n",
              "</style>\n",
              "<table border=\"1\" class=\"dataframe\">\n",
              "  <thead>\n",
              "    <tr style=\"text-align: right;\">\n",
              "      <th></th>\n",
              "      <th>Hill Name</th>\n",
              "      <th>Height</th>\n",
              "      <th>Latitude</th>\n",
              "      <th>Longitude</th>\n",
              "      <th>Osgrid</th>\n",
              "    </tr>\n",
              "  </thead>\n",
              "  <tbody>\n",
              "    <tr>\n",
              "      <th>92</th>\n",
              "      <td>Ben Nevis</td>\n",
              "      <td>1344.5</td>\n",
              "      <td>56.796891</td>\n",
              "      <td>-5.003675</td>\n",
              "      <td>NN166712</td>\n",
              "    </tr>\n",
              "    <tr>\n",
              "      <th>88</th>\n",
              "      <td>Ben Macdui (Beinn Macduibh)</td>\n",
              "      <td>1309.0</td>\n",
              "      <td>57.070368</td>\n",
              "      <td>-3.669099</td>\n",
              "      <td>NN988989</td>\n",
              "    </tr>\n",
              "    <tr>\n",
              "      <th>104</th>\n",
              "      <td>Braeriach</td>\n",
              "      <td>1296.0</td>\n",
              "      <td>57.078298</td>\n",
              "      <td>-3.728389</td>\n",
              "      <td>NN953999</td>\n",
              "    </tr>\n",
              "    <tr>\n",
              "      <th>115</th>\n",
              "      <td>Cairn Toul</td>\n",
              "      <td>1291.0</td>\n",
              "      <td>57.054397</td>\n",
              "      <td>-3.710773</td>\n",
              "      <td>NN963972</td>\n",
              "    </tr>\n",
              "    <tr>\n",
              "      <th>212</th>\n",
              "      <td>Sgor an Lochain Uaine</td>\n",
              "      <td>1258.0</td>\n",
              "      <td>57.058369</td>\n",
              "      <td>-3.725797</td>\n",
              "      <td>NN954976</td>\n",
              "    </tr>\n",
              "  </tbody>\n",
              "</table>\n",
              "</div>"
            ],
            "text/plain": [
              "                       Hill Name  Height   Latitude  Longitude    Osgrid\n",
              "92                     Ben Nevis  1344.5  56.796891  -5.003675  NN166712\n",
              "88   Ben Macdui (Beinn Macduibh)  1309.0  57.070368  -3.669099  NN988989\n",
              "104                    Braeriach  1296.0  57.078298  -3.728389  NN953999\n",
              "115                   Cairn Toul  1291.0  57.054397  -3.710773  NN963972\n",
              "212        Sgor an Lochain Uaine  1258.0  57.058369  -3.725797  NN954976"
            ]
          },
          "metadata": {
            "tags": []
          },
          "execution_count": 31
        }
      ]
    },
    {
      "cell_type": "markdown",
      "metadata": {
        "id": "U1kCvwEmhkxD",
        "colab_type": "text"
      },
      "source": [
        "We now have our hills sorted by height. Note how we’ve used the `by=['Height']` argument to specify that we want to sort by height, and then the `ascending=False` argument to get the heights sorted in descending order, from highest to lowest."
      ]
    },
    {
      "cell_type": "markdown",
      "metadata": {
        "id": "d9W-AlBJhzkb",
        "colab_type": "text"
      },
      "source": [
        "#7. Understand the basics of the Matplotlib plotting package (Review)\n",
        "\n",
        "`matplotlib` is a Python package used for data plotting and visualisation. It is a useful complement to Pandas, and like Pandas, is a very feature-rich library which can produce a large variety of plots, charts, maps, and other visualisations. It would be impossible to cover the entirety of Matplotlib in one tutorial, so this section is really to give you a flavour of the capabilities of Matplotlib, and to cover some of the basics, as well as a couple of more interesting ‘advanced’ features.\n",
        "\n",
        "If you have a bit of basic Python knowledge already, the common route to learning Matplotib is to find examples of plots similar to ones you are trying to create and walk through them, trying to reproduce them with your own data perhaps. A great starting point is the [Matplotlib gallery of examples](https://matplotlib.org/gallery.html). I recommend this because in practice it is difficult to cover each and every plot type, as the needs of scientists differ considerably depending on the type of data they are working with or the message they are trying to convey in their visualisation. You might also find it useful to refer to the [Matplotlib official documentation](https://matplotlib.org/api/pyplot_api.html) as you go along.\n",
        "\n",
        "\n",
        "##Matplotlib conventions\n",
        "\n",
        "Like Pandas, Matplotlib has a few conventions that you will see in the examples, and in resources on other websites such as StackOverflow. Typically, if we are going to work on some plotting, we would import `matplotlib` like this:"
      ]
    },
    {
      "cell_type": "code",
      "metadata": {
        "id": "V6kG0YwUh5pD",
        "colab_type": "code",
        "colab": {}
      },
      "source": [
        "import matplotlib.pyplot as plt"
      ],
      "execution_count": 32,
      "outputs": []
    },
    {
      "cell_type": "markdown",
      "metadata": {
        "id": "adLOt-Zwiepc",
        "colab_type": "text"
      },
      "source": [
        "And thereafter, we could access the most commonly used features of Matplotlib with `plt` as shorthand. Note that this `import` statement is at the *submodule* level. We are not importing the full `matplotlib` module, but a subset of it called `pyplot`. Pyplot contains the most useful features of Matplotlib with an interface that makes interactive-style plotting easier. Submodule imports have the form `import module.submodule` and you will see them used in other Python libraries too sometimes.\n",
        "\n",
        "##Matplotlib basics\n",
        "\n",
        "We’re going to use the Scottish hill data from the Pandas section of the tutorial, so if you need to set this up again, the script should look like this to begin with:"
      ]
    },
    {
      "cell_type": "markdown",
      "metadata": {
        "id": "MQA6bfcOi6f3",
        "colab_type": "text"
      },
      "source": [
        "Let’s have a look at the relationship between two varibles in our Scottish hills data. Suppose I have a hypothesis that the height of Scottish hill increases with latitude northwards. Were going to plot height against latitude. To save typing later on, we can extract the Series for “Height” and “Latitude” by assigning each to a new variable, `x` and `y`, respectively."
      ]
    },
    {
      "cell_type": "markdown",
      "metadata": {
        "id": "_DXqP9L6jGM7",
        "colab_type": "text"
      },
      "source": [
        "(This saves us having to type `dataframe.Height` etc. every time)"
      ]
    },
    {
      "cell_type": "code",
      "metadata": {
        "id": "r1PGk9lpjck6",
        "colab_type": "code",
        "colab": {
          "base_uri": "https://localhost:8080/",
          "height": 284
        },
        "outputId": "4ed4e90f-d0b4-4a08-d856-3a09fce89df5"
      },
      "source": [
        "import pandas as pd\n",
        "import matplotlib.pyplot as plt\n",
        "\n",
        "dataframe = pd.read_csv(\"scottish_hills.csv\")\n",
        "x = dataframe[\"Height\"]\n",
        "y = dataframe[\"Latitude\"]\n",
        "\n",
        "# pythonic style (preferred)\n",
        "fig = plt.figure()\n",
        "ax = fig.add_subplot(1, 1, 1)\n",
        "ax.scatter(x, y)"
      ],
      "execution_count": 33,
      "outputs": [
        {
          "output_type": "execute_result",
          "data": {
            "text/plain": [
              "<matplotlib.collections.PathCollection at 0x7f4f4eb7a7b8>"
            ]
          },
          "metadata": {
            "tags": []
          },
          "execution_count": 33
        },
        {
          "output_type": "display_data",
          "data": {
            "image/png": "[encoded data removed]",
            "text/plain": [
              "<Figure size 432x288 with 1 Axes>"
            ]
          },
          "metadata": {
            "tags": [],
            "needs_background": "light"
          }
        }
      ]
    },
    {
      "cell_type": "code",
      "metadata": {
        "id": "25a4KeW4cTlA",
        "colab_type": "code",
        "colab": {
          "base_uri": "https://localhost:8080/",
          "height": 284
        },
        "outputId": "58fabd72-0d27-4e79-a58c-e5bf0532bb01"
      },
      "source": [
        "# matlab style (not preferred)\n",
        "plt.scatter(x, y)"
      ],
      "execution_count": 34,
      "outputs": [
        {
          "output_type": "execute_result",
          "data": {
            "text/plain": [
              "<matplotlib.collections.PathCollection at 0x7f4f4eb0dc18>"
            ]
          },
          "metadata": {
            "tags": []
          },
          "execution_count": 34
        },
        {
          "output_type": "display_data",
          "data": {
            "image/png": "[encoded data removed]",
            "text/plain": [
              "<Figure size 432x288 with 1 Axes>"
            ]
          },
          "metadata": {
            "tags": [],
            "needs_background": "light"
          }
        }
      ]
    },
    {
      "cell_type": "markdown",
      "metadata": {
        "id": "TdmqHSMzefhe",
        "colab_type": "text"
      },
      "source": [
        "We demonstrated two styles of plotting with matplotlib: \"pythonic\" and \"matlab\".\n",
        "While the pythonic style is more verbose (i.e., more lines of code), it gives you more control over your plotting in case you needed to add another subplot (axis) to your figure. The matlab style does not have a straightforward method to create and modify several subplots (axes).\n",
        "\n",
        "The matlab style was created back in 2003 when matlab was still the dominant programming language."
      ]
    },
    {
      "cell_type": "markdown",
      "metadata": {
        "id": "B0A-jkKxj1u2",
        "colab_type": "text"
      },
      "source": [
        "#8. Learn how to bring together other Python libraries with Matplotlib\n",
        "\n",
        "Now we are going to do some basic statistics so we can plot a line of linear regression on our chart. I’m a software engineer, not a statistician, so this will be pretty basic…\n",
        "\n",
        "Let’s plot a linear regression through the data. Python has a library called `scipy` that contains a lot of statistics routines. We can import it by adding to the top of our script:"
      ]
    },
    {
      "cell_type": "code",
      "metadata": {
        "id": "LWH8ID21j8YK",
        "colab_type": "code",
        "colab": {}
      },
      "source": [
        "from scipy.stats import linregress"
      ],
      "execution_count": 35,
      "outputs": []
    },
    {
      "cell_type": "markdown",
      "metadata": {
        "id": "TzXLN7WOkAIY",
        "colab_type": "text"
      },
      "source": [
        "Then at the bottom of our script, we are going to get statistics for the linear regression by using a function called `linregress` by adding the following line. Don’t worry, we will go through below how all of this works. These are the lines you need to add to the end of your script:"
      ]
    },
    {
      "cell_type": "code",
      "metadata": {
        "id": "xkTHxeJ3kHb8",
        "colab_type": "code",
        "colab": {}
      },
      "source": [
        "stats = linregress(x, y)\n",
        "\n",
        "m = stats.slope\n",
        "b = stats.intercept"
      ],
      "execution_count": 36,
      "outputs": []
    },
    {
      "cell_type": "markdown",
      "metadata": {
        "id": "KlqnV7xckKvv",
        "colab_type": "text"
      },
      "source": [
        "Let’s pause and recap what we’ve done here before plotting the regression.\n",
        "\n",
        "1.    We used an `import` statement with a slightly different format here: `from module.submodule import function`. This is a handy way of importing just a single function from a Python module. In this case we only want to use the `linregress` function in SciPy’s `stats` submodule, so we can just import it without anything else using that syntax.\n",
        "2.    Next we are assigning the results of `linregress` to variable called `stats`.\n",
        "3.    The `linregress` function is slightly different to the functions we’ve seen so far, because it returns an object with multiple values. In fact it returns the `slope`, `intercept`, `rvalue`, `pvalue`, and `stderr` (standard error). We can get hold of each of these values by using the dot notation: e.g. `stats.slope`, for example, much in the same way we can access our DataFrame attributes with `dataframe.Height`.\n",
        "4.    For ease of typing later, we’ve assigned the `stats.slope` to a variable `m`, and `stats.intercept` to a variable `b`.\n",
        "\n",
        "The equation for the straight line that describes linear regression is `y = mx + b`, where `m` is the slope and `b` is the intercept.\n",
        "\n",
        "Therefore, we can then plot the line of linear regression by adding the following line:"
      ]
    },
    {
      "cell_type": "code",
      "metadata": {
        "id": "2YaxzfTRl6bV",
        "colab_type": "code",
        "colab": {
          "base_uri": "https://localhost:8080/",
          "height": 282
        },
        "outputId": "895ed584-e4ed-43cd-fd16-3500198da209"
      },
      "source": [
        "# pythonic style (preferred)\n",
        "fig = plt.figure()\n",
        "ax = fig.add_subplot(1, 1, 1)\n",
        "ax.plot(x, m * x + b) # The equation of the straight line."
      ],
      "execution_count": 37,
      "outputs": [
        {
          "output_type": "execute_result",
          "data": {
            "text/plain": [
              "[<matplotlib.lines.Line2D at 0x7f4f451b3a58>]"
            ]
          },
          "metadata": {
            "tags": []
          },
          "execution_count": 37
        },
        {
          "output_type": "display_data",
          "data": {
            "image/png": "[encoded data removed]",
            "text/plain": [
              "<Figure size 432x288 with 1 Axes>"
            ]
          },
          "metadata": {
            "tags": [],
            "needs_background": "light"
          }
        }
      ]
    },
    {
      "cell_type": "code",
      "metadata": {
        "id": "cNkzFseudj9O",
        "colab_type": "code",
        "colab": {
          "base_uri": "https://localhost:8080/",
          "height": 282
        },
        "outputId": "3c4386ba-71bc-4833-9120-b8d979bf4c6b"
      },
      "source": [
        "# matlab style\n",
        "plt.plot(x, m * x + b)  # The equation of the straight line."
      ],
      "execution_count": 38,
      "outputs": [
        {
          "output_type": "execute_result",
          "data": {
            "text/plain": [
              "[<matplotlib.lines.Line2D at 0x7f4f43b47278>]"
            ]
          },
          "metadata": {
            "tags": []
          },
          "execution_count": 38
        },
        {
          "output_type": "display_data",
          "data": {
            "image/png": "[encoded data removed]",
            "text/plain": [
              "<Figure size 432x288 with 1 Axes>"
            ]
          },
          "metadata": {
            "tags": [],
            "needs_background": "light"
          }
        }
      ]
    },
    {
      "cell_type": "markdown",
      "metadata": {
        "id": "P5HrDjGol9iN",
        "colab_type": "text"
      },
      "source": [
        "That’s a lot of new Python, so let’s review what the final script should look like:"
      ]
    },
    {
      "cell_type": "code",
      "metadata": {
        "id": "WWeJu2V0mAqR",
        "colab_type": "code",
        "colab": {
          "base_uri": "https://localhost:8080/",
          "height": 284
        },
        "outputId": "a6dbdb45-1f38-4258-ea78-fafb990399c4"
      },
      "source": [
        "import pandas as pd\n",
        "import matplotlib.pyplot as plt\n",
        "from scipy.stats import linregress\n",
        "\n",
        "dataframe = pd.read_csv(\"scottish_hills.csv\")\n",
        "\n",
        "x = dataframe.Height\n",
        "y = dataframe.Latitude\n",
        "\n",
        "stats = linregress(x, y)\n",
        "\n",
        "m = stats.slope\n",
        "b = stats.intercept\n",
        "\n",
        "fig = plt.figure()\n",
        "ax = fig.add_subplot(1, 1, 1)\n",
        "ax.scatter(x, y)\n",
        "ax.plot(x, m * x + b, color=\"red\")   # I've added a color argument here"
      ],
      "execution_count": 39,
      "outputs": [
        {
          "output_type": "execute_result",
          "data": {
            "text/plain": [
              "[<matplotlib.lines.Line2D at 0x7f4f43b2a7f0>]"
            ]
          },
          "metadata": {
            "tags": []
          },
          "execution_count": 39
        },
        {
          "output_type": "display_data",
          "data": {
            "image/png": "[encoded data removed]",
            "text/plain": [
              "<Figure size 432x288 with 1 Axes>"
            ]
          },
          "metadata": {
            "tags": [],
            "needs_background": "light"
          }
        }
      ]
    },
    {
      "cell_type": "markdown",
      "metadata": {
        "id": "1mkZgNvHpFqm",
        "colab_type": "text"
      },
      "source": [
        "#9. Learn how to customise Matplotlib plots further\n",
        "\n",
        "Matplotlib figures are highly customisable, and there are so many options it is usually best to consult the [documentation first](https://matplotlib.org/tutorials/index.html). In addition, the [Matplotlib official pyplot tutorial is quite useful](https://matplotlib.org/users/pyplot_tutorial.html). To get started on Matplotlib plot customisation, here is an extended version of the above which sets the font sizes, axes lables, linewidths, and marker types:\n",
        "\n",
        "Again, the best way to learn the features of Matplotlib is by example, so try to modify your script above with some of the extra arguments added below, such as `fontsize`, `linewidth`, `color`, etc. Have a go at adding your own values, and producing nicer looking plots. Here’s my example to start you off:"
      ]
    },
    {
      "cell_type": "code",
      "metadata": {
        "id": "dTwst_r2o3ph",
        "colab_type": "code",
        "colab": {
          "base_uri": "https://localhost:8080/",
          "height": 624
        },
        "outputId": "0e9460db-3f73-4a52-bd03-081793a41c9c"
      },
      "source": [
        "import pandas as pd\n",
        "import matplotlib.pyplot as plt\n",
        "from scipy.stats import linregress\n",
        "\n",
        "dataframe = pd.read_csv(\"scottish_hills.csv\")\n",
        "\n",
        "x = dataframe.Height\n",
        "y = dataframe.Latitude\n",
        "\n",
        "stats = linregress(x, y)\n",
        "\n",
        "m = stats.slope\n",
        "b = stats.intercept\n",
        "\n",
        "\n",
        "# Change the default figure size\n",
        "fig = plt.figure(figsize=(10,10))\n",
        "\n",
        "# create a subplot (axis)\n",
        "ax = fig.add_subplot(1, 1, 1)\n",
        "\n",
        "# Change the default marker for the scatter from circles to x's\n",
        "ax.scatter(x, y, marker='x')\n",
        "\n",
        "# Set the linewidth on the regression line to 3px\n",
        "ax.plot(x, m * x + b, color=\"red\", linewidth=3)\n",
        "\n",
        "# Add x and y lables, and set their font size\n",
        "ax.set_xlabel(\"Height (m)\", fontsize=20)\n",
        "ax.set_ylabel(\"Latitude\", fontsize=20)\n",
        "\n",
        "# Set the font size of the number lables on the axes\n",
        "ax.tick_params(labelsize=18)\n"
      ],
      "execution_count": 40,
      "outputs": [
        {
          "output_type": "display_data",
          "data": {
            "image/png": "[encoded data removed]",
            "text/plain": [
              "<Figure size 720x720 with 1 Axes>"
            ]
          },
          "metadata": {
            "tags": [],
            "needs_background": "light"
          }
        }
      ]
    },
    {
      "cell_type": "markdown",
      "metadata": {
        "id": "5qFtJ_KJpz0m",
        "colab_type": "text"
      },
      "source": [
        "#Summary\n",
        "\n",
        "In this tutorial we have covered the various ways in which we can use Pandas, Matplotlib, and a few other Python libraries to start doing data analysis.\n",
        "\n",
        "#Tutorial outcomes\n",
        "\n",
        "1.    Understood what the Pandas library does\n",
        "2.    Understood the basic Pandas data structures and how to manipulate them.\n",
        "3.    Understood the basics of the Matplotlib plotting package\n",
        "4.    Learnt how to bring use additional packages to enhance your plots\n"
      ]
    }
  ]
}