{
  "nbformat": 4,
  "nbformat_minor": 0,
  "metadata": {
    "colab": {
      "name": "02-analyzing-patient-data.ipynb",
      "provenance": []
    },
    "kernelspec": {
      "name": "python3",
      "display_name": "Python 3"
    }
  },
  "cells": [
    {
      "cell_type": "code",
      "metadata": {
        "id": "0AfQUg5fXYj1",
        "colab_type": "code",
        "colab": {}
      },
      "source": [
        "# setup\n",
        "!wget https://swcarpentry.github.io/python-novice-inflammation/data/python-novice-inflammation-data.zip\n",
        "!wget https://swcarpentry.github.io/python-novice-inflammation/code/python-novice-inflammation-code.zip\n",
        "\n",
        "!unzip -jn python-novice-inflammation-data.zip\n",
        "!unzip -jn python-novice-inflammation-code.zip"
      ],
      "execution_count": 0,
      "outputs": []
    },
    {
      "cell_type": "markdown",
      "metadata": {
        "id": "N82nzua2YNIF",
        "colab_type": "text"
      },
      "source": [
        "# Analyzing Patient Data\n",
        "Words are useful, but what’s more useful are the sentences and stories we build with them. Similarly, while a lot of powerful, general tools are built into Python, specialized tools built up from these basic units live in [libraries](https://swcarpentry.github.io/python-novice-inflammation/reference/#library) that can be called upon when needed."
      ]
    },
    {
      "cell_type": "markdown",
      "metadata": {
        "id": "GarCiltxYW26",
        "colab_type": "text"
      },
      "source": [
        "## Loading data into Python\n",
        "\n",
        "To begin processing inflammation data, we need to load it into Python. We can do that using a library called [NumPy](https://numpy.org/doc/stable/), which stands for Numerical Python. In general, you should use this library when you want to do fancy things with lots of numbers, especially if you have matrices or arrays. To tell Python that we’d like to start using NumPy, we need to [import](https://swcarpentry.github.io/python-novice-inflammation/reference/#import) it:\n",
        "\n"
      ]
    },
    {
      "cell_type": "code",
      "metadata": {
        "id": "QH_cAZVEXu-Y",
        "colab_type": "code",
        "colab": {}
      },
      "source": [
        "import numpy"
      ],
      "execution_count": 0,
      "outputs": []
    },
    {
      "cell_type": "markdown",
      "metadata": {
        "id": "X6R_H3_5YiMa",
        "colab_type": "text"
      },
      "source": [
        "Importing a library is like getting a piece of lab equipment out of a storage locker and setting it up on the bench. Libraries provide additional functionality to the basic Python package, much like a new piece of equipment adds functionality to a lab space. Just like in the lab, importing too many libraries can sometimes complicate and slow down your programs - so we only import what we need for each program.\n",
        "\n",
        "Once we’ve imported the library, we can ask the library to read our data file for us:"
      ]
    },
    {
      "cell_type": "code",
      "metadata": {
        "id": "jNuMCEJEYdUj",
        "colab_type": "code",
        "outputId": "c8e73d91-c66c-409e-a453-eec3290c42b5",
        "colab": {
          "base_uri": "https://localhost:8080/",
          "height": 136
        }
      },
      "source": [
        "numpy.loadtxt(fname='inflammation-01.csv', delimiter=',')"
      ],
      "execution_count": 0,
      "outputs": [
        {
          "output_type": "execute_result",
          "data": {
            "text/plain": [
              "array([[0., 0., 1., ..., 3., 0., 0.],\n",
              "       [0., 1., 2., ..., 1., 0., 1.],\n",
              "       [0., 1., 1., ..., 2., 1., 1.],\n",
              "       ...,\n",
              "       [0., 1., 1., ..., 1., 1., 1.],\n",
              "       [0., 0., 0., ..., 0., 2., 0.],\n",
              "       [0., 0., 1., ..., 1., 1., 0.]])"
            ]
          },
          "metadata": {
            "tags": []
          },
          "execution_count": 17
        }
      ]
    },
    {
      "cell_type": "markdown",
      "metadata": {
        "id": "2SB0IzDcYg59",
        "colab_type": "text"
      },
      "source": [
        "The expression `numpy.loadtxt(...)` is a [function call](https://swcarpentry.github.io/python-novice-inflammation/reference/#function-call) that asks Python to run the [function](https://swcarpentry.github.io/python-novice-inflammation/reference/#function) `loadtxt` which belongs to the `numpy` library. This [dotted notation](https://swcarpentry.github.io/python-novice-inflammation/reference/#dotted-notation) is used everywhere in Python: the thing that appears before the dot contains the thing that appears after.\n",
        "\n",
        "As an example, John Smith is the John that belongs to the Smith family. We could use the dot notation to write his name `smith.john`, just as `loadtxt` is a function that belongs to the `numpy` library.\n",
        "\n",
        "`numpy.loadtxt` has two [parameters](https://swcarpentry.github.io/python-novice-inflammation/reference/#parameter): the name of the file we want to read and the delimiter that separates values on a line. These both need to be character strings (or [strings](https://swcarpentry.github.io/python-novice-inflammation/reference/#string) for short), so we put them in quotes.\n",
        "\n",
        "Since we haven’t told it to do anything else with the function’s output, the [notebook](https://swcarpentry.github.io/python-novice-inflammation/reference/#delimiter) displays it. In this case, that output is the data we just loaded. By default, only a few rows and columns are shown (with `...` to omit elements when displaying big arrays). Note that, to save space when displaying NumPy arrays, Python does not show us trailing zeros, so `1.0` becomes `1.`."
      ]
    },
    {
      "cell_type": "markdown",
      "metadata": {
        "id": "jaU_Xhc3ZBpN",
        "colab_type": "text"
      },
      "source": [
        "### Importing libraries with shortcuts\n",
        "\n",
        "n this lesson we use the `import numpy` syntax to import NumPy. However, shortcuts such as `import numpy as np` are frequently used. Importing NumPy this way means that after the inital import, rather than writing `numpy.loadtxt(...)`, you can now write `np.loadtxt(...)`. Some people prefer this as it is quicker to type and results in shorter lines of code - especially for libraries with long names! You will frequently see Python code online using a NumPy function with `np`, and it’s because they’ve used this shortcut. It makes no difference which approach you choose to take, but you must be consistent as if you use import numpy as np then `numpy.loadtxt(...)` will not work, and you must use `np.loadtxt(...)` instead. Because of this, when working with other people it is important you agree on how libraries are imported."
      ]
    },
    {
      "cell_type": "markdown",
      "metadata": {
        "id": "wqv191HDZVR0",
        "colab_type": "text"
      },
      "source": [
        "Our call to `numpy.loadtxt` read our file but didn’t save the data in memory. To do that, we need to assign the array to a variable. In a similar manner to how we assign a single value to a variable, we can also assign an array of values to a variable using the same syntax. Let’s re-run `numpy.loadtxt` and save the returned data:\n",
        "\n"
      ]
    },
    {
      "cell_type": "code",
      "metadata": {
        "id": "FuBhEJUtY9y0",
        "colab_type": "code",
        "colab": {}
      },
      "source": [
        "data = numpy.loadtxt(fname='inflammation-01.csv', delimiter=',')"
      ],
      "execution_count": 0,
      "outputs": []
    },
    {
      "cell_type": "markdown",
      "metadata": {
        "id": "hBkHBomhZc4P",
        "colab_type": "text"
      },
      "source": [
        "This statement doesn’t produce any output because we’ve assigned the output to the variable `data`. If we want to check that the data have been loaded, we can print the variable’s value:"
      ]
    },
    {
      "cell_type": "code",
      "metadata": {
        "id": "hccl2yhWZa1v",
        "colab_type": "code",
        "outputId": "0fd5386e-7657-4aef-ed48-51f92d93c344",
        "colab": {
          "base_uri": "https://localhost:8080/",
          "height": 136
        }
      },
      "source": [
        "print(data)"
      ],
      "execution_count": 0,
      "outputs": [
        {
          "output_type": "stream",
          "text": [
            "[[0. 0. 1. ... 3. 0. 0.]\n",
            " [0. 1. 2. ... 1. 0. 1.]\n",
            " [0. 1. 1. ... 2. 1. 1.]\n",
            " ...\n",
            " [0. 1. 1. ... 1. 1. 1.]\n",
            " [0. 0. 0. ... 0. 2. 0.]\n",
            " [0. 0. 1. ... 1. 1. 0.]]\n"
          ],
          "name": "stdout"
        }
      ]
    },
    {
      "cell_type": "markdown",
      "metadata": {
        "id": "PIR_KzcnZjMd",
        "colab_type": "text"
      },
      "source": [
        "Now that the data are in memory, we can manipulate them. First, let’s ask what [type](https://swcarpentry.github.io/python-novice-inflammation/reference/#type) of thing `data` refers to:"
      ]
    },
    {
      "cell_type": "code",
      "metadata": {
        "id": "w-56t7bQZg43",
        "colab_type": "code",
        "outputId": "3bb2d682-be5c-4513-832d-1bbefdf13a9a",
        "colab": {
          "base_uri": "https://localhost:8080/",
          "height": 34
        }
      },
      "source": [
        "print(type(data))"
      ],
      "execution_count": 0,
      "outputs": [
        {
          "output_type": "stream",
          "text": [
            "<class 'numpy.ndarray'>\n"
          ],
          "name": "stdout"
        }
      ]
    },
    {
      "cell_type": "markdown",
      "metadata": {
        "id": "l2H4KoHZZo7Q",
        "colab_type": "text"
      },
      "source": [
        "The output tells us that `data` currently refers to an N-dimensional array, the functionality for which is provided by the NumPy library. These data correspond to arthritis patients’ inflammation. The rows are the individual patients, and the columns are their daily inflammation measurements."
      ]
    },
    {
      "cell_type": "markdown",
      "metadata": {
        "id": "xRE1GcM2ZuWl",
        "colab_type": "text"
      },
      "source": [
        "### Data Type\n",
        "\n",
        "A Numpy array contains one or more elements of the same type. The `type` function will only tell you that a variable is a NumPy array but won’t tell you the type of thing inside the array. We can find out the type of the data contained in the NumPy array."
      ]
    },
    {
      "cell_type": "code",
      "metadata": {
        "id": "Z_WDNO5yZm0a",
        "colab_type": "code",
        "outputId": "b59cf8bb-a692-486f-bbdf-287c0cb4c002",
        "colab": {
          "base_uri": "https://localhost:8080/",
          "height": 34
        }
      },
      "source": [
        "print(data.dtype)"
      ],
      "execution_count": 0,
      "outputs": [
        {
          "output_type": "stream",
          "text": [
            "float64\n"
          ],
          "name": "stdout"
        }
      ]
    },
    {
      "cell_type": "markdown",
      "metadata": {
        "id": "w1yLvKvdZ2-g",
        "colab_type": "text"
      },
      "source": [
        "This tells us that the NumPy array’s elements are [floating-point numbers](https://swcarpentry.github.io/python-novice-inflammation/reference/#floating-point%20number)."
      ]
    },
    {
      "cell_type": "markdown",
      "metadata": {
        "id": "Q3RJMewKZ44y",
        "colab_type": "text"
      },
      "source": [
        "With the following command, we can see the array’s [shape](https://swcarpentry.github.io/python-novice-inflammation/reference/#shape):"
      ]
    },
    {
      "cell_type": "code",
      "metadata": {
        "id": "fnCD03IMZ05_",
        "colab_type": "code",
        "outputId": "ab3560a7-26c9-4481-98d1-36324b55678b",
        "colab": {
          "base_uri": "https://localhost:8080/",
          "height": 34
        }
      },
      "source": [
        "print(data.shape)"
      ],
      "execution_count": 0,
      "outputs": [
        {
          "output_type": "stream",
          "text": [
            "(60, 40)\n"
          ],
          "name": "stdout"
        }
      ]
    },
    {
      "cell_type": "markdown",
      "metadata": {
        "id": "zq_XmK32Z8qk",
        "colab_type": "text"
      },
      "source": [
        "The output tells us that the `data` array variable contains 60 rows and 40 columns. When we created the variable `data` to store our arthritis data, we did not only create the array; we also created information about the array, called members or attributes. This extra information describes `data` in the same way an adjective describes a noun. `data.shape` is an attribute of `data` which describes the dimensions of `data`. We use the same dotted notation for the attributes of variables that we use for the functions in libraries because they have the same part-and-whole relationship.\n",
        "\n",
        "If we want to get a single number from the array, we must provide an index in square brackets after the variable name, just as we do in math when referring to an element of a matrix. Our inflammation data has two dimensions, so we will need to use two indices to refer to one specific value:"
      ]
    },
    {
      "cell_type": "code",
      "metadata": {
        "id": "6N9oWWbkZ63t",
        "colab_type": "code",
        "outputId": "216e5be8-7d73-49ad-9579-8cee929a025b",
        "colab": {
          "base_uri": "https://localhost:8080/",
          "height": 34
        }
      },
      "source": [
        "print('first value in data:', data[0, 0])"
      ],
      "execution_count": 0,
      "outputs": [
        {
          "output_type": "stream",
          "text": [
            "first value in data: 0.0\n"
          ],
          "name": "stdout"
        }
      ]
    },
    {
      "cell_type": "code",
      "metadata": {
        "id": "MglwhJLhaJ3Y",
        "colab_type": "code",
        "outputId": "27c9b82d-cede-444f-b7ed-faee68309e98",
        "colab": {
          "base_uri": "https://localhost:8080/",
          "height": 34
        }
      },
      "source": [
        "print('middle value in data:', data[30, 20])\n"
      ],
      "execution_count": 0,
      "outputs": [
        {
          "output_type": "stream",
          "text": [
            "middle value in data: 13.0\n"
          ],
          "name": "stdout"
        }
      ]
    },
    {
      "cell_type": "markdown",
      "metadata": {
        "id": "LjbwrE3LaNZw",
        "colab_type": "text"
      },
      "source": [
        "The expression `data[30, 20]` accesses the element at row 30, column 20. While this expression may not surprise you, `data[0, 0]` might. Programming languages like Fortran, MATLAB and R start counting at 1 because that’s what human beings have done for thousands of years. Languages in the C family (including C++, Java, Perl, and Python) count from 0 because it represents an offset from the first value in the array (the second value is offset by one index from the first value). This is closer to the way that computers represent arrays (if you are interested in the historical reasons behind counting indices from zero, you can read Mike Hoye’s blog post). As a result, if we have an M×N array in Python, its indices go from 0 to M-1 on the first axis and 0 to N-1 on the second. It takes a bit of getting used to, but one way to remember the rule is that the index is how many steps we have to take from the start to get the item we want.\n",
        "\n",
        "![](https://swcarpentry.github.io/python-novice-inflammation/fig/python-zero-index.png)"
      ]
    },
    {
      "cell_type": "markdown",
      "metadata": {
        "id": "IHQQp8llaSeR",
        "colab_type": "text"
      },
      "source": [
        "### In the Corner\n",
        "\n",
        "What may also surprise you is that when Python displays an array, it shows the element with index `[0, 0]` in the upper left corner rather than the lower left. This is consistent with the way mathematicians draw matrices but different from the Cartesian coordinates. The indices are (row, column) instead of (column, row) for the same reason, which can be confusing when plotting data."
      ]
    },
    {
      "cell_type": "markdown",
      "metadata": {
        "id": "0xsvDEjyaaRI",
        "colab_type": "text"
      },
      "source": [
        "## Slicing data\n",
        "\n",
        "An index like `[30, 20]` selects a single element of an array, but we can select whole sections as well. For example, we can select the first ten days (columns) of values for the first four patients (rows) like this:"
      ]
    },
    {
      "cell_type": "code",
      "metadata": {
        "id": "EsL7NRPNaLNT",
        "colab_type": "code",
        "outputId": "066ac0ae-5a89-45e9-8615-efbbbcc081a4",
        "colab": {
          "base_uri": "https://localhost:8080/",
          "height": 85
        }
      },
      "source": [
        "print(data[0:4, 0:10])"
      ],
      "execution_count": 0,
      "outputs": [
        {
          "output_type": "stream",
          "text": [
            "[[0. 0. 1. 3. 1. 2. 4. 7. 8. 3.]\n",
            " [0. 1. 2. 1. 2. 1. 3. 2. 2. 6.]\n",
            " [0. 1. 1. 3. 3. 2. 6. 2. 5. 9.]\n",
            " [0. 0. 2. 0. 4. 2. 2. 1. 6. 7.]]\n"
          ],
          "name": "stdout"
        }
      ]
    },
    {
      "cell_type": "markdown",
      "metadata": {
        "id": "MvDkfF0baiut",
        "colab_type": "text"
      },
      "source": [
        "The [slice](https://swcarpentry.github.io/python-novice-inflammation/reference/#slice) `0:4` means, “Start at index 0 and go up to, but not including, index 4.”Again, the up-to-but-not-including takes a bit of getting used to, but the rule is that the difference between the upper and lower bounds is the number of values in the slice.\n",
        "\n",
        "We don’t have to start slices at 0:"
      ]
    },
    {
      "cell_type": "code",
      "metadata": {
        "id": "1KGJvTlCagA9",
        "colab_type": "code",
        "outputId": "0604dd9b-8da0-4f91-ccf2-29c3bd1a4e0c",
        "colab": {
          "base_uri": "https://localhost:8080/",
          "height": 102
        }
      },
      "source": [
        "print(data[5:10, 0:10])"
      ],
      "execution_count": 0,
      "outputs": [
        {
          "output_type": "stream",
          "text": [
            "[[0. 0. 1. 2. 2. 4. 2. 1. 6. 4.]\n",
            " [0. 0. 2. 2. 4. 2. 2. 5. 5. 8.]\n",
            " [0. 0. 1. 2. 3. 1. 2. 3. 5. 3.]\n",
            " [0. 0. 0. 3. 1. 5. 6. 5. 5. 8.]\n",
            " [0. 1. 1. 2. 1. 3. 5. 3. 5. 8.]]\n"
          ],
          "name": "stdout"
        }
      ]
    },
    {
      "cell_type": "markdown",
      "metadata": {
        "id": "Wbr4McA8apR7",
        "colab_type": "text"
      },
      "source": [
        "We also don’t have to include the upper and lower bound on the slice. If we don’t include the lower bound, Python uses 0 by default; if we don’t include the upper, the slice runs to the end of the axis, and if we don’t include either (i.e., if we use ‘:’ on its own), the slice includes everything:"
      ]
    },
    {
      "cell_type": "code",
      "metadata": {
        "id": "b621rI_7am5q",
        "colab_type": "code",
        "outputId": "748bbfc6-069d-4e43-f84c-3f82c02800e8",
        "colab": {
          "base_uri": "https://localhost:8080/",
          "height": 85
        }
      },
      "source": [
        "small = data[:3, 36:]\n",
        "print('small is:')\n",
        "print(small)"
      ],
      "execution_count": 0,
      "outputs": [
        {
          "output_type": "stream",
          "text": [
            "small is:\n",
            "[[2. 3. 0. 0.]\n",
            " [1. 1. 0. 1.]\n",
            " [2. 2. 1. 1.]]\n"
          ],
          "name": "stdout"
        }
      ]
    },
    {
      "cell_type": "markdown",
      "metadata": {
        "id": "jUP0crOLauk5",
        "colab_type": "text"
      },
      "source": [
        "The above example selects rows 0 through 2 and columns 36 through to the end of the array."
      ]
    },
    {
      "cell_type": "markdown",
      "metadata": {
        "id": "22LiUcFxaxK0",
        "colab_type": "text"
      },
      "source": [
        "## Analyzing data\n",
        "\n",
        "NumPy has several useful functions that take an array as input to perform operations on its values. If we want to find the average inflammation for all patients on all days, for example, we can ask NumPy to compute `data`’s mean value:"
      ]
    },
    {
      "cell_type": "code",
      "metadata": {
        "id": "VBWIFlH8astQ",
        "colab_type": "code",
        "outputId": "d6578b5e-1152-4ccc-8e5b-93280473a5ab",
        "colab": {
          "base_uri": "https://localhost:8080/",
          "height": 34
        }
      },
      "source": [
        "print(numpy.mean(data))"
      ],
      "execution_count": 0,
      "outputs": [
        {
          "output_type": "stream",
          "text": [
            "6.14875\n"
          ],
          "name": "stdout"
        }
      ]
    },
    {
      "cell_type": "markdown",
      "metadata": {
        "id": "84vonPf2a5VY",
        "colab_type": "text"
      },
      "source": [
        "`mean` is a [function](https://swcarpentry.github.io/python-novice-inflammation/reference/#function) that takes an array as an [argument](https://swcarpentry.github.io/python-novice-inflammation/reference/#argument)."
      ]
    },
    {
      "cell_type": "markdown",
      "metadata": {
        "id": "foFI0VQia8sc",
        "colab_type": "text"
      },
      "source": [
        "### Not All Functions Have Input\n",
        "\n",
        "Generally, a function uses inputs to produce outputs. However, some functions produce outputs without needing any input. For example, checking the current time doesn’t require any input."
      ]
    },
    {
      "cell_type": "code",
      "metadata": {
        "id": "QjHucGuva3c6",
        "colab_type": "code",
        "outputId": "273fbe2e-0e75-470a-e9d2-764f808814b8",
        "colab": {
          "base_uri": "https://localhost:8080/",
          "height": 34
        }
      },
      "source": [
        "import time\n",
        "print(time.ctime())"
      ],
      "execution_count": 0,
      "outputs": [
        {
          "output_type": "stream",
          "text": [
            "Sat May  2 17:25:37 2020\n"
          ],
          "name": "stdout"
        }
      ]
    },
    {
      "cell_type": "markdown",
      "metadata": {
        "id": "yJT_cA9xbC2w",
        "colab_type": "text"
      },
      "source": [
        "For functions that don’t take in any arguments, we still need parentheses (`()`) to tell Python to go and do something for us."
      ]
    },
    {
      "cell_type": "markdown",
      "metadata": {
        "id": "f-BfZ4pebGnq",
        "colab_type": "text"
      },
      "source": [
        "Let’s use three other NumPy functions to get some descriptive values about the dataset. We’ll also use multiple assignment, a convenient Python feature that will enable us to do this all in one line.\n",
        "\n"
      ]
    },
    {
      "cell_type": "code",
      "metadata": {
        "id": "jJNod80PbArD",
        "colab_type": "code",
        "outputId": "fb33c3e2-793f-4eb4-85c7-21e7f19036c6",
        "colab": {
          "base_uri": "https://localhost:8080/",
          "height": 68
        }
      },
      "source": [
        "maxval, minval, stdval = numpy.max(data), numpy.min(data), numpy.std(data)\n",
        "\n",
        "print('maximum inflammation:', maxval)\n",
        "print('minimum inflammation:', minval)\n",
        "print('standard deviation:', stdval)"
      ],
      "execution_count": 0,
      "outputs": [
        {
          "output_type": "stream",
          "text": [
            "maximum inflammation: 20.0\n",
            "minimum inflammation: 0.0\n",
            "standard deviation: 4.613833197118566\n"
          ],
          "name": "stdout"
        }
      ]
    },
    {
      "cell_type": "markdown",
      "metadata": {
        "id": "xec61YeYbNTH",
        "colab_type": "text"
      },
      "source": [
        "Here we’ve assigned the return value from `numpy.max(data)` to the variable `maxval`, the value from `numpy.min(data)` to `minval`, and so on."
      ]
    },
    {
      "cell_type": "markdown",
      "metadata": {
        "id": "vyMs34N-bUhV",
        "colab_type": "text"
      },
      "source": [
        "### Mystery Functions in IPython\n",
        "\n",
        "How did we know what functions NumPy has and how to use them? If you are working in IPython or in a Jupyter Notebook, there is an easy way to find out. If you type the name of something followed by a dot, then you can use tab completion (e.g. type `numpy`. and then press tab) to see a list of all functions and attributes that you can use. After selecting one, you can also add a question mark (e.g. `numpy.cumprod?`), and IPython will return an explanation of the method! This is the same as doing `help(numpy.cumprod)`. Similarly, if you are using the “plain vanilla” Python interpreter, you can type `numpy`. and press the Tab key twice for a listing of what is available. You can then use the `help()` function to see an explanation of the function you’re interested in, for example: `help(numpy.cumprod)`."
      ]
    },
    {
      "cell_type": "markdown",
      "metadata": {
        "id": "mWetSUdqbk1e",
        "colab_type": "text"
      },
      "source": [
        "When analyzing data, though, we often want to look at variations in statistical values, such as the maximum inflammation per patient or the average inflammation per day. One way to do this is to create a new temporary array of the data we want, then ask it to do the calculation:"
      ]
    },
    {
      "cell_type": "code",
      "metadata": {
        "id": "Z-fjRuZXbKqr",
        "colab_type": "code",
        "outputId": "00fdafa0-205a-4e5c-d33b-4d0415616ace",
        "colab": {
          "base_uri": "https://localhost:8080/",
          "height": 34
        }
      },
      "source": [
        "patient_0 = data[0, :] # 0 on the first axis (rows), everything on the second (columns)\n",
        "print('maximum inflammation for patient 0:', numpy.max(patient_0))"
      ],
      "execution_count": 0,
      "outputs": [
        {
          "output_type": "stream",
          "text": [
            "maximum inflammation for patient 0: 18.0\n"
          ],
          "name": "stdout"
        }
      ]
    },
    {
      "cell_type": "markdown",
      "metadata": {
        "id": "jW80Z9MYbpUo",
        "colab_type": "text"
      },
      "source": [
        "Everything in a line of code following the ‘#’ symbol is a [comment](https://swcarpentry.github.io/python-novice-inflammation/reference/#comment) that is ignored by Python. Comments allow programmers to leave explanatory notes for other programmers or their future selves.\n",
        "\n",
        "We don’t actually need to store the row in a variable of its own. Instead, we can combine the selection and the function call:"
      ]
    },
    {
      "cell_type": "code",
      "metadata": {
        "id": "W4qamku4bnmT",
        "colab_type": "code",
        "outputId": "5baca594-b61c-44c9-d274-674621b841d8",
        "colab": {
          "base_uri": "https://localhost:8080/",
          "height": 34
        }
      },
      "source": [
        "print('maximum inflammation for patient 2:', numpy.max(data[2, :]))"
      ],
      "execution_count": 0,
      "outputs": [
        {
          "output_type": "stream",
          "text": [
            "maximum inflammation for patient 2: 19.0\n"
          ],
          "name": "stdout"
        }
      ]
    },
    {
      "cell_type": "markdown",
      "metadata": {
        "id": "-r95K25DbsYq",
        "colab_type": "text"
      },
      "source": [
        "What if we need the maximum inflammation for each patient over all days (as in the next diagram on the left) or the average for each day (as in the diagram on the right)? As the diagram below shows, we want to perform the operation across an axis:\n",
        "\n",
        "![](https://swcarpentry.github.io/python-novice-inflammation/fig/python-operations-across-axes.png)\n",
        "\n",
        "To support this functionality, most array functions allow us to specify the axis we want to work on. If we ask for the average across axis 0 (rows in our 2D example), we get:\n",
        "\n"
      ]
    },
    {
      "cell_type": "code",
      "metadata": {
        "id": "ml9AEPaibrx1",
        "colab_type": "code",
        "outputId": "dd207617-4216-47c7-da09-fde654c6a958",
        "colab": {
          "base_uri": "https://localhost:8080/",
          "height": 136
        }
      },
      "source": [
        "print(numpy.mean(data, axis=0))"
      ],
      "execution_count": 0,
      "outputs": [
        {
          "output_type": "stream",
          "text": [
            "[ 0.          0.45        1.11666667  1.75        2.43333333  3.15\n",
            "  3.8         3.88333333  5.23333333  5.51666667  5.95        5.9\n",
            "  8.35        7.73333333  8.36666667  9.5         9.58333333 10.63333333\n",
            " 11.56666667 12.35       13.25       11.96666667 11.03333333 10.16666667\n",
            " 10.          8.66666667  9.15        7.25        7.33333333  6.58333333\n",
            "  6.06666667  5.95        5.11666667  3.6         3.3         3.56666667\n",
            "  2.48333333  1.5         1.13333333  0.56666667]\n"
          ],
          "name": "stdout"
        }
      ]
    },
    {
      "cell_type": "markdown",
      "metadata": {
        "id": "kJT2EqDOb9Zq",
        "colab_type": "text"
      },
      "source": [
        "As a quick check, we can ask this array what its shape is:"
      ]
    },
    {
      "cell_type": "code",
      "metadata": {
        "id": "y1Hlcp1xb708",
        "colab_type": "code",
        "outputId": "d20f3b9f-42fe-4f20-dd7a-b8915c99f904",
        "colab": {
          "base_uri": "https://localhost:8080/",
          "height": 34
        }
      },
      "source": [
        "print(numpy.mean(data, axis=0).shape)"
      ],
      "execution_count": 0,
      "outputs": [
        {
          "output_type": "stream",
          "text": [
            "(40,)\n"
          ],
          "name": "stdout"
        }
      ]
    },
    {
      "cell_type": "markdown",
      "metadata": {
        "id": "wMxD0Vh0cB1V",
        "colab_type": "text"
      },
      "source": [
        "The expression `(40,)` tells us we have an N×1 vector, so this is the average inflammation per day for all patients. If we average across axis 1 (columns in our 2D example), we get:\n",
        "\n"
      ]
    },
    {
      "cell_type": "code",
      "metadata": {
        "id": "5TGo_OqkcAmO",
        "colab_type": "code",
        "outputId": "a4ac4ee9-2efb-40e8-949f-956a247508fb",
        "colab": {
          "base_uri": "https://localhost:8080/",
          "height": 102
        }
      },
      "source": [
        "print(numpy.mean(data, axis=1))"
      ],
      "execution_count": 0,
      "outputs": [
        {
          "output_type": "stream",
          "text": [
            "[5.45  5.425 6.1   5.9   5.55  6.225 5.975 6.65  6.625 6.525 6.775 5.8\n",
            " 6.225 5.75  5.225 6.3   6.55  5.7   5.85  6.55  5.775 5.825 6.175 6.1\n",
            " 5.8   6.425 6.05  6.025 6.175 6.55  6.175 6.35  6.725 6.125 7.075 5.725\n",
            " 5.925 6.15  6.075 5.75  5.975 5.725 6.3   5.9   6.75  5.925 7.225 6.15\n",
            " 5.95  6.275 5.7   6.1   6.825 5.975 6.725 5.7   6.25  6.4   7.05  5.9  ]\n"
          ],
          "name": "stdout"
        }
      ]
    },
    {
      "cell_type": "markdown",
      "metadata": {
        "id": "b5mZ-BYOcJlQ",
        "colab_type": "text"
      },
      "source": [
        "which is the average inflammation per patient across all days."
      ]
    },
    {
      "cell_type": "markdown",
      "metadata": {
        "id": "RYpUASoUcLz_",
        "colab_type": "text"
      },
      "source": [
        "### Slicing Strings\n",
        "\n",
        "A section of an array is called a slice. We can take slices of character strings as well:\n",
        "\n"
      ]
    },
    {
      "cell_type": "code",
      "metadata": {
        "id": "CtRr9-YtcHor",
        "colab_type": "code",
        "outputId": "a7ba6a74-07a8-4822-8536-d826d26f79f7",
        "colab": {
          "base_uri": "https://localhost:8080/",
          "height": 51
        }
      },
      "source": [
        "element = 'oxygen'\n",
        "print('first three characters:', element[0:3])\n",
        "print('last three characters:', element[3:6])"
      ],
      "execution_count": 0,
      "outputs": [
        {
          "output_type": "stream",
          "text": [
            "first three characters: oxy\n",
            "last three characters: gen\n"
          ],
          "name": "stdout"
        }
      ]
    },
    {
      "cell_type": "markdown",
      "metadata": {
        "id": "W-mKfaQ4cUcM",
        "colab_type": "text"
      },
      "source": [
        "What is the value of `element[:4]`? What about `element[4:]`? Or `element[:]`?"
      ]
    },
    {
      "cell_type": "code",
      "metadata": {
        "id": "lESLQmFNcRhe",
        "colab_type": "code",
        "colab": {}
      },
      "source": [
        ""
      ],
      "execution_count": 0,
      "outputs": []
    },
    {
      "cell_type": "markdown",
      "metadata": {
        "id": "uGKC0qyycayp",
        "colab_type": "text"
      },
      "source": [
        "Given those answers, explain what `element[1:-1]` does."
      ]
    },
    {
      "cell_type": "code",
      "metadata": {
        "id": "dZ57DUYTcgWi",
        "colab_type": "code",
        "colab": {}
      },
      "source": [
        ""
      ],
      "execution_count": 0,
      "outputs": []
    },
    {
      "cell_type": "markdown",
      "metadata": {
        "id": "JLGMth4tchq4",
        "colab_type": "text"
      },
      "source": [
        "How can we rewrite the slice for getting the last three characters of `element`, so that it works even if we assign a different string to `element`? Test your solution with the following strings: `carpentry`, `clone`, `hi`."
      ]
    },
    {
      "cell_type": "markdown",
      "metadata": {
        "id": "ibTaGJ3Mct6O",
        "colab_type": "text"
      },
      "source": [
        "### Thin Slices\n",
        "\n",
        "The expression `element[3:3]` produces an empty string, i.e., a string that contains no characters. If `data` holds our array of patient data, what does `data[3:3, 4:4] `produce? What about `data[3:3, :]`?"
      ]
    },
    {
      "cell_type": "code",
      "metadata": {
        "id": "v_M5egFbcs_a",
        "colab_type": "code",
        "colab": {}
      },
      "source": [
        ""
      ],
      "execution_count": 0,
      "outputs": []
    },
    {
      "cell_type": "markdown",
      "metadata": {
        "id": "8CiJmWIBc3hP",
        "colab_type": "text"
      },
      "source": [
        "### Stacking Arrays\n",
        "\n",
        "Arrays can be concatenated and stacked on top of one another, using NumPy’s `vstack` and `hstack` functions for vertical and horizontal stacking, respectively.\n"
      ]
    },
    {
      "cell_type": "code",
      "metadata": {
        "id": "byMVEqRlc-V2",
        "colab_type": "code",
        "outputId": "fc37e4f1-71a6-4ba6-d70e-10824179d4f5",
        "colab": {
          "base_uri": "https://localhost:8080/",
          "height": 272
        }
      },
      "source": [
        "import numpy\n",
        "\n",
        "A = numpy.array([[1,2,3], [4,5,6], [7, 8, 9]])\n",
        "print('A = ')\n",
        "print(A)\n",
        "\n",
        "B = numpy.hstack([A, A])\n",
        "print('B = ')\n",
        "print(B)\n",
        "\n",
        "C = numpy.vstack([A, A])\n",
        "print('C = ')\n",
        "print(C)"
      ],
      "execution_count": 0,
      "outputs": [
        {
          "output_type": "stream",
          "text": [
            "A = \n",
            "[[1 2 3]\n",
            " [4 5 6]\n",
            " [7 8 9]]\n",
            "B = \n",
            "[[1 2 3 1 2 3]\n",
            " [4 5 6 4 5 6]\n",
            " [7 8 9 7 8 9]]\n",
            "C = \n",
            "[[1 2 3]\n",
            " [4 5 6]\n",
            " [7 8 9]\n",
            " [1 2 3]\n",
            " [4 5 6]\n",
            " [7 8 9]]\n"
          ],
          "name": "stdout"
        }
      ]
    },
    {
      "cell_type": "markdown",
      "metadata": {
        "id": "yYAzaviOdEA_",
        "colab_type": "text"
      },
      "source": [
        "Write some additional code that slices the first and last columns of `A`, and stacks them into a 3x2 array. Make sure to `print` the results to verify your solution."
      ]
    },
    {
      "cell_type": "markdown",
      "metadata": {
        "id": "TBAGe3NwdKHh",
        "colab_type": "text"
      },
      "source": [
        "### Change In Inflammation\n",
        "\n",
        "The patient data is longitudinal in the sense that each row represents a series of observations relating to one individual. This means that the change in inflammation over time is a meaningful concept. Let’s find out how to calculate changes in the data contained in an array with NumPy.\n",
        "\n",
        "The `numpy.diff()` function takes an array and returns the differences between two successive values. Let’s use it to examine the changes each day across the first week of patient 3 from our inflammation dataset.\n",
        "\n"
      ]
    },
    {
      "cell_type": "code",
      "metadata": {
        "id": "Sez7Icoac_l4",
        "colab_type": "code",
        "outputId": "d1e19566-87e2-4c53-f761-f25b1fbb0e49",
        "colab": {
          "base_uri": "https://localhost:8080/",
          "height": 34
        }
      },
      "source": [
        "patient3_week1 = data[3, :7]\n",
        "print(patient3_week1)"
      ],
      "execution_count": 0,
      "outputs": [
        {
          "output_type": "stream",
          "text": [
            "[0. 0. 2. 0. 4. 2. 2.]\n"
          ],
          "name": "stdout"
        }
      ]
    },
    {
      "cell_type": "markdown",
      "metadata": {
        "id": "eM990fNudV2N",
        "colab_type": "text"
      },
      "source": [
        "Calling numpy.diff(patient3_week1) would do the following calculations\n",
        "\n",
        "```\n",
        "[ 0 - 0, 2 - 0, 0 - 2, 4 - 0, 2 - 4, 2 - 2 ]\n",
        "```\n",
        "\n",
        "and return the 6 difference values in a new array."
      ]
    },
    {
      "cell_type": "code",
      "metadata": {
        "id": "z61fBU3kdRDD",
        "colab_type": "code",
        "outputId": "c2b1f84e-8c3a-48fb-fe00-aed01eb86a30",
        "colab": {
          "base_uri": "https://localhost:8080/",
          "height": 34
        }
      },
      "source": [
        "numpy.diff(patient3_week1)"
      ],
      "execution_count": 0,
      "outputs": [
        {
          "output_type": "execute_result",
          "data": {
            "text/plain": [
              "array([ 0.,  2., -2.,  4., -2.,  0.])"
            ]
          },
          "metadata": {
            "tags": []
          },
          "execution_count": 39
        }
      ]
    },
    {
      "cell_type": "markdown",
      "metadata": {
        "id": "PZhtfhtcdmFk",
        "colab_type": "text"
      },
      "source": [
        "Note that the array of differences is shorter by one element (length 6).\n",
        "\n",
        "When calling `numpy.diff` with a multi-dimensional array, an `axis` argument may be passed to the function to specify which axis to process. When applying `numpy.diff` to our 2D inflammation array `data`, which axis would we specify?"
      ]
    },
    {
      "cell_type": "code",
      "metadata": {
        "id": "TxQdkTfEdjiw",
        "colab_type": "code",
        "colab": {}
      },
      "source": [
        ""
      ],
      "execution_count": 0,
      "outputs": []
    },
    {
      "cell_type": "markdown",
      "metadata": {
        "id": "zh36c9fFdvif",
        "colab_type": "text"
      },
      "source": [
        "If the shape of an individual data file is (60, 40) (60 rows and 40 columns), what would the shape of the array be after you run the diff() function and why?"
      ]
    },
    {
      "cell_type": "code",
      "metadata": {
        "id": "RCPqUVhadw52",
        "colab_type": "code",
        "colab": {}
      },
      "source": [
        ""
      ],
      "execution_count": 0,
      "outputs": []
    },
    {
      "cell_type": "markdown",
      "metadata": {
        "id": "5XNC2MqLdygf",
        "colab_type": "text"
      },
      "source": [
        "How would you find the largest change in inflammation for each patient? Does it matter if the change in inflammation is an increase or a decrease?"
      ]
    },
    {
      "cell_type": "code",
      "metadata": {
        "id": "Y9dowY-udz83",
        "colab_type": "code",
        "colab": {}
      },
      "source": [
        ""
      ],
      "execution_count": 0,
      "outputs": []
    }
  ]
}