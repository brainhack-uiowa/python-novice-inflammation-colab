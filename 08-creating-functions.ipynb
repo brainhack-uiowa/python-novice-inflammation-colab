{
  "nbformat": 4,
  "nbformat_minor": 0,
  "metadata": {
    "kernelspec": {
      "display_name": "Python 3",
      "language": "python",
      "name": "python3"
    },
    "language_info": {
      "codemirror_mode": {
        "name": "ipython",
        "version": 3
      },
      "file_extension": ".py",
      "mimetype": "text/x-python",
      "name": "python",
      "nbconvert_exporter": "python",
      "pygments_lexer": "ipython3",
      "version": "3.7.3"
    },
    "colab": {
      "name": "08-creating-functions.ipynb",
      "provenance": []
    }
  },
  "cells": [
    {
      "cell_type": "code",
      "metadata": {
        "id": "MQhvzzGpF8Lw",
        "colab_type": "code",
        "colab": {}
      },
      "source": [
        "# setup\n",
        "!wget https://swcarpentry.github.io/python-novice-inflammation/data/python-novice-inflammation-data.zip\n",
        "!wget https://swcarpentry.github.io/python-novice-inflammation/code/python-novice-inflammation-code.zip\n",
        "\n",
        "!unzip -jn python-novice-inflammation-data.zip\n",
        "!unzip -jn python-novice-inflammation-code.zip"
      ],
      "execution_count": 0,
      "outputs": []
    },
    {
      "cell_type": "markdown",
      "metadata": {
        "id": "scS4Q7niGAKq",
        "colab_type": "text"
      },
      "source": [
        "All materials are from [Software Carpentry Lesson 8](https://swcarpentry.github.io/python-novice-inflammation/08-func/index.html)\n",
        "# Creating Functions\n",
        "At this point, we’ve written code to draw some interesting features in our inflammation data, loop over all our data files to quickly draw these plots for each of them, and have Python make decisions based on what it sees in our data. But, our code is getting pretty long and complicated; what if we had thousands of datasets, and didn’t want to generate a figure for every single one? Commenting out the figure-drawing code is a nuisance. Also, what if we want to use that code again, on a different dataset or at a different point in our program? Cutting and pasting it is going to make our code get very long and very repetitive, very quickly. We’d like a way to package our code so that it is easier to reuse, and Python provides for this by letting us define things called ‘functions’ — a shorthand way of re-executing longer pieces of code. Let’s start by defining a function `fahr_to_celsius` that converts temperatures from Fahrenheit to Celsius:"
      ]
    },
    {
      "cell_type": "code",
      "metadata": {
        "id": "JQOnDydNGpxN",
        "colab_type": "code",
        "colab": {}
      },
      "source": [
        "def fahr_to_celsius(temp):\n",
        "    return ((temp - 32) * (5/9))"
      ],
      "execution_count": 0,
      "outputs": []
    },
    {
      "cell_type": "markdown",
      "metadata": {
        "id": "GTlkr6bsHr5P",
        "colab_type": "text"
      },
      "source": [
        "![alt text](https://swcarpentry.github.io/python-novice-inflammation/fig/python-function.svg)\n",
        "\n",
        "The function definition opens with the keyword `def` followed by the name of the function (`fahr_to_celsius`) and a parenthesized list of parameter names (`temp`). The [body](https://swcarpentry.github.io/python-novice-inflammation/reference/#body) of the function — the statements that are executed when it runs — is indented below the definition line. The body concludes with a `return` keyword followed by the return value.\n",
        "\n",
        "When we call the function, the values we pass to it are assigned to those variables so that we can use them inside the function. Inside the function, we use a [return statement](https://swcarpentry.github.io/python-novice-inflammation/reference/#return-statement) to send a result back to whoever asked for it.\n",
        "\n",
        "Let’s try running our function."
      ]
    },
    {
      "cell_type": "code",
      "metadata": {
        "id": "UF6BN2YyLN1l",
        "colab_type": "code",
        "outputId": "843af8c2-fe6f-45e4-b4b7-ef7b16d803a6",
        "colab": {
          "base_uri": "https://localhost:8080/",
          "height": 34
        }
      },
      "source": [
        "fahr_to_celsius(32)"
      ],
      "execution_count": 0,
      "outputs": [
        {
          "output_type": "execute_result",
          "data": {
            "text/plain": [
              "0.0"
            ]
          },
          "metadata": {
            "tags": []
          },
          "execution_count": 3
        }
      ]
    },
    {
      "cell_type": "markdown",
      "metadata": {
        "id": "c0JtL8PBLZ8A",
        "colab_type": "text"
      },
      "source": [
        "This command should call our function, using “32” as the input and return the function value.\n",
        "\n",
        "In fact, calling our own function is no different from calling any other function:"
      ]
    },
    {
      "cell_type": "code",
      "metadata": {
        "id": "z0Y9rtYcLYFt",
        "colab_type": "code",
        "outputId": "412cf31c-c9b0-49a9-894d-52f2f5b5c6af",
        "colab": {
          "base_uri": "https://localhost:8080/",
          "height": 51
        }
      },
      "source": [
        "print('freezing point of water:', fahr_to_celsius(32), 'C')\n",
        "print('boiling point of water:', fahr_to_celsius(212), 'C')"
      ],
      "execution_count": 0,
      "outputs": [
        {
          "output_type": "stream",
          "text": [
            "freezing point of water: 0.0 C\n",
            "boiling point of water: 100.0 C\n"
          ],
          "name": "stdout"
        }
      ]
    },
    {
      "cell_type": "markdown",
      "metadata": {
        "id": "83iAexySLjYm",
        "colab_type": "text"
      },
      "source": [
        "We’ve successfully called the function that we defined, and we have access to the value that we returned."
      ]
    },
    {
      "cell_type": "markdown",
      "metadata": {
        "id": "zsQY4IBDLlNs",
        "colab_type": "text"
      },
      "source": [
        "## Composing Functions\n",
        "Now that we’ve seen how to turn Fahrenheit into Celsius, we can also write the function to turn Celsius into Kelvin:"
      ]
    },
    {
      "cell_type": "code",
      "metadata": {
        "id": "TJk4mgFBLtJL",
        "colab_type": "code",
        "outputId": "0cc2dd45-bba3-40df-f27d-c57d91e99d5e",
        "colab": {
          "base_uri": "https://localhost:8080/",
          "height": 34
        }
      },
      "source": [
        "def celsius_to_kelvin(temp_c):\n",
        "    return temp_c + 273.15\n",
        "\n",
        "print('freezing point of water in Kelvin:', celsius_to_kelvin(0))"
      ],
      "execution_count": 0,
      "outputs": [
        {
          "output_type": "stream",
          "text": [
            "freezing point of water in Kelvin: 273.15\n"
          ],
          "name": "stdout"
        }
      ]
    },
    {
      "cell_type": "markdown",
      "metadata": {
        "id": "n7FS-t1nL6v3",
        "colab_type": "text"
      },
      "source": [
        "What about converting Fahrenheit to Kelvin? We could write out the formula, but we don’t need to. Instead, we can [compose](https://swcarpentry.github.io/python-novice-inflammation/reference/#compose) the two functions we have already created:"
      ]
    },
    {
      "cell_type": "code",
      "metadata": {
        "id": "hlmc6vWRMCma",
        "colab_type": "code",
        "outputId": "c8c5e5a4-6e9f-4160-e7b0-3294412c7807",
        "colab": {
          "base_uri": "https://localhost:8080/",
          "height": 34
        }
      },
      "source": [
        "def fahr_to_kelvin(temp_f):\n",
        "    temp_c = fahr_to_celsius(temp_f)\n",
        "    temp_k = celsius_to_kelvin(temp_c)\n",
        "    return temp_k\n",
        "\n",
        "print('boiling point of water in Kelvin:', fahr_to_kelvin(212.0))"
      ],
      "execution_count": 0,
      "outputs": [
        {
          "output_type": "stream",
          "text": [
            "boiling point of water in Kelvin: 373.15\n"
          ],
          "name": "stdout"
        }
      ]
    },
    {
      "cell_type": "markdown",
      "metadata": {
        "id": "cSdZ8JTEMKU_",
        "colab_type": "text"
      },
      "source": [
        "This is our first taste of how larger programs are built: we define basic operations, then combine them in ever-larger chunks to get the effect we want. Real-life functions will usually be larger than the ones shown here — typically half a dozen to a few dozen lines — but they shouldn’t ever be much longer than that, or the next person who reads it won’t be able to understand what’s going on.\n",
        "## Tidying up\n",
        "Now that we know how to wrap bits of code up in functions, we can make our inflammation analysis easier to read and easier to reuse. First, let’s make a `visualize` function that generates our plots:"
      ]
    },
    {
      "cell_type": "code",
      "metadata": {
        "id": "AgjQOLvSMRdz",
        "colab_type": "code",
        "colab": {}
      },
      "source": [
        "def visualize(filename):\n",
        "\n",
        "    data = numpy.loadtxt(fname=filename, delimiter=',')\n",
        "\n",
        "    fig = matplotlib.pyplot.figure(figsize=(10.0, 3.0))\n",
        "\n",
        "    axes1 = fig.add_subplot(1, 3, 1)\n",
        "    axes2 = fig.add_subplot(1, 3, 2)\n",
        "    axes3 = fig.add_subplot(1, 3, 3)\n",
        "\n",
        "    axes1.set_ylabel('average')\n",
        "    axes1.plot(numpy.mean(data, axis=0))\n",
        "\n",
        "    axes2.set_ylabel('max')\n",
        "    axes2.plot(numpy.max(data, axis=0))\n",
        "\n",
        "    axes3.set_ylabel('min')\n",
        "    axes3.plot(numpy.min(data, axis=0))\n",
        "\n",
        "    fig.tight_layout()\n",
        "    matplotlib.pyplot.show()"
      ],
      "execution_count": 0,
      "outputs": []
    },
    {
      "cell_type": "markdown",
      "metadata": {
        "id": "mpNDzmFrM2zH",
        "colab_type": "text"
      },
      "source": [
        "and another function called `detect_problems` that checks for those systematics we noticed:"
      ]
    },
    {
      "cell_type": "code",
      "metadata": {
        "id": "kyc56d8PM7My",
        "colab_type": "code",
        "colab": {}
      },
      "source": [
        "def detect_problems(filename):\n",
        "\n",
        "    data = numpy.loadtxt(fname=filename, delimiter=',')\n",
        "\n",
        "    if numpy.max(data, axis=0)[0] == 0 and numpy.max(data, axis=0)[20] == 20:\n",
        "        print('Suspicious looking maxima!')\n",
        "    elif numpy.sum(numpy.min(data, axis=0)) == 0:\n",
        "        print('Minima add up to zero!')\n",
        "    else:\n",
        "        print('Seems OK!')"
      ],
      "execution_count": 0,
      "outputs": []
    },
    {
      "cell_type": "markdown",
      "metadata": {
        "id": "dmaQKSZmOK6U",
        "colab_type": "text"
      },
      "source": [
        "Wait! Didn’t we forget to specify what both of these functions should return? Well, we didn’t. In Python, functions are not required to include a `return` statement and can be used for the sole purpose of grouping together pieces of code that conceptually do one thing. In such cases, function names usually describe what they do, e.g. `visualize`, `detect_problems`.\n",
        "\n",
        "Notice that rather than jumbling this code together in one giant `for` loop, we can now read and reuse both ideas separately. We can reproduce the previous analysis with a much simpler `for` loop:"
      ]
    },
    {
      "cell_type": "code",
      "metadata": {
        "id": "EDyJt143OH2d",
        "colab_type": "code",
        "outputId": "de3eed0a-86a8-4f1b-bf12-b49f7eb4f078",
        "colab": {
          "base_uri": "https://localhost:8080/",
          "height": 743
        }
      },
      "source": [
        "import glob\n",
        "import matplotlib\n",
        "\n",
        "filenames = sorted(glob.glob('inflammation*.csv'))\n",
        "\n",
        "for filename in filenames[:3]:\n",
        "    print(filename)\n",
        "    visualize(filename)\n",
        "    detect_problems(filename)"
      ],
      "execution_count": 0,
      "outputs": [
        {
          "output_type": "stream",
          "text": [
            "inflammation-01.csv\n"
          ],
          "name": "stdout"
        },
        {
          "output_type": "display_data",
          "data": {
            "image/png": "[encoded data removed]",
            "text/plain": [
              "<Figure size 720x216 with 3 Axes>"
            ]
          },
          "metadata": {
            "tags": [],
            "needs_background": "light"
          }
        },
        {
          "output_type": "stream",
          "text": [
            "Suspicious looking maxima!\n",
            "inflammation-02.csv\n"
          ],
          "name": "stdout"
        },
        {
          "output_type": "display_data",
          "data": {
            "image/png": "[encoded data removed]",
            "text/plain": [
              "<Figure size 720x216 with 3 Axes>"
            ]
          },
          "metadata": {
            "tags": [],
            "needs_background": "light"
          }
        },
        {
          "output_type": "stream",
          "text": [
            "Suspicious looking maxima!\n",
            "inflammation-03.csv\n"
          ],
          "name": "stdout"
        },
        {
          "output_type": "display_data",
          "data": {
            "image/png": "[encoded data removed]",
            "text/plain": [
              "<Figure size 720x216 with 3 Axes>"
            ]
          },
          "metadata": {
            "tags": [],
            "needs_background": "light"
          }
        },
        {
          "output_type": "stream",
          "text": [
            "Minima add up to zero!\n"
          ],
          "name": "stdout"
        }
      ]
    },
    {
      "cell_type": "markdown",
      "metadata": {
        "id": "vnNHAe0UOkY0",
        "colab_type": "text"
      },
      "source": [
        "By giving our functions human-readable names, we can more easily read and understand what is happening in the `for` loop. Even better, if at some later date we want to use either of those pieces of code again, we can do so in a single line.\n",
        "\n",
        "## Testing and Documenting\n",
        "\n",
        "Once we start putting things in functions so that we can re-use them, we need to start testing that those functions are working correctly. To see how to do this, let’s write a function to offset a dataset so that it’s mean value shifts to a user-defined value:\n",
        "\n"
      ]
    },
    {
      "cell_type": "code",
      "metadata": {
        "id": "REjE1BydPeyD",
        "colab_type": "code",
        "colab": {}
      },
      "source": [
        "def offset_mean(data, target_mean_value):\n",
        "    return (data - numpy.mean(data)) + target_mean_value"
      ],
      "execution_count": 0,
      "outputs": []
    },
    {
      "cell_type": "markdown",
      "metadata": {
        "id": "gDqSROBGPf9z",
        "colab_type": "text"
      },
      "source": [
        "We could test this on our actual data, but since we don’t know what the values ought to be, it will be hard to tell if the result was correct. Instead, let’s use NumPy to create a matrix of 0’s and then offset its values to have a mean value of 3:\n",
        "\n"
      ]
    },
    {
      "cell_type": "code",
      "metadata": {
        "id": "QFMyMWZ9PhEK",
        "colab_type": "code",
        "outputId": "c44c8ac2-b9fd-4c55-ccee-9d94a0cd2974",
        "colab": {
          "base_uri": "https://localhost:8080/",
          "height": 51
        }
      },
      "source": [
        "import numpy\n",
        "\n",
        "z = numpy.zeros((2,2))\n",
        "print(offset_mean(z, 3))"
      ],
      "execution_count": 0,
      "outputs": [
        {
          "output_type": "stream",
          "text": [
            "[[3. 3.]\n",
            " [3. 3.]]\n"
          ],
          "name": "stdout"
        }
      ]
    },
    {
      "cell_type": "markdown",
      "metadata": {
        "id": "FIiymqRQP3Sq",
        "colab_type": "text"
      },
      "source": [
        "That looks right, so let’s try offset_mean on our real data:\n",
        "\n"
      ]
    },
    {
      "cell_type": "code",
      "metadata": {
        "id": "bmR2GAIKP1O6",
        "colab_type": "code",
        "outputId": "760976b8-e0bb-4132-d451-195ca5019414",
        "colab": {
          "base_uri": "https://localhost:8080/",
          "height": 136
        }
      },
      "source": [
        "data = numpy.loadtxt(fname='inflammation-01.csv', delimiter=',')\n",
        "print(offset_mean(data, 0))"
      ],
      "execution_count": 0,
      "outputs": [
        {
          "output_type": "stream",
          "text": [
            "[[-6.14875 -6.14875 -5.14875 ... -3.14875 -6.14875 -6.14875]\n",
            " [-6.14875 -5.14875 -4.14875 ... -5.14875 -6.14875 -5.14875]\n",
            " [-6.14875 -5.14875 -5.14875 ... -4.14875 -5.14875 -5.14875]\n",
            " ...\n",
            " [-6.14875 -5.14875 -5.14875 ... -5.14875 -5.14875 -5.14875]\n",
            " [-6.14875 -6.14875 -6.14875 ... -6.14875 -4.14875 -6.14875]\n",
            " [-6.14875 -6.14875 -5.14875 ... -5.14875 -5.14875 -6.14875]]\n"
          ],
          "name": "stdout"
        }
      ]
    },
    {
      "cell_type": "markdown",
      "metadata": {
        "id": "ga7aDvRFQlpj",
        "colab_type": "text"
      },
      "source": [
        "It’s hard to tell from the default output whether the result is correct, but there are a few tests that we can run to reassure us:"
      ]
    },
    {
      "cell_type": "code",
      "metadata": {
        "id": "XRJ1XOlfQoA1",
        "colab_type": "code",
        "outputId": "36e97f69-5bea-4f77-f511-9fe6ac32553b",
        "colab": {
          "base_uri": "https://localhost:8080/",
          "height": 51
        }
      },
      "source": [
        "print('original min, mean, and max are:', numpy.min(data), numpy.mean(data), numpy.max(data))\n",
        "offset_data = offset_mean(data, 0)\n",
        "print('min, mean, and max of offset data are:',\n",
        "      numpy.min(offset_data),\n",
        "      numpy.mean(offset_data),\n",
        "      numpy.max(offset_data))"
      ],
      "execution_count": 0,
      "outputs": [
        {
          "output_type": "stream",
          "text": [
            "original min, mean, and max are: 0.0 6.14875 20.0\n",
            "min, mean, and max of offset data are: -6.14875 2.842170943040401e-16 13.85125\n"
          ],
          "name": "stdout"
        }
      ]
    },
    {
      "cell_type": "markdown",
      "metadata": {
        "id": "T81ruDQdQrUf",
        "colab_type": "text"
      },
      "source": [
        "That seems almost right: the original mean was about 6.1, so the lower bound from zero is now about -6.1. The mean of the offset data isn’t quite zero — we’ll explore why not in the challenges — but it’s pretty close. We can even go further and check that the standard deviation hasn’t changed:"
      ]
    },
    {
      "cell_type": "code",
      "metadata": {
        "id": "7_ehdg3KQuIQ",
        "colab_type": "code",
        "outputId": "f86fef62-aa55-4a56-db76-1527bcf9d0e0",
        "colab": {
          "base_uri": "https://localhost:8080/",
          "height": 34
        }
      },
      "source": [
        "print('std dev before and after:', numpy.std(data), numpy.std(offset_data))"
      ],
      "execution_count": 0,
      "outputs": [
        {
          "output_type": "stream",
          "text": [
            "std dev before and after: 4.613833197118566 4.613833197118566\n"
          ],
          "name": "stdout"
        }
      ]
    },
    {
      "cell_type": "markdown",
      "metadata": {
        "id": "YA6UWjAEQx_9",
        "colab_type": "text"
      },
      "source": [
        "Those values look the same, but we probably wouldn’t notice if they were different in the sixth decimal place. Let’s do this instead:"
      ]
    },
    {
      "cell_type": "code",
      "metadata": {
        "id": "kC0TvS4mQwgx",
        "colab_type": "code",
        "outputId": "89c34c3f-136d-49ea-9919-65f72969547b",
        "colab": {
          "base_uri": "https://localhost:8080/",
          "height": 34
        }
      },
      "source": [
        "print('difference in standard deviations before and after:',\n",
        "      numpy.std(data) - numpy.std(offset_data))"
      ],
      "execution_count": 0,
      "outputs": [
        {
          "output_type": "stream",
          "text": [
            "difference in standard deviations before and after: 0.0\n"
          ],
          "name": "stdout"
        }
      ]
    },
    {
      "cell_type": "markdown",
      "metadata": {
        "id": "xIqMBDiGRZnc",
        "colab_type": "text"
      },
      "source": [
        "Again, the difference is very small. It’s still possible that our function is wrong, but it seems unlikely enough that we should probably get back to doing our analysis. We have one more task first, though: we should write some [documentation](https://swcarpentry.github.io/python-novice-inflammation/reference/#documentation) for our function to remind ourselves later what it’s for and how to use it.\n",
        "\n",
        "The usual way to put documentation in software is to add [comments](https://swcarpentry.github.io/python-novice-inflammation/reference/#comment) like this:"
      ]
    },
    {
      "cell_type": "code",
      "metadata": {
        "id": "rZKP5hLWRj_0",
        "colab_type": "code",
        "colab": {}
      },
      "source": [
        "# offset_mean(data, target_mean_value):\n",
        "# return a new array containing the original data with its mean offset to match the desired value.\n",
        "def offset_mean(data, target_mean_value):\n",
        "    return (data - numpy.mean(data)) + target_mean_value"
      ],
      "execution_count": 0,
      "outputs": []
    },
    {
      "cell_type": "markdown",
      "metadata": {
        "id": "X0rDbdU-RnvW",
        "colab_type": "text"
      },
      "source": [
        "There’s a better way, though. If the first thing in a function is a string that isn’t assigned to a variable, that string is attached to the function as its documentation:"
      ]
    },
    {
      "cell_type": "code",
      "metadata": {
        "id": "o7KBix9vRoic",
        "colab_type": "code",
        "colab": {}
      },
      "source": [
        "def offset_mean(data, target_mean_value):\n",
        "    '''Return a new array containing the original data\n",
        "       with its mean offset to match the desired value.'''\n",
        "    return (data - numpy.mean(data)) + target_mean_value"
      ],
      "execution_count": 0,
      "outputs": []
    },
    {
      "cell_type": "markdown",
      "metadata": {
        "id": "BkzNb8pJRsQ9",
        "colab_type": "text"
      },
      "source": [
        "This is better because we can now ask Python’s built-in help system to show us the documentation for the function:"
      ]
    },
    {
      "cell_type": "code",
      "metadata": {
        "id": "hVSBm4FsRvZg",
        "colab_type": "code",
        "outputId": "bfc251ce-fe74-444d-b82f-fdb13dc2aad3",
        "colab": {
          "base_uri": "https://localhost:8080/",
          "height": 119
        }
      },
      "source": [
        "help(offset_mean)"
      ],
      "execution_count": 0,
      "outputs": [
        {
          "output_type": "stream",
          "text": [
            "Help on function offset_mean in module __main__:\n",
            "\n",
            "offset_mean(data, target_mean_value)\n",
            "    Return a new array containing the original data\n",
            "    with its mean offset to match the desired value.\n",
            "\n"
          ],
          "name": "stdout"
        }
      ]
    },
    {
      "cell_type": "markdown",
      "metadata": {
        "id": "yo6kvlGARzWP",
        "colab_type": "text"
      },
      "source": [
        "A string like this is called a [docstring](https://swcarpentry.github.io/python-novice-inflammation/reference/#docstring). We don’t need to use triple quotes when we write one, but if we do, we can break the string across multiple lines:"
      ]
    },
    {
      "cell_type": "code",
      "metadata": {
        "id": "yJQ3DaGzR9IV",
        "colab_type": "code",
        "outputId": "1521590d-c903-4a4f-e6a1-c937c9ebb71d",
        "colab": {
          "base_uri": "https://localhost:8080/",
          "height": 204
        }
      },
      "source": [
        "def offset_mean(data, target_mean_value):\n",
        "    '''Return a new array containing the original data\n",
        "       with its mean offset to match the desired value.\n",
        "\n",
        "    Examples\n",
        "    --------\n",
        "    >>> offset_mean([1, 2, 3], 0)\n",
        "    array([-1.,  0.,  1.])\n",
        "    '''\n",
        "    return (data - numpy.mean(data)) + target_mean_value\n",
        "\n",
        "help(offset_mean)"
      ],
      "execution_count": 0,
      "outputs": [
        {
          "output_type": "stream",
          "text": [
            "Help on function offset_mean in module __main__:\n",
            "\n",
            "offset_mean(data, target_mean_value)\n",
            "    Return a new array containing the original data\n",
            "       with its mean offset to match the desired value.\n",
            "    \n",
            "    Examples\n",
            "    --------\n",
            "    >>> offset_mean([1, 2, 3], 0)\n",
            "    array([-1.,  0.,  1.])\n",
            "\n"
          ],
          "name": "stdout"
        }
      ]
    },
    {
      "cell_type": "markdown",
      "metadata": {
        "id": "i_i6GMCIR_li",
        "colab_type": "text"
      },
      "source": [
        "## Defining Defaults\n",
        "We have passed parameters to functions in two ways: directly, as in `type(data)`, and by name, as in `numpy.loadtxt(fname='something.csv', delimiter=',')`. In fact, we can pass the filename to `loadtxt` without the `fname=`:"
      ]
    },
    {
      "cell_type": "code",
      "metadata": {
        "id": "ZGAA8D4OSSbE",
        "colab_type": "code",
        "outputId": "85887b5c-c2cd-49b7-f461-9f532525d2ae",
        "colab": {
          "base_uri": "https://localhost:8080/",
          "height": 136
        }
      },
      "source": [
        "numpy.loadtxt('inflammation-01.csv', delimiter=',')"
      ],
      "execution_count": 0,
      "outputs": [
        {
          "output_type": "execute_result",
          "data": {
            "text/plain": [
              "array([[0., 0., 1., ..., 3., 0., 0.],\n",
              "       [0., 1., 2., ..., 1., 0., 1.],\n",
              "       [0., 1., 1., ..., 2., 1., 1.],\n",
              "       ...,\n",
              "       [0., 1., 1., ..., 1., 1., 1.],\n",
              "       [0., 0., 0., ..., 0., 2., 0.],\n",
              "       [0., 0., 1., ..., 1., 1., 0.]])"
            ]
          },
          "metadata": {
            "tags": []
          },
          "execution_count": 41
        }
      ]
    },
    {
      "cell_type": "markdown",
      "metadata": {
        "id": "1RPfvQmQSWDT",
        "colab_type": "text"
      },
      "source": [
        "but we still need to say `delimiter=:`"
      ]
    },
    {
      "cell_type": "code",
      "metadata": {
        "id": "zFZap3_DSYz_",
        "colab_type": "code",
        "outputId": "e1e2d890-0999-4b0b-a376-324b893cd39e",
        "colab": {
          "base_uri": "https://localhost:8080/",
          "height": 130
        }
      },
      "source": [
        "numpy.loadtxt('inflammation-01.csv', ',')"
      ],
      "execution_count": 0,
      "outputs": [
        {
          "output_type": "error",
          "ename": "SyntaxError",
          "evalue": "ignored",
          "traceback": [
            "\u001b[0;36m  File \u001b[0;32m\"<string>\"\u001b[0;36m, line \u001b[0;32m1\u001b[0m\n\u001b[0;31m    ,\u001b[0m\n\u001b[0m    ^\u001b[0m\n\u001b[0;31mSyntaxError\u001b[0m\u001b[0;31m:\u001b[0m unexpected EOF while parsing\n"
          ]
        }
      ]
    },
    {
      "cell_type": "markdown",
      "metadata": {
        "id": "SOOqQSYRSYI6",
        "colab_type": "text"
      },
      "source": [
        "To understand what’s going on, and make our own functions easier to use, let’s re-define our `offset_mean` function like this:"
      ]
    },
    {
      "cell_type": "code",
      "metadata": {
        "id": "kYTeapYfShx2",
        "colab_type": "code",
        "colab": {}
      },
      "source": [
        "def offset_mean(data, target_mean_value=0.0):\n",
        "    '''Return a new array containing the original data\n",
        "       with its mean offset to match the desired value, (0 by default).\n",
        "\n",
        "    Examples\n",
        "    --------\n",
        "    >>> offset_mean([1, 2, 3])\n",
        "    array([-1.,  0.,  1.])\n",
        "    '''\n",
        "    return (data - numpy.mean(data)) + target_mean_value"
      ],
      "execution_count": 0,
      "outputs": []
    },
    {
      "cell_type": "markdown",
      "metadata": {
        "id": "EG1e5G-aSjgf",
        "colab_type": "text"
      },
      "source": [
        "The key change is that the second parameter is now written `target_mean_value=0.0` instead of just `target_mean_value`. If we call the function with two arguments, it works as it did before:"
      ]
    },
    {
      "cell_type": "code",
      "metadata": {
        "id": "2U2IKITFSpx0",
        "colab_type": "code",
        "outputId": "63b62209-df70-46e6-9d67-81023f268a40",
        "colab": {
          "base_uri": "https://localhost:8080/",
          "height": 51
        }
      },
      "source": [
        "test_data = numpy.zeros((2, 2))\n",
        "print(offset_mean(test_data, 3))"
      ],
      "execution_count": 0,
      "outputs": [
        {
          "output_type": "stream",
          "text": [
            "[[3. 3.]\n",
            " [3. 3.]]\n"
          ],
          "name": "stdout"
        }
      ]
    },
    {
      "cell_type": "markdown",
      "metadata": {
        "id": "pkDQ-6mXSvfw",
        "colab_type": "text"
      },
      "source": [
        "But we can also now call it with just one parameter, in which case `target_mean_value` is automatically assigned the [default value](https://swcarpentry.github.io/python-novice-inflammation/reference/#default-value) of 0.0:"
      ]
    },
    {
      "cell_type": "code",
      "metadata": {
        "id": "UXPUL0D4SuAe",
        "colab_type": "code",
        "outputId": "9a594890-f0d8-4179-a26e-6ce91c76fe2c",
        "colab": {
          "base_uri": "https://localhost:8080/",
          "height": 119
        }
      },
      "source": [
        "more_data = 5 + numpy.zeros((2, 2))\n",
        "print('data before mean offset:')\n",
        "print(more_data)\n",
        "print('offset data:')\n",
        "print(offset_mean(more_data))"
      ],
      "execution_count": 0,
      "outputs": [
        {
          "output_type": "stream",
          "text": [
            "data before mean offset:\n",
            "[[5. 5.]\n",
            " [5. 5.]]\n",
            "offset data:\n",
            "[[0. 0.]\n",
            " [0. 0.]]\n"
          ],
          "name": "stdout"
        }
      ]
    },
    {
      "cell_type": "markdown",
      "metadata": {
        "id": "5EtuBbwjTEz7",
        "colab_type": "text"
      },
      "source": [
        "This is handy: if we usually want a function to work one way, but occasionally need it to do something else, we can allow people to pass a parameter when they need to but provide a default to make the normal case easier. The example below shows how Python matches values to parameters:"
      ]
    },
    {
      "cell_type": "code",
      "metadata": {
        "id": "xB6V2YrgTFph",
        "colab_type": "code",
        "outputId": "f477dcc5-3efa-4edf-e027-e2e9d758291a",
        "colab": {
          "base_uri": "https://localhost:8080/",
          "height": 119
        }
      },
      "source": [
        "def display(a=1, b=2, c=3):\n",
        "    print('a:', a, 'b:', b, 'c:', c)\n",
        "\n",
        "print('no parameters:')\n",
        "display()\n",
        "print('one parameter:')\n",
        "display(55)\n",
        "print('two parameters:')\n",
        "display(55, 66)"
      ],
      "execution_count": 0,
      "outputs": [
        {
          "output_type": "stream",
          "text": [
            "no parameters:\n",
            "a: 1 b: 2 c: 3\n",
            "one parameter:\n",
            "a: 55 b: 2 c: 3\n",
            "two parameters:\n",
            "a: 55 b: 66 c: 3\n"
          ],
          "name": "stdout"
        }
      ]
    },
    {
      "cell_type": "markdown",
      "metadata": {
        "id": "xHv8praGTI4c",
        "colab_type": "text"
      },
      "source": [
        "As this example shows, parameters are matched up from left to right, and any that haven’t been given a value explicitly get their default value. We can override this behavior by naming the value as we pass it in:"
      ]
    },
    {
      "cell_type": "code",
      "metadata": {
        "id": "5o9qBHFQTJw2",
        "colab_type": "code",
        "outputId": "6c33bc89-8e26-4023-acd0-5c0cbca23dbf",
        "colab": {
          "base_uri": "https://localhost:8080/",
          "height": 51
        }
      },
      "source": [
        "print('only setting the value of c')\n",
        "display(c=77)"
      ],
      "execution_count": 0,
      "outputs": [
        {
          "output_type": "stream",
          "text": [
            "only setting the value of c\n",
            "a: 1 b: 2 c: 77\n"
          ],
          "name": "stdout"
        }
      ]
    },
    {
      "cell_type": "markdown",
      "metadata": {
        "id": "xPIjNb4BTOyY",
        "colab_type": "text"
      },
      "source": [
        "With that in hand, let’s look at the help for `numpy.loadtxt`:"
      ]
    },
    {
      "cell_type": "code",
      "metadata": {
        "id": "wOVmhxwhTN9r",
        "colab_type": "code",
        "outputId": "ef7a85e2-4fd6-43ac-d0d4-6873725fcab7",
        "colab": {
          "base_uri": "https://localhost:8080/",
          "height": 1000
        }
      },
      "source": [
        "help(numpy.loadtxt)"
      ],
      "execution_count": 0,
      "outputs": [
        {
          "output_type": "stream",
          "text": [
            "Help on function loadtxt in module numpy:\n",
            "\n",
            "loadtxt(fname, dtype=<class 'float'>, comments='#', delimiter=None, converters=None, skiprows=0, usecols=None, unpack=False, ndmin=0, encoding='bytes', max_rows=None)\n",
            "    Load data from a text file.\n",
            "    \n",
            "    Each row in the text file must have the same number of values.\n",
            "    \n",
            "    Parameters\n",
            "    ----------\n",
            "    fname : file, str, or pathlib.Path\n",
            "        File, filename, or generator to read.  If the filename extension is\n",
            "        ``.gz`` or ``.bz2``, the file is first decompressed. Note that\n",
            "        generators should return byte strings.\n",
            "    dtype : data-type, optional\n",
            "        Data-type of the resulting array; default: float.  If this is a\n",
            "        structured data-type, the resulting array will be 1-dimensional, and\n",
            "        each row will be interpreted as an element of the array.  In this\n",
            "        case, the number of columns used must match the number of fields in\n",
            "        the data-type.\n",
            "    comments : str or sequence of str, optional\n",
            "        The characters or list of characters used to indicate the start of a\n",
            "        comment. None implies no comments. For backwards compatibility, byte\n",
            "        strings will be decoded as 'latin1'. The default is '#'.\n",
            "    delimiter : str, optional\n",
            "        The string used to separate values. For backwards compatibility, byte\n",
            "        strings will be decoded as 'latin1'. The default is whitespace.\n",
            "    converters : dict, optional\n",
            "        A dictionary mapping column number to a function that will parse the\n",
            "        column string into the desired value.  E.g., if column 0 is a date\n",
            "        string: ``converters = {0: datestr2num}``.  Converters can also be\n",
            "        used to provide a default value for missing data (but see also\n",
            "        `genfromtxt`): ``converters = {3: lambda s: float(s.strip() or 0)}``.\n",
            "        Default: None.\n",
            "    skiprows : int, optional\n",
            "        Skip the first `skiprows` lines, including comments; default: 0.\n",
            "    usecols : int or sequence, optional\n",
            "        Which columns to read, with 0 being the first. For example,\n",
            "        ``usecols = (1,4,5)`` will extract the 2nd, 5th and 6th columns.\n",
            "        The default, None, results in all columns being read.\n",
            "    \n",
            "        .. versionchanged:: 1.11.0\n",
            "            When a single column has to be read it is possible to use\n",
            "            an integer instead of a tuple. E.g ``usecols = 3`` reads the\n",
            "            fourth column the same way as ``usecols = (3,)`` would.\n",
            "    unpack : bool, optional\n",
            "        If True, the returned array is transposed, so that arguments may be\n",
            "        unpacked using ``x, y, z = loadtxt(...)``.  When used with a structured\n",
            "        data-type, arrays are returned for each field.  Default is False.\n",
            "    ndmin : int, optional\n",
            "        The returned array will have at least `ndmin` dimensions.\n",
            "        Otherwise mono-dimensional axes will be squeezed.\n",
            "        Legal values: 0 (default), 1 or 2.\n",
            "    \n",
            "        .. versionadded:: 1.6.0\n",
            "    encoding : str, optional\n",
            "        Encoding used to decode the inputfile. Does not apply to input streams.\n",
            "        The special value 'bytes' enables backward compatibility workarounds\n",
            "        that ensures you receive byte arrays as results if possible and passes\n",
            "        'latin1' encoded strings to converters. Override this value to receive\n",
            "        unicode arrays and pass strings as input to converters.  If set to None\n",
            "        the system default is used. The default value is 'bytes'.\n",
            "    \n",
            "        .. versionadded:: 1.14.0\n",
            "    max_rows : int, optional\n",
            "        Read `max_rows` lines of content after `skiprows` lines. The default\n",
            "        is to read all the lines.\n",
            "    \n",
            "        .. versionadded:: 1.16.0\n",
            "    \n",
            "    Returns\n",
            "    -------\n",
            "    out : ndarray\n",
            "        Data read from the text file.\n",
            "    \n",
            "    See Also\n",
            "    --------\n",
            "    load, fromstring, fromregex\n",
            "    genfromtxt : Load data with missing values handled as specified.\n",
            "    scipy.io.loadmat : reads MATLAB data files\n",
            "    \n",
            "    Notes\n",
            "    -----\n",
            "    This function aims to be a fast reader for simply formatted files.  The\n",
            "    `genfromtxt` function provides more sophisticated handling of, e.g.,\n",
            "    lines with missing values.\n",
            "    \n",
            "    .. versionadded:: 1.10.0\n",
            "    \n",
            "    The strings produced by the Python float.hex method can be used as\n",
            "    input for floats.\n",
            "    \n",
            "    Examples\n",
            "    --------\n",
            "    >>> from io import StringIO   # StringIO behaves like a file object\n",
            "    >>> c = StringIO(u\"0 1\\n2 3\")\n",
            "    >>> np.loadtxt(c)\n",
            "    array([[0., 1.],\n",
            "           [2., 3.]])\n",
            "    \n",
            "    >>> d = StringIO(u\"M 21 72\\nF 35 58\")\n",
            "    >>> np.loadtxt(d, dtype={'names': ('gender', 'age', 'weight'),\n",
            "    ...                      'formats': ('S1', 'i4', 'f4')})\n",
            "    array([(b'M', 21, 72.), (b'F', 35, 58.)],\n",
            "          dtype=[('gender', 'S1'), ('age', '<i4'), ('weight', '<f4')])\n",
            "    \n",
            "    >>> c = StringIO(u\"1,0,2\\n3,0,4\")\n",
            "    >>> x, y = np.loadtxt(c, delimiter=',', usecols=(0, 2), unpack=True)\n",
            "    >>> x\n",
            "    array([1., 3.])\n",
            "    >>> y\n",
            "    array([2., 4.])\n",
            "\n"
          ],
          "name": "stdout"
        }
      ]
    },
    {
      "cell_type": "markdown",
      "metadata": {
        "id": "OA6M2-7hTk60",
        "colab_type": "text"
      },
      "source": [
        "There’s a lot of information here, but the most important part is the first couple of lines:\n",
        "\n",
        "`loadtxt(fname, dtype=<class 'float'>, comments='#', delimiter=None, converters=None, skiprows=0, use\n",
        "cols=None, unpack=False, ndmin=0, encoding='bytes')`\n",
        "\n",
        "This tells us that `loadtxt` has one parameter called `fname` that doesn’t have a default value, and eight others that do. If we call the function like this:"
      ]
    },
    {
      "cell_type": "code",
      "metadata": {
        "id": "gTOZTG-qTeaq",
        "colab_type": "code",
        "outputId": "0a318de1-306a-4d80-bb9b-730406ddc861",
        "colab": {
          "base_uri": "https://localhost:8080/",
          "height": 130
        }
      },
      "source": [
        "numpy.loadtxt('inflammation-01.csv', ',')"
      ],
      "execution_count": 0,
      "outputs": [
        {
          "output_type": "error",
          "ename": "SyntaxError",
          "evalue": "ignored",
          "traceback": [
            "\u001b[0;36m  File \u001b[0;32m\"<string>\"\u001b[0;36m, line \u001b[0;32m1\u001b[0m\n\u001b[0;31m    ,\u001b[0m\n\u001b[0m    ^\u001b[0m\n\u001b[0;31mSyntaxError\u001b[0m\u001b[0;31m:\u001b[0m unexpected EOF while parsing\n"
          ]
        }
      ]
    },
    {
      "cell_type": "markdown",
      "metadata": {
        "id": "k-PyX0h2T1Uc",
        "colab_type": "text"
      },
      "source": [
        "then the filename is assigned to fname (which is what we want), but the delimiter string ',' is assigned to dtype rather than delimiter, because dtype is the second parameter in the list. However ',' isn’t a known dtype so our code produced an error message when we tried to run it. When we call loadtxt we don’t have to provide fname= for the filename because it’s the first item in the list, but if we want the ',' to be assigned to the variable delimiter, we do have to provide delimiter= for the second parameter since delimiter is not the second parameter in the list.\n",
        "\n",
        "## Readable functions\n",
        "Consider these two functions:"
      ]
    },
    {
      "cell_type": "code",
      "metadata": {
        "id": "4Ktn19hXT8je",
        "colab_type": "code",
        "colab": {}
      },
      "source": [
        "def s(p):\n",
        "    a = 0\n",
        "    for v in p:\n",
        "        a += v\n",
        "    m = a / len(p)\n",
        "    d = 0\n",
        "    for v in p:\n",
        "        d += (v - m) * (v - m)\n",
        "    return numpy.sqrt(d / (len(p) - 1))\n",
        "\n",
        "def std_dev(sample):\n",
        "    sample_sum = 0\n",
        "    for value in sample:\n",
        "        sample_sum += value\n",
        "\n",
        "    sample_mean = sample_sum / len(sample)\n",
        "\n",
        "    sum_squared_devs = 0\n",
        "    for value in sample:\n",
        "        sum_squared_devs += (value - sample_mean) * (value - sample_mean)\n",
        "\n",
        "    return numpy.sqrt(sum_squared_devs / (len(sample) - 1))"
      ],
      "execution_count": 0,
      "outputs": []
    },
    {
      "cell_type": "markdown",
      "metadata": {
        "id": "gKhPeJivT_r9",
        "colab_type": "text"
      },
      "source": [
        "The functions `s` and `std_dev` are computationally equivalent (they both calculate the sample standard deviation), but to a human reader, they look very different. You probably found `std_dev` much easier to read and understand than `s`.\n",
        "\n",
        "As this example illustrates, both documentation and a programmer’s *coding style* combine to determine how easy it is for others to read and understand the programmer’s code. Choosing meaningful variable names and using blank spaces to break the code into logical “chunks” are helpful techniques for producing readable code. This is useful not only for sharing code with others, but also for the original programmer. If you need to revisit code that you wrote months ago and haven’t thought about since then, you will appreciate the value of readable code!\n",
        "\n",
        "## Exercise: Combining Strings\n",
        "“Adding” two strings produces their concatenation: `'a' + 'b'` is `'ab'`. Write a function called `fence` that takes two parameters called `original` and `wrapper` and returns a new string that has the wrapper character at the beginning and end of the original. A call to your function should look like this:\n"
      ]
    },
    {
      "cell_type": "code",
      "metadata": {
        "id": "KNYqo9IWUxnP",
        "colab_type": "code",
        "colab": {}
      },
      "source": [
        "print(fence('name', '*'))"
      ],
      "execution_count": 0,
      "outputs": []
    },
    {
      "cell_type": "markdown",
      "metadata": {
        "id": "QSNGucqRU8M3",
        "colab_type": "text"
      },
      "source": [
        "## Exercise: Return versus print\n",
        "Note that return and print are not interchangeable. print is a Python function that prints data to the screen. It enables us, users, see the data. return statement, on the other hand, makes data visible to the program. Let’s have a look at the following function:\n",
        "\n",
        "```\n",
        "def add(a, b):\n",
        "    print(a + b)    \n",
        "```\n",
        "\n",
        "Question: What will we see if we execute the following commands?\n",
        "\n",
        "```\n",
        "A = add(7, 3)\n",
        "print(A)\n",
        "```"
      ]
    },
    {
      "cell_type": "markdown",
      "metadata": {
        "id": "1Cm-tPZqVADg",
        "colab_type": "text"
      },
      "source": [
        "## Exercise: Selecting Characters From Strings\n",
        "If the variable `s` refers to a string, then `s[0]` is the string’s first character and `s[-1]` is its last. Write a function called `outer` that returns a string made up of just the first and last characters of its input. A call to your function should look like this:\n",
        "\n",
        "\n",
        "\n",
        "```\n",
        "print(outer('helium'))\n",
        "```\n",
        "\n"
      ]
    },
    {
      "cell_type": "markdown",
      "metadata": {
        "id": "9o--GaOaVATa",
        "colab_type": "text"
      },
      "source": [
        "## Exercise: Rescaling an Array\n",
        "Write a function `rescale` that takes an array as input and returns a corresponding array of values scaled to lie in the range 0.0 to 1.0. (Hint: If `L` and `H` are the lowest and highest values in the original array, then the replacement for a value v should be `(v-L) / (H-L)`.)\n",
        "\n"
      ]
    },
    {
      "cell_type": "code",
      "metadata": {
        "id": "cpbHmMXnYAzb",
        "colab_type": "code",
        "colab": {}
      },
      "source": [
        ""
      ],
      "execution_count": 0,
      "outputs": []
    },
    {
      "cell_type": "markdown",
      "metadata": {
        "id": "45a1vRAoVAc9",
        "colab_type": "text"
      },
      "source": [
        "## Exercise: Testing and Documenting Your Function\n",
        "Run the commands `help(numpy.arange)` and `help(numpy.linspace)` to see how to use these functions to generate regularly-spaced values, then use those values to test your `rescale` function. Once you’ve successfully tested your function, add a docstring that explains what it does.\n",
        "\n"
      ]
    },
    {
      "cell_type": "code",
      "metadata": {
        "id": "PNlEHnupX_9H",
        "colab_type": "code",
        "colab": {}
      },
      "source": [
        ""
      ],
      "execution_count": 0,
      "outputs": []
    },
    {
      "cell_type": "markdown",
      "metadata": {
        "id": "7GjZr-dcVAqM",
        "colab_type": "text"
      },
      "source": [
        "## Exercise: Defining Defaults\n",
        "Rewrite the `rescale` function so that it scales data to lie between `0.0` and `1.0` by default, but will allow the caller to specify lower and upper bounds if they want. Compare your implementation to your neighbor’s: do the two functions always behave the same way?"
      ]
    },
    {
      "cell_type": "code",
      "metadata": {
        "id": "WUL77dv2X_BU",
        "colab_type": "code",
        "colab": {}
      },
      "source": [
        ""
      ],
      "execution_count": 0,
      "outputs": []
    },
    {
      "cell_type": "markdown",
      "metadata": {
        "id": "Qpwvgg68WQYC",
        "colab_type": "text"
      },
      "source": [
        "## Exercise: Variables Inside and Outside Functions\n",
        "What does the following piece of code display when run — and why?\n"
      ]
    },
    {
      "cell_type": "code",
      "metadata": {
        "id": "SsACsBX2Wifm",
        "colab_type": "code",
        "colab": {}
      },
      "source": [
        "f = 0\n",
        "k = 0\n",
        "\n",
        "def f2k(f):\n",
        "    k = ((f-32)*(5.0/9.0)) + 273.15\n",
        "    return k\n",
        "\n",
        "f2k(8)\n",
        "f2k(41)\n",
        "f2k(32)\n",
        "\n",
        "print(k)"
      ],
      "execution_count": 0,
      "outputs": []
    },
    {
      "cell_type": "markdown",
      "metadata": {
        "id": "azXgRsE5WOeb",
        "colab_type": "text"
      },
      "source": [
        "## Exercise: Mixing Default and Non-Default Parameters\n",
        "Given the following code:\n",
        "\n",
        "```\n",
        "def numbers(one, two=2, three, four=4):\n",
        "    n = str(one) + str(two) + str(three) + str(four)\n",
        "    return n\n",
        "\n",
        "print(numbers(1, three=3))\n",
        "```\n",
        "what do you expect will be printed? What is actually printed? What rule do you think Python is following?\n",
        "\n",
        "1. 1234\n",
        "2. one2three4\n",
        "3. 1239\n",
        "4. SyntaxError\n",
        "\n",
        "Given that, what does the following piece of code display when run?\n",
        "\n",
        "1. a: b: 3 c: 6\n",
        "2. a: -1 b: 3 c: 6\n",
        "3. a: -1 b: 2 c: 6\n",
        "4. a: b: -1 c: 2\n"
      ]
    },
    {
      "cell_type": "markdown",
      "metadata": {
        "id": "eAm7enRCWQDE",
        "colab_type": "text"
      },
      "source": [
        "## Exercise: The Old Switcheroo\n",
        "Consider this code:\n",
        "\n"
      ]
    },
    {
      "cell_type": "code",
      "metadata": {
        "id": "tyotrbJIXQff",
        "colab_type": "code",
        "colab": {}
      },
      "source": [
        "a = 3\n",
        "b = 7\n",
        "\n",
        "def swap(a, b):\n",
        "    temp = a\n",
        "    a = b\n",
        "    b = temp\n",
        "\n",
        "swap(a, b)\n",
        "\n",
        "print(a, b)"
      ],
      "execution_count": 0,
      "outputs": []
    },
    {
      "cell_type": "markdown",
      "metadata": {
        "id": "lNpL-2alXUYy",
        "colab_type": "text"
      },
      "source": [
        "Which of the following would be printed if you were to run this code? Why did you pick this answer?\n",
        "\n",
        "1. 7 3\n",
        "2. 3 7\n",
        "3. 3 3\n",
        "4. 7 7"
      ]
    },
    {
      "cell_type": "markdown",
      "metadata": {
        "id": "QAEcpMmkWQsl",
        "colab_type": "text"
      },
      "source": [
        "## Exercise: Readable Code\n",
        "Revise a function you wrote for one of the previous exercises to try to make the code more readable. Then, collaborate with one of your neighbors to critique each other’s functions and discuss how your function implementations could be further improved to make them more readable."
      ]
    },
    {
      "cell_type": "markdown",
      "metadata": {
        "id": "nEsC9yG7WQ_F",
        "colab_type": "text"
      },
      "source": [
        "## Key Points:\n",
        "\n",
        "* Define a function using `def function_name(parameter)`.\n",
        "\n",
        "* The body of a function must be indented.\n",
        "\n",
        "* Call a function using `function_name(value`).\n",
        "\n",
        "* Numbers are stored as integers or floating-point numbers.\n",
        "\n",
        "* Variables defined within a function can only be seen and used within the body of the function.\n",
        "\n",
        "* If a variable is not defined within the function it is used, Python looks for a definition before the function call\n",
        "\n",
        "* Use `help(thing)` to view help for something.\n",
        "\n",
        "* Put docstrings in functions to provide help for that function.\n",
        "\n",
        "* Specify default values for parameters when defining a function using `name=value` in the parameter list.\n",
        "\n",
        "* Parameters can be passed by matching based on name, by position, or by omitting them (in which case the default value is used).\n",
        "\n",
        "* Put code whose parameters change frequently in a function, then call it with different parameter values to customize its behavior.\n",
        "\n"
      ]
    }
  ]
}