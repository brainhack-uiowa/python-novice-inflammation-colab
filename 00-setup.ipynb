{
  "nbformat": 4,
  "nbformat_minor": 0,
  "metadata": {
    "kernelspec": {
      "display_name": "Python 3",
      "language": "python",
      "name": "python3"
    },
    "language_info": {
      "codemirror_mode": {
        "name": "ipython",
        "version": 3
      },
      "file_extension": ".py",
      "mimetype": "text/x-python",
      "name": "python",
      "nbconvert_exporter": "python",
      "pygments_lexer": "ipython3",
      "version": "3.7.3"
    },
    "colab": {
      "name": "00-setup.ipynb",
      "provenance": []
    }
  },
  "cells": [
    {
      "cell_type": "markdown",
      "metadata": {
        "id": "uC7C2ww6wo0D",
        "colab_type": "text"
      },
      "source": [
        "The following command downloads all the data necessary for the python lesson, but this block is included in all lesson files for convienence.\n",
        "\n",
        "---\n",
        "\n"
      ]
    },
    {
      "cell_type": "code",
      "metadata": {
        "id": "OjTeseRGwl4P",
        "colab_type": "code",
        "colab": {}
      },
      "source": [
        "# setup\n",
        "!wget https://swcarpentry.github.io/python-novice-inflammation/data/python-novice-inflammation-data.zip\n",
        "!wget https://swcarpentry.github.io/python-novice-inflammation/code/python-novice-inflammation-code.zip\n",
        "\n",
        "!unzip -jn python-novice-inflammation-data.zip\n",
        "!unzip -jn python-novice-inflammation-code.zip"
      ],
      "execution_count": 0,
      "outputs": []
    }
  ]
}