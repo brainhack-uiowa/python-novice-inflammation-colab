{
  "nbformat": 4,
  "nbformat_minor": 0,
  "metadata": {
    "colab": {
      "name": "04-repeating-actions-with-loops.ipynb",
      "provenance": []
    },
    "kernelspec": {
      "name": "python3",
      "display_name": "Python 3"
    }
  },
  "cells": [
    {
      "cell_type": "code",
      "metadata": {
        "id": "nrv2fo24x1g3",
        "colab_type": "code",
        "colab": {
          "base_uri": "https://localhost:8080/",
          "height": 1000
        },
        "outputId": "33c2d378-605a-46dd-bb43-1bde82263de1"
      },
      "source": [
        "# setup\n",
        "!wget https://swcarpentry.github.io/python-novice-inflammation/data/python-novice-inflammation-data.zip\n",
        "!wget https://swcarpentry.github.io/python-novice-inflammation/code/python-novice-inflammation-code.zip\n",
        "\n",
        "!unzip -jn python-novice-inflammation-data.zip\n",
        "!unzip -jn python-novice-inflammation-code.zip"
      ],
      "execution_count": 1,
      "outputs": [
        {
          "output_type": "stream",
          "text": [
            "--2020-05-06 16:18:06--  https://swcarpentry.github.io/python-novice-inflammation/data/python-novice-inflammation-data.zip\n",
            "Resolving swcarpentry.github.io (swcarpentry.github.io)... 185.199.108.153, 185.199.109.153, 185.199.110.153, ...\n",
            "Connecting to swcarpentry.github.io (swcarpentry.github.io)|185.199.108.153|:443... connected.\n",
            "HTTP request sent, awaiting response... 200 OK\n",
            "Length: 22554 (22K) [application/zip]\n",
            "Saving to: ‘python-novice-inflammation-data.zip’\n",
            "\n",
            "\r          python-no   0%[                    ]       0  --.-KB/s               \rpython-novice-infla 100%[===================>]  22.03K  --.-KB/s    in 0.01s   \n",
            "\n",
            "2020-05-06 16:18:06 (1.75 MB/s) - ‘python-novice-inflammation-data.zip’ saved [22554/22554]\n",
            "\n",
            "--2020-05-06 16:18:07--  https://swcarpentry.github.io/python-novice-inflammation/code/python-novice-inflammation-code.zip\n",
            "Resolving swcarpentry.github.io (swcarpentry.github.io)... 185.199.108.153, 185.199.109.153, 185.199.110.153, ...\n",
            "Connecting to swcarpentry.github.io (swcarpentry.github.io)|185.199.108.153|:443... connected.\n",
            "HTTP request sent, awaiting response... 200 OK\n",
            "Length: 7216 (7.0K) [application/zip]\n",
            "Saving to: ‘python-novice-inflammation-code.zip’\n",
            "\n",
            "python-novice-infla 100%[===================>]   7.05K  --.-KB/s    in 0s      \n",
            "\n",
            "2020-05-06 16:18:07 (94.6 MB/s) - ‘python-novice-inflammation-code.zip’ saved [7216/7216]\n",
            "\n",
            "Archive:  python-novice-inflammation-data.zip\n",
            "  inflating: inflammation-01.csv     \n",
            "  inflating: inflammation-02.csv     \n",
            "  inflating: inflammation-03.csv     \n",
            "  inflating: inflammation-04.csv     \n",
            "  inflating: inflammation-05.csv     \n",
            "  inflating: inflammation-06.csv     \n",
            "  inflating: inflammation-07.csv     \n",
            "  inflating: inflammation-08.csv     \n",
            "  inflating: inflammation-09.csv     \n",
            "  inflating: inflammation-10.csv     \n",
            "  inflating: inflammation-11.csv     \n",
            "  inflating: inflammation-12.csv     \n",
            " extracting: small-01.csv            \n",
            " extracting: small-02.csv            \n",
            " extracting: small-03.csv            \n",
            "Archive:  python-novice-inflammation-code.zip\n",
            "  inflating: argv_list.py            \n",
            "  inflating: arith.py                \n",
            "  inflating: check.py                \n",
            "  inflating: count_stdin.py          \n",
            "  inflating: gen_inflammation.py     \n",
            "  inflating: line_count.py           \n",
            "  inflating: my_ls.py                \n",
            "  inflating: readings_01.py          \n",
            "  inflating: readings_02.py          \n",
            "  inflating: readings_03.py          \n",
            "  inflating: readings_04.py          \n",
            "  inflating: readings_05.py          \n",
            "  inflating: readings_06.py          \n",
            "  inflating: readings_07.py          \n",
            "  inflating: readings_08.py          \n",
            "  inflating: readings_09.py          \n",
            "  inflating: rectangle.py            \n",
            "  inflating: sys_version.py          \n"
          ],
          "name": "stdout"
        }
      ]
    },
    {
      "cell_type": "markdown",
      "metadata": {
        "id": "cAoPmoqKxRcz",
        "colab_type": "text"
      },
      "source": [
        "# Repeating Actions with Loops\n",
        "In the last episode, we wrote Python code that plots values of interest from our first inflammation dataset (`inflammation-01.csv`), which revealed some suspicious features in it.\n",
        "\n",
        "![alt text](https://swcarpentry.github.io/python-novice-inflammation/fig/03-loop_2_0.png)"
      ]
    },
    {
      "cell_type": "markdown",
      "metadata": {
        "id": "6Fhau-WRxw4V",
        "colab_type": "text"
      },
      "source": [
        "We have a dozen data sets right now, though, and more on the way. We want to create plots for all of our data sets with a single statement. To do that, we’ll have to teach the computer how to repeat things.\n",
        "\n",
        "An example task that we might want to repeat is printing each character in a word on a line of its own."
      ]
    },
    {
      "cell_type": "code",
      "metadata": {
        "id": "LNKo9NJPxtQL",
        "colab_type": "code",
        "colab": {}
      },
      "source": [
        "word = 'lead'\n"
      ],
      "execution_count": 0,
      "outputs": []
    },
    {
      "cell_type": "markdown",
      "metadata": {
        "id": "ACxUuI8VxqK6",
        "colab_type": "text"
      },
      "source": [
        "In Python, a string is basically an ordered collection of characters, and every character has a unique number associated with it – its index. This means that we can access characters in a string using their indices. For example, we can get the first character of the word `'lead'`, by using `word[0]`. One way to print each character is to use four `print` statements:\n",
        "\n"
      ]
    },
    {
      "cell_type": "code",
      "metadata": {
        "id": "XSCnEwcxyQl8",
        "colab_type": "code",
        "colab": {
          "base_uri": "https://localhost:8080/",
          "height": 86
        },
        "outputId": "13a538c0-d821-4437-82c4-0e69ad917d16"
      },
      "source": [
        "print(word[0])\n",
        "print(word[1])\n",
        "print(word[2])\n",
        "print(word[3])\n"
      ],
      "execution_count": 3,
      "outputs": [
        {
          "output_type": "stream",
          "text": [
            "l\n",
            "e\n",
            "a\n",
            "d\n"
          ],
          "name": "stdout"
        }
      ]
    },
    {
      "cell_type": "markdown",
      "metadata": {
        "id": "CCZcy8iKygko",
        "colab_type": "text"
      },
      "source": [
        "This is a bad approach for three reasons:\n",
        "\n",
        "1. **Not scalable.** Imagine you need to print characters of a string that is hundreds of letters long. It might be easier to type them in manually.\n",
        "\n",
        "2. **Difficult to maintain.** If we want to decorate each printed character with an asterisk or any other character, we would have to change four lines of code. While this might not be a problem for short strings, it would definitely be a problem for longer ones.\n",
        "\n",
        "3. **Fragile.** If we use it with a word that has more characters than what we initially envisioned, it will only display part of the word’s characters. A shorter string, on the other hand, will cause an error because it will be trying to display part of the string that doesn’t exist.\n"
      ]
    },
    {
      "cell_type": "code",
      "metadata": {
        "id": "Bzi3RSWlysPv",
        "colab_type": "code",
        "colab": {
          "base_uri": "https://localhost:8080/",
          "height": 252
        },
        "outputId": "3e29e3bd-cae5-4b47-ca32-78b0cd74c5f4"
      },
      "source": [
        "word = 'tin'\n",
        "print(word[0])\n",
        "print(word[1])\n",
        "print(word[2])\n",
        "print(word[3])\n"
      ],
      "execution_count": 4,
      "outputs": [
        {
          "output_type": "stream",
          "text": [
            "t\n",
            "i\n",
            "n\n"
          ],
          "name": "stdout"
        },
        {
          "output_type": "error",
          "ename": "IndexError",
          "evalue": "ignored",
          "traceback": [
            "\u001b[0;31m---------------------------------------------------------------------------\u001b[0m",
            "\u001b[0;31mIndexError\u001b[0m                                Traceback (most recent call last)",
            "\u001b[0;32m<ipython-input-4-e59d5eac5430>\u001b[0m in \u001b[0;36m<module>\u001b[0;34m()\u001b[0m\n\u001b[1;32m      3\u001b[0m \u001b[0mprint\u001b[0m\u001b[0;34m(\u001b[0m\u001b[0mword\u001b[0m\u001b[0;34m[\u001b[0m\u001b[0;36m1\u001b[0m\u001b[0;34m]\u001b[0m\u001b[0;34m)\u001b[0m\u001b[0;34m\u001b[0m\u001b[0;34m\u001b[0m\u001b[0m\n\u001b[1;32m      4\u001b[0m \u001b[0mprint\u001b[0m\u001b[0;34m(\u001b[0m\u001b[0mword\u001b[0m\u001b[0;34m[\u001b[0m\u001b[0;36m2\u001b[0m\u001b[0;34m]\u001b[0m\u001b[0;34m)\u001b[0m\u001b[0;34m\u001b[0m\u001b[0;34m\u001b[0m\u001b[0m\n\u001b[0;32m----> 5\u001b[0;31m \u001b[0mprint\u001b[0m\u001b[0;34m(\u001b[0m\u001b[0mword\u001b[0m\u001b[0;34m[\u001b[0m\u001b[0;36m3\u001b[0m\u001b[0;34m]\u001b[0m\u001b[0;34m)\u001b[0m\u001b[0;34m\u001b[0m\u001b[0;34m\u001b[0m\u001b[0m\n\u001b[0m",
            "\u001b[0;31mIndexError\u001b[0m: string index out of range"
          ]
        }
      ]
    },
    {
      "cell_type": "markdown",
      "metadata": {
        "id": "cfxNcueryz2g",
        "colab_type": "text"
      },
      "source": [
        "Here’s a better approach:"
      ]
    },
    {
      "cell_type": "code",
      "metadata": {
        "id": "7cN--mPWy1KF",
        "colab_type": "code",
        "colab": {
          "base_uri": "https://localhost:8080/",
          "height": 86
        },
        "outputId": "fe0fdc58-907b-437a-e4e4-17212978d711"
      },
      "source": [
        "word = 'lead'\n",
        "for char in word:\n",
        "    print(char)\n",
        "\n"
      ],
      "execution_count": 5,
      "outputs": [
        {
          "output_type": "stream",
          "text": [
            "l\n",
            "e\n",
            "a\n",
            "d\n"
          ],
          "name": "stdout"
        }
      ]
    },
    {
      "cell_type": "markdown",
      "metadata": {
        "id": "nejaIb0ay7V6",
        "colab_type": "text"
      },
      "source": [
        "This is shorter — certainly shorter than something that prints every character in a hundred-letter string — and more robust as well:"
      ]
    },
    {
      "cell_type": "code",
      "metadata": {
        "id": "yu6xVYYSy8Z0",
        "colab_type": "code",
        "colab": {
          "base_uri": "https://localhost:8080/",
          "height": 121
        },
        "outputId": "a95494ca-9106-44ef-afb4-d12cd9c887ee"
      },
      "source": [
        "word = 'oxygen'\n",
        "for char in word:\n",
        "    print(char)\n"
      ],
      "execution_count": 6,
      "outputs": [
        {
          "output_type": "stream",
          "text": [
            "o\n",
            "x\n",
            "y\n",
            "g\n",
            "e\n",
            "n\n"
          ],
          "name": "stdout"
        }
      ]
    },
    {
      "cell_type": "markdown",
      "metadata": {
        "id": "bRx5-10EzAuY",
        "colab_type": "text"
      },
      "source": [
        "The improved version uses a for loop to repeat an operation — in this case, printing — once for each thing in a sequence. The general form of a loop is:\n",
        "\n",
        "\n",
        "```\n",
        "for variable in collection:\n",
        "    #do things using variable, such as print\n",
        "```\n",
        "\n"
      ]
    },
    {
      "cell_type": "markdown",
      "metadata": {
        "id": "vbrOeyj2zQHn",
        "colab_type": "text"
      },
      "source": [
        "Using the oxygen example above, the loop might look like this:\n",
        "\n",
        "![alt text](https://swcarpentry.github.io/python-novice-inflammation/fig/loops_image.png)"
      ]
    },
    {
      "cell_type": "markdown",
      "metadata": {
        "id": "xN20V6THzWR1",
        "colab_type": "text"
      },
      "source": [
        "where each character (`char`) in the variable `word` is looped through and printed one character after another. The numbers in the diagram denote which loop cycle the character was printed in (1 being the first loop, and 6 being the final loop).\n",
        "\n",
        "We can call the loop variable anything we like, but there must be a colon at the end of the line starting the loop, and we must indent anything we want to run inside the loop. Unlike many other languages, there is no command to signify the end of the loop body (e.g. `end for`); what is indented after the `for` statement belongs to the loop."
      ]
    },
    {
      "cell_type": "markdown",
      "metadata": {
        "id": "L-9NQTXIzq0F",
        "colab_type": "text"
      },
      "source": [
        "### What's in a name?\n",
        "In the example above, the loop variable was given the name `char` as a mnemonic; it is short for ‘character’. We can choose any name we want for variables. We can even call our loop variable `banana`, as long as we use this name consistently:"
      ]
    },
    {
      "cell_type": "code",
      "metadata": {
        "id": "xSCk-OYUz4i7",
        "colab_type": "code",
        "colab": {
          "base_uri": "https://localhost:8080/",
          "height": 121
        },
        "outputId": "c82d573b-9a72-4c16-fd8a-9c71d5bcc7fb"
      },
      "source": [
        "word = 'oxygen'\n",
        "for banana in word:\n",
        "    print(banana)\n"
      ],
      "execution_count": 8,
      "outputs": [
        {
          "output_type": "stream",
          "text": [
            "o\n",
            "x\n",
            "y\n",
            "g\n",
            "e\n",
            "n\n"
          ],
          "name": "stdout"
        }
      ]
    },
    {
      "cell_type": "markdown",
      "metadata": {
        "id": "H_oTUS220IOs",
        "colab_type": "text"
      },
      "source": [
        "It is a good idea to choose variable names that are meaningful, otherwise it would be more difficult to understand what the loop is doing."
      ]
    },
    {
      "cell_type": "markdown",
      "metadata": {
        "id": "5EDopsKy0aqi",
        "colab_type": "text"
      },
      "source": [
        "## (Lesson continued)\n",
        "Here’s another loop that repeatedly updates a variable:"
      ]
    },
    {
      "cell_type": "code",
      "metadata": {
        "id": "L6Lh_CAH0hxy",
        "colab_type": "code",
        "colab": {
          "base_uri": "https://localhost:8080/",
          "height": 34
        },
        "outputId": "7e1d725b-20dc-4906-915e-974aff5fc4d3"
      },
      "source": [
        "length = 0\n",
        "for vowel in 'aeiou':\n",
        "    length = length + 1\n",
        "print('There are', length, 'vowels')\n"
      ],
      "execution_count": 9,
      "outputs": [
        {
          "output_type": "stream",
          "text": [
            "There are 5 vowels\n"
          ],
          "name": "stdout"
        }
      ]
    },
    {
      "cell_type": "markdown",
      "metadata": {
        "id": "dVz8mZDo0tld",
        "colab_type": "text"
      },
      "source": [
        "It’s worth tracing the execution of this little program step by step. Since there are five characters in `'aeiou'`, the statement on line 3 will be executed five times. The first time around, `length` is zero (the value assigned to it on line 1) and `vowel` is `'a'`. The statement adds 1 to the old value of `length`, producing 1, and updates `length` to refer to that new value. The next time around, `vowel` is `'e'` and `length` is 1, so `length` is updated to be 2. After three more updates, `length` is 5; since there is nothing left in `'aeiou'` for Python to process, the loop finishes and the print statement on line 4 tells us our final answer.\n",
        "\n",
        "Note that a loop variable is a variable that’s being used to record progress in a loop. It still exists after the loop is over, and we can re-use variables previously defined as loop variables as well:"
      ]
    },
    {
      "cell_type": "code",
      "metadata": {
        "id": "kAU1suNr1MHm",
        "colab_type": "code",
        "colab": {
          "base_uri": "https://localhost:8080/",
          "height": 86
        },
        "outputId": "57d3e000-3eea-46db-b19e-89ef25e8075f"
      },
      "source": [
        "letter = 'z'\n",
        "for letter in 'abc':\n",
        "    print(letter)\n",
        "print('after the loop, letter is', letter)\n"
      ],
      "execution_count": 10,
      "outputs": [
        {
          "output_type": "stream",
          "text": [
            "a\n",
            "b\n",
            "c\n",
            "after the loop, letter is c\n"
          ],
          "name": "stdout"
        }
      ]
    },
    {
      "cell_type": "markdown",
      "metadata": {
        "id": "mrpbSDm11Xu-",
        "colab_type": "text"
      },
      "source": [
        "Note also that finding the length of a string is such a common operation that Python actually has a built-in function to do it called `len`:"
      ]
    },
    {
      "cell_type": "code",
      "metadata": {
        "id": "zGD6RB9K1cYJ",
        "colab_type": "code",
        "colab": {
          "base_uri": "https://localhost:8080/",
          "height": 34
        },
        "outputId": "899f9877-5b93-4914-ca14-be45c522645c"
      },
      "source": [
        "print(len('aeiou'))\n"
      ],
      "execution_count": 11,
      "outputs": [
        {
          "output_type": "stream",
          "text": [
            "5\n"
          ],
          "name": "stdout"
        }
      ]
    },
    {
      "cell_type": "markdown",
      "metadata": {
        "id": "kLpxC4yG1hT9",
        "colab_type": "text"
      },
      "source": [
        "`len` is much faster than any function we could write ourselves, and much easier to read than a two-line loop; it will also give us the length of many other things that we haven’t met yet, so we should always use it when we can."
      ]
    },
    {
      "cell_type": "markdown",
      "metadata": {
        "id": "HCXNH1Fx1lAN",
        "colab_type": "text"
      },
      "source": [
        "## Exercise: From 1 to N\n",
        "Python has a built-in function called `range` that generates a sequence of numbers. `range` can accept 1, 2, or 3 parameters.\n",
        "\n",
        "- If one parameter is given, `range` generates a sequence of that length, starting at zero and incrementing by 1. For example, `range(3)` produces the numbers `0, 1, 2`.\n",
        "- If two parameters are given, `range` starts at the first and ends just before the second, incrementing by one. For example, `range(2, 5)` produces `2, 3, 4`.\n",
        "- If range is given 3 parameters, it starts at the first one, ends just before the second one, and increments by the third one. For example, `range(3, 10, 2)` produces `3, 5, 7, 9`.\n",
        "\n",
        "Using `range`, write a loop that uses `range` to print the first 3 natural numbers:\n",
        "\n",
        "\n",
        "```\n",
        "1\n",
        "2\n",
        "3\n",
        "```\n",
        "\n"
      ]
    },
    {
      "cell_type": "code",
      "metadata": {
        "id": "Iv9xwvwg2EvP",
        "colab_type": "code",
        "colab": {}
      },
      "source": [
        ""
      ],
      "execution_count": 0,
      "outputs": []
    },
    {
      "cell_type": "markdown",
      "metadata": {
        "id": "Vat1dk_42YTq",
        "colab_type": "text"
      },
      "source": [
        "## Exercise: Understanding the Loops\n",
        "Given the following loop:\n",
        "\n",
        "```\n",
        "word = 'oxygen'\n",
        "for char in word:\n",
        "    print(char)\n",
        "```\n",
        "\n",
        "\n",
        "\n",
        "How many times is the body of the loop executed?\n",
        "\n",
        "  - 3 times\n",
        "  - 4 times\n",
        "  - 5 times\n",
        "  - 6 times\n"
      ]
    },
    {
      "cell_type": "markdown",
      "metadata": {
        "id": "KEC2rqbN2rsB",
        "colab_type": "text"
      },
      "source": [
        ""
      ]
    },
    {
      "cell_type": "markdown",
      "metadata": {
        "id": "Bc42Tjg82uZG",
        "colab_type": "text"
      },
      "source": [
        "## Exercise: Computing Powers With Loops\n",
        "Exponentiation is built into Python:\n"
      ]
    },
    {
      "cell_type": "code",
      "metadata": {
        "id": "tFgeRhOx29VL",
        "colab_type": "code",
        "colab": {
          "base_uri": "https://localhost:8080/",
          "height": 34
        },
        "outputId": "4d296cc5-bceb-4c77-f670-d48d51cd9feb"
      },
      "source": [
        "print(5 ** 3)\n",
        "\n"
      ],
      "execution_count": 12,
      "outputs": [
        {
          "output_type": "stream",
          "text": [
            "125\n"
          ],
          "name": "stdout"
        }
      ]
    },
    {
      "cell_type": "markdown",
      "metadata": {
        "id": "vL9RNy6y3AP9",
        "colab_type": "text"
      },
      "source": [
        "Write a loop that calculates the same result as 5 ** 3 using multiplication (and without exponentiation)."
      ]
    },
    {
      "cell_type": "code",
      "metadata": {
        "id": "ounjBNC-3B1p",
        "colab_type": "code",
        "colab": {}
      },
      "source": [
        ""
      ],
      "execution_count": 0,
      "outputs": []
    },
    {
      "cell_type": "markdown",
      "metadata": {
        "id": "pxgamxoI3FNa",
        "colab_type": "text"
      },
      "source": [
        "## Exercise: Reverse a String\n",
        "Knowing that two strings can be concatenated using the `+` operator, write a loop that takes a string and produces a new string with the characters in reverse order, so `'Newton'` becomes `'notweN'`."
      ]
    },
    {
      "cell_type": "code",
      "metadata": {
        "id": "fUOk6la13R80",
        "colab_type": "code",
        "colab": {}
      },
      "source": [
        ""
      ],
      "execution_count": 0,
      "outputs": []
    },
    {
      "cell_type": "markdown",
      "metadata": {
        "id": "oLFfNCMO3S51",
        "colab_type": "text"
      },
      "source": [
        "## Exercise: Computing the Value of a Polynomial\n",
        "\n",
        "The built-in function `enumerate` takes a sequence (e.g. a list) and generates a new sequence of the same length. Each element of the new sequence is a pair composed of the index (0, 1, 2,…) and the value from the original sequence:\n",
        "\n",
        "```\n",
        "for idx, val in enumerate(a_list):\n",
        "    # Do something using idx and val\n",
        "```\n",
        "The code above loops through `a_list`, assigning the index to `idx` and the value to `val`.\n",
        "\n",
        "Suppose you have encoded a polynomial as a list of coefficients in the following way: the first element is the constant term, the second element is the coefficient of the linear term, the third is the coefficient of the quadratic term, etc."
      ]
    },
    {
      "cell_type": "code",
      "metadata": {
        "id": "TkxLoDcg3oyi",
        "colab_type": "code",
        "colab": {
          "base_uri": "https://localhost:8080/",
          "height": 34
        },
        "outputId": "02324e04-73ea-4ab6-c0c3-aeac74227c16"
      },
      "source": [
        "x = 5\n",
        "coefs = [2, 4, 3]\n",
        "y = coefs[0] * x**0 + coefs[1] * x**1 + coefs[2] * x**2\n",
        "print(y)\n",
        "\n"
      ],
      "execution_count": 13,
      "outputs": [
        {
          "output_type": "stream",
          "text": [
            "97\n"
          ],
          "name": "stdout"
        }
      ]
    },
    {
      "cell_type": "markdown",
      "metadata": {
        "id": "WyNlED4v3rWa",
        "colab_type": "text"
      },
      "source": [
        "Write a loop using `enumerate(coefs)` which computes the value `y` of any polynomial, given `x` and `coefs`."
      ]
    },
    {
      "cell_type": "code",
      "metadata": {
        "id": "jVxKQlQ831Dm",
        "colab_type": "code",
        "colab": {}
      },
      "source": [
        ""
      ],
      "execution_count": 0,
      "outputs": []
    },
    {
      "cell_type": "markdown",
      "metadata": {
        "id": "BjOv3swK31pl",
        "colab_type": "text"
      },
      "source": [
        "## KEY POINTS\n",
        "\n",
        "\n",
        "- Use `for variable in sequence` to process the elements of a sequence one at a time.\n",
        "\n",
        "- The body of a `for` loop must be indented.\n",
        "\n",
        "- Use `len(thing)` to determine the length of something that contains other values.\n"
      ]
    }
  ]
}