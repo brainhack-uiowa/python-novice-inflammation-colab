{
  "nbformat": 4,
  "nbformat_minor": 0,
  "metadata": {
    "kernelspec": {
      "display_name": "Python 3",
      "language": "python",
      "name": "python3"
    },
    "language_info": {
      "codemirror_mode": {
        "name": "ipython",
        "version": 3
      },
      "file_extension": ".py",
      "mimetype": "text/x-python",
      "name": "python",
      "nbconvert_exporter": "python",
      "pygments_lexer": "ipython3",
      "version": "3.7.3"
    },
    "colab": {
      "name": "12-command-line-programs.ipynb",
      "provenance": []
    }
  },
  "cells": [
    {
      "cell_type": "code",
      "metadata": {
        "id": "NJt5TouWpIb-",
        "colab_type": "code",
        "colab": {}
      },
      "source": [
        "# setup\n",
        "!wget https://swcarpentry.github.io/python-novice-inflammation/data/python-novice-inflammation-data.zip\n",
        "!wget https://swcarpentry.github.io/python-novice-inflammation/code/python-novice-inflammation-code.zip\n",
        "\n",
        "!unzip -jn python-novice-inflammation-data.zip\n",
        "!unzip -jn python-novice-inflammation-code.zip"
      ],
      "execution_count": 0,
      "outputs": []
    },
    {
      "cell_type": "markdown",
      "metadata": {
        "id": "-OtYOcVUpMJ7",
        "colab_type": "text"
      },
      "source": [
        "All materials are from [Software Carpentry Lesson 12](https://swcarpentry.github.io/python-novice-inflammation/12-cmdline/index.html)\n",
        "\n",
        "# Command-Line Programs\n",
        "\n",
        "The Jupyter Notebook and other interactive tools are great for prototyping code and exploring data, but sooner or later we will want to use our program in a pipeline or run it in a shell script to process thousands of data files. In order to do that, we need to make our programs work like other Unix command-line tools. For example, we may want a program that reads a dataset and prints the average inflammation per patient.\n",
        "\n",
        "### Switching to Shell Commands\n",
        "\n",
        "In this lesson we are switching from typing commands in a Python interpreter to typing commands in a shell terminal window (such as bash). When you see a $ in front of a command that tells you to run that command in the shell rather than the Python interpreter.\n",
        "\n",
        "This program does exactly what we want - it prints the average inflammation per patient for a given file."
      ]
    },
    {
      "cell_type": "code",
      "metadata": {
        "id": "da9jBqxLp6ZO",
        "colab_type": "code",
        "colab": {
          "base_uri": "https://localhost:8080/",
          "height": 1000
        },
        "outputId": "1df8718c-49dd-4414-cfa3-f198ce347696"
      },
      "source": [
        "!python readings_04.py --mean inflammation-01.csv"
      ],
      "execution_count": 5,
      "outputs": [
        {
          "output_type": "stream",
          "text": [
            "5.45\n",
            "5.425\n",
            "6.1\n",
            "5.9\n",
            "5.55\n",
            "6.225\n",
            "5.975\n",
            "6.65\n",
            "6.625\n",
            "6.525\n",
            "6.775\n",
            "5.8\n",
            "6.225\n",
            "5.75\n",
            "5.225\n",
            "6.3\n",
            "6.55\n",
            "5.7\n",
            "5.85\n",
            "6.55\n",
            "5.775\n",
            "5.825\n",
            "6.175\n",
            "6.1\n",
            "5.8\n",
            "6.425\n",
            "6.05\n",
            "6.025\n",
            "6.175\n",
            "6.55\n",
            "6.175\n",
            "6.35\n",
            "6.725\n",
            "6.125\n",
            "7.075\n",
            "5.725\n",
            "5.925\n",
            "6.15\n",
            "6.075\n",
            "5.75\n",
            "5.975\n",
            "5.725\n",
            "6.3\n",
            "5.9\n",
            "6.75\n",
            "5.925\n",
            "7.225\n",
            "6.15\n",
            "5.95\n",
            "6.275\n",
            "5.7\n",
            "6.1\n",
            "6.825\n",
            "5.975\n",
            "6.725\n",
            "5.7\n",
            "6.25\n",
            "6.4\n",
            "7.05\n",
            "5.9\n"
          ],
          "name": "stdout"
        }
      ]
    },
    {
      "cell_type": "markdown",
      "metadata": {
        "id": "dphpy0ihrn2l",
        "colab_type": "text"
      },
      "source": [
        "We might also want to look at the minimum of the first four lines"
      ]
    },
    {
      "cell_type": "code",
      "metadata": {
        "id": "h8LgswSerQc6",
        "colab_type": "code",
        "colab": {
          "base_uri": "https://localhost:8080/",
          "height": 85
        },
        "outputId": "818e5019-e723-4a56-b6bf-1e634f0ca24a"
      },
      "source": [
        "! head -4 inflammation-01.csv | python readings_06.py --min"
      ],
      "execution_count": 8,
      "outputs": [
        {
          "output_type": "stream",
          "text": [
            "0.0\n",
            "0.0\n",
            "0.0\n",
            "0.0\n"
          ],
          "name": "stdout"
        }
      ]
    },
    {
      "cell_type": "markdown",
      "metadata": {
        "id": "ZzcIZLEJp-gc",
        "colab_type": "text"
      },
      "source": [
        "or the maximum inflammations in several files one after another:"
      ]
    },
    {
      "cell_type": "code",
      "metadata": {
        "id": "e29xiVEX9c9C",
        "colab_type": "code",
        "colab": {
          "base_uri": "https://localhost:8080/",
          "height": 1000
        },
        "outputId": "40311f18-a3fb-4437-ad1b-6922e87701d2"
      },
      "source": [
        "!python readings_04.py --max inflammation-*.csv"
      ],
      "execution_count": 7,
      "outputs": [
        {
          "output_type": "stream",
          "text": [
            "18.0\n",
            "18.0\n",
            "19.0\n",
            "17.0\n",
            "17.0\n",
            "18.0\n",
            "17.0\n",
            "20.0\n",
            "17.0\n",
            "18.0\n",
            "18.0\n",
            "18.0\n",
            "17.0\n",
            "16.0\n",
            "17.0\n",
            "18.0\n",
            "19.0\n",
            "19.0\n",
            "17.0\n",
            "19.0\n",
            "19.0\n",
            "16.0\n",
            "17.0\n",
            "15.0\n",
            "17.0\n",
            "17.0\n",
            "18.0\n",
            "17.0\n",
            "20.0\n",
            "17.0\n",
            "16.0\n",
            "19.0\n",
            "15.0\n",
            "15.0\n",
            "19.0\n",
            "17.0\n",
            "16.0\n",
            "17.0\n",
            "19.0\n",
            "16.0\n",
            "18.0\n",
            "19.0\n",
            "16.0\n",
            "19.0\n",
            "18.0\n",
            "16.0\n",
            "19.0\n",
            "15.0\n",
            "16.0\n",
            "18.0\n",
            "14.0\n",
            "20.0\n",
            "17.0\n",
            "15.0\n",
            "17.0\n",
            "16.0\n",
            "17.0\n",
            "19.0\n",
            "18.0\n",
            "18.0\n",
            "15.0\n",
            "15.0\n",
            "18.0\n",
            "18.0\n",
            "19.0\n",
            "18.0\n",
            "17.0\n",
            "14.0\n",
            "14.0\n",
            "18.0\n",
            "15.0\n",
            "18.0\n",
            "19.0\n",
            "19.0\n",
            "17.0\n",
            "17.0\n",
            "15.0\n",
            "17.0\n",
            "20.0\n",
            "14.0\n",
            "14.0\n",
            "14.0\n",
            "19.0\n",
            "16.0\n",
            "17.0\n",
            "17.0\n",
            "14.0\n",
            "14.0\n",
            "15.0\n",
            "19.0\n",
            "17.0\n",
            "18.0\n",
            "19.0\n",
            "15.0\n",
            "19.0\n",
            "15.0\n",
            "17.0\n",
            "16.0\n",
            "20.0\n",
            "16.0\n",
            "17.0\n",
            "18.0\n",
            "18.0\n",
            "19.0\n",
            "17.0\n",
            "17.0\n",
            "18.0\n",
            "18.0\n",
            "17.0\n",
            "19.0\n",
            "15.0\n",
            "18.0\n",
            "14.0\n",
            "17.0\n",
            "19.0\n",
            "16.0\n",
            "17.0\n",
            "19.0\n",
            "20.0\n",
            "18.0\n",
            "15.0\n",
            "17.0\n",
            "14.0\n",
            "13.0\n",
            "15.0\n",
            "15.0\n",
            "16.0\n",
            "17.0\n",
            "16.0\n",
            "19.0\n",
            "14.0\n",
            "14.0\n",
            "16.0\n",
            "14.0\n",
            "16.0\n",
            "15.0\n",
            "14.0\n",
            "18.0\n",
            "16.0\n",
            "16.0\n",
            "20.0\n",
            "20.0\n",
            "16.0\n",
            "15.0\n",
            "16.0\n",
            "15.0\n",
            "19.0\n",
            "16.0\n",
            "17.0\n",
            "18.0\n",
            "15.0\n",
            "16.0\n",
            "20.0\n",
            "16.0\n",
            "17.0\n",
            "15.0\n",
            "20.0\n",
            "16.0\n",
            "18.0\n",
            "18.0\n",
            "17.0\n",
            "18.0\n",
            "16.0\n",
            "15.0\n",
            "19.0\n",
            "15.0\n",
            "16.0\n",
            "15.0\n",
            "16.0\n",
            "19.0\n",
            "14.0\n",
            "19.0\n",
            "13.0\n",
            "15.0\n",
            "18.0\n",
            "19.0\n",
            "14.0\n",
            "16.0\n",
            "17.0\n",
            "0.0\n",
            "17.0\n",
            "17.0\n",
            "17.0\n",
            "17.0\n",
            "18.0\n",
            "18.0\n",
            "19.0\n",
            "20.0\n",
            "16.0\n",
            "19.0\n",
            "19.0\n",
            "20.0\n",
            "16.0\n",
            "16.0\n",
            "17.0\n",
            "20.0\n",
            "19.0\n",
            "17.0\n",
            "19.0\n",
            "18.0\n",
            "19.0\n",
            "18.0\n",
            "19.0\n",
            "17.0\n",
            "17.0\n",
            "16.0\n",
            "17.0\n",
            "16.0\n",
            "17.0\n",
            "20.0\n",
            "19.0\n",
            "18.0\n",
            "16.0\n",
            "15.0\n",
            "16.0\n",
            "19.0\n",
            "17.0\n",
            "15.0\n",
            "15.0\n",
            "20.0\n",
            "16.0\n",
            "19.0\n",
            "14.0\n",
            "18.0\n",
            "18.0\n",
            "16.0\n",
            "17.0\n",
            "19.0\n",
            "17.0\n",
            "17.0\n",
            "15.0\n",
            "20.0\n",
            "20.0\n",
            "18.0\n",
            "17.0\n",
            "17.0\n",
            "18.0\n",
            "16.0\n",
            "17.0\n",
            "18.0\n",
            "15.0\n",
            "17.0\n",
            "18.0\n",
            "20.0\n",
            "18.0\n",
            "20.0\n",
            "16.0\n",
            "17.0\n",
            "16.0\n",
            "18.0\n",
            "19.0\n",
            "15.0\n",
            "16.0\n",
            "15.0\n",
            "13.0\n",
            "19.0\n",
            "18.0\n",
            "18.0\n",
            "18.0\n",
            "18.0\n",
            "17.0\n",
            "17.0\n",
            "17.0\n",
            "18.0\n",
            "16.0\n",
            "19.0\n",
            "18.0\n",
            "16.0\n",
            "16.0\n",
            "18.0\n",
            "15.0\n",
            "19.0\n",
            "19.0\n",
            "17.0\n",
            "16.0\n",
            "20.0\n",
            "16.0\n",
            "17.0\n",
            "18.0\n",
            "17.0\n",
            "15.0\n",
            "19.0\n",
            "18.0\n",
            "15.0\n",
            "14.0\n",
            "17.0\n",
            "17.0\n",
            "20.0\n",
            "17.0\n",
            "19.0\n",
            "18.0\n",
            "16.0\n",
            "17.0\n",
            "19.0\n",
            "19.0\n",
            "16.0\n",
            "12.0\n",
            "15.0\n",
            "17.0\n",
            "19.0\n",
            "19.0\n",
            "18.0\n",
            "16.0\n",
            "18.0\n",
            "18.0\n",
            "18.0\n",
            "18.0\n",
            "18.0\n",
            "16.0\n",
            "15.0\n",
            "20.0\n",
            "14.0\n",
            "18.0\n",
            "19.0\n",
            "18.0\n",
            "16.0\n",
            "18.0\n",
            "18.0\n",
            "19.0\n",
            "19.0\n",
            "16.0\n",
            "17.0\n",
            "17.0\n",
            "17.0\n",
            "17.0\n",
            "14.0\n",
            "11.0\n",
            "18.0\n",
            "17.0\n",
            "18.0\n",
            "17.0\n",
            "16.0\n",
            "16.0\n",
            "17.0\n",
            "18.0\n",
            "19.0\n",
            "17.0\n",
            "17.0\n",
            "18.0\n",
            "18.0\n",
            "20.0\n",
            "18.0\n",
            "17.0\n",
            "17.0\n",
            "15.0\n",
            "18.0\n",
            "17.0\n",
            "18.0\n",
            "16.0\n",
            "17.0\n",
            "18.0\n",
            "17.0\n",
            "17.0\n",
            "15.0\n",
            "18.0\n",
            "16.0\n",
            "14.0\n",
            "18.0\n",
            "18.0\n",
            "16.0\n",
            "18.0\n",
            "16.0\n",
            "14.0\n",
            "18.0\n",
            "17.0\n",
            "17.0\n",
            "19.0\n",
            "18.0\n",
            "16.0\n",
            "17.0\n",
            "14.0\n",
            "16.0\n",
            "18.0\n",
            "17.0\n",
            "19.0\n",
            "13.0\n",
            "16.0\n",
            "17.0\n",
            "17.0\n",
            "20.0\n",
            "20.0\n",
            "16.0\n",
            "16.0\n",
            "20.0\n",
            "17.0\n",
            "19.0\n",
            "19.0\n",
            "19.0\n",
            "17.0\n",
            "19.0\n",
            "16.0\n",
            "15.0\n",
            "17.0\n",
            "16.0\n",
            "16.0\n",
            "19.0\n",
            "16.0\n",
            "18.0\n",
            "18.0\n",
            "13.0\n",
            "18.0\n",
            "18.0\n",
            "17.0\n",
            "17.0\n",
            "14.0\n",
            "19.0\n",
            "20.0\n",
            "15.0\n",
            "19.0\n",
            "16.0\n",
            "16.0\n",
            "20.0\n",
            "17.0\n",
            "17.0\n",
            "18.0\n",
            "17.0\n",
            "16.0\n",
            "19.0\n",
            "18.0\n",
            "16.0\n",
            "15.0\n",
            "17.0\n",
            "14.0\n",
            "13.0\n",
            "15.0\n",
            "15.0\n",
            "16.0\n",
            "17.0\n",
            "16.0\n",
            "19.0\n",
            "14.0\n",
            "14.0\n",
            "16.0\n",
            "14.0\n",
            "16.0\n",
            "15.0\n",
            "14.0\n",
            "18.0\n",
            "16.0\n",
            "16.0\n",
            "20.0\n",
            "20.0\n",
            "16.0\n",
            "15.0\n",
            "16.0\n",
            "15.0\n",
            "19.0\n",
            "16.0\n",
            "17.0\n",
            "18.0\n",
            "15.0\n",
            "16.0\n",
            "20.0\n",
            "16.0\n",
            "17.0\n",
            "15.0\n",
            "20.0\n",
            "16.0\n",
            "18.0\n",
            "18.0\n",
            "17.0\n",
            "18.0\n",
            "16.0\n",
            "15.0\n",
            "19.0\n",
            "15.0\n",
            "16.0\n",
            "15.0\n",
            "16.0\n",
            "19.0\n",
            "14.0\n",
            "19.0\n",
            "13.0\n",
            "15.0\n",
            "18.0\n",
            "19.0\n",
            "14.0\n",
            "16.0\n",
            "17.0\n",
            "0.0\n",
            "17.0\n",
            "15.0\n",
            "19.0\n",
            "17.0\n",
            "17.0\n",
            "18.0\n",
            "18.0\n",
            "18.0\n",
            "16.0\n",
            "14.0\n",
            "19.0\n",
            "19.0\n",
            "20.0\n",
            "20.0\n",
            "18.0\n",
            "18.0\n",
            "17.0\n",
            "19.0\n",
            "17.0\n",
            "16.0\n",
            "16.0\n",
            "17.0\n",
            "17.0\n",
            "16.0\n",
            "15.0\n",
            "18.0\n",
            "15.0\n",
            "17.0\n",
            "18.0\n",
            "17.0\n",
            "17.0\n",
            "15.0\n",
            "18.0\n",
            "13.0\n",
            "17.0\n",
            "19.0\n",
            "18.0\n",
            "14.0\n",
            "18.0\n",
            "14.0\n",
            "16.0\n",
            "18.0\n",
            "15.0\n",
            "20.0\n",
            "17.0\n",
            "17.0\n",
            "16.0\n",
            "16.0\n",
            "18.0\n",
            "18.0\n",
            "17.0\n",
            "20.0\n",
            "20.0\n",
            "19.0\n",
            "18.0\n",
            "14.0\n",
            "17.0\n",
            "17.0\n",
            "18.0\n",
            "18.0\n",
            "17.0\n",
            "16.0\n",
            "17.0\n",
            "15.0\n",
            "16.0\n",
            "19.0\n",
            "18.0\n",
            "17.0\n",
            "13.0\n",
            "13.0\n",
            "19.0\n",
            "16.0\n",
            "18.0\n",
            "20.0\n",
            "19.0\n",
            "16.0\n",
            "18.0\n",
            "16.0\n",
            "17.0\n",
            "18.0\n",
            "16.0\n",
            "19.0\n",
            "17.0\n",
            "16.0\n",
            "20.0\n",
            "19.0\n",
            "14.0\n",
            "14.0\n",
            "16.0\n",
            "18.0\n",
            "17.0\n",
            "16.0\n",
            "18.0\n",
            "19.0\n",
            "15.0\n",
            "18.0\n",
            "18.0\n",
            "17.0\n",
            "19.0\n",
            "18.0\n",
            "18.0\n",
            "17.0\n",
            "17.0\n",
            "18.0\n",
            "16.0\n",
            "18.0\n",
            "19.0\n",
            "16.0\n",
            "18.0\n",
            "18.0\n",
            "16.0\n",
            "14.0\n",
            "18.0\n",
            "19.0\n",
            "15.0\n",
            "17.0\n",
            "18.0\n",
            "15.0\n",
            "18.0\n",
            "16.0\n",
            "15.0\n",
            "17.0\n",
            "14.0\n",
            "13.0\n",
            "15.0\n",
            "15.0\n",
            "16.0\n",
            "17.0\n",
            "16.0\n",
            "19.0\n",
            "14.0\n",
            "14.0\n",
            "16.0\n",
            "14.0\n",
            "16.0\n",
            "15.0\n",
            "14.0\n",
            "18.0\n",
            "16.0\n",
            "16.0\n",
            "20.0\n",
            "20.0\n",
            "16.0\n",
            "15.0\n",
            "16.0\n",
            "15.0\n",
            "19.0\n",
            "16.0\n",
            "17.0\n",
            "18.0\n",
            "15.0\n",
            "16.0\n",
            "20.0\n",
            "16.0\n",
            "17.0\n",
            "15.0\n",
            "20.0\n",
            "16.0\n",
            "18.0\n",
            "18.0\n",
            "17.0\n",
            "18.0\n",
            "16.0\n",
            "15.0\n",
            "19.0\n",
            "15.0\n",
            "16.0\n",
            "15.0\n",
            "16.0\n",
            "19.0\n",
            "14.0\n",
            "19.0\n",
            "13.0\n",
            "15.0\n",
            "18.0\n",
            "19.0\n",
            "14.0\n",
            "16.0\n",
            "17.0\n",
            "0.0\n",
            "18.0\n",
            "17.0\n",
            "18.0\n",
            "17.0\n",
            "18.0\n",
            "15.0\n",
            "16.0\n",
            "19.0\n",
            "18.0\n",
            "17.0\n",
            "17.0\n",
            "17.0\n",
            "15.0\n",
            "16.0\n",
            "17.0\n",
            "14.0\n",
            "18.0\n",
            "17.0\n",
            "17.0\n",
            "17.0\n",
            "17.0\n",
            "14.0\n",
            "17.0\n",
            "14.0\n",
            "20.0\n",
            "18.0\n",
            "17.0\n",
            "19.0\n",
            "18.0\n",
            "18.0\n",
            "16.0\n",
            "18.0\n",
            "15.0\n",
            "19.0\n",
            "17.0\n",
            "16.0\n",
            "19.0\n",
            "16.0\n",
            "17.0\n",
            "15.0\n",
            "17.0\n",
            "14.0\n",
            "16.0\n",
            "18.0\n",
            "17.0\n",
            "19.0\n",
            "17.0\n",
            "19.0\n",
            "19.0\n",
            "18.0\n",
            "17.0\n",
            "15.0\n",
            "18.0\n",
            "18.0\n",
            "15.0\n",
            "16.0\n",
            "20.0\n",
            "18.0\n",
            "18.0\n",
            "17.0\n"
          ],
          "name": "stdout"
        }
      ]
    },
    {
      "cell_type": "markdown",
      "metadata": {
        "id": "H5wtejPW9qpT",
        "colab_type": "text"
      },
      "source": [
        "Our scripts should do the following:\n",
        "\n",
        "1. If no filename is given on the command line, read data from [standard input](https://swcarpentry.github.io/python-novice-inflammation/reference/#standard-input).\n",
        "2. If one or more filenames are given, read data from them and report statistics for each file separately.\n",
        "Use the `--min`, `--mean`, or `--max` flag to determine what statistic to print.\n",
        "3. To make this work, we need to know how to handle command-line arguments in a program, and understand how to handle standard input. We’ll tackle these questions in turn below.\n",
        "\n",
        "## Command-Line Arguments\n",
        "\n",
        "Using the text editor of your choice, save the following in a text file called `sys_version.py`:"
      ]
    },
    {
      "cell_type": "code",
      "metadata": {
        "id": "9ru6IUum-Lat",
        "colab_type": "code",
        "colab": {
          "base_uri": "https://localhost:8080/",
          "height": 51
        },
        "outputId": "a1576e05-0bf6-4c70-9cd8-9ecc42da817c"
      },
      "source": [
        "import sys\n",
        "print('version is', sys.version)"
      ],
      "execution_count": 9,
      "outputs": [
        {
          "output_type": "stream",
          "text": [
            "version is 3.6.9 (default, Apr 18 2020, 01:56:04) \n",
            "[GCC 8.4.0]\n"
          ],
          "name": "stdout"
        }
      ]
    },
    {
      "cell_type": "markdown",
      "metadata": {
        "id": "y68sA3k7-Z96",
        "colab_type": "text"
      },
      "source": [
        "The first line imports a library called `sys`, which is short for “system”. It defines values such as `sys.version`, which describes which version of Python we are running. We can run this script from the command line like this:"
      ]
    },
    {
      "cell_type": "code",
      "metadata": {
        "id": "McBhkv7h-g6e",
        "colab_type": "code",
        "colab": {
          "base_uri": "https://localhost:8080/",
          "height": 51
        },
        "outputId": "44338291-a5f4-4442-84c5-22ff52fdf063"
      },
      "source": [
        "!python sys_version.py"
      ],
      "execution_count": 10,
      "outputs": [
        {
          "output_type": "stream",
          "text": [
            "version is 3.6.9 (default, Apr 18 2020, 01:56:04) \n",
            "[GCC 8.4.0]\n"
          ],
          "name": "stdout"
        }
      ]
    },
    {
      "cell_type": "markdown",
      "metadata": {
        "id": "ywe6KgPx-ixB",
        "colab_type": "text"
      },
      "source": [
        "Create another file called `argv_list.py` and save the following text to it."
      ]
    },
    {
      "cell_type": "code",
      "metadata": {
        "id": "WqllkJS1-oKD",
        "colab_type": "code",
        "colab": {
          "base_uri": "https://localhost:8080/",
          "height": 54
        },
        "outputId": "13b05125-5ee4-4a90-877e-8c85b290b0ba"
      },
      "source": [
        "import sys\n",
        "print('sys.argv is', sys.argv)"
      ],
      "execution_count": 11,
      "outputs": [
        {
          "output_type": "stream",
          "text": [
            "sys.argv is ['/usr/local/lib/python3.6/dist-packages/ipykernel_launcher.py', '-f', '/root/.local/share/jupyter/runtime/kernel-730a53a0-f2d1-4371-8bb3-0f45ab2f426b.json']\n"
          ],
          "name": "stdout"
        }
      ]
    },
    {
      "cell_type": "markdown",
      "metadata": {
        "id": "6DYXCPHu-sHl",
        "colab_type": "text"
      },
      "source": [
        "The strange name `argv` stands for “argument values”. Whenever Python runs a program, it takes all of the values given on the command line and puts them in the list `sys.argv` so that the program can determine what they were. If we run this program with no arguments:"
      ]
    },
    {
      "cell_type": "code",
      "metadata": {
        "id": "9LhKdmFl_N-z",
        "colab_type": "code",
        "colab": {
          "base_uri": "https://localhost:8080/",
          "height": 34
        },
        "outputId": "9d92b67b-2dca-4eaa-d295-2e80a3fb026f"
      },
      "source": [
        "!python argv_list.py"
      ],
      "execution_count": 12,
      "outputs": [
        {
          "output_type": "stream",
          "text": [
            "sys.argv is ['argv_list.py']\n"
          ],
          "name": "stdout"
        }
      ]
    },
    {
      "cell_type": "markdown",
      "metadata": {
        "id": "pOfD5EuZ_Q1p",
        "colab_type": "text"
      },
      "source": [
        "the only thing in the list is the full path to our script, which is always `sys.argv[0]`. If we run it with a few arguments, however:"
      ]
    },
    {
      "cell_type": "code",
      "metadata": {
        "id": "6E8QHLku_WpS",
        "colab_type": "code",
        "colab": {
          "base_uri": "https://localhost:8080/",
          "height": 34
        },
        "outputId": "09dcead8-f8d4-4d37-9b99-d49997ceab16"
      },
      "source": [
        "!python argv_list.py first second third"
      ],
      "execution_count": 13,
      "outputs": [
        {
          "output_type": "stream",
          "text": [
            "sys.argv is ['argv_list.py', 'first', 'second', 'third']\n"
          ],
          "name": "stdout"
        }
      ]
    },
    {
      "cell_type": "markdown",
      "metadata": {
        "id": "6DYtApMD_Uuq",
        "colab_type": "text"
      },
      "source": [
        "then Python adds each of those arguments to that magic list.\n",
        "\n",
        "With this in hand, let’s build a version of `readings.py` that always prints the per-patient mean of a single data file. The first step is to write a function that outlines our implementation, and a placeholder for the function that does the actual work. By convention this function is usually called `main`, though we can call it whatever we want:"
      ]
    },
    {
      "cell_type": "code",
      "metadata": {
        "id": "m32hjNvvNG8f",
        "colab_type": "code",
        "colab": {
          "base_uri": "https://localhost:8080/",
          "height": 187
        },
        "outputId": "1d2f295b-f28d-4792-a6f0-be6dc7856736"
      },
      "source": [
        "!cat readings_01.py"
      ],
      "execution_count": 14,
      "outputs": [
        {
          "output_type": "stream",
          "text": [
            "import sys\n",
            "import numpy\n",
            "\n",
            "\n",
            "def main():\n",
            "    script = sys.argv[0]\n",
            "    filename = sys.argv[1]\n",
            "    data = numpy.loadtxt(filename, delimiter=',')\n",
            "    for m in data.mean(axis=1):\n",
            "        print(m)\n"
          ],
          "name": "stdout"
        }
      ]
    },
    {
      "cell_type": "markdown",
      "metadata": {
        "id": "AfYFd332NPe7",
        "colab_type": "text"
      },
      "source": [
        "This function gets the name of the script from `sys.argv[0]`, because that’s where it’s always put, and the name of the file to process from `sys.argv[1]`. Here’s a simple test:"
      ]
    },
    {
      "cell_type": "code",
      "metadata": {
        "id": "wBf7P4RkNTpo",
        "colab_type": "code",
        "colab": {}
      },
      "source": [
        "!python readings_01.py inflammation-01.csv"
      ],
      "execution_count": 0,
      "outputs": []
    },
    {
      "cell_type": "markdown",
      "metadata": {
        "id": "A8JB0zACNaOi",
        "colab_type": "text"
      },
      "source": [
        "There is no output because we have defined a function, but haven’t actually called it. Let’s add a call to `main`:"
      ]
    },
    {
      "cell_type": "code",
      "metadata": {
        "id": "DEfeJktaNfGl",
        "colab_type": "code",
        "colab": {
          "base_uri": "https://localhost:8080/",
          "height": 255
        },
        "outputId": "2839ff22-06b3-40b4-b9d8-dba23f25fa1d"
      },
      "source": [
        "!cat readings_02.py"
      ],
      "execution_count": 17,
      "outputs": [
        {
          "output_type": "stream",
          "text": [
            "import sys\n",
            "import numpy\n",
            "\n",
            "\n",
            "def main():\n",
            "    script = sys.argv[0]\n",
            "    filename = sys.argv[1]\n",
            "    data = numpy.loadtxt(filename, delimiter=',')\n",
            "    for m in data.mean(axis=1):\n",
            "        print(m)\n",
            "\n",
            "\n",
            "if __name__ == '__main__':\n",
            "    main()\n"
          ],
          "name": "stdout"
        }
      ]
    },
    {
      "cell_type": "code",
      "metadata": {
        "id": "wb6RgNc0NhaO",
        "colab_type": "code",
        "colab": {
          "base_uri": "https://localhost:8080/",
          "height": 1000
        },
        "outputId": "4436d8aa-be28-40b0-b589-59358342bc3a"
      },
      "source": [
        "!python readings_02.py inflammation-01.csv"
      ],
      "execution_count": 20,
      "outputs": [
        {
          "output_type": "stream",
          "text": [
            "5.45\n",
            "5.425\n",
            "6.1\n",
            "5.9\n",
            "5.55\n",
            "6.225\n",
            "5.975\n",
            "6.65\n",
            "6.625\n",
            "6.525\n",
            "6.775\n",
            "5.8\n",
            "6.225\n",
            "5.75\n",
            "5.225\n",
            "6.3\n",
            "6.55\n",
            "5.7\n",
            "5.85\n",
            "6.55\n",
            "5.775\n",
            "5.825\n",
            "6.175\n",
            "6.1\n",
            "5.8\n",
            "6.425\n",
            "6.05\n",
            "6.025\n",
            "6.175\n",
            "6.55\n",
            "6.175\n",
            "6.35\n",
            "6.725\n",
            "6.125\n",
            "7.075\n",
            "5.725\n",
            "5.925\n",
            "6.15\n",
            "6.075\n",
            "5.75\n",
            "5.975\n",
            "5.725\n",
            "6.3\n",
            "5.9\n",
            "6.75\n",
            "5.925\n",
            "7.225\n",
            "6.15\n",
            "5.95\n",
            "6.275\n",
            "5.7\n",
            "6.1\n",
            "6.825\n",
            "5.975\n",
            "6.725\n",
            "5.7\n",
            "6.25\n",
            "6.4\n",
            "7.05\n",
            "5.9\n"
          ],
          "name": "stdout"
        }
      ]
    },
    {
      "cell_type": "markdown",
      "metadata": {
        "id": "uf-DZ3f9OM12",
        "colab_type": "text"
      },
      "source": [
        "### Running Versus Importing\n",
        "\n",
        "Running a Python script in bash is very similar to importing that file in Python. The biggest difference is that we don’t expect anything to happen when we import a file, whereas when running a script, we expect to see some output printed to the console.\n",
        "\n",
        "In order for a Python script to work as expected when imported or when run as a script, we typically put the part of the script that produces output in the following if statement:\n",
        "\n",
        "```\n",
        "if __name__ == '__main__':\n",
        "    main()  # Or whatever function produces output\n",
        "```\n",
        "\n",
        "When you import a Python file, `__name__` is the name of that file (e.g., when importing `readings.py`, `__name__` is 'readings'). However, when running a script in bash, `__name__` is always set to `'__main__'` in that script so that you can determine if the file is being imported or run as a script.\n",
        "\n",
        "### The Right Way to Do It\n",
        "\n",
        "If our programs can take complex parameters or multiple filenames, we shouldn’t handle `sys.argv` directly. Instead, we should use Python’s `argparse` library, which handles common cases in a systematic way, and also makes it easy for us to provide sensible error messages for our users. We will not cover this module in this lesson but you can go to [Tshepang Lekhonkhobe’s Argparse tutorial](https://docs.python.org/3/howto/argparse.html) that is part of Python’s Official Documentation.\n",
        "\n",
        "## Handling Multiple Files\n",
        "\n",
        "The next step is to teach our program how to handle multiple files. Since 60 lines of output per file is a lot to page through, we’ll start by using three smaller files, each of which has three days of data for two patients:"
      ]
    },
    {
      "cell_type": "code",
      "metadata": {
        "id": "UfJ3qcYqO60F",
        "colab_type": "code",
        "colab": {
          "base_uri": "https://localhost:8080/",
          "height": 34
        },
        "outputId": "22606b1f-1c87-4e8f-d25a-722df5933b82"
      },
      "source": [
        "!ls small-*.csv"
      ],
      "execution_count": 21,
      "outputs": [
        {
          "output_type": "stream",
          "text": [
            "small-01.csv  small-02.csv  small-03.csv\n"
          ],
          "name": "stdout"
        }
      ]
    },
    {
      "cell_type": "code",
      "metadata": {
        "id": "CaMpsT0aO-G8",
        "colab_type": "code",
        "colab": {
          "base_uri": "https://localhost:8080/",
          "height": 51
        },
        "outputId": "3c67dbdc-2596-4a73-c27f-2b1ea377cc95"
      },
      "source": [
        "cat small-01.csv"
      ],
      "execution_count": 22,
      "outputs": [
        {
          "output_type": "stream",
          "text": [
            "0,0,1\n",
            "0,1,2\n"
          ],
          "name": "stdout"
        }
      ]
    },
    {
      "cell_type": "code",
      "metadata": {
        "id": "w0DgFtZTPAxx",
        "colab_type": "code",
        "colab": {
          "base_uri": "https://localhost:8080/",
          "height": 51
        },
        "outputId": "30704ae7-f479-4414-e822-f9cc6dec0d5a"
      },
      "source": [
        "!python readings_02.py small-01.csv"
      ],
      "execution_count": 23,
      "outputs": [
        {
          "output_type": "stream",
          "text": [
            "0.3333333333333333\n",
            "1.0\n"
          ],
          "name": "stdout"
        }
      ]
    },
    {
      "cell_type": "markdown",
      "metadata": {
        "id": "nlvrnJLhPGF3",
        "colab_type": "text"
      },
      "source": [
        "Using small data files as input also allows us to check our results more easily: here, for example, we can see that our program is calculating the mean correctly for each line, whereas we were really taking it on faith before. This is yet another rule of programming: *test the simple things first*.\n",
        "\n",
        "We want our program to process each file separately, so we need a loop that executes once for each filename. If we specify the files on the command line, the filenames will be in sys.argv, but we need to be careful: `sys.argv[0]` will always be the name of our script, rather than the name of a file. We also need to handle an unknown number of filenames, since our program could be run for any number of files.\n",
        "\n",
        "The solution to both problems is to loop over the contents of `sys.argv[1:]`. The ‘1’ tells Python to start the slice at location 1, so the program’s name isn’t included; since we’ve left off the upper bound, the slice runs to the end of the list, and includes all the filenames. Here’s our changed program `readings_03.py`:"
      ]
    },
    {
      "cell_type": "code",
      "metadata": {
        "id": "EnFDZyxQPVIn",
        "colab_type": "code",
        "colab": {
          "base_uri": "https://localhost:8080/",
          "height": 255
        },
        "outputId": "572418fc-2eed-4aef-d71e-54726254123e"
      },
      "source": [
        "!cat readings_03.py"
      ],
      "execution_count": 24,
      "outputs": [
        {
          "output_type": "stream",
          "text": [
            "import sys\n",
            "import numpy\n",
            "\n",
            "\n",
            "def main():\n",
            "    script = sys.argv[0]\n",
            "    for filename in sys.argv[1:]:\n",
            "        data = numpy.loadtxt(filename, delimiter=',')\n",
            "        for m in data.mean(axis=1):\n",
            "            print(m)\n",
            "\n",
            "\n",
            "if __name__ == '__main__':\n",
            "    main()\n"
          ],
          "name": "stdout"
        }
      ]
    },
    {
      "cell_type": "markdown",
      "metadata": {
        "id": "TWKkukWKPY1X",
        "colab_type": "text"
      },
      "source": [
        "and here it is in action:"
      ]
    },
    {
      "cell_type": "code",
      "metadata": {
        "id": "GPQE7aPUPZL9",
        "colab_type": "code",
        "colab": {
          "base_uri": "https://localhost:8080/",
          "height": 85
        },
        "outputId": "fc2f8f79-f39e-42ce-e8ae-21ab6dba5cde"
      },
      "source": [
        "!python readings_03.py small-01.csv small-02.csv"
      ],
      "execution_count": 25,
      "outputs": [
        {
          "output_type": "stream",
          "text": [
            "0.3333333333333333\n",
            "1.0\n",
            "13.666666666666666\n",
            "11.0\n"
          ],
          "name": "stdout"
        }
      ]
    },
    {
      "cell_type": "markdown",
      "metadata": {
        "id": "1fD0BGwEPgzU",
        "colab_type": "text"
      },
      "source": [
        "### The Right Way to Do It\n",
        "\n",
        "At this point, we have created three versions of our script called `readings_01.py`, `readings_02.py`, and `readings_03.py`. We wouldn’t do this in real life: instead, we would have one file called `readings.py` that we committed to version control every time we got an enhancement working. For teaching, though, we need all the successive versions side by side.\n",
        "\n",
        "## Handling Command-Line Flags\n",
        "\n",
        "The next step is to teach our program to pay attention to the `--min`, `--mean`, and `--max` flags. These always appear before the names of the files, so we could do this:\n",
        "\n"
      ]
    },
    {
      "cell_type": "code",
      "metadata": {
        "id": "Nkt4Cce_Pwrj",
        "colab_type": "code",
        "colab": {
          "base_uri": "https://localhost:8080/",
          "height": 442
        },
        "outputId": "df49ad33-e98d-482f-dbbe-d0b1a3c4f4ec"
      },
      "source": [
        "!cat readings_04.py"
      ],
      "execution_count": 26,
      "outputs": [
        {
          "output_type": "stream",
          "text": [
            "import sys\n",
            "import numpy\n",
            "\n",
            "\n",
            "def main():\n",
            "    script = sys.argv[0]\n",
            "    action = sys.argv[1]\n",
            "    filenames = sys.argv[2:]\n",
            "\n",
            "    for f in filenames:\n",
            "        data = numpy.loadtxt(f, delimiter=',')\n",
            "\n",
            "        if action == '--min':\n",
            "            values = data.min(axis=1)\n",
            "        elif action == '--mean':\n",
            "            values = data.mean(axis=1)\n",
            "        elif action == '--max':\n",
            "            values = data.max(axis=1)\n",
            "\n",
            "        for m in values:\n",
            "            print(m)\n",
            "\n",
            "\n",
            "if __name__ == '__main__':\n",
            "    main()\n"
          ],
          "name": "stdout"
        }
      ]
    },
    {
      "cell_type": "markdown",
      "metadata": {
        "id": "JqR5Eap-P2cR",
        "colab_type": "text"
      },
      "source": [
        "This works:"
      ]
    },
    {
      "cell_type": "code",
      "metadata": {
        "id": "L29sePdhP2_V",
        "colab_type": "code",
        "colab": {
          "base_uri": "https://localhost:8080/",
          "height": 51
        },
        "outputId": "aa60cc05-a0b9-4f79-9d2a-dfadf2a43d9d"
      },
      "source": [
        "!python readings_04.py --max small-01.csv"
      ],
      "execution_count": 27,
      "outputs": [
        {
          "output_type": "stream",
          "text": [
            "1.0\n",
            "2.0\n"
          ],
          "name": "stdout"
        }
      ]
    },
    {
      "cell_type": "markdown",
      "metadata": {
        "id": "2PbvnKbSP8ui",
        "colab_type": "text"
      },
      "source": [
        "but there are several things wrong with it:\n",
        "\n",
        "1. `main` is too large to read comfortably.\n",
        "\n",
        "2. If we do not specify at least two additional arguments on the command-line, one for the **flag** and one for the **filename**, but only one, the program will not throw an exception but will run. It assumes that the file list is empty, as `sys.argv[1]` will be considered the `action`, even if it is a filename. [Silent failures](https://swcarpentry.github.io/python-novice-inflammation/reference/#silence-failure) like this are always hard to debug.\n",
        "\n",
        "3. The program should check if the submitted `action` is one of the three recognized flags.\n",
        "\n",
        "This version pulls the processing of each file out of the loop into a function of its own. It also checks that `action` is one of the allowed flags before doing any processing, so that the program fails fast:"
      ]
    },
    {
      "cell_type": "code",
      "metadata": {
        "id": "RHnC1vZDQg99",
        "colab_type": "code",
        "colab": {
          "base_uri": "https://localhost:8080/",
          "height": 527
        },
        "outputId": "47578a30-159b-4aa9-950a-e718a5b8e7a1"
      },
      "source": [
        "!cat readings_05.py"
      ],
      "execution_count": 28,
      "outputs": [
        {
          "output_type": "stream",
          "text": [
            "import sys\n",
            "import numpy\n",
            "\n",
            "\n",
            "def main():\n",
            "    script = sys.argv[0]\n",
            "    action = sys.argv[1]\n",
            "    filenames = sys.argv[2:]\n",
            "    assert action in ['--min', '--mean', '--max'], (\n",
            "        'Action is not one of --min, --mean, or --max: ' + action)\n",
            "    for f in filenames:\n",
            "        process(f, action)\n",
            "\n",
            "\n",
            "def process(filename, action):\n",
            "    data = numpy.loadtxt(filename, delimiter=',')\n",
            "\n",
            "    if action == '--min':\n",
            "        values = data.min(axis=1)\n",
            "    elif action == '--mean':\n",
            "        values = data.mean(axis=1)\n",
            "    elif action == '--max':\n",
            "        values = data.max(axis=1)\n",
            "\n",
            "    for m in values:\n",
            "        print(m)\n",
            "\n",
            "\n",
            "if __name__ == '__main__':\n",
            "    main()\n"
          ],
          "name": "stdout"
        }
      ]
    },
    {
      "cell_type": "markdown",
      "metadata": {
        "id": "WtlLSUpkQmXx",
        "colab_type": "text"
      },
      "source": [
        "This is four lines longer than its predecessor, but broken into more digestible chunks of 8 and 12 lines.\n",
        "\n",
        "## Handling Standard Input\n",
        "\n",
        "The next thing our program has to do is read data from standard input if no filenames are given so that we can put it in a pipeline, redirect input to it, and so on. Let’s experiment in another script called `count_stdin.py`:"
      ]
    },
    {
      "cell_type": "code",
      "metadata": {
        "id": "DfQwgU7YQxc3",
        "colab_type": "code",
        "colab": {
          "base_uri": "https://localhost:8080/",
          "height": 136
        },
        "outputId": "327c1214-7b7a-4772-b53a-0193ed4d8900"
      },
      "source": [
        "!cat count_stdin.py"
      ],
      "execution_count": 29,
      "outputs": [
        {
          "output_type": "stream",
          "text": [
            "import sys\n",
            "\n",
            "count = 0\n",
            "for line in sys.stdin:\n",
            "    count += 1\n",
            "\n",
            "print(count, 'lines in standard input')\n"
          ],
          "name": "stdout"
        }
      ]
    },
    {
      "cell_type": "markdown",
      "metadata": {
        "id": "j53HbCXfQ1c_",
        "colab_type": "text"
      },
      "source": [
        "This little program reads lines from a special “file” called `sys.stdin`, which is automatically connected to the program’s standard input. We don’t have to open it — Python and the operating system take care of that when the program starts up — but we can do almost anything with it that we could do to a regular file. Let’s try running it as if it were a regular command-line program:"
      ]
    },
    {
      "cell_type": "code",
      "metadata": {
        "id": "Xr0Co_AKQ8qB",
        "colab_type": "code",
        "colab": {
          "base_uri": "https://localhost:8080/",
          "height": 34
        },
        "outputId": "b7029689-935e-4802-a116-82ebdd637b8e"
      },
      "source": [
        "!python count_stdin.py < small-01.csv"
      ],
      "execution_count": 30,
      "outputs": [
        {
          "output_type": "stream",
          "text": [
            "2 lines in standard input\n"
          ],
          "name": "stdout"
        }
      ]
    },
    {
      "cell_type": "markdown",
      "metadata": {
        "id": "y20tToPLQ7bu",
        "colab_type": "text"
      },
      "source": [
        "A common mistake is to try to run something that reads from standard input like this:"
      ]
    },
    {
      "cell_type": "code",
      "metadata": {
        "id": "yPJwCIzTREhm",
        "colab_type": "code",
        "colab": {
          "base_uri": "https://localhost:8080/",
          "height": 102
        },
        "outputId": "1df25ca5-353a-44a4-c5c2-8c0fa4bc0bff"
      },
      "source": [
        "!python count_stdin.py small-01.csv"
      ],
      "execution_count": 31,
      "outputs": [
        {
          "output_type": "stream",
          "text": [
            "Traceback (most recent call last):\n",
            "  File \"count_stdin.py\", line 4, in <module>\n",
            "    for line in sys.stdin:\n",
            "KeyboardInterrupt\n",
            "^C\n"
          ],
          "name": "stdout"
        }
      ]
    },
    {
      "cell_type": "markdown",
      "metadata": {
        "id": "1vZzVsobRLRa",
        "colab_type": "text"
      },
      "source": [
        "i.e., to forget the `<` character that redirects the file to standard input. In this case, there’s nothing in standard input, so the program waits at the start of the loop for someone to type something on the keyboard. Since there’s no way for us to do this, our program is stuck, and we have to halt it using the `Interrupt` option from the `Kernel` menu in the Notebook.\n",
        "\n",
        "We now need to rewrite the program so that it loads data from `sys.stdin` if no filenames are provided. Luckily, `numpy.loadtxt` can handle either a filename or an open file as its first parameter, so we don’t actually need to change `process`. Only `main` changes:"
      ]
    },
    {
      "cell_type": "code",
      "metadata": {
        "id": "4hr61cHORKqn",
        "colab_type": "code",
        "colab": {
          "base_uri": "https://localhost:8080/",
          "height": 578
        },
        "outputId": "3a8ccf01-eea2-4065-c1aa-9c4b3e1be5d8"
      },
      "source": [
        "!cat readings_06.py"
      ],
      "execution_count": 32,
      "outputs": [
        {
          "output_type": "stream",
          "text": [
            "import sys\n",
            "import numpy\n",
            "\n",
            "\n",
            "def main():\n",
            "    script = sys.argv[0]\n",
            "    action = sys.argv[1]\n",
            "    filenames = sys.argv[2:]\n",
            "    assert action in ['--min', '--mean', '--max'], (\n",
            "        'Action is not one of --min, --mean, or --max: ' + action)\n",
            "    if len(filenames) == 0:\n",
            "        process(sys.stdin, action)\n",
            "    else:\n",
            "        for f in filenames:\n",
            "            process(f, action)\n",
            "\n",
            "\n",
            "def process(filename, action):\n",
            "    data = numpy.loadtxt(filename, delimiter=',')\n",
            "\n",
            "    if action == '--min':\n",
            "        values = data.min(axis=1)\n",
            "    elif action == '--mean':\n",
            "        values = data.mean(axis=1)\n",
            "    elif action == '--max':\n",
            "        values = data.max(axis=1)\n",
            "\n",
            "    for m in values:\n",
            "        print(m)\n",
            "\n",
            "\n",
            "if __name__ == '__main__':\n",
            "    main()\n"
          ],
          "name": "stdout"
        }
      ]
    },
    {
      "cell_type": "markdown",
      "metadata": {
        "id": "TkluI5L2Rnjg",
        "colab_type": "text"
      },
      "source": [
        "Let’s try it out:"
      ]
    },
    {
      "cell_type": "code",
      "metadata": {
        "id": "llsRg2D3Rnxi",
        "colab_type": "code",
        "colab": {
          "base_uri": "https://localhost:8080/",
          "height": 51
        },
        "outputId": "1f93572a-84b3-4e1a-fb36-def3ccf3b60f"
      },
      "source": [
        "!python readings_06.py --mean < small-01.csv"
      ],
      "execution_count": 34,
      "outputs": [
        {
          "output_type": "stream",
          "text": [
            "0.3333333333333333\n",
            "1.0\n"
          ],
          "name": "stdout"
        }
      ]
    },
    {
      "cell_type": "markdown",
      "metadata": {
        "id": "otRGC_qCRwUM",
        "colab_type": "text"
      },
      "source": [
        "That’s better. In fact, that’s done: the program now does everything we set out to do."
      ]
    },
    {
      "cell_type": "markdown",
      "metadata": {
        "id": "EcAOkQjiR3z1",
        "colab_type": "text"
      },
      "source": [
        "## Exercise: Arithmetic on the Command Line\n",
        "Write a command-line program that does addition and subtraction:\n",
        "\n",
        "```\n",
        "$ python arith.py add 1 2\n",
        "```\n",
        "Output\n",
        "```\n",
        "3\n",
        "```\n",
        "\n",
        "```\n",
        "$ python arith.py subtract 3 4\n",
        "```\n",
        "Output\n",
        "```\n",
        "-1\n",
        "```"
      ]
    },
    {
      "cell_type": "code",
      "metadata": {
        "id": "53cvrOHwSmjk",
        "colab_type": "code",
        "colab": {}
      },
      "source": [
        ""
      ],
      "execution_count": 0,
      "outputs": []
    },
    {
      "cell_type": "markdown",
      "metadata": {
        "id": "R2H59jAUSAZs",
        "colab_type": "text"
      },
      "source": [
        "## Exercise: Finding Particular Files\n",
        "Using the glob module introduced earlier, write a simple version of ls that shows files in the current directory with a particular suffix. A call to this script should look like this:\n",
        "\n",
        "```\n",
        "$ python my_ls.py py\n",
        "```\n",
        "Output\n",
        "```\n",
        "left.py\n",
        "right.py\n",
        "zero.py\n",
        "```"
      ]
    },
    {
      "cell_type": "code",
      "metadata": {
        "id": "GtcM2tfOSnRj",
        "colab_type": "code",
        "colab": {}
      },
      "source": [
        ""
      ],
      "execution_count": 0,
      "outputs": []
    },
    {
      "cell_type": "markdown",
      "metadata": {
        "id": "w-aRs7mKSAzN",
        "colab_type": "text"
      },
      "source": [
        "## Exercise: Changing Flags\n",
        "Rewrite `readings.py` so that it uses `-n`, `-m`, and `-x` instead of `--min`, `--mean`, and `--max` respectively. Is the code easier to read? Is the program easier to understand?"
      ]
    },
    {
      "cell_type": "code",
      "metadata": {
        "id": "Ln4tW4eNSx14",
        "colab_type": "code",
        "colab": {}
      },
      "source": [
        ""
      ],
      "execution_count": 0,
      "outputs": []
    },
    {
      "cell_type": "markdown",
      "metadata": {
        "id": "yQ-IQFR_SBGe",
        "colab_type": "text"
      },
      "source": [
        "## Exercise: Adding a Help Message\n",
        "Separately, modify `readings.py` so that if no parameters are given (i.e., no action is specified and no filenames are given), it prints a message explaining how it should be used."
      ]
    },
    {
      "cell_type": "code",
      "metadata": {
        "id": "mfEfXKHzS1wv",
        "colab_type": "code",
        "colab": {}
      },
      "source": [
        ""
      ],
      "execution_count": 0,
      "outputs": []
    },
    {
      "cell_type": "markdown",
      "metadata": {
        "id": "QxqyTIJzSBY8",
        "colab_type": "text"
      },
      "source": [
        "## Exercise: Adding a Default Action\n",
        "Separately, modify `readings.py` so that if no action is given it displays the means of the data."
      ]
    },
    {
      "cell_type": "code",
      "metadata": {
        "id": "Aulk0wM6S-ch",
        "colab_type": "code",
        "colab": {}
      },
      "source": [
        ""
      ],
      "execution_count": 0,
      "outputs": []
    },
    {
      "cell_type": "markdown",
      "metadata": {
        "id": "9Y5AChy9SBo0",
        "colab_type": "text"
      },
      "source": [
        "## Exercise: A File-Checker\n",
        "Write a program called `check.py` that takes the names of one or more inflammation data files as arguments and checks that all the files have the same number of rows and columns. What is the best way to test your program?"
      ]
    },
    {
      "cell_type": "code",
      "metadata": {
        "id": "Wt6NxULRTKGZ",
        "colab_type": "code",
        "colab": {}
      },
      "source": [
        ""
      ],
      "execution_count": 0,
      "outputs": []
    },
    {
      "cell_type": "markdown",
      "metadata": {
        "id": "DdVqQCdHTDT6",
        "colab_type": "text"
      },
      "source": [
        "## Exercise: Counting Lines\n",
        "Write a program called `line_count.py` that works like the Unix wc command:\n",
        "\n",
        "* If no filenames are given, it reports the number of lines in standard input.\n",
        "* If one or more filenames are given, it reports the number of lines in each, followed by the total number of lines."
      ]
    },
    {
      "cell_type": "markdown",
      "metadata": {
        "id": "2w7GsaVaTDzR",
        "colab_type": "text"
      },
      "source": [
        "## Exercise: Generate an Error Message\n",
        "Write a program called `check_arguments.py` that prints usage then exits the program if no arguments are provided. (Hint: You can use `sys.exit()` to exit the program.)\n",
        "```\n",
        "$ python check_arguments.py\n",
        "```\n",
        "\n",
        "Output\n",
        "```\n",
        "usage: python check_argument.py filename.txt\n",
        "```\n",
        "\n",
        "```\n",
        "$ python check_arguments.py filename.txt\n",
        "```\n",
        "\n",
        "Output\n",
        "```\n",
        "Thanks for specifying arguments!\n",
        "```\n"
      ]
    },
    {
      "cell_type": "markdown",
      "metadata": {
        "id": "wC6hd5_NTEKS",
        "colab_type": "text"
      },
      "source": [
        "## Exercise: Key Points\n",
        "\n",
        "* The `sys` library connects a Python program to the system it is running on.\n",
        "\n",
        "* The list `sys.argv` contains the command-line arguments that a program was run with.\n",
        "\n",
        "* Avoid silent failures.\n",
        "\n",
        "* The pseudo-file `sys.stdin` connects to a program’s standard input."
      ]
    }
  ]
}