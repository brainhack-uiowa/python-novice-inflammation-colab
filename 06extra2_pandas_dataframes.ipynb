{
  "nbformat": 4,
  "nbformat_minor": 0,
  "metadata": {
    "colab": {
      "name": "06extra2-pandas-dataframes.ipynb",
      "provenance": [],
      "authorship_tag": "ABX9TyNCLTbNHWi37R4CCyphsJiL",
      "include_colab_link": true
    },
    "kernelspec": {
      "name": "python3",
      "display_name": "Python 3"
    }
  },
  "cells": [
    {
      "cell_type": "markdown",
      "metadata": {
        "id": "view-in-github",
        "colab_type": "text"
      },
      "source": [
        "<a href=\"https://colab.research.google.com/github/brainhack-uiowa/python-novice-inflammation-colab/blob/master/06extra2_pandas_dataframes.ipynb\" target=\"_parent\"><img src=\"https://colab.research.google.com/assets/colab-badge.svg\" alt=\"Open In Colab\"/></a>"
      ]
    },
    {
      "cell_type": "code",
      "metadata": {
        "id": "xd1g-y6PwZog",
        "colab_type": "code",
        "colab": {
          "base_uri": "https://localhost:8080/",
          "height": 330
        },
        "outputId": "4c56fb4e-e7ef-4e9c-a217-74f2a5f172df"
      },
      "source": [
        "# setup\n",
        "!wget http://swcarpentry.github.io/python-novice-gapminder/files/python-novice-gapminder-data.zip\n",
        "!unzip -n python-novice-gapminder-data.zip"
      ],
      "execution_count": 1,
      "outputs": [
        {
          "output_type": "stream",
          "text": [
            "--2020-06-14 03:02:01--  http://swcarpentry.github.io/python-novice-gapminder/files/python-novice-gapminder-data.zip\n",
            "Resolving swcarpentry.github.io (swcarpentry.github.io)... 185.199.111.153, 185.199.108.153, 185.199.110.153, ...\n",
            "Connecting to swcarpentry.github.io (swcarpentry.github.io)|185.199.111.153|:80... connected.\n",
            "HTTP request sent, awaiting response... 200 OK\n",
            "Length: 38471 (38K) [application/zip]\n",
            "Saving to: ‘python-novice-gapminder-data.zip’\n",
            "\n",
            "\r          python-no   0%[                    ]       0  --.-KB/s               \rpython-novice-gapmi 100%[===================>]  37.57K  --.-KB/s    in 0.02s   \n",
            "\n",
            "2020-06-14 03:02:02 (2.07 MB/s) - ‘python-novice-gapminder-data.zip’ saved [38471/38471]\n",
            "\n",
            "Archive:  python-novice-gapminder-data.zip\n",
            "  inflating: data/gapminder_all.csv  \n",
            "  inflating: data/gapminder_gdp_africa.csv  \n",
            "  inflating: data/gapminder_gdp_americas.csv  \n",
            "  inflating: data/gapminder_gdp_asia.csv  \n",
            "  inflating: data/gapminder_gdp_europe.csv  \n",
            "  inflating: data/gapminder_gdp_oceania.csv  \n"
          ],
          "name": "stdout"
        }
      ]
    },
    {
      "cell_type": "markdown",
      "metadata": {
        "id": "c4E-Suyj3fT7",
        "colab_type": "text"
      },
      "source": [
        "Original lesson and solutions available at [Software Carpentry](https://swcarpentry.github.io/python-novice-gapminder/08-data-frames/index.html)"
      ]
    },
    {
      "cell_type": "markdown",
      "metadata": {
        "id": "DCSNDNHHwzft",
        "colab_type": "text"
      },
      "source": [
        "# Pandas DataFrames\n",
        "\n",
        "## Note about Pandas DataFrames/Series\n",
        "\n",
        "A DataFrame is a collection of Series; The DataFrame is the way Pandas represents a table, and Series is the data-structure Pandas use to represent a column.\n",
        "\n",
        "Pandas is built on top of the Numpy library, which in practice means that most of the methods defined for Numpy Arrays apply to Pandas Series/DataFrames.\n",
        "\n",
        "What makes Pandas so attractive is the powerful interface to access individual records of the table, proper handling of missing values, and relational-databases operations between DataFrames."
      ]
    },
    {
      "cell_type": "markdown",
      "metadata": {
        "id": "rRQQtncFxB8Y",
        "colab_type": "text"
      },
      "source": [
        "## Selecting values\n",
        "\n",
        "To access a value at the position `[i,j]` of a DataFrame, we have two options, depending on what is the meaning of `i` in use. Remember that a DataFrame provides an *index* as a way to identify the rows of the table; a row, then, has a *position* inside the table as well as a *label*, which uniquely identifies its *entry* in the DataFrame."
      ]
    },
    {
      "cell_type": "markdown",
      "metadata": {
        "id": "lkuXnDF7xghR",
        "colab_type": "text"
      },
      "source": [
        "## Use `DataFrame.iloc[..., ...]` to select values by their (entry) position\n",
        "- Can specify location by numerical index analogously to 2D version of character selection in strings."
      ]
    },
    {
      "cell_type": "code",
      "metadata": {
        "id": "WNMoB5LpxqqH",
        "colab_type": "code",
        "colab": {
          "base_uri": "https://localhost:8080/",
          "height": 34
        },
        "outputId": "1c33a6ac-ef6c-40a9-9316-dfcacb0397b5"
      },
      "source": [
        "import pandas as pd\n",
        "data = pd.read_csv('data/gapminder_gdp_europe.csv', index_col='country')\n",
        "print(data.iloc[0, 0])\n"
      ],
      "execution_count": 2,
      "outputs": [
        {
          "output_type": "stream",
          "text": [
            "1601.056136\n"
          ],
          "name": "stdout"
        }
      ]
    },
    {
      "cell_type": "markdown",
      "metadata": {
        "id": "iJ2VnYWKxyiu",
        "colab_type": "text"
      },
      "source": [
        "## Use `DataFrame.loc[..., ...]` to select values by their (entry) label.\n",
        "- Can specify location by row name analogously to 2D version of dictionary keys.\n",
        "\n"
      ]
    },
    {
      "cell_type": "code",
      "metadata": {
        "id": "GooTfO65x8Ah",
        "colab_type": "code",
        "colab": {
          "base_uri": "https://localhost:8080/",
          "height": 34
        },
        "outputId": "358940a6-fb4b-4c19-b0d5-cf859ff46003"
      },
      "source": [
        "data = pd.read_csv('data/gapminder_gdp_europe.csv', index_col='country')\n",
        "print(data.loc[\"Albania\", \"gdpPercap_1952\"])\n"
      ],
      "execution_count": 3,
      "outputs": [
        {
          "output_type": "stream",
          "text": [
            "1601.056136\n"
          ],
          "name": "stdout"
        }
      ]
    },
    {
      "cell_type": "markdown",
      "metadata": {
        "id": "Q1Fs1hbVx9eb",
        "colab_type": "text"
      },
      "source": [
        "## Use `:` on its own to mean all columns or all rows.\n",
        "- Just like Python’s usual slicing notation.\n"
      ]
    },
    {
      "cell_type": "code",
      "metadata": {
        "id": "NvpHPtC1yC1u",
        "colab_type": "code",
        "colab": {
          "base_uri": "https://localhost:8080/",
          "height": 243
        },
        "outputId": "4caf7e14-1abf-4db4-e277-0701f14d2aca"
      },
      "source": [
        "print(data.loc[\"Albania\", :])\n"
      ],
      "execution_count": 4,
      "outputs": [
        {
          "output_type": "stream",
          "text": [
            "gdpPercap_1952    1601.056136\n",
            "gdpPercap_1957    1942.284244\n",
            "gdpPercap_1962    2312.888958\n",
            "gdpPercap_1967    2760.196931\n",
            "gdpPercap_1972    3313.422188\n",
            "gdpPercap_1977    3533.003910\n",
            "gdpPercap_1982    3630.880722\n",
            "gdpPercap_1987    3738.932735\n",
            "gdpPercap_1992    2497.437901\n",
            "gdpPercap_1997    3193.054604\n",
            "gdpPercap_2002    4604.211737\n",
            "gdpPercap_2007    5937.029526\n",
            "Name: Albania, dtype: float64\n"
          ],
          "name": "stdout"
        }
      ]
    },
    {
      "cell_type": "markdown",
      "metadata": {
        "id": "vQUWRprtyOYG",
        "colab_type": "text"
      },
      "source": [
        "- Would get the same result printing `data.loc[\"Albania\"]` (without a second index)."
      ]
    },
    {
      "cell_type": "code",
      "metadata": {
        "id": "5882bM5uySg_",
        "colab_type": "code",
        "colab": {
          "base_uri": "https://localhost:8080/",
          "height": 573
        },
        "outputId": "d9bcdd9e-f463-427b-ad2c-d789afb321a9"
      },
      "source": [
        "print(data.loc[:, \"gdpPercap_1952\"])\n"
      ],
      "execution_count": 5,
      "outputs": [
        {
          "output_type": "stream",
          "text": [
            "country\n",
            "Albania                    1601.056136\n",
            "Austria                    6137.076492\n",
            "Belgium                    8343.105127\n",
            "Bosnia and Herzegovina      973.533195\n",
            "Bulgaria                   2444.286648\n",
            "Croatia                    3119.236520\n",
            "Czech Republic             6876.140250\n",
            "Denmark                    9692.385245\n",
            "Finland                    6424.519071\n",
            "France                     7029.809327\n",
            "Germany                    7144.114393\n",
            "Greece                     3530.690067\n",
            "Hungary                    5263.673816\n",
            "Iceland                    7267.688428\n",
            "Ireland                    5210.280328\n",
            "Italy                      4931.404155\n",
            "Montenegro                 2647.585601\n",
            "Netherlands                8941.571858\n",
            "Norway                    10095.421720\n",
            "Poland                     4029.329699\n",
            "Portugal                   3068.319867\n",
            "Romania                    3144.613186\n",
            "Serbia                     3581.459448\n",
            "Slovak Republic            5074.659104\n",
            "Slovenia                   4215.041741\n",
            "Spain                      3834.034742\n",
            "Sweden                     8527.844662\n",
            "Switzerland               14734.232750\n",
            "Turkey                     1969.100980\n",
            "United Kingdom             9979.508487\n",
            "Name: gdpPercap_1952, dtype: float64\n"
          ],
          "name": "stdout"
        }
      ]
    },
    {
      "cell_type": "markdown",
      "metadata": {
        "id": "MIUUgj7gyYca",
        "colab_type": "text"
      },
      "source": [
        "- Would get the same result printing `data[\"gdpPercap_1952\"]`\n",
        "- Also get the same result printing `data.gdpPercap_1952` (not recommended, because easily confused with `.` notation for methods)\n"
      ]
    },
    {
      "cell_type": "markdown",
      "metadata": {
        "id": "Wi86hGGeyh36",
        "colab_type": "text"
      },
      "source": [
        "## Select multiple columns or rows using DataFrame.loc and a named slice."
      ]
    },
    {
      "cell_type": "code",
      "metadata": {
        "id": "OhkvLumryoHU",
        "colab_type": "code",
        "colab": {
          "base_uri": "https://localhost:8080/",
          "height": 139
        },
        "outputId": "7f4ce069-3cab-41bb-9e06-f7f2cc4b3970"
      },
      "source": [
        "print(data.loc['Italy':'Poland', 'gdpPercap_1962':'gdpPercap_1972'])\n"
      ],
      "execution_count": 6,
      "outputs": [
        {
          "output_type": "stream",
          "text": [
            "             gdpPercap_1962  gdpPercap_1967  gdpPercap_1972\n",
            "country                                                    \n",
            "Italy           8243.582340    10022.401310    12269.273780\n",
            "Montenegro      4649.593785     5907.850937     7778.414017\n",
            "Netherlands    12790.849560    15363.251360    18794.745670\n",
            "Norway         13450.401510    16361.876470    18965.055510\n",
            "Poland          5338.752143     6557.152776     8006.506993\n"
          ],
          "name": "stdout"
        }
      ]
    },
    {
      "cell_type": "markdown",
      "metadata": {
        "id": "Aq6NvgCByr65",
        "colab_type": "text"
      },
      "source": [
        "In the above code, we discover that **slicing using `loc` is inclusive at both ends**, which differs from **slicing using `iloc`**, where slicing indicates everything up to but not including the final index."
      ]
    },
    {
      "cell_type": "markdown",
      "metadata": {
        "id": "umNABW1Oy1us",
        "colab_type": "text"
      },
      "source": [
        "## Result of slicing can be used in further operations.\n",
        "- Usually don’t just print a slice.\n",
        "- All the statistical operators that work on entire dataframes work the same way on slices.\n",
        "- E.g., calculate max of a slice.\n"
      ]
    },
    {
      "cell_type": "code",
      "metadata": {
        "id": "BchyYVT_y-Y8",
        "colab_type": "code",
        "colab": {
          "base_uri": "https://localhost:8080/",
          "height": 86
        },
        "outputId": "7fe061db-70e6-4f82-b12a-4191474db663"
      },
      "source": [
        "print(data.loc['Italy':'Poland', 'gdpPercap_1962':'gdpPercap_1972'].max())\n"
      ],
      "execution_count": 7,
      "outputs": [
        {
          "output_type": "stream",
          "text": [
            "gdpPercap_1962    13450.40151\n",
            "gdpPercap_1967    16361.87647\n",
            "gdpPercap_1972    18965.05551\n",
            "dtype: float64\n"
          ],
          "name": "stdout"
        }
      ]
    },
    {
      "cell_type": "code",
      "metadata": {
        "id": "N-VtXbG3zBWp",
        "colab_type": "code",
        "colab": {
          "base_uri": "https://localhost:8080/",
          "height": 86
        },
        "outputId": "536dea86-6bde-4406-819d-58009bcf776b"
      },
      "source": [
        "print(data.loc['Italy':'Poland', 'gdpPercap_1962':'gdpPercap_1972'].min())\n"
      ],
      "execution_count": 8,
      "outputs": [
        {
          "output_type": "stream",
          "text": [
            "gdpPercap_1962    4649.593785\n",
            "gdpPercap_1967    5907.850937\n",
            "gdpPercap_1972    7778.414017\n",
            "dtype: float64\n"
          ],
          "name": "stdout"
        }
      ]
    },
    {
      "cell_type": "markdown",
      "metadata": {
        "id": "wyr3kWtJzHVp",
        "colab_type": "text"
      },
      "source": [
        "## Use comparisons to select data based on value.\n",
        "\n",
        "- Comparison is applied element by element.\n",
        "- Returns a similarly-shaped dataframe of `True` and `False`.\n"
      ]
    },
    {
      "cell_type": "code",
      "metadata": {
        "id": "zR6T8bANzNRQ",
        "colab_type": "code",
        "colab": {
          "base_uri": "https://localhost:8080/",
          "height": 312
        },
        "outputId": "55d4bbee-40bd-4f39-8994-7d7248bd8e6d"
      },
      "source": [
        "# Use a subset of data to keep output readable.\n",
        "subset = data.loc['Italy':'Poland', 'gdpPercap_1962':'gdpPercap_1972']\n",
        "print('Subset of data:\\n', subset)\n",
        "\n",
        "# Which values were greater than 10000 ?\n",
        "print('\\nWhere are values large?\\n', subset > 10000)\n"
      ],
      "execution_count": 9,
      "outputs": [
        {
          "output_type": "stream",
          "text": [
            "Subset of data:\n",
            "              gdpPercap_1962  gdpPercap_1967  gdpPercap_1972\n",
            "country                                                    \n",
            "Italy           8243.582340    10022.401310    12269.273780\n",
            "Montenegro      4649.593785     5907.850937     7778.414017\n",
            "Netherlands    12790.849560    15363.251360    18794.745670\n",
            "Norway         13450.401510    16361.876470    18965.055510\n",
            "Poland          5338.752143     6557.152776     8006.506993\n",
            "\n",
            "Where are values large?\n",
            "              gdpPercap_1962  gdpPercap_1967  gdpPercap_1972\n",
            "country                                                    \n",
            "Italy                 False            True            True\n",
            "Montenegro            False           False           False\n",
            "Netherlands            True            True            True\n",
            "Norway                 True            True            True\n",
            "Poland                False           False           False\n"
          ],
          "name": "stdout"
        }
      ]
    },
    {
      "cell_type": "markdown",
      "metadata": {
        "id": "hzF4nRZTzUcV",
        "colab_type": "text"
      },
      "source": [
        "## Select values or NaN using a Boolean mask.\n",
        "- A frame full of Booleans is sometimes called a *mask* because of how it can be used.\n"
      ]
    },
    {
      "cell_type": "code",
      "metadata": {
        "id": "LnQoZta5zbx-",
        "colab_type": "code",
        "colab": {
          "base_uri": "https://localhost:8080/",
          "height": 139
        },
        "outputId": "bea46a39-0abc-44f4-9d9b-f2c8dc5d1dd0"
      },
      "source": [
        "mask = subset > 10000\n",
        "print(subset[mask])\n"
      ],
      "execution_count": 10,
      "outputs": [
        {
          "output_type": "stream",
          "text": [
            "             gdpPercap_1962  gdpPercap_1967  gdpPercap_1972\n",
            "country                                                    \n",
            "Italy                   NaN     10022.40131     12269.27378\n",
            "Montenegro              NaN             NaN             NaN\n",
            "Netherlands     12790.84956     15363.25136     18794.74567\n",
            "Norway          13450.40151     16361.87647     18965.05551\n",
            "Poland                  NaN             NaN             NaN\n"
          ],
          "name": "stdout"
        }
      ]
    },
    {
      "cell_type": "markdown",
      "metadata": {
        "id": "bqnJ5C7tzf0e",
        "colab_type": "text"
      },
      "source": [
        "- Get the value where the mask is true, and NaN (Not a Number) where it is false.\n",
        "- Useful because NaNs are ignored by operations like max, min, average, etc.\n"
      ]
    },
    {
      "cell_type": "code",
      "metadata": {
        "id": "IV1O_sj8zqDW",
        "colab_type": "code",
        "colab": {
          "base_uri": "https://localhost:8080/",
          "height": 173
        },
        "outputId": "6af8aaaf-747e-498b-fae7-27c74740ab2c"
      },
      "source": [
        "print(subset[subset > 10000].describe())\n"
      ],
      "execution_count": 11,
      "outputs": [
        {
          "output_type": "stream",
          "text": [
            "       gdpPercap_1962  gdpPercap_1967  gdpPercap_1972\n",
            "count        2.000000        3.000000        3.000000\n",
            "mean     13120.625535    13915.843047    16676.358320\n",
            "std        466.373656     3408.589070     3817.597015\n",
            "min      12790.849560    10022.401310    12269.273780\n",
            "25%      12955.737547    12692.826335    15532.009725\n",
            "50%      13120.625535    15363.251360    18794.745670\n",
            "75%      13285.513523    15862.563915    18879.900590\n",
            "max      13450.401510    16361.876470    18965.055510\n"
          ],
          "name": "stdout"
        }
      ]
    },
    {
      "cell_type": "markdown",
      "metadata": {
        "id": "w3IN7ygfzvat",
        "colab_type": "text"
      },
      "source": [
        "## Group By: split-apply-combine\n",
        "\n",
        "Pandas vectorizing methods and grouping operations are features that provide users much flexibility to analyse their data.\n",
        "\n",
        "For instance, let’s say we want to have a clearer view on how the European countries split themselves according to their GDP.\n",
        "\n",
        "1. We may have a glance by splitting the countries in two groups during the years surveyed, those who presented a GDP *higher* than the European average and those with a *lower* GDP.\n",
        "2. We then estimate a *wealthy score* based on the historical (from 1962 to 2007) values, where we account how many times a country has participated in the groups of *lower* or *higher* GDP\n"
      ]
    },
    {
      "cell_type": "code",
      "metadata": {
        "id": "kUf7dyGNz7lf",
        "colab_type": "code",
        "colab": {
          "base_uri": "https://localhost:8080/",
          "height": 573
        },
        "outputId": "061ec3e1-f98d-4d5a-abe3-d2a32fb54103"
      },
      "source": [
        "mask_higher = data > data.mean()\n",
        "wealth_score = mask_higher.aggregate('sum', axis=1) / len(data.columns)\n",
        "wealth_score\n"
      ],
      "execution_count": 12,
      "outputs": [
        {
          "output_type": "execute_result",
          "data": {
            "text/plain": [
              "country\n",
              "Albania                   0.000000\n",
              "Austria                   1.000000\n",
              "Belgium                   1.000000\n",
              "Bosnia and Herzegovina    0.000000\n",
              "Bulgaria                  0.000000\n",
              "Croatia                   0.000000\n",
              "Czech Republic            0.500000\n",
              "Denmark                   1.000000\n",
              "Finland                   1.000000\n",
              "France                    1.000000\n",
              "Germany                   1.000000\n",
              "Greece                    0.333333\n",
              "Hungary                   0.000000\n",
              "Iceland                   1.000000\n",
              "Ireland                   0.333333\n",
              "Italy                     0.500000\n",
              "Montenegro                0.000000\n",
              "Netherlands               1.000000\n",
              "Norway                    1.000000\n",
              "Poland                    0.000000\n",
              "Portugal                  0.000000\n",
              "Romania                   0.000000\n",
              "Serbia                    0.000000\n",
              "Slovak Republic           0.000000\n",
              "Slovenia                  0.333333\n",
              "Spain                     0.333333\n",
              "Sweden                    1.000000\n",
              "Switzerland               1.000000\n",
              "Turkey                    0.000000\n",
              "United Kingdom            1.000000\n",
              "dtype: float64"
            ]
          },
          "metadata": {
            "tags": []
          },
          "execution_count": 12
        }
      ]
    },
    {
      "cell_type": "markdown",
      "metadata": {
        "id": "QjCGPJ7i0MMn",
        "colab_type": "text"
      },
      "source": [
        "Finally, for each group in the `wealth_score` table, we sum their (financial) contribution across the years surveyed:"
      ]
    },
    {
      "cell_type": "code",
      "metadata": {
        "id": "UlPEqbII0Oju",
        "colab_type": "code",
        "colab": {
          "base_uri": "https://localhost:8080/",
          "height": 195
        },
        "outputId": "51768619-1d04-469e-ef41-7602f6bf31ee"
      },
      "source": [
        "data.groupby(wealth_score).sum()"
      ],
      "execution_count": 13,
      "outputs": [
        {
          "output_type": "execute_result",
          "data": {
            "text/html": [
              "<div>\n",
              "<style scoped>\n",
              "    .dataframe tbody tr th:only-of-type {\n",
              "        vertical-align: middle;\n",
              "    }\n",
              "\n",
              "    .dataframe tbody tr th {\n",
              "        vertical-align: top;\n",
              "    }\n",
              "\n",
              "    .dataframe thead th {\n",
              "        text-align: right;\n",
              "    }\n",
              "</style>\n",
              "<table border=\"1\" class=\"dataframe\">\n",
              "  <thead>\n",
              "    <tr style=\"text-align: right;\">\n",
              "      <th></th>\n",
              "      <th>gdpPercap_1952</th>\n",
              "      <th>gdpPercap_1957</th>\n",
              "      <th>gdpPercap_1962</th>\n",
              "      <th>gdpPercap_1967</th>\n",
              "      <th>gdpPercap_1972</th>\n",
              "      <th>gdpPercap_1977</th>\n",
              "      <th>gdpPercap_1982</th>\n",
              "      <th>gdpPercap_1987</th>\n",
              "      <th>gdpPercap_1992</th>\n",
              "      <th>gdpPercap_1997</th>\n",
              "      <th>gdpPercap_2002</th>\n",
              "      <th>gdpPercap_2007</th>\n",
              "    </tr>\n",
              "  </thead>\n",
              "  <tbody>\n",
              "    <tr>\n",
              "      <th>0.000000</th>\n",
              "      <td>36916.854200</td>\n",
              "      <td>46110.918793</td>\n",
              "      <td>56850.065437</td>\n",
              "      <td>71324.848786</td>\n",
              "      <td>88569.346898</td>\n",
              "      <td>104459.358438</td>\n",
              "      <td>113553.768507</td>\n",
              "      <td>119649.599409</td>\n",
              "      <td>92380.047256</td>\n",
              "      <td>103772.937598</td>\n",
              "      <td>118590.929863</td>\n",
              "      <td>149577.357928</td>\n",
              "    </tr>\n",
              "    <tr>\n",
              "      <th>0.333333</th>\n",
              "      <td>16790.046878</td>\n",
              "      <td>20942.456800</td>\n",
              "      <td>25744.935321</td>\n",
              "      <td>33567.667670</td>\n",
              "      <td>45277.839976</td>\n",
              "      <td>53860.456750</td>\n",
              "      <td>59679.634020</td>\n",
              "      <td>64436.912960</td>\n",
              "      <td>67918.093220</td>\n",
              "      <td>80876.051580</td>\n",
              "      <td>102086.795210</td>\n",
              "      <td>122803.729520</td>\n",
              "    </tr>\n",
              "    <tr>\n",
              "      <th>0.500000</th>\n",
              "      <td>11807.544405</td>\n",
              "      <td>14505.000150</td>\n",
              "      <td>18380.449470</td>\n",
              "      <td>21421.846200</td>\n",
              "      <td>25377.727380</td>\n",
              "      <td>29056.145370</td>\n",
              "      <td>31914.712050</td>\n",
              "      <td>35517.678220</td>\n",
              "      <td>36310.666080</td>\n",
              "      <td>40723.538700</td>\n",
              "      <td>45564.308390</td>\n",
              "      <td>51403.028210</td>\n",
              "    </tr>\n",
              "    <tr>\n",
              "      <th>1.000000</th>\n",
              "      <td>104317.277560</td>\n",
              "      <td>127332.008735</td>\n",
              "      <td>149989.154201</td>\n",
              "      <td>178000.350040</td>\n",
              "      <td>215162.343140</td>\n",
              "      <td>241143.412730</td>\n",
              "      <td>263388.781960</td>\n",
              "      <td>296825.131210</td>\n",
              "      <td>315238.235970</td>\n",
              "      <td>346930.926170</td>\n",
              "      <td>385109.939210</td>\n",
              "      <td>427850.333420</td>\n",
              "    </tr>\n",
              "  </tbody>\n",
              "</table>\n",
              "</div>"
            ],
            "text/plain": [
              "          gdpPercap_1952  gdpPercap_1957  ...  gdpPercap_2002  gdpPercap_2007\n",
              "0.000000    36916.854200    46110.918793  ...   118590.929863   149577.357928\n",
              "0.333333    16790.046878    20942.456800  ...   102086.795210   122803.729520\n",
              "0.500000    11807.544405    14505.000150  ...    45564.308390    51403.028210\n",
              "1.000000   104317.277560   127332.008735  ...   385109.939210   427850.333420\n",
              "\n",
              "[4 rows x 12 columns]"
            ]
          },
          "metadata": {
            "tags": []
          },
          "execution_count": 13
        }
      ]
    },
    {
      "cell_type": "markdown",
      "metadata": {
        "id": "aWEW6Y5Z1ggb",
        "colab_type": "text"
      },
      "source": [
        "###Exercise: Selection of Individual Values\n",
        "Assume Pandas has been imported into your notebook and the Gapminder GDP data for Europe has been loaded:\n",
        "\n",
        "```\n",
        "import pandas as pd\n",
        "\n",
        "df = pd.read_csv('data/gapminder_gdp_europe.csv', index_col='country')\n",
        "```\n",
        "\n",
        "Write an expression to find the Per Capita GDP of Serbia in 2007."
      ]
    },
    {
      "cell_type": "code",
      "metadata": {
        "id": "ryEspqPj1rVZ",
        "colab_type": "code",
        "colab": {}
      },
      "source": [
        ""
      ],
      "execution_count": 0,
      "outputs": []
    },
    {
      "cell_type": "markdown",
      "metadata": {
        "id": "NeMTfqpb1sCF",
        "colab_type": "text"
      },
      "source": [
        "### Exercise: Extent of Slicing\n",
        "1. Do the two statements below produce the same output?\n",
        "2. Based on this, what rule governs what is included (or not) in numerical slices and named slices in Pandas?\n",
        "\n",
        "```\n",
        "print(df.iloc[0:2, 0:2])\n",
        "print(df.loc['Albania':'Belgium', 'gdpPercap_1952':'gdpPercap_1962'])\n",
        "```"
      ]
    },
    {
      "cell_type": "code",
      "metadata": {
        "id": "09pb2mK514e2",
        "colab_type": "code",
        "colab": {}
      },
      "source": [
        ""
      ],
      "execution_count": 0,
      "outputs": []
    },
    {
      "cell_type": "markdown",
      "metadata": {
        "id": "WFXqfQ7c148b",
        "colab_type": "text"
      },
      "source": [
        "###Exercise: Reconstructing Data\n",
        "Explain what each line in the following short program does: what is in `first`, `second`, etc.?\n",
        "\n",
        "```\n",
        "first = pd.read_csv('data/gapminder_all.csv', index_col='country')\n",
        "second = first[first['continent'] == 'Americas']\n",
        "third = second.drop('Puerto Rico')\n",
        "fourth = third.drop('continent', axis = 1)\n",
        "fourth.to_csv('result.csv')\n",
        "```"
      ]
    },
    {
      "cell_type": "code",
      "metadata": {
        "id": "ApBAzvRV2HZ9",
        "colab_type": "code",
        "colab": {}
      },
      "source": [
        ""
      ],
      "execution_count": 0,
      "outputs": []
    },
    {
      "cell_type": "markdown",
      "metadata": {
        "id": "soXnz4_V2I2n",
        "colab_type": "text"
      },
      "source": [
        "###Exercise: Selecting Indices\n",
        "Explain in simple terms what `idxmin` and `idxmax` do in the short program below. When would you use these methods?\n",
        "\n",
        "```\n",
        "data = pd.read_csv('data/gapminder_gdp_europe.csv', index_col='country')\n",
        "print(data.idxmin())\n",
        "print(data.idxmax())\n",
        "```"
      ]
    },
    {
      "cell_type": "code",
      "metadata": {
        "id": "UHIu0O-R2W3W",
        "colab_type": "code",
        "colab": {}
      },
      "source": [
        ""
      ],
      "execution_count": 0,
      "outputs": []
    },
    {
      "cell_type": "markdown",
      "metadata": {
        "id": "iAMAWlLf2XSR",
        "colab_type": "text"
      },
      "source": [
        "###Exercise: Practice with Selection\n",
        "\n",
        "Assume Pandas has been imported and the Gapminder GDP data for Europe has been loaded. Write an expression to select each of the following:\n",
        "- GDP per capita for all countries in 1982.\n",
        "- GDP per capita for Denmark for all years.\n",
        "- GDP per capita for all countries for years after 1985.\n",
        "- GDP per capita for each country in 2007 as a multiple of GDP per capita for that country in 1952.\n"
      ]
    },
    {
      "cell_type": "code",
      "metadata": {
        "id": "0cGoXed32q-3",
        "colab_type": "code",
        "colab": {}
      },
      "source": [
        ""
      ],
      "execution_count": 0,
      "outputs": []
    },
    {
      "cell_type": "markdown",
      "metadata": {
        "id": "U17gQkms2rWO",
        "colab_type": "text"
      },
      "source": [
        "###Exercise: Using the dir function to see available methods\n",
        "\n",
        "Python includes a `dir` function that can be used to display all of the available methods (functions) that are built into a data object. As an example, the functions available for a list data type are:\n",
        "\n",
        "```\n",
        "potatoes = [\"Russet\", \"Norkota\", \"Yukon Gold\", \"Pontiac\"]\n",
        "dir(potatoes)\n",
        "```\n",
        "This command returns:\n",
        "\n",
        "```\n",
        "['__add__',\n",
        "...\n",
        "'__subclasshook__',\n",
        " 'append',\n",
        " 'clear',\n",
        " 'copy',\n",
        " 'count',\n",
        "'extend',\n",
        "'index',\n",
        "'insert',\n",
        "'pop',\n",
        "'remove',\n",
        "'reverse',\n",
        "'sort']\n",
        "```\n",
        "\n",
        "The double underscore functions can be ignored for now; functions that are not surrounded by double underscores are the *public interface* of the list type. So, if you want to sort the list of potatoes, according to `dir` you should try,\n",
        "\n",
        "```\n",
        "potatoes.sort()\n",
        "```\n",
        "\n",
        "Assume Pandas has been imported and the Gapminder GDP data for Europe has been loaded as `data`. Then, use `dir` to find the function that prints out the median per-capita GDP across all European countries for each year that information is available."
      ]
    },
    {
      "cell_type": "code",
      "metadata": {
        "id": "gJmnOBfg3JOy",
        "colab_type": "code",
        "colab": {}
      },
      "source": [
        ""
      ],
      "execution_count": 0,
      "outputs": []
    },
    {
      "cell_type": "markdown",
      "metadata": {
        "id": "_2ENMsrf3Kl0",
        "colab_type": "text"
      },
      "source": [
        "### Exercise: Interpretation\n",
        "Poland’s borders have been stable since 1945, but changed several times in the years before then. How would you handle this if you were creating a table of GDP per capita for Poland for the entire twentieth century?"
      ]
    },
    {
      "cell_type": "code",
      "metadata": {
        "id": "3knmA3cy3RJG",
        "colab_type": "code",
        "colab": {}
      },
      "source": [
        ""
      ],
      "execution_count": 0,
      "outputs": []
    },
    {
      "cell_type": "markdown",
      "metadata": {
        "id": "-MkERwbW3Rp7",
        "colab_type": "text"
      },
      "source": [
        "## Key Points\n",
        "- Use `DataFrame.iloc[..., ...]` to select values by integer location.\n",
        "- Use `:` on its own to mean all columns or all rows.\n",
        "- Select multiple columns or rows using `DataFrame.loc` and a named slice.\n",
        "- Result of slicing can be used in further operations.\n",
        "- Use comparisons to select data based on value.\n",
        "- Select values or NaN using a Boolean mask.\n"
      ]
    }
  ]
}