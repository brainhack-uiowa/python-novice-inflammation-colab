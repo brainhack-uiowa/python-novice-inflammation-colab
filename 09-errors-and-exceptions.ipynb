{
  "nbformat": 4,
  "nbformat_minor": 0,
  "metadata": {
    "kernelspec": {
      "display_name": "Python 3",
      "language": "python",
      "name": "python3"
    },
    "language_info": {
      "codemirror_mode": {
        "name": "ipython",
        "version": 3
      },
      "file_extension": ".py",
      "mimetype": "text/x-python",
      "name": "python",
      "nbconvert_exporter": "python",
      "pygments_lexer": "ipython3",
      "version": "3.7.3"
    },
    "colab": {
      "name": "09-errors-and-exceptions.ipynb",
      "provenance": []
    }
  },
  "cells": [
    {
      "cell_type": "code",
      "metadata": {
        "id": "oaOY62JkV_vC",
        "colab_type": "code",
        "colab": {
          "base_uri": "https://localhost:8080/",
          "height": 986
        },
        "outputId": "2ce57c17-661b-4760-e44f-a7243c4ae8b8"
      },
      "source": [
        "# setup\n",
        "!wget https://swcarpentry.github.io/python-novice-inflammation/data/python-novice-inflammation-data.zip\n",
        "!wget https://swcarpentry.github.io/python-novice-inflammation/code/python-novice-inflammation-code.zip\n",
        "\n",
        "!unzip -jn python-novice-inflammation-data.zip\n",
        "!unzip -jn python-novice-inflammation-code.zip"
      ],
      "execution_count": 1,
      "outputs": [
        {
          "output_type": "stream",
          "text": [
            "--2020-05-13 09:24:54--  https://swcarpentry.github.io/python-novice-inflammation/data/python-novice-inflammation-data.zip\n",
            "Resolving swcarpentry.github.io (swcarpentry.github.io)... 185.199.110.153, 185.199.109.153, 185.199.108.153, ...\n",
            "Connecting to swcarpentry.github.io (swcarpentry.github.io)|185.199.110.153|:443... connected.\n",
            "HTTP request sent, awaiting response... 200 OK\n",
            "Length: 22554 (22K) [application/zip]\n",
            "Saving to: ‘python-novice-inflammation-data.zip’\n",
            "\n",
            "\r          python-no   0%[                    ]       0  --.-KB/s               \rpython-novice-infla 100%[===================>]  22.03K  --.-KB/s    in 0.01s   \n",
            "\n",
            "2020-05-13 09:24:54 (1.81 MB/s) - ‘python-novice-inflammation-data.zip’ saved [22554/22554]\n",
            "\n",
            "--2020-05-13 09:24:55--  https://swcarpentry.github.io/python-novice-inflammation/code/python-novice-inflammation-code.zip\n",
            "Resolving swcarpentry.github.io (swcarpentry.github.io)... 185.199.109.153, 185.199.111.153, 185.199.110.153, ...\n",
            "Connecting to swcarpentry.github.io (swcarpentry.github.io)|185.199.109.153|:443... connected.\n",
            "HTTP request sent, awaiting response... 200 OK\n",
            "Length: 7216 (7.0K) [application/zip]\n",
            "Saving to: ‘python-novice-inflammation-code.zip’\n",
            "\n",
            "python-novice-infla 100%[===================>]   7.05K  --.-KB/s    in 0s      \n",
            "\n",
            "2020-05-13 09:24:55 (66.1 MB/s) - ‘python-novice-inflammation-code.zip’ saved [7216/7216]\n",
            "\n",
            "Archive:  python-novice-inflammation-data.zip\n",
            "  inflating: inflammation-01.csv     \n",
            "  inflating: inflammation-02.csv     \n",
            "  inflating: inflammation-03.csv     \n",
            "  inflating: inflammation-04.csv     \n",
            "  inflating: inflammation-05.csv     \n",
            "  inflating: inflammation-06.csv     \n",
            "  inflating: inflammation-07.csv     \n",
            "  inflating: inflammation-08.csv     \n",
            "  inflating: inflammation-09.csv     \n",
            "  inflating: inflammation-10.csv     \n",
            "  inflating: inflammation-11.csv     \n",
            "  inflating: inflammation-12.csv     \n",
            " extracting: small-01.csv            \n",
            " extracting: small-02.csv            \n",
            " extracting: small-03.csv            \n",
            "Archive:  python-novice-inflammation-code.zip\n",
            "  inflating: argv_list.py            \n",
            "  inflating: arith.py                \n",
            "  inflating: check.py                \n",
            "  inflating: count_stdin.py          \n",
            "  inflating: gen_inflammation.py     \n",
            "  inflating: line_count.py           \n",
            "  inflating: my_ls.py                \n",
            "  inflating: readings_01.py          \n",
            "  inflating: readings_02.py          \n",
            "  inflating: readings_03.py          \n",
            "  inflating: readings_04.py          \n",
            "  inflating: readings_05.py          \n",
            "  inflating: readings_06.py          \n",
            "  inflating: readings_07.py          \n",
            "  inflating: readings_08.py          \n",
            "  inflating: readings_09.py          \n",
            "  inflating: rectangle.py            \n",
            "  inflating: sys_version.py          \n"
          ],
          "name": "stdout"
        }
      ]
    },
    {
      "cell_type": "code",
      "metadata": {
        "id": "HM_cyBY8WcMa",
        "colab_type": "code",
        "colab": {}
      },
      "source": [
        ""
      ],
      "execution_count": 0,
      "outputs": []
    }
  ]
}