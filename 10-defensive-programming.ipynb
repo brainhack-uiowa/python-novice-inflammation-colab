{
  "nbformat": 4,
  "nbformat_minor": 0,
  "metadata": {
    "kernelspec": {
      "display_name": "Python 3",
      "language": "python",
      "name": "python3"
    },
    "language_info": {
      "codemirror_mode": {
        "name": "ipython",
        "version": 3
      },
      "file_extension": ".py",
      "mimetype": "text/x-python",
      "name": "python",
      "nbconvert_exporter": "python",
      "pygments_lexer": "ipython3",
      "version": "3.7.3"
    },
    "colab": {
      "name": "10-defensive-programming.ipynb",
      "provenance": []
    }
  },
  "cells": [
    {
      "cell_type": "markdown",
      "metadata": {
        "id": "iLNtjzPbwhjc",
        "colab_type": "text"
      },
      "source": [
        "# Defensive Programming\n",
        "Our previous lessons have introduced the basic tools of programming: variables and lists, file I/O, loops, conditionals, and functions. What they haven’t done is show us how to tell whether a program is getting the right answer, and how to tell if it’s still getting the right answer as we make changes to it.\n",
        "\n",
        "To achieve that, we need to:\n",
        "*  Write programs that check their own operation.\n",
        "*  Write and run tests for widely-used functions.\n",
        "*  Make sure we know what “correct” actually means.\n",
        "\n",
        "The good news is, doing these things will speed up our programming, not slow it down. As in real carpentry — the kind done with lumber — the time saved by measuring carefully before cutting a piece of wood is much greater than the time that measuring takes."
      ]
    },
    {
      "cell_type": "markdown",
      "metadata": {
        "id": "1frIiNP7w5oi",
        "colab_type": "text"
      },
      "source": [
        "## Assertions\n",
        "The first step toward getting the right answers from our programs is to assume that mistakes will happen and to guard against them. This is called [defensive programming](https://swcarpentry.github.io/python-novice-inflammation/reference/#defensive-programming), and the most common way to do it is to add [assertions](https://swcarpentry.github.io/python-novice-inflammation/reference/#assertion) to our code so that it checks itself as it runs. An assertion is simply a statement that something must be true at a certain point in a program. When Python sees one, it evaluates the assertion’s condition. If it’s true, Python does nothing, but if it’s false, Python halts the program immediately and prints the error message if one is provided. For example, this piece of code halts as soon as the loop encounters a value that isn’t positive:"
      ]
    },
    {
      "cell_type": "code",
      "metadata": {
        "id": "MlB8fYpuw4n9",
        "colab_type": "code",
        "colab": {
          "base_uri": "https://localhost:8080/",
          "height": 232
        },
        "outputId": "1e63033c-47f3-473f-e932-4e0bc636e359"
      },
      "source": [
        "numbers = [1.5, 2.3, 0.7, -0.001, 4.4]\n",
        "total = 0.0\n",
        "for num in numbers:\n",
        "    assert num > 0.0, 'Data should only contain positive values'\n",
        "    total += num\n",
        "print('total is:', total)"
      ],
      "execution_count": 1,
      "outputs": [
        {
          "output_type": "error",
          "ename": "AssertionError",
          "evalue": "ignored",
          "traceback": [
            "\u001b[0;31m---------------------------------------------------------------------------\u001b[0m",
            "\u001b[0;31mAssertionError\u001b[0m                            Traceback (most recent call last)",
            "\u001b[0;32m<ipython-input-1-13c7d5640ddd>\u001b[0m in \u001b[0;36m<module>\u001b[0;34m()\u001b[0m\n\u001b[1;32m      2\u001b[0m \u001b[0mtotal\u001b[0m \u001b[0;34m=\u001b[0m \u001b[0;36m0.0\u001b[0m\u001b[0;34m\u001b[0m\u001b[0;34m\u001b[0m\u001b[0m\n\u001b[1;32m      3\u001b[0m \u001b[0;32mfor\u001b[0m \u001b[0mnum\u001b[0m \u001b[0;32min\u001b[0m \u001b[0mnumbers\u001b[0m\u001b[0;34m:\u001b[0m\u001b[0;34m\u001b[0m\u001b[0;34m\u001b[0m\u001b[0m\n\u001b[0;32m----> 4\u001b[0;31m     \u001b[0;32massert\u001b[0m \u001b[0mnum\u001b[0m \u001b[0;34m>\u001b[0m \u001b[0;36m0.0\u001b[0m\u001b[0;34m,\u001b[0m \u001b[0;34m'Data should only contain positive values'\u001b[0m\u001b[0;34m\u001b[0m\u001b[0;34m\u001b[0m\u001b[0m\n\u001b[0m\u001b[1;32m      5\u001b[0m     \u001b[0mtotal\u001b[0m \u001b[0;34m+=\u001b[0m \u001b[0mnum\u001b[0m\u001b[0;34m\u001b[0m\u001b[0;34m\u001b[0m\u001b[0m\n\u001b[1;32m      6\u001b[0m \u001b[0mprint\u001b[0m\u001b[0;34m(\u001b[0m\u001b[0;34m'total is:'\u001b[0m\u001b[0;34m,\u001b[0m \u001b[0mtotal\u001b[0m\u001b[0;34m)\u001b[0m\u001b[0;34m\u001b[0m\u001b[0;34m\u001b[0m\u001b[0m\n",
            "\u001b[0;31mAssertionError\u001b[0m: Data should only contain positive values"
          ]
        }
      ]
    },
    {
      "cell_type": "markdown",
      "metadata": {
        "id": "YyMzGWHZxZ6H",
        "colab_type": "text"
      },
      "source": [
        "AssertionError: Data should only contain positive values\n",
        "Programs like the Firefox browser are full of assertions: 10-20% of the code they contain are there to check that the other 80–90% are working correctly. Broadly speaking, assertions fall into three categories:\n",
        "*  A [precondition](https://swcarpentry.github.io/python-novice-inflammation/reference/#precondition) is something that must be true at the start of a function in order for it to work correctly.\n",
        "*  A [postcondition](https://swcarpentry.github.io/python-novice-inflammation/reference/#postcondition) is something that the function guarantees is true when it finishes.\n",
        "*  An [invariant](https://swcarpentry.github.io/python-novice-inflammation/reference/#invariant) is something that is always true at a particular point inside a piece of code.\n",
        "\n",
        "For example, suppose we are representing rectangles using a [tuple](https://swcarpentry.github.io/python-novice-inflammation/reference/#tuple) of four coordinates (x0, y0, x1, y1), representing the lower left and upper right corners of the rectangle. In order to do some calculations, we need to normalize the rectangle so that the lower left corner is at the origin and the longest side is 1.0 units long. This function does that, but checks that its input is correctly formatted and that its result makes sense:"
      ]
    },
    {
      "cell_type": "code",
      "metadata": {
        "id": "dLzQKuFyxRzl",
        "colab_type": "code",
        "colab": {}
      },
      "source": [
        "def normalize_rectangle(rect):\n",
        "    '''Normalizes a rectangle so that it is at the origin and 1.0 units long on its longest axis.\n",
        "    Input should be of the format (x0, y0, x1, y1).\n",
        "    (x0, y0) and (x1, y1) define the lower left and upper right corners\n",
        "    of the rectangle, respectively.'''\n",
        "    assert len(rect) == 4, 'Rectangles must contain 4 coordinates'\n",
        "    x0, y0, x1, y1 = rect\n",
        "    assert x0 < x1, 'Invalid X coordinates'\n",
        "    assert y0 < y1, 'Invalid Y coordinates'\n",
        "\n",
        "    dx = x1 - x0\n",
        "    dy = y1 - y0\n",
        "    if dx > dy:\n",
        "        scaled = float(dx) / dy\n",
        "        upper_x, upper_y = 1.0, scaled\n",
        "    else:\n",
        "        scaled = float(dx) / dy\n",
        "        upper_x, upper_y = scaled, 1.0\n",
        "\n",
        "    assert 0 < upper_x <= 1.0, 'Calculated upper X coordinate invalid'\n",
        "    assert 0 < upper_y <= 1.0, 'Calculated upper Y coordinate invalid'\n",
        "\n",
        "    return (0, 0, upper_x, upper_y)"
      ],
      "execution_count": 0,
      "outputs": []
    },
    {
      "cell_type": "markdown",
      "metadata": {
        "id": "6CLZrMU_yLLz",
        "colab_type": "text"
      },
      "source": [
        "The preconditions on lines 6, 8, and 9 catch invalid inputs:"
      ]
    },
    {
      "cell_type": "code",
      "metadata": {
        "id": "-gOU6HKuyKUD",
        "colab_type": "code",
        "colab": {
          "base_uri": "https://localhost:8080/",
          "height": 283
        },
        "outputId": "0a201e89-1ae5-474a-c075-8591eb6392c2"
      },
      "source": [
        "print(normalize_rectangle( (0.0, 1.0, 2.0) )) # missing the fourth coordinate"
      ],
      "execution_count": 3,
      "outputs": [
        {
          "output_type": "error",
          "ename": "AssertionError",
          "evalue": "ignored",
          "traceback": [
            "\u001b[0;31m---------------------------------------------------------------------------\u001b[0m",
            "\u001b[0;31mAssertionError\u001b[0m                            Traceback (most recent call last)",
            "\u001b[0;32m<ipython-input-3-1b9cd8e18a1f>\u001b[0m in \u001b[0;36m<module>\u001b[0;34m()\u001b[0m\n\u001b[0;32m----> 1\u001b[0;31m \u001b[0mprint\u001b[0m\u001b[0;34m(\u001b[0m\u001b[0mnormalize_rectangle\u001b[0m\u001b[0;34m(\u001b[0m \u001b[0;34m(\u001b[0m\u001b[0;36m0.0\u001b[0m\u001b[0;34m,\u001b[0m \u001b[0;36m1.0\u001b[0m\u001b[0;34m,\u001b[0m \u001b[0;36m2.0\u001b[0m\u001b[0;34m)\u001b[0m \u001b[0;34m)\u001b[0m\u001b[0;34m)\u001b[0m \u001b[0;31m# missing the fourth coordinate\u001b[0m\u001b[0;34m\u001b[0m\u001b[0;34m\u001b[0m\u001b[0m\n\u001b[0m",
            "\u001b[0;32m<ipython-input-2-c94cf5b065b9>\u001b[0m in \u001b[0;36mnormalize_rectangle\u001b[0;34m(rect)\u001b[0m\n\u001b[1;32m      4\u001b[0m     \u001b[0;34m(\u001b[0m\u001b[0mx0\u001b[0m\u001b[0;34m,\u001b[0m \u001b[0my0\u001b[0m\u001b[0;34m)\u001b[0m \u001b[0;32mand\u001b[0m \u001b[0;34m(\u001b[0m\u001b[0mx1\u001b[0m\u001b[0;34m,\u001b[0m \u001b[0my1\u001b[0m\u001b[0;34m)\u001b[0m \u001b[0mdefine\u001b[0m \u001b[0mthe\u001b[0m \u001b[0mlower\u001b[0m \u001b[0mleft\u001b[0m \u001b[0;32mand\u001b[0m \u001b[0mupper\u001b[0m \u001b[0mright\u001b[0m \u001b[0mcorners\u001b[0m\u001b[0;34m\u001b[0m\u001b[0;34m\u001b[0m\u001b[0m\n\u001b[1;32m      5\u001b[0m     of the rectangle, respectively.'''\n\u001b[0;32m----> 6\u001b[0;31m     \u001b[0;32massert\u001b[0m \u001b[0mlen\u001b[0m\u001b[0;34m(\u001b[0m\u001b[0mrect\u001b[0m\u001b[0;34m)\u001b[0m \u001b[0;34m==\u001b[0m \u001b[0;36m4\u001b[0m\u001b[0;34m,\u001b[0m \u001b[0;34m'Rectangles must contain 4 coordinates'\u001b[0m\u001b[0;34m\u001b[0m\u001b[0;34m\u001b[0m\u001b[0m\n\u001b[0m\u001b[1;32m      7\u001b[0m     \u001b[0mx0\u001b[0m\u001b[0;34m,\u001b[0m \u001b[0my0\u001b[0m\u001b[0;34m,\u001b[0m \u001b[0mx1\u001b[0m\u001b[0;34m,\u001b[0m \u001b[0my1\u001b[0m \u001b[0;34m=\u001b[0m \u001b[0mrect\u001b[0m\u001b[0;34m\u001b[0m\u001b[0;34m\u001b[0m\u001b[0m\n\u001b[1;32m      8\u001b[0m     \u001b[0;32massert\u001b[0m \u001b[0mx0\u001b[0m \u001b[0;34m<\u001b[0m \u001b[0mx1\u001b[0m\u001b[0;34m,\u001b[0m \u001b[0;34m'Invalid X coordinates'\u001b[0m\u001b[0;34m\u001b[0m\u001b[0;34m\u001b[0m\u001b[0m\n",
            "\u001b[0;31mAssertionError\u001b[0m: Rectangles must contain 4 coordinates"
          ]
        }
      ]
    },
    {
      "cell_type": "code",
      "metadata": {
        "id": "W_55gfpuyPP5",
        "colab_type": "code",
        "colab": {
          "base_uri": "https://localhost:8080/",
          "height": 283
        },
        "outputId": "9e030ace-4d3d-4a11-8f01-0a8637833fb2"
      },
      "source": [
        "print(normalize_rectangle( (4.0, 2.0, 1.0, 5.0) )) # X axis inverted"
      ],
      "execution_count": 4,
      "outputs": [
        {
          "output_type": "error",
          "ename": "AssertionError",
          "evalue": "ignored",
          "traceback": [
            "\u001b[0;31m---------------------------------------------------------------------------\u001b[0m",
            "\u001b[0;31mAssertionError\u001b[0m                            Traceback (most recent call last)",
            "\u001b[0;32m<ipython-input-4-325036405532>\u001b[0m in \u001b[0;36m<module>\u001b[0;34m()\u001b[0m\n\u001b[0;32m----> 1\u001b[0;31m \u001b[0mprint\u001b[0m\u001b[0;34m(\u001b[0m\u001b[0mnormalize_rectangle\u001b[0m\u001b[0;34m(\u001b[0m \u001b[0;34m(\u001b[0m\u001b[0;36m4.0\u001b[0m\u001b[0;34m,\u001b[0m \u001b[0;36m2.0\u001b[0m\u001b[0;34m,\u001b[0m \u001b[0;36m1.0\u001b[0m\u001b[0;34m,\u001b[0m \u001b[0;36m5.0\u001b[0m\u001b[0;34m)\u001b[0m \u001b[0;34m)\u001b[0m\u001b[0;34m)\u001b[0m \u001b[0;31m# X axis inverted\u001b[0m\u001b[0;34m\u001b[0m\u001b[0;34m\u001b[0m\u001b[0m\n\u001b[0m",
            "\u001b[0;32m<ipython-input-2-c94cf5b065b9>\u001b[0m in \u001b[0;36mnormalize_rectangle\u001b[0;34m(rect)\u001b[0m\n\u001b[1;32m      6\u001b[0m     \u001b[0;32massert\u001b[0m \u001b[0mlen\u001b[0m\u001b[0;34m(\u001b[0m\u001b[0mrect\u001b[0m\u001b[0;34m)\u001b[0m \u001b[0;34m==\u001b[0m \u001b[0;36m4\u001b[0m\u001b[0;34m,\u001b[0m \u001b[0;34m'Rectangles must contain 4 coordinates'\u001b[0m\u001b[0;34m\u001b[0m\u001b[0;34m\u001b[0m\u001b[0m\n\u001b[1;32m      7\u001b[0m     \u001b[0mx0\u001b[0m\u001b[0;34m,\u001b[0m \u001b[0my0\u001b[0m\u001b[0;34m,\u001b[0m \u001b[0mx1\u001b[0m\u001b[0;34m,\u001b[0m \u001b[0my1\u001b[0m \u001b[0;34m=\u001b[0m \u001b[0mrect\u001b[0m\u001b[0;34m\u001b[0m\u001b[0;34m\u001b[0m\u001b[0m\n\u001b[0;32m----> 8\u001b[0;31m     \u001b[0;32massert\u001b[0m \u001b[0mx0\u001b[0m \u001b[0;34m<\u001b[0m \u001b[0mx1\u001b[0m\u001b[0;34m,\u001b[0m \u001b[0;34m'Invalid X coordinates'\u001b[0m\u001b[0;34m\u001b[0m\u001b[0;34m\u001b[0m\u001b[0m\n\u001b[0m\u001b[1;32m      9\u001b[0m     \u001b[0;32massert\u001b[0m \u001b[0my0\u001b[0m \u001b[0;34m<\u001b[0m \u001b[0my1\u001b[0m\u001b[0;34m,\u001b[0m \u001b[0;34m'Invalid Y coordinates'\u001b[0m\u001b[0;34m\u001b[0m\u001b[0;34m\u001b[0m\u001b[0m\n\u001b[1;32m     10\u001b[0m \u001b[0;34m\u001b[0m\u001b[0m\n",
            "\u001b[0;31mAssertionError\u001b[0m: Invalid X coordinates"
          ]
        }
      ]
    },
    {
      "cell_type": "markdown",
      "metadata": {
        "id": "9XKRS2jNyUCx",
        "colab_type": "text"
      },
      "source": [
        "The post-conditions on lines 20 and 21 help us catch bugs by telling us when our calculations might have been incorrect. For example, if we normalize a rectangle that is taller than it is wide everything seems OK:"
      ]
    },
    {
      "cell_type": "code",
      "metadata": {
        "id": "Ik524yDcyRhM",
        "colab_type": "code",
        "colab": {
          "base_uri": "https://localhost:8080/",
          "height": 34
        },
        "outputId": "ef25419c-eddf-4ec1-fab1-7b0825a718f8"
      },
      "source": [
        "print(normalize_rectangle( (0.0, 0.0, 1.0, 5.0) ))"
      ],
      "execution_count": 6,
      "outputs": [
        {
          "output_type": "stream",
          "text": [
            "(0, 0, 0.2, 1.0)\n"
          ],
          "name": "stdout"
        }
      ]
    },
    {
      "cell_type": "markdown",
      "metadata": {
        "id": "y_geKujCyaLS",
        "colab_type": "text"
      },
      "source": [
        "but if we normalize one that’s wider than it is tall, the assertion is triggered:"
      ]
    },
    {
      "cell_type": "code",
      "metadata": {
        "id": "yTcyHyydyWYP",
        "colab_type": "code",
        "colab": {
          "base_uri": "https://localhost:8080/",
          "height": 283
        },
        "outputId": "482be009-18ad-4f04-e709-a94c63b7da15"
      },
      "source": [
        "print(normalize_rectangle( (0.0, 0.0, 5.0, 1.0) ))"
      ],
      "execution_count": 7,
      "outputs": [
        {
          "output_type": "error",
          "ename": "AssertionError",
          "evalue": "ignored",
          "traceback": [
            "\u001b[0;31m---------------------------------------------------------------------------\u001b[0m",
            "\u001b[0;31mAssertionError\u001b[0m                            Traceback (most recent call last)",
            "\u001b[0;32m<ipython-input-7-8d4a48f1d068>\u001b[0m in \u001b[0;36m<module>\u001b[0;34m()\u001b[0m\n\u001b[0;32m----> 1\u001b[0;31m \u001b[0mprint\u001b[0m\u001b[0;34m(\u001b[0m\u001b[0mnormalize_rectangle\u001b[0m\u001b[0;34m(\u001b[0m \u001b[0;34m(\u001b[0m\u001b[0;36m0.0\u001b[0m\u001b[0;34m,\u001b[0m \u001b[0;36m0.0\u001b[0m\u001b[0;34m,\u001b[0m \u001b[0;36m5.0\u001b[0m\u001b[0;34m,\u001b[0m \u001b[0;36m1.0\u001b[0m\u001b[0;34m)\u001b[0m \u001b[0;34m)\u001b[0m\u001b[0;34m)\u001b[0m\u001b[0;34m\u001b[0m\u001b[0;34m\u001b[0m\u001b[0m\n\u001b[0m",
            "\u001b[0;32m<ipython-input-2-c94cf5b065b9>\u001b[0m in \u001b[0;36mnormalize_rectangle\u001b[0;34m(rect)\u001b[0m\n\u001b[1;32m     19\u001b[0m \u001b[0;34m\u001b[0m\u001b[0m\n\u001b[1;32m     20\u001b[0m     \u001b[0;32massert\u001b[0m \u001b[0;36m0\u001b[0m \u001b[0;34m<\u001b[0m \u001b[0mupper_x\u001b[0m \u001b[0;34m<=\u001b[0m \u001b[0;36m1.0\u001b[0m\u001b[0;34m,\u001b[0m \u001b[0;34m'Calculated upper X coordinate invalid'\u001b[0m\u001b[0;34m\u001b[0m\u001b[0;34m\u001b[0m\u001b[0m\n\u001b[0;32m---> 21\u001b[0;31m     \u001b[0;32massert\u001b[0m \u001b[0;36m0\u001b[0m \u001b[0;34m<\u001b[0m \u001b[0mupper_y\u001b[0m \u001b[0;34m<=\u001b[0m \u001b[0;36m1.0\u001b[0m\u001b[0;34m,\u001b[0m \u001b[0;34m'Calculated upper Y coordinate invalid'\u001b[0m\u001b[0;34m\u001b[0m\u001b[0;34m\u001b[0m\u001b[0m\n\u001b[0m\u001b[1;32m     22\u001b[0m \u001b[0;34m\u001b[0m\u001b[0m\n\u001b[1;32m     23\u001b[0m     \u001b[0;32mreturn\u001b[0m \u001b[0;34m(\u001b[0m\u001b[0;36m0\u001b[0m\u001b[0;34m,\u001b[0m \u001b[0;36m0\u001b[0m\u001b[0;34m,\u001b[0m \u001b[0mupper_x\u001b[0m\u001b[0;34m,\u001b[0m \u001b[0mupper_y\u001b[0m\u001b[0;34m)\u001b[0m\u001b[0;34m\u001b[0m\u001b[0;34m\u001b[0m\u001b[0m\n",
            "\u001b[0;31mAssertionError\u001b[0m: Calculated upper Y coordinate invalid"
          ]
        }
      ]
    },
    {
      "cell_type": "markdown",
      "metadata": {
        "id": "HEb_xNzGyhVw",
        "colab_type": "text"
      },
      "source": [
        "Re-reading our function, we realize that line 14 should divide dy by dx rather than dx by dy. In a Jupyter notebook, you can display line numbers by typing Ctrl+M followed by L. If we had left out the assertion at the end of the function, we would have created and returned something that had the right shape as a valid answer, but wasn’t. Detecting and debugging that would almost certainly have taken more time in the long run than writing the assertion.\n",
        "\n",
        "But assertions aren’t just about catching errors: they also help people understand programs. Each assertion gives the person reading the program a chance to check (consciously or otherwise) that their understanding matches what the code is doing.\n",
        "\n",
        "Most good programmers follow two rules when adding assertions to their code. The first is, fail early, fail often. The greater the distance between when and where an error occurs and when it’s noticed, the harder the error will be to debug, so good code catches mistakes as early as possible.\n",
        "\n",
        "The second rule is, turn bugs into assertions or tests. Whenever you fix a bug, write an assertion that catches the mistake should you make it again. If you made a mistake in a piece of code, the odds are good that you have made other mistakes nearby, or will make the same mistake (or a related one) the next time you change it. Writing assertions to check that you haven’t [regressed](https://swcarpentry.github.io/python-novice-inflammation/reference/#regression) (i.e., haven’t re-introduced an old problem) can save a lot of time in the long run, and helps to warn people who are reading the code (including your future self) that this bit is tricky."
      ]
    },
    {
      "cell_type": "markdown",
      "metadata": {
        "id": "bADa9skpys-X",
        "colab_type": "text"
      },
      "source": [
        "## Test-Driven Development\n",
        "An assertion checks that something is true at a particular point in the program. The next step is to check the overall behavior of a piece of code, i.e., to make sure that it produces the right output when it’s given a particular input. For example, suppose we need to find where two or more time series overlap. The range of each time series is represented as a pair of numbers, which are the time the interval started and ended. The output is the largest range that they all include:\n",
        "\n",
        "![alt text](data:image/png;base64,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)\n",
        "\n",
        "Most novice programmers would solve this problem like this:\n",
        "1.  Write a function range_overlap.\n",
        "2.  Call it interactively on two or three different inputs.\n",
        "3.  If it produces the wrong answer, fix the function and re-run that test.\n",
        "\n",
        "This clearly works — after all, thousands of scientists are doing it right now — but there’s a better way:\n",
        "\n",
        "1.  Write a short function for each test.\n",
        "2.  Write a range_overlap function that should pass those tests.\n",
        "3.  If range_overlap produces any wrong answers, fix it and re-run the test functions.\n",
        "\n",
        "Writing the tests before writing the function they exercise is called test-driven development (TDD). Its advocates believe it produces better code faster because:\n",
        "\n",
        "1.  If people write tests after writing the thing to be tested, they are subject to confirmation bias, i.e., they subconsciously write tests to show that their code is correct, rather than to find errors.\n",
        "2.  Writing tests helps programmers figure out what the function is actually supposed to do.\n",
        "\n",
        "Here are three test functions for range_overlap:"
      ]
    },
    {
      "cell_type": "code",
      "metadata": {
        "id": "rZFDcf87yc1U",
        "colab_type": "code",
        "colab": {
          "base_uri": "https://localhost:8080/",
          "height": 198
        },
        "outputId": "c77105c5-7883-4f1a-b313-89146e915b30"
      },
      "source": [
        "assert range_overlap([ (0.0, 1.0) ]) == (0.0, 1.0)\n",
        "assert range_overlap([ (2.0, 3.0), (2.0, 4.0) ]) == (2.0, 3.0)\n",
        "assert range_overlap([ (0.0, 1.0), (0.0, 2.0), (-1.0, 1.0) ]) == (0.0, 1.0)"
      ],
      "execution_count": 8,
      "outputs": [
        {
          "output_type": "error",
          "ename": "NameError",
          "evalue": "ignored",
          "traceback": [
            "\u001b[0;31m---------------------------------------------------------------------------\u001b[0m",
            "\u001b[0;31mNameError\u001b[0m                                 Traceback (most recent call last)",
            "\u001b[0;32m<ipython-input-8-dc16b942c085>\u001b[0m in \u001b[0;36m<module>\u001b[0;34m()\u001b[0m\n\u001b[0;32m----> 1\u001b[0;31m \u001b[0;32massert\u001b[0m \u001b[0mrange_overlap\u001b[0m\u001b[0;34m(\u001b[0m\u001b[0;34m[\u001b[0m \u001b[0;34m(\u001b[0m\u001b[0;36m0.0\u001b[0m\u001b[0;34m,\u001b[0m \u001b[0;36m1.0\u001b[0m\u001b[0;34m)\u001b[0m \u001b[0;34m]\u001b[0m\u001b[0;34m)\u001b[0m \u001b[0;34m==\u001b[0m \u001b[0;34m(\u001b[0m\u001b[0;36m0.0\u001b[0m\u001b[0;34m,\u001b[0m \u001b[0;36m1.0\u001b[0m\u001b[0;34m)\u001b[0m\u001b[0;34m\u001b[0m\u001b[0;34m\u001b[0m\u001b[0m\n\u001b[0m\u001b[1;32m      2\u001b[0m \u001b[0;32massert\u001b[0m \u001b[0mrange_overlap\u001b[0m\u001b[0;34m(\u001b[0m\u001b[0;34m[\u001b[0m \u001b[0;34m(\u001b[0m\u001b[0;36m2.0\u001b[0m\u001b[0;34m,\u001b[0m \u001b[0;36m3.0\u001b[0m\u001b[0;34m)\u001b[0m\u001b[0;34m,\u001b[0m \u001b[0;34m(\u001b[0m\u001b[0;36m2.0\u001b[0m\u001b[0;34m,\u001b[0m \u001b[0;36m4.0\u001b[0m\u001b[0;34m)\u001b[0m \u001b[0;34m]\u001b[0m\u001b[0;34m)\u001b[0m \u001b[0;34m==\u001b[0m \u001b[0;34m(\u001b[0m\u001b[0;36m2.0\u001b[0m\u001b[0;34m,\u001b[0m \u001b[0;36m3.0\u001b[0m\u001b[0;34m)\u001b[0m\u001b[0;34m\u001b[0m\u001b[0;34m\u001b[0m\u001b[0m\n\u001b[1;32m      3\u001b[0m \u001b[0;32massert\u001b[0m \u001b[0mrange_overlap\u001b[0m\u001b[0;34m(\u001b[0m\u001b[0;34m[\u001b[0m \u001b[0;34m(\u001b[0m\u001b[0;36m0.0\u001b[0m\u001b[0;34m,\u001b[0m \u001b[0;36m1.0\u001b[0m\u001b[0;34m)\u001b[0m\u001b[0;34m,\u001b[0m \u001b[0;34m(\u001b[0m\u001b[0;36m0.0\u001b[0m\u001b[0;34m,\u001b[0m \u001b[0;36m2.0\u001b[0m\u001b[0;34m)\u001b[0m\u001b[0;34m,\u001b[0m \u001b[0;34m(\u001b[0m\u001b[0;34m-\u001b[0m\u001b[0;36m1.0\u001b[0m\u001b[0;34m,\u001b[0m \u001b[0;36m1.0\u001b[0m\u001b[0;34m)\u001b[0m \u001b[0;34m]\u001b[0m\u001b[0;34m)\u001b[0m \u001b[0;34m==\u001b[0m \u001b[0;34m(\u001b[0m\u001b[0;36m0.0\u001b[0m\u001b[0;34m,\u001b[0m \u001b[0;36m1.0\u001b[0m\u001b[0;34m)\u001b[0m\u001b[0;34m\u001b[0m\u001b[0;34m\u001b[0m\u001b[0m\n",
            "\u001b[0;31mNameError\u001b[0m: name 'range_overlap' is not defined"
          ]
        }
      ]
    },
    {
      "cell_type": "markdown",
      "metadata": {
        "id": "MrIQBqdW2GJu",
        "colab_type": "text"
      },
      "source": [
        "The error is actually reassuring: we haven’t written range_overlap yet, so if the tests passed, it would be a sign that someone else had and that we were accidentally using their function.\n",
        "\n",
        "And as a bonus of writing these tests, we’ve implicitly defined what our input and output look like: we expect a list of pairs as input, and produce a single pair as output.\n",
        "\n",
        "Something important is missing, though. We don’t have any tests for the case where the ranges don’t overlap at all:\n",
        "\n"
      ]
    },
    {
      "cell_type": "code",
      "metadata": {
        "id": "7ycW1hDh2C4_",
        "colab_type": "code",
        "colab": {
          "base_uri": "https://localhost:8080/",
          "height": 130
        },
        "outputId": "5dd0c2a1-0ca4-4ec2-acc0-843e53dbb957"
      },
      "source": [
        "assert range_overlap([ (0.0, 1.0), (5.0, 6.0) ]) == ???"
      ],
      "execution_count": 9,
      "outputs": [
        {
          "output_type": "error",
          "ename": "SyntaxError",
          "evalue": "ignored",
          "traceback": [
            "\u001b[0;36m  File \u001b[0;32m\"<ipython-input-9-4608414687ac>\"\u001b[0;36m, line \u001b[0;32m1\u001b[0m\n\u001b[0;31m    assert range_overlap([ (0.0, 1.0), (5.0, 6.0) ]) == ???\u001b[0m\n\u001b[0m                                                        ^\u001b[0m\n\u001b[0;31mSyntaxError\u001b[0m\u001b[0;31m:\u001b[0m invalid syntax\n"
          ]
        }
      ]
    },
    {
      "cell_type": "markdown",
      "metadata": {
        "id": "WbDXefga2Nl6",
        "colab_type": "text"
      },
      "source": [
        "What should range_overlap do in this case: fail with an error message, produce a special value like (0.0, 0.0) to signal that there’s no overlap, or something else? Any actual implementation of the function will do one of these things; writing the tests first helps us figure out which is best before we’re emotionally invested in whatever we happened to write before we realized there was an issue.\n",
        "\n",
        "And what about this case?"
      ]
    },
    {
      "cell_type": "code",
      "metadata": {
        "id": "u9xa1iEo2K6B",
        "colab_type": "code",
        "colab": {
          "base_uri": "https://localhost:8080/",
          "height": 130
        },
        "outputId": "8d9eb035-ff49-4f7b-d2ca-2f32383288e6"
      },
      "source": [
        "assert range_overlap([ (0.0, 1.0), (1.0, 2.0) ]) == ???"
      ],
      "execution_count": 10,
      "outputs": [
        {
          "output_type": "error",
          "ename": "SyntaxError",
          "evalue": "ignored",
          "traceback": [
            "\u001b[0;36m  File \u001b[0;32m\"<ipython-input-10-b9d32ea0ef23>\"\u001b[0;36m, line \u001b[0;32m1\u001b[0m\n\u001b[0;31m    assert range_overlap([ (0.0, 1.0), (1.0, 2.0) ]) == ???\u001b[0m\n\u001b[0m                                                        ^\u001b[0m\n\u001b[0;31mSyntaxError\u001b[0m\u001b[0;31m:\u001b[0m invalid syntax\n"
          ]
        }
      ]
    },
    {
      "cell_type": "markdown",
      "metadata": {
        "id": "H3amGuu82Typ",
        "colab_type": "text"
      },
      "source": [
        "Do two segments that touch at their endpoints overlap or not? Mathematicians usually say “yes”, but engineers usually say “no”. The best answer is “whatever is most useful in the rest of our program”, but again, any actual implementation of range_overlap is going to do something, and whatever it is ought to be consistent with what it does when there’s no overlap at all.\n",
        "\n",
        "Since we’re planning to use the range this function returns as the X axis in a time series chart, we decide that:\n",
        "\n",
        "1.  every overlap has to have non-zero width, and\n",
        "2.  we will return the special value None when there’s no overlap.\n",
        "\n",
        "None is built into Python, and means “nothing here”. (Other languages often call the equivalent value null or nil). With that decision made, we can finish writing our last two tests:"
      ]
    },
    {
      "cell_type": "code",
      "metadata": {
        "id": "NL-aTQ0V2P1b",
        "colab_type": "code",
        "colab": {
          "base_uri": "https://localhost:8080/",
          "height": 181
        },
        "outputId": "e64e0bf1-f572-477d-d8f7-f58c0c2c0565"
      },
      "source": [
        "assert range_overlap([ (0.0, 1.0), (5.0, 6.0) ]) == None\n",
        "assert range_overlap([ (0.0, 1.0), (1.0, 2.0) ]) == None"
      ],
      "execution_count": 11,
      "outputs": [
        {
          "output_type": "error",
          "ename": "NameError",
          "evalue": "ignored",
          "traceback": [
            "\u001b[0;31m---------------------------------------------------------------------------\u001b[0m",
            "\u001b[0;31mNameError\u001b[0m                                 Traceback (most recent call last)",
            "\u001b[0;32m<ipython-input-11-42de7ddfb428>\u001b[0m in \u001b[0;36m<module>\u001b[0;34m()\u001b[0m\n\u001b[0;32m----> 1\u001b[0;31m \u001b[0;32massert\u001b[0m \u001b[0mrange_overlap\u001b[0m\u001b[0;34m(\u001b[0m\u001b[0;34m[\u001b[0m \u001b[0;34m(\u001b[0m\u001b[0;36m0.0\u001b[0m\u001b[0;34m,\u001b[0m \u001b[0;36m1.0\u001b[0m\u001b[0;34m)\u001b[0m\u001b[0;34m,\u001b[0m \u001b[0;34m(\u001b[0m\u001b[0;36m5.0\u001b[0m\u001b[0;34m,\u001b[0m \u001b[0;36m6.0\u001b[0m\u001b[0;34m)\u001b[0m \u001b[0;34m]\u001b[0m\u001b[0;34m)\u001b[0m \u001b[0;34m==\u001b[0m \u001b[0;32mNone\u001b[0m\u001b[0;34m\u001b[0m\u001b[0;34m\u001b[0m\u001b[0m\n\u001b[0m\u001b[1;32m      2\u001b[0m \u001b[0;32massert\u001b[0m \u001b[0mrange_overlap\u001b[0m\u001b[0;34m(\u001b[0m\u001b[0;34m[\u001b[0m \u001b[0;34m(\u001b[0m\u001b[0;36m0.0\u001b[0m\u001b[0;34m,\u001b[0m \u001b[0;36m1.0\u001b[0m\u001b[0;34m)\u001b[0m\u001b[0;34m,\u001b[0m \u001b[0;34m(\u001b[0m\u001b[0;36m1.0\u001b[0m\u001b[0;34m,\u001b[0m \u001b[0;36m2.0\u001b[0m\u001b[0;34m)\u001b[0m \u001b[0;34m]\u001b[0m\u001b[0;34m)\u001b[0m \u001b[0;34m==\u001b[0m \u001b[0;32mNone\u001b[0m\u001b[0;34m\u001b[0m\u001b[0;34m\u001b[0m\u001b[0m\n",
            "\u001b[0;31mNameError\u001b[0m: name 'range_overlap' is not defined"
          ]
        }
      ]
    },
    {
      "cell_type": "markdown",
      "metadata": {
        "id": "yhlsZuJK2hO5",
        "colab_type": "text"
      },
      "source": [
        "Again, we get an error because we haven’t written our function, but we’re now ready to do so:"
      ]
    },
    {
      "cell_type": "code",
      "metadata": {
        "id": "O-Qi8Tnd2ew9",
        "colab_type": "code",
        "colab": {}
      },
      "source": [
        "def range_overlap(ranges):\n",
        "    '''Return common overlap among a set of [left, right] ranges.'''\n",
        "    max_left = 0.0\n",
        "    min_right = 1.0\n",
        "    for (left, right) in ranges:\n",
        "        max_left = max(max_left, left)\n",
        "        min_right = min(min_right, right)\n",
        "    return (max_left, min_right)"
      ],
      "execution_count": 0,
      "outputs": []
    },
    {
      "cell_type": "markdown",
      "metadata": {
        "id": "vHlmCdIh2l8n",
        "colab_type": "text"
      },
      "source": [
        "Take a moment to think about why we calculate the left endpoint of the overlap as the maximum of the input left endpoints, and the overlap right endpoint as the minimum of the input right endpoints. We’d now like to re-run our tests, but they’re scattered across three different cells. To make running them easier, let’s put them all in a function:"
      ]
    },
    {
      "cell_type": "code",
      "metadata": {
        "id": "szqjmSeN2j2t",
        "colab_type": "code",
        "colab": {}
      },
      "source": [
        "def test_range_overlap():\n",
        "    assert range_overlap([ (0.0, 1.0), (5.0, 6.0) ]) == None\n",
        "    assert range_overlap([ (0.0, 1.0), (1.0, 2.0) ]) == None\n",
        "    assert range_overlap([ (0.0, 1.0) ]) == (0.0, 1.0)\n",
        "    assert range_overlap([ (2.0, 3.0), (2.0, 4.0) ]) == (2.0, 3.0)\n",
        "    assert range_overlap([ (0.0, 1.0), (0.0, 2.0), (-1.0, 1.0) ]) == (0.0, 1.0)\n",
        "    assert range_overlap([]) == None"
      ],
      "execution_count": 0,
      "outputs": []
    },
    {
      "cell_type": "markdown",
      "metadata": {
        "id": "Jni_kzm62q6r",
        "colab_type": "text"
      },
      "source": [
        "We can now test range_overlap with a single function call:"
      ]
    },
    {
      "cell_type": "code",
      "metadata": {
        "id": "j1Y37cst2o4-",
        "colab_type": "code",
        "colab": {
          "base_uri": "https://localhost:8080/",
          "height": 283
        },
        "outputId": "f1a7b022-f585-4895-dce3-671a28283dd4"
      },
      "source": [
        "test_range_overlap()"
      ],
      "execution_count": 14,
      "outputs": [
        {
          "output_type": "error",
          "ename": "AssertionError",
          "evalue": "ignored",
          "traceback": [
            "\u001b[0;31m---------------------------------------------------------------------------\u001b[0m",
            "\u001b[0;31mAssertionError\u001b[0m                            Traceback (most recent call last)",
            "\u001b[0;32m<ipython-input-14-80290759369d>\u001b[0m in \u001b[0;36m<module>\u001b[0;34m()\u001b[0m\n\u001b[0;32m----> 1\u001b[0;31m \u001b[0mtest_range_overlap\u001b[0m\u001b[0;34m(\u001b[0m\u001b[0;34m)\u001b[0m\u001b[0;34m\u001b[0m\u001b[0;34m\u001b[0m\u001b[0m\n\u001b[0m",
            "\u001b[0;32m<ipython-input-13-2c8841db23c8>\u001b[0m in \u001b[0;36mtest_range_overlap\u001b[0;34m()\u001b[0m\n\u001b[1;32m      1\u001b[0m \u001b[0;32mdef\u001b[0m \u001b[0mtest_range_overlap\u001b[0m\u001b[0;34m(\u001b[0m\u001b[0;34m)\u001b[0m\u001b[0;34m:\u001b[0m\u001b[0;34m\u001b[0m\u001b[0;34m\u001b[0m\u001b[0m\n\u001b[0;32m----> 2\u001b[0;31m     \u001b[0;32massert\u001b[0m \u001b[0mrange_overlap\u001b[0m\u001b[0;34m(\u001b[0m\u001b[0;34m[\u001b[0m \u001b[0;34m(\u001b[0m\u001b[0;36m0.0\u001b[0m\u001b[0;34m,\u001b[0m \u001b[0;36m1.0\u001b[0m\u001b[0;34m)\u001b[0m\u001b[0;34m,\u001b[0m \u001b[0;34m(\u001b[0m\u001b[0;36m5.0\u001b[0m\u001b[0;34m,\u001b[0m \u001b[0;36m6.0\u001b[0m\u001b[0;34m)\u001b[0m \u001b[0;34m]\u001b[0m\u001b[0;34m)\u001b[0m \u001b[0;34m==\u001b[0m \u001b[0;32mNone\u001b[0m\u001b[0;34m\u001b[0m\u001b[0;34m\u001b[0m\u001b[0m\n\u001b[0m\u001b[1;32m      3\u001b[0m     \u001b[0;32massert\u001b[0m \u001b[0mrange_overlap\u001b[0m\u001b[0;34m(\u001b[0m\u001b[0;34m[\u001b[0m \u001b[0;34m(\u001b[0m\u001b[0;36m0.0\u001b[0m\u001b[0;34m,\u001b[0m \u001b[0;36m1.0\u001b[0m\u001b[0;34m)\u001b[0m\u001b[0;34m,\u001b[0m \u001b[0;34m(\u001b[0m\u001b[0;36m1.0\u001b[0m\u001b[0;34m,\u001b[0m \u001b[0;36m2.0\u001b[0m\u001b[0;34m)\u001b[0m \u001b[0;34m]\u001b[0m\u001b[0;34m)\u001b[0m \u001b[0;34m==\u001b[0m \u001b[0;32mNone\u001b[0m\u001b[0;34m\u001b[0m\u001b[0;34m\u001b[0m\u001b[0m\n\u001b[1;32m      4\u001b[0m     \u001b[0;32massert\u001b[0m \u001b[0mrange_overlap\u001b[0m\u001b[0;34m(\u001b[0m\u001b[0;34m[\u001b[0m \u001b[0;34m(\u001b[0m\u001b[0;36m0.0\u001b[0m\u001b[0;34m,\u001b[0m \u001b[0;36m1.0\u001b[0m\u001b[0;34m)\u001b[0m \u001b[0;34m]\u001b[0m\u001b[0;34m)\u001b[0m \u001b[0;34m==\u001b[0m \u001b[0;34m(\u001b[0m\u001b[0;36m0.0\u001b[0m\u001b[0;34m,\u001b[0m \u001b[0;36m1.0\u001b[0m\u001b[0;34m)\u001b[0m\u001b[0;34m\u001b[0m\u001b[0;34m\u001b[0m\u001b[0m\n\u001b[1;32m      5\u001b[0m     \u001b[0;32massert\u001b[0m \u001b[0mrange_overlap\u001b[0m\u001b[0;34m(\u001b[0m\u001b[0;34m[\u001b[0m \u001b[0;34m(\u001b[0m\u001b[0;36m2.0\u001b[0m\u001b[0;34m,\u001b[0m \u001b[0;36m3.0\u001b[0m\u001b[0;34m)\u001b[0m\u001b[0;34m,\u001b[0m \u001b[0;34m(\u001b[0m\u001b[0;36m2.0\u001b[0m\u001b[0;34m,\u001b[0m \u001b[0;36m4.0\u001b[0m\u001b[0;34m)\u001b[0m \u001b[0;34m]\u001b[0m\u001b[0;34m)\u001b[0m \u001b[0;34m==\u001b[0m \u001b[0;34m(\u001b[0m\u001b[0;36m2.0\u001b[0m\u001b[0;34m,\u001b[0m \u001b[0;36m3.0\u001b[0m\u001b[0;34m)\u001b[0m\u001b[0;34m\u001b[0m\u001b[0;34m\u001b[0m\u001b[0m\n",
            "\u001b[0;31mAssertionError\u001b[0m: "
          ]
        }
      ]
    },
    {
      "cell_type": "markdown",
      "metadata": {
        "id": "UQV2Olj_2v85",
        "colab_type": "text"
      },
      "source": [
        "The first test that was supposed to produce None fails, so we know something is wrong with our function. We don’t know whether the other tests passed or failed because Python halted the program as soon as it spotted the first error. Still, some information is better than none, and if we trace the behavior of the function with that input, we realize that we’re initializing max_left and min_right to 0.0 and 1.0 respectively, regardless of the input values. This violates another important rule of programming: always initialize from data."
      ]
    },
    {
      "cell_type": "markdown",
      "metadata": {
        "id": "WUH-xJxC20hR",
        "colab_type": "text"
      },
      "source": [
        "### Pre- and Post-Conditions (side note)\n",
        "\n",
        "---\n",
        "\n",
        "\n",
        "\n",
        "Suppose you are writing a function called average that calculates the average of the numbers in a list. What pre-conditions and post-conditions would you write for it? Compare your answer to your neighbor’s: can you think of a function that will pass your tests but not his/hers or vice versa?"
      ]
    },
    {
      "cell_type": "code",
      "metadata": {
        "id": "Tvz3Z5762tgt",
        "colab_type": "code",
        "colab": {
          "base_uri": "https://localhost:8080/",
          "height": 215
        },
        "outputId": "1174c51e-6cc4-4c19-ce91-107a21435b7b"
      },
      "source": [
        "# Solution\n",
        "# a possible pre-condition:\n",
        "# example list:\n",
        "import numpy as np # linked to a python directory this should work\n",
        "input_list = [10,3,6,7,9,10,24,56]\n",
        "assert len(input_list) > 0, 'List length must be non-zero'\n",
        "# a possible post-condition:\n",
        "assert numpy.min(input_list) <= average <= numpy.max(input_list)\n",
        "'Average should be between min and max of input values (inclusive)'"
      ],
      "execution_count": 18,
      "outputs": [
        {
          "output_type": "error",
          "ename": "NameError",
          "evalue": "ignored",
          "traceback": [
            "\u001b[0;31m---------------------------------------------------------------------------\u001b[0m",
            "\u001b[0;31mNameError\u001b[0m                                 Traceback (most recent call last)",
            "\u001b[0;32m<ipython-input-18-39f1b7f16ce7>\u001b[0m in \u001b[0;36m<module>\u001b[0;34m()\u001b[0m\n\u001b[1;32m      6\u001b[0m \u001b[0;32massert\u001b[0m \u001b[0mlen\u001b[0m\u001b[0;34m(\u001b[0m\u001b[0minput_list\u001b[0m\u001b[0;34m)\u001b[0m \u001b[0;34m>\u001b[0m \u001b[0;36m0\u001b[0m\u001b[0;34m,\u001b[0m \u001b[0;34m'List length must be non-zero'\u001b[0m\u001b[0;34m\u001b[0m\u001b[0;34m\u001b[0m\u001b[0m\n\u001b[1;32m      7\u001b[0m \u001b[0;31m# a possible post-condition:\u001b[0m\u001b[0;34m\u001b[0m\u001b[0;34m\u001b[0m\u001b[0;34m\u001b[0m\u001b[0m\n\u001b[0;32m----> 8\u001b[0;31m \u001b[0;32massert\u001b[0m \u001b[0mnumpy\u001b[0m\u001b[0;34m.\u001b[0m\u001b[0mmin\u001b[0m\u001b[0;34m(\u001b[0m\u001b[0minput_list\u001b[0m\u001b[0;34m)\u001b[0m \u001b[0;34m<=\u001b[0m \u001b[0maverage\u001b[0m \u001b[0;34m<=\u001b[0m \u001b[0mnumpy\u001b[0m\u001b[0;34m.\u001b[0m\u001b[0mmax\u001b[0m\u001b[0;34m(\u001b[0m\u001b[0minput_list\u001b[0m\u001b[0;34m)\u001b[0m\u001b[0;34m\u001b[0m\u001b[0;34m\u001b[0m\u001b[0m\n\u001b[0m\u001b[1;32m      9\u001b[0m \u001b[0;34m'Average should be between min and max of input values (inclusive)'\u001b[0m\u001b[0;34m\u001b[0m\u001b[0;34m\u001b[0m\u001b[0m\n",
            "\u001b[0;31mNameError\u001b[0m: name 'numpy' is not defined"
          ]
        }
      ]
    },
    {
      "cell_type": "markdown",
      "metadata": {
        "id": "e7KOerKF4Fdl",
        "colab_type": "text"
      },
      "source": [
        "\n",
        "\n",
        "---\n",
        "\n"
      ]
    },
    {
      "cell_type": "markdown",
      "metadata": {
        "id": "XELGv3rm3-mu",
        "colab_type": "text"
      },
      "source": [
        "### Testing Assertions (side note)\n",
        "\n",
        "\n",
        "---\n",
        "Given a sequence of a number of cars, the function get_total_cars returns the total number of cars.\n"
      ]
    },
    {
      "cell_type": "code",
      "metadata": {
        "id": "_AV8pko52-HW",
        "colab_type": "code",
        "colab": {
          "base_uri": "https://localhost:8080/",
          "height": 34
        },
        "outputId": "9f66842f-06e5-4581-eefb-ee483acdb7a3"
      },
      "source": [
        "def get_total_cars(List=list()):\n",
        "    assert len(List) > 0\n",
        "    for element in List:\n",
        "        assert int(element)\n",
        "    List = [int(element) for element in List]\n",
        "    total = sum(List)\n",
        "    assert total > 0\n",
        "    return total\n",
        "\n",
        "get_total_cars([1, 2, 3, 4])"
      ],
      "execution_count": 25,
      "outputs": [
        {
          "output_type": "execute_result",
          "data": {
            "text/plain": [
              "10"
            ]
          },
          "metadata": {
            "tags": []
          },
          "execution_count": 25
        }
      ]
    },
    {
      "cell_type": "code",
      "metadata": {
        "id": "S2koWswJ4Mgh",
        "colab_type": "code",
        "colab": {
          "base_uri": "https://localhost:8080/",
          "height": 283
        },
        "outputId": "974083a1-e37c-413c-803e-3fe4878bad17"
      },
      "source": [
        "get_total_cars(['a', 'b', 'c'])"
      ],
      "execution_count": 26,
      "outputs": [
        {
          "output_type": "error",
          "ename": "ValueError",
          "evalue": "ignored",
          "traceback": [
            "\u001b[0;31m---------------------------------------------------------------------------\u001b[0m",
            "\u001b[0;31mValueError\u001b[0m                                Traceback (most recent call last)",
            "\u001b[0;32m<ipython-input-26-e8eb245bf072>\u001b[0m in \u001b[0;36m<module>\u001b[0;34m()\u001b[0m\n\u001b[0;32m----> 1\u001b[0;31m \u001b[0mget_total_cars\u001b[0m\u001b[0;34m(\u001b[0m\u001b[0;34m[\u001b[0m\u001b[0;34m'a'\u001b[0m\u001b[0;34m,\u001b[0m \u001b[0;34m'b'\u001b[0m\u001b[0;34m,\u001b[0m \u001b[0;34m'c'\u001b[0m\u001b[0;34m]\u001b[0m\u001b[0;34m)\u001b[0m\u001b[0;34m\u001b[0m\u001b[0;34m\u001b[0m\u001b[0m\n\u001b[0m",
            "\u001b[0;32m<ipython-input-25-cc2d1084ce02>\u001b[0m in \u001b[0;36mget_total_cars\u001b[0;34m(List)\u001b[0m\n\u001b[1;32m      2\u001b[0m     \u001b[0;32massert\u001b[0m \u001b[0mlen\u001b[0m\u001b[0;34m(\u001b[0m\u001b[0mList\u001b[0m\u001b[0;34m)\u001b[0m \u001b[0;34m>\u001b[0m \u001b[0;36m0\u001b[0m\u001b[0;34m\u001b[0m\u001b[0;34m\u001b[0m\u001b[0m\n\u001b[1;32m      3\u001b[0m     \u001b[0;32mfor\u001b[0m \u001b[0melement\u001b[0m \u001b[0;32min\u001b[0m \u001b[0mList\u001b[0m\u001b[0;34m:\u001b[0m\u001b[0;34m\u001b[0m\u001b[0;34m\u001b[0m\u001b[0m\n\u001b[0;32m----> 4\u001b[0;31m         \u001b[0;32massert\u001b[0m \u001b[0mint\u001b[0m\u001b[0;34m(\u001b[0m\u001b[0melement\u001b[0m\u001b[0;34m)\u001b[0m\u001b[0;34m\u001b[0m\u001b[0;34m\u001b[0m\u001b[0m\n\u001b[0m\u001b[1;32m      5\u001b[0m     \u001b[0mList\u001b[0m \u001b[0;34m=\u001b[0m \u001b[0;34m[\u001b[0m\u001b[0mint\u001b[0m\u001b[0;34m(\u001b[0m\u001b[0melement\u001b[0m\u001b[0;34m)\u001b[0m \u001b[0;32mfor\u001b[0m \u001b[0melement\u001b[0m \u001b[0;32min\u001b[0m \u001b[0mList\u001b[0m\u001b[0;34m]\u001b[0m\u001b[0;34m\u001b[0m\u001b[0;34m\u001b[0m\u001b[0m\n\u001b[1;32m      6\u001b[0m     \u001b[0mtotal\u001b[0m \u001b[0;34m=\u001b[0m \u001b[0msum\u001b[0m\u001b[0;34m(\u001b[0m\u001b[0mList\u001b[0m\u001b[0;34m)\u001b[0m\u001b[0;34m\u001b[0m\u001b[0;34m\u001b[0m\u001b[0m\n",
            "\u001b[0;31mValueError\u001b[0m: invalid literal for int() with base 10: 'a'"
          ]
        }
      ]
    },
    {
      "cell_type": "markdown",
      "metadata": {
        "id": "-AVuh2mo56yu",
        "colab_type": "text"
      },
      "source": [
        "Explain in words what the assertions in this function check, and for each one, give an example of input that will make that assertion fail."
      ]
    },
    {
      "cell_type": "markdown",
      "metadata": {
        "id": "QWYC8nMe593L",
        "colab_type": "text"
      },
      "source": [
        "### Solution (side note)\n",
        "*  The first assertion checks that the input sequence values is not empty. An empty sequence such as [] will make it fail.\n",
        "*  The second assertion checks that each value in the list can be turned into an integer. Input such as [1, 2,'c', 3] will make it fail.\n",
        "*  The third assertion checks that the total of the list is greater than 0. Input such as [-10, 2, 3] will make it fail.\n",
        "\n",
        "\n",
        "\n",
        "---\n",
        "\n"
      ]
    },
    {
      "cell_type": "markdown",
      "metadata": {
        "id": "d1IzZRNW6S2c",
        "colab_type": "text"
      },
      "source": [
        "## Key Points\n",
        "*  Program defensively, i.e., assume that errors are going to arise, and write code to detect them when they do.\n",
        "*  Put assertions in programs to check their state as they run, and to help readers understand how those programs are supposed to work.\n",
        "*  Use preconditions to check that the inputs to a function are safe to use.\n",
        "*  Use postconditions to check that the output from a function is safe to use.\n",
        "*  Write tests before writing code in order to help determine exactly what that code is supposed to do."
      ]
    }
  ]
}