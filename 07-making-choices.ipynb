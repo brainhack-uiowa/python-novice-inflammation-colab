{
  "nbformat": 4,
  "nbformat_minor": 0,
  "metadata": {
    "kernelspec": {
      "display_name": "Python 3",
      "language": "python",
      "name": "python3"
    },
    "language_info": {
      "codemirror_mode": {
        "name": "ipython",
        "version": 3
      },
      "file_extension": ".py",
      "mimetype": "text/x-python",
      "name": "python",
      "nbconvert_exporter": "python",
      "pygments_lexer": "ipython3",
      "version": "3.7.3"
    },
    "colab": {
      "name": "07-making-choices.ipynb",
      "provenance": []
    }
  },
  "cells": [
    {
      "cell_type": "code",
      "metadata": {
        "id": "EaVUXpRDVxm1",
        "colab_type": "code",
        "colab": {
          "base_uri": "https://localhost:8080/",
          "height": 434
        },
        "outputId": "eddc04a4-e03d-4084-b0ac-798649577bc5"
      },
      "source": [
        "# setup\n",
        "!wget https://swcarpentry.github.io/python-novice-inflammation/data/python-novice-inflammation-data.zip\n",
        "!wget https://swcarpentry.github.io/python-novice-inflammation/code/python-novice-inflammation-code.zip\n",
        "\n",
        "!unzip -jn python-novice-inflammation-data.zip\n",
        "!unzip -jn python-novice-inflammation-code.zip"
      ],
      "execution_count": 9,
      "outputs": [
        {
          "output_type": "stream",
          "text": [
            "--2020-05-12 05:25:01--  https://swcarpentry.github.io/python-novice-inflammation/data/python-novice-inflammation-data.zip\n",
            "Resolving swcarpentry.github.io (swcarpentry.github.io)... 185.199.108.153, 185.199.110.153, 185.199.109.153, ...\n",
            "Connecting to swcarpentry.github.io (swcarpentry.github.io)|185.199.108.153|:443... connected.\n",
            "HTTP request sent, awaiting response... 200 OK\n",
            "Length: 22554 (22K) [application/zip]\n",
            "Saving to: ‘python-novice-inflammation-data.zip.1’\n",
            "\n",
            "\r          python-no   0%[                    ]       0  --.-KB/s               \rpython-novice-infla 100%[===================>]  22.03K  --.-KB/s    in 0.01s   \n",
            "\n",
            "2020-05-12 05:25:01 (1.77 MB/s) - ‘python-novice-inflammation-data.zip.1’ saved [22554/22554]\n",
            "\n",
            "--2020-05-12 05:25:01--  https://swcarpentry.github.io/python-novice-inflammation/code/python-novice-inflammation-code.zip\n",
            "Resolving swcarpentry.github.io (swcarpentry.github.io)... 185.199.108.153, 185.199.110.153, 185.199.109.153, ...\n",
            "Connecting to swcarpentry.github.io (swcarpentry.github.io)|185.199.108.153|:443... connected.\n",
            "HTTP request sent, awaiting response... 200 OK\n",
            "Length: 7216 (7.0K) [application/zip]\n",
            "Saving to: ‘python-novice-inflammation-code.zip.1’\n",
            "\n",
            "python-novice-infla 100%[===================>]   7.05K  --.-KB/s    in 0s      \n",
            "\n",
            "2020-05-12 05:25:01 (78.3 MB/s) - ‘python-novice-inflammation-code.zip.1’ saved [7216/7216]\n",
            "\n",
            "Archive:  python-novice-inflammation-data.zip\n",
            "Archive:  python-novice-inflammation-code.zip\n"
          ],
          "name": "stdout"
        }
      ]
    },
    {
      "cell_type": "markdown",
      "metadata": {
        "id": "r7uLPjXycaKj",
        "colab_type": "text"
      },
      "source": [
        "\n",
        "\n",
        "Original lesson and exercise solutions at [Software Carpentry Lesson 7](https://swcarpentry.github.io/python-novice-inflammation/07-cond/index.html)\n"
      ]
    },
    {
      "cell_type": "markdown",
      "metadata": {
        "id": "qBc5kT1iT693",
        "colab_type": "text"
      },
      "source": [
        "# Making Choices\n",
        "\n",
        "In our last lesson, we discovered something suspicious was going on in our inflammation data by drawing some plots. How can we use Python to automatically recognize the different features we saw, and take a different action for each? In this lesson, we’ll learn how to write code that runs only when certain conditions are true.\n"
      ]
    },
    {
      "cell_type": "markdown",
      "metadata": {
        "id": "yV2VHKsST-0o",
        "colab_type": "text"
      },
      "source": [
        "## Conditionals\n",
        "We can ask Python to take different actions, depending on a condition, with an if statement:"
      ]
    },
    {
      "cell_type": "code",
      "metadata": {
        "id": "yI8g7L8eUDzQ",
        "colab_type": "code",
        "colab": {
          "base_uri": "https://localhost:8080/",
          "height": 52
        },
        "outputId": "533ef526-7662-4386-d45a-e43b83a431e2"
      },
      "source": [
        "num = 37\n",
        "if num > 100:\n",
        "    print('greater')\n",
        "else:\n",
        "    print('not greater')\n",
        "print('done')\n"
      ],
      "execution_count": 10,
      "outputs": [
        {
          "output_type": "stream",
          "text": [
            "not greater\n",
            "done\n"
          ],
          "name": "stdout"
        }
      ]
    },
    {
      "cell_type": "markdown",
      "metadata": {
        "id": "Tz0nu_i5UIaD",
        "colab_type": "text"
      },
      "source": [
        "The second line of this code uses the keyword `if` to tell Python that we want to make a choice. If the test that follows the `if` statement is true, the body of the `if` (i.e., the set of lines indented underneath it) is executed, and “greater” is printed. If the test is false, the body of the `else` is executed instead, and “not greater” is printed. Only one or the other is ever executed before continuing on with program execution to print “done”:\n",
        "\n",
        "![alt text](https://swcarpentry.github.io/python-novice-inflammation/fig/python-flowchart-conditional.png)\n",
        "\n",
        "Conditional statements don’t have to include an `else`. If there isn’t one, Python simply does nothing if the test is false:"
      ]
    },
    {
      "cell_type": "code",
      "metadata": {
        "id": "OrIsoy0nUeQS",
        "colab_type": "code",
        "colab": {
          "base_uri": "https://localhost:8080/",
          "height": 52
        },
        "outputId": "8ea673c1-0a6a-46ac-f05f-93c627769bb3"
      },
      "source": [
        "num = 53\n",
        "print('before conditional...')\n",
        "if num > 100:\n",
        "    print(num,' is greater than 100')\n",
        "print('...after conditional')\n"
      ],
      "execution_count": 11,
      "outputs": [
        {
          "output_type": "stream",
          "text": [
            "before conditional...\n",
            "...after conditional\n"
          ],
          "name": "stdout"
        }
      ]
    },
    {
      "cell_type": "markdown",
      "metadata": {
        "id": "xXxFehejUoL3",
        "colab_type": "text"
      },
      "source": [
        "We can also chain several tests together using `elif`, which is short for “else if”. The following Python code uses `elif` to print the sign of a number."
      ]
    },
    {
      "cell_type": "code",
      "metadata": {
        "id": "hAsJ6VMDUrNG",
        "colab_type": "code",
        "colab": {
          "base_uri": "https://localhost:8080/",
          "height": 34
        },
        "outputId": "717aaa27-2b0e-49df-d367-9ccbef414c8c"
      },
      "source": [
        "num = -3\n",
        "\n",
        "if num > 0:\n",
        "    print(num, 'is positive')\n",
        "elif num == 0:\n",
        "    print(num, 'is zero')\n",
        "else:\n",
        "    print(num, 'is negative')\n"
      ],
      "execution_count": 3,
      "outputs": [
        {
          "output_type": "stream",
          "text": [
            "-3 is negative\n"
          ],
          "name": "stdout"
        }
      ]
    },
    {
      "cell_type": "markdown",
      "metadata": {
        "id": "GlWjgCXNUwcy",
        "colab_type": "text"
      },
      "source": [
        "Note that to test for equality we use a double equals sign `==` rather than a single equals sign `=` which is used to assign values.\n",
        "\n",
        "We can also combine tests using `and` and `or`. `and` is only true if both parts are true:"
      ]
    },
    {
      "cell_type": "code",
      "metadata": {
        "id": "r5opgyFmU3xa",
        "colab_type": "code",
        "colab": {
          "base_uri": "https://localhost:8080/",
          "height": 34
        },
        "outputId": "355bd60b-c583-4fe8-e8cb-323b58d85c56"
      },
      "source": [
        "if (1 > 0) and (-1 > 0):\n",
        "    print('both parts are true')\n",
        "else:\n",
        "    print('at least one part is false')\n"
      ],
      "execution_count": 12,
      "outputs": [
        {
          "output_type": "stream",
          "text": [
            "at least one part is false\n"
          ],
          "name": "stdout"
        }
      ]
    },
    {
      "cell_type": "markdown",
      "metadata": {
        "id": "sQDlnxqsU9NS",
        "colab_type": "text"
      },
      "source": [
        "while `or` is true if at least one part is true:"
      ]
    },
    {
      "cell_type": "code",
      "metadata": {
        "id": "eBv0LDDHU_vp",
        "colab_type": "code",
        "colab": {
          "base_uri": "https://localhost:8080/",
          "height": 34
        },
        "outputId": "5dce2eec-143e-420b-8479-f4998375f40e"
      },
      "source": [
        "if (1 < 0) or (-1 < 0):\n",
        "    print('at least one test is true')\n"
      ],
      "execution_count": 13,
      "outputs": [
        {
          "output_type": "stream",
          "text": [
            "at least one test is true\n"
          ],
          "name": "stdout"
        }
      ]
    },
    {
      "cell_type": "markdown",
      "metadata": {
        "id": "SeNfbwlWVFCm",
        "colab_type": "text"
      },
      "source": [
        "### Note: `True` and `False`\n",
        "`True` and `False` are special words in Python called `booleans`, which represent truth values. A statement such as 1 < 0 returns the value `False`, while -1 < 0 returns the value `True`."
      ]
    },
    {
      "cell_type": "markdown",
      "metadata": {
        "id": "xyisFzBiVQfr",
        "colab_type": "text"
      },
      "source": [
        "## Checking our Data\n",
        "\n",
        "Now that we’ve seen how conditionals work, we can use them to check for the suspicious features we saw in our inflammation data. We are about to use functions provided by the `numpy` module again. Therefore, if you’re working in a new Python session, make sure to load the module with:"
      ]
    },
    {
      "cell_type": "code",
      "metadata": {
        "id": "7Td79ueJVWi0",
        "colab_type": "code",
        "colab": {}
      },
      "source": [
        "import numpy\n"
      ],
      "execution_count": 0,
      "outputs": []
    },
    {
      "cell_type": "markdown",
      "metadata": {
        "id": "aXOUrRB6Vac4",
        "colab_type": "text"
      },
      "source": [
        "From the first couple of plots, we saw that maximum daily inflammation exhibits a strange behavior and raises one unit a day. Wouldn’t it be a good idea to detect such behavior and report it as suspicious? Let’s do that! However, instead of checking every single day of the study, let’s merely check if maximum inflammation in the beginning (day 0) and in the middle (day 20) of the study are equal to the corresponding day numbers.\n",
        "\n",
        "```\n",
        "max_inflammation_0 = numpy.max(data, axis=0)[0]\n",
        "max_inflammation_20 = numpy.max(data, axis=0)[20]\n",
        "\n",
        "if max_inflammation_0 == 0 and max_inflammation_20 == 20:\n",
        "    print('Suspicious looking maxima!')\n",
        "```"
      ]
    },
    {
      "cell_type": "markdown",
      "metadata": {
        "id": "DMmG6WiAWgqV",
        "colab_type": "text"
      },
      "source": [
        "We also saw a different problem in the third dataset; the minima per day were all zero (looks like a healthy person snuck into our study). We can also check for this with an `elif` condition:\n",
        "\n",
        "```\n",
        "elif numpy.sum(numpy.min(data, axis=0)) == 0:\n",
        "    print('Minima add up to zero!')\n",
        "```\n",
        "\n"
      ]
    },
    {
      "cell_type": "markdown",
      "metadata": {
        "id": "T7Rsbmx0WvHe",
        "colab_type": "text"
      },
      "source": [
        "And if neither of these conditions are true, we can use `else` to give the all-clear:\n",
        "\n",
        "```\n",
        "else:\n",
        "    print('Seems OK!')\n",
        "```"
      ]
    },
    {
      "cell_type": "markdown",
      "metadata": {
        "id": "K67jSa3bW-Pq",
        "colab_type": "text"
      },
      "source": [
        "Let's test that out."
      ]
    },
    {
      "cell_type": "code",
      "metadata": {
        "id": "BJUEhBjOXC4v",
        "colab_type": "code",
        "colab": {
          "base_uri": "https://localhost:8080/",
          "height": 34
        },
        "outputId": "4dacb627-2412-4b25-8b05-cedd36d5283b"
      },
      "source": [
        "data = numpy.loadtxt(fname='inflammation-01.csv', delimiter=',')\n",
        "\n",
        "max_inflammation_0 = numpy.max(data, axis=0)[0]\n",
        "max_inflammation_20 = numpy.max(data, axis=0)[20]\n",
        "\n",
        "if max_inflammation_0 == 0 and max_inflammation_20 == 20:\n",
        "    print('Suspicious looking maxima!')\n",
        "elif numpy.sum(numpy.min(data, axis=0)) == 0:\n",
        "    print('Minima add up to zero!')\n",
        "else:\n",
        "    print('Seems OK!')\n"
      ],
      "execution_count": 18,
      "outputs": [
        {
          "output_type": "stream",
          "text": [
            "Suspicious looking maxima!\n"
          ],
          "name": "stdout"
        }
      ]
    },
    {
      "cell_type": "code",
      "metadata": {
        "id": "RE5D2zdgXYwB",
        "colab_type": "code",
        "colab": {
          "base_uri": "https://localhost:8080/",
          "height": 34
        },
        "outputId": "c277107b-6d9f-45bf-cb8b-6d4fbc6c3e2b"
      },
      "source": [
        "data = numpy.loadtxt(fname='inflammation-03.csv', delimiter=',')\n",
        "\n",
        "max_inflammation_0 = numpy.max(data, axis=0)[0]\n",
        "max_inflammation_20 = numpy.max(data, axis=0)[20]\n",
        "\n",
        "if max_inflammation_0 == 0 and max_inflammation_20 == 20:\n",
        "    print('Suspicious looking maxima!')\n",
        "elif numpy.sum(numpy.min(data, axis=0)) == 0:\n",
        "    print('Minima add up to zero!')\n",
        "else:\n",
        "    print('Seems OK!')\n"
      ],
      "execution_count": 19,
      "outputs": [
        {
          "output_type": "stream",
          "text": [
            "Minima add up to zero!\n"
          ],
          "name": "stdout"
        }
      ]
    },
    {
      "cell_type": "markdown",
      "metadata": {
        "id": "F-ONG4wXXdzQ",
        "colab_type": "text"
      },
      "source": [
        "In this way, we have asked Python to do something different depending on the condition of our data. Here we printed messages in all cases, but we could also imagine not using the `else` catch-all so that messages are only printed when something is wrong, freeing us from having to manually examine every plot for features we’ve seen before."
      ]
    },
    {
      "cell_type": "markdown",
      "metadata": {
        "id": "RJ9EO_gUXjWX",
        "colab_type": "text"
      },
      "source": [
        "### Exercise: How Many Paths?\n",
        "\n",
        "Consider this code:\n",
        "\n",
        "```\n",
        "if 4 > 5:\n",
        "    print('A')\n",
        "elif 4 == 5:\n",
        "    print('B')\n",
        "elif 4 < 5:\n",
        "    print('C')\n",
        "```\n",
        "\n",
        "Which of the following would be printed if you were to run this code? Why did you pick this answer?\n",
        "- A\n",
        "- B\n",
        "- C\n",
        "- B and C\n"
      ]
    },
    {
      "cell_type": "code",
      "metadata": {
        "id": "eCpxBKwjXyMP",
        "colab_type": "code",
        "colab": {}
      },
      "source": [
        ""
      ],
      "execution_count": 0,
      "outputs": []
    },
    {
      "cell_type": "markdown",
      "metadata": {
        "id": "nGkM9jw7Xzzc",
        "colab_type": "text"
      },
      "source": [
        "### Exercise: What is Truth?\n",
        "\n",
        "`True` and `False` booleans are not the only values in Python that are true and false. In fact, any value can be used in an `if` or `elif`. After reading and running the code below, explain what the rule is for which values are considered true and which are considered false."
      ]
    },
    {
      "cell_type": "code",
      "metadata": {
        "id": "nPLbOEXUYA8_",
        "colab_type": "code",
        "colab": {}
      },
      "source": [
        "if '':\n",
        "    print('empty string is true')\n",
        "if 'word':\n",
        "    print('word is true')\n",
        "if []:\n",
        "    print('empty list is true')\n",
        "if [1, 2, 3]:\n",
        "    print('non-empty list is true')\n",
        "if 0:\n",
        "    print('zero is true')\n",
        "if 1:\n",
        "    print('one is true')\n",
        "\n"
      ],
      "execution_count": 0,
      "outputs": []
    },
    {
      "cell_type": "markdown",
      "metadata": {
        "id": "Q6sT7n19YEot",
        "colab_type": "text"
      },
      "source": [
        "### Exercise: That’s Not Not What I Meant\n",
        "\n",
        "Sometimes it is useful to check whether some condition is not true. The Boolean operator `not` can do this explicitly. After reading and running the code below, write some `if` statements that use `not` to test the rule that you formulated in the previous challenge."
      ]
    },
    {
      "cell_type": "code",
      "metadata": {
        "id": "LcRyqYPSYkPi",
        "colab_type": "code",
        "colab": {}
      },
      "source": [
        "if not '':\n",
        "    print('empty string is not true')\n",
        "if not 'word':\n",
        "    print('word is not true')\n",
        "if not not True:\n",
        "    print('not not True is true')\n",
        "\n"
      ],
      "execution_count": 0,
      "outputs": []
    },
    {
      "cell_type": "code",
      "metadata": {
        "id": "KMGQyZ5TYlad",
        "colab_type": "code",
        "colab": {}
      },
      "source": [
        ""
      ],
      "execution_count": 0,
      "outputs": []
    },
    {
      "cell_type": "markdown",
      "metadata": {
        "id": "OFXgHnhNYmI9",
        "colab_type": "text"
      },
      "source": [
        "### Exercise: Close Enough\n",
        "\n",
        "Write some conditions that print `True` if the variable `a` is within 10% of the variable `b` and `False` otherwise. Compare your implementation with your partner’s: do you get the same answer for all possible pairs of numbers?"
      ]
    },
    {
      "cell_type": "code",
      "metadata": {
        "id": "zxrg7d1XYxCK",
        "colab_type": "code",
        "colab": {}
      },
      "source": [
        ""
      ],
      "execution_count": 0,
      "outputs": []
    },
    {
      "cell_type": "markdown",
      "metadata": {
        "id": "lxqBPSCtYx-a",
        "colab_type": "text"
      },
      "source": [
        "### Exercise: In-Place Operators\n",
        "\n",
        "Python (and most other languages in the C family) provides in-place operators that work like this:"
      ]
    },
    {
      "cell_type": "code",
      "metadata": {
        "id": "mZ9pLXC_Y4Du",
        "colab_type": "code",
        "colab": {
          "base_uri": "https://localhost:8080/",
          "height": 34
        },
        "outputId": "17057c9e-a7f8-443d-e897-6edb476e00fb"
      },
      "source": [
        "x = 1  # original value\n",
        "x += 1 # add one to x, assigning result back to x\n",
        "x *= 3 # multiply x by 3\n",
        "print(x)\n",
        "\n"
      ],
      "execution_count": 21,
      "outputs": [
        {
          "output_type": "stream",
          "text": [
            "6\n"
          ],
          "name": "stdout"
        }
      ]
    },
    {
      "cell_type": "markdown",
      "metadata": {
        "id": "38c5feNUY9rp",
        "colab_type": "text"
      },
      "source": [
        "Write some code that sums the positive and negative numbers in a list separately, using in-place operators. Do you think the result is more or less readable than writing the same without in-place operators?"
      ]
    },
    {
      "cell_type": "code",
      "metadata": {
        "id": "YDSz3FlkZCAL",
        "colab_type": "code",
        "colab": {}
      },
      "source": [
        ""
      ],
      "execution_count": 0,
      "outputs": []
    },
    {
      "cell_type": "markdown",
      "metadata": {
        "id": "me_65GdrZAbX",
        "colab_type": "text"
      },
      "source": [
        "### Exercise: Sorting a List Into Buckets\n",
        "\n",
        "In our `data` folder, large data sets are stored in files whose names start with “inflammation-“ and small data sets – in files whose names start with “small-“. We also have some other files that we do not care about at this point. We’d like to break all these files into three lists called `large_files`, `small_files`, and `other_files`, respectively.\n",
        "\n",
        "Add code to the template below to do this. Note that the string method `startswith` returns `True` if and only if the string it is called on starts with the string passed as an argument, that is:\n"
      ]
    },
    {
      "cell_type": "code",
      "metadata": {
        "id": "9joYYjexbevp",
        "colab_type": "code",
        "colab": {
          "base_uri": "https://localhost:8080/",
          "height": 34
        },
        "outputId": "57e17b5d-16e5-4285-81dc-19d85d0cf87b"
      },
      "source": [
        "\"String\".startswith(\"Str\")\n",
        "\n"
      ],
      "execution_count": 22,
      "outputs": [
        {
          "output_type": "execute_result",
          "data": {
            "text/plain": [
              "True"
            ]
          },
          "metadata": {
            "tags": []
          },
          "execution_count": 22
        }
      ]
    },
    {
      "cell_type": "markdown",
      "metadata": {
        "id": "_2WLgBE7bghX",
        "colab_type": "text"
      },
      "source": [
        "But"
      ]
    },
    {
      "cell_type": "code",
      "metadata": {
        "id": "KlMuApHIbhxK",
        "colab_type": "code",
        "colab": {
          "base_uri": "https://localhost:8080/",
          "height": 34
        },
        "outputId": "2fed4fac-63c2-41c0-d7aa-48d02ee9614d"
      },
      "source": [
        "\"String\".startswith(\"str\")\n",
        "\n"
      ],
      "execution_count": 23,
      "outputs": [
        {
          "output_type": "execute_result",
          "data": {
            "text/plain": [
              "False"
            ]
          },
          "metadata": {
            "tags": []
          },
          "execution_count": 23
        }
      ]
    },
    {
      "cell_type": "markdown",
      "metadata": {
        "id": "I3WEs4t2bl8h",
        "colab_type": "text"
      },
      "source": [
        "Use the following Python code as your starting point:\n",
        "\n",
        "```\n",
        "filenames = ['inflammation-01.csv',\n",
        "         'myscript.py',\n",
        "         'inflammation-02.csv',\n",
        "         'small-01.csv',\n",
        "         'small-02.csv']\n",
        "large_files = []\n",
        "small_files = []\n",
        "other_files = []\n",
        "```\n",
        "\n",
        "Your solution should:\n",
        "\n",
        "- loop over the names of the files\n",
        "- figure out which group each filename belongs in\n",
        "- append the filename to that list\n",
        "\n",
        "In the end the three lists should be:\n",
        "\n",
        "```\n",
        "large_files = ['inflammation-01.csv', 'inflammation-02.csv']\n",
        "small_files = ['small-01.csv', 'small-02.csv']\n",
        "other_files = ['myscript.py']\n",
        "```"
      ]
    },
    {
      "cell_type": "code",
      "metadata": {
        "id": "5HMBsGjrbz--",
        "colab_type": "code",
        "colab": {}
      },
      "source": [
        ""
      ],
      "execution_count": 0,
      "outputs": []
    },
    {
      "cell_type": "markdown",
      "metadata": {
        "id": "TZYGcRV2b023",
        "colab_type": "text"
      },
      "source": [
        "### Exercise: Counting Vowels\n",
        "\n",
        "1. Write a loop that counts the number of vowels in a character string.\n",
        "2. Test it on a few individual words and full sentences.\n",
        "3. Once you are done, compare your solution to your neighbor’s. Did you make the same decisions about how to handle the letter ‘y’ (which some people think is a vowel, and some do not)?\n"
      ]
    },
    {
      "cell_type": "code",
      "metadata": {
        "id": "-ZesB-W5b_Oq",
        "colab_type": "code",
        "colab": {}
      },
      "source": [
        ""
      ],
      "execution_count": 0,
      "outputs": []
    },
    {
      "cell_type": "markdown",
      "metadata": {
        "id": "RBHspOzGb_-A",
        "colab_type": "text"
      },
      "source": [
        "## KEY POINTS:\n",
        "\n",
        "- Use `if` condition to start a conditional statement, `elif` condition to provide additional tests, and `else` to provide a default.\n",
        "- The bodies of the branches of conditional statements must be indented.\n",
        "- Use `==` to test for equality.\n",
        "- `X and Y` is only true if both `X` and `Y` are true.\n",
        "- `X or Y` is true if either `X` or `Y`, or both, are true.\n",
        "- Zero, the empty string, and the empty list are considered false; all other numbers, strings, and lists are considered true.\n",
        "- `True` and `False` represent truth values.\n"
      ]
    }
  ]
}